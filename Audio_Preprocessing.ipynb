{
 "cells": [
  {
   "cell_type": "markdown",
   "id": "ec836afb",
   "metadata": {},
   "source": [
    "### Imports"
   ]
  },
  {
   "cell_type": "code",
   "execution_count": 35,
   "id": "959d71f1",
   "metadata": {},
   "outputs": [],
   "source": [
    "import librosa\n",
    "import pandas as pd\n",
    "import numpy as np\n",
    "import noisereduce as nr\n",
    "import matplotlib.pyplot as plt\n",
    "import os\n",
    "from tqdm import tqdm\n",
    "import re\n",
    "import pyarabic.araby as araby\n",
    "from pyarabic.normalize import normalize_hamza as normalize_text\n",
    "import string\n"
   ]
  },
  {
   "cell_type": "markdown",
   "id": "ebbaef3c",
   "metadata": {},
   "source": [
    "### Reading dataset"
   ]
  },
  {
   "cell_type": "code",
   "execution_count": 36,
   "id": "1178401b",
   "metadata": {},
   "outputs": [
    {
     "data": {
      "text/html": [
       "<div>\n",
       "<style scoped>\n",
       "    .dataframe tbody tr th:only-of-type {\n",
       "        vertical-align: middle;\n",
       "    }\n",
       "\n",
       "    .dataframe tbody tr th {\n",
       "        vertical-align: top;\n",
       "    }\n",
       "\n",
       "    .dataframe thead th {\n",
       "        text-align: right;\n",
       "    }\n",
       "</style>\n",
       "<table border=\"1\" class=\"dataframe\">\n",
       "  <thead>\n",
       "    <tr style=\"text-align: right;\">\n",
       "      <th></th>\n",
       "      <th>audio_file</th>\n",
       "      <th>text</th>\n",
       "      <th>gender</th>\n",
       "    </tr>\n",
       "  </thead>\n",
       "  <tbody>\n",
       "    <tr>\n",
       "      <th>0</th>\n",
       "      <td>D6x81u_1.mp3</td>\n",
       "      <td>خليني ابدا الفيديو ده وانا بقول ان من</td>\n",
       "      <td>male</td>\n",
       "    </tr>\n",
       "    <tr>\n",
       "      <th>1</th>\n",
       "      <td>6f5WmH_2.mp3</td>\n",
       "      <td>ااا ملاحظتي الشخصيه استنتجت ان الستات ما</td>\n",
       "      <td>male</td>\n",
       "    </tr>\n",
       "    <tr>\n",
       "      <th>2</th>\n",
       "      <td>abSOwC_3.mp3</td>\n",
       "      <td>بقاش عندها دم</td>\n",
       "      <td>male</td>\n",
       "    </tr>\n",
       "  </tbody>\n",
       "</table>\n",
       "</div>"
      ],
      "text/plain": [
       "     audio_file                                      text gender\n",
       "0  D6x81u_1.mp3     خليني ابدا الفيديو ده وانا بقول ان من   male\n",
       "1  6f5WmH_2.mp3  ااا ملاحظتي الشخصيه استنتجت ان الستات ما   male\n",
       "2  abSOwC_3.mp3                             بقاش عندها دم   male"
      ]
     },
     "execution_count": 36,
     "metadata": {},
     "output_type": "execute_result"
    }
   ],
   "source": [
    "df=pd.read_csv('Dataset/index.csv')\n",
    "df.head(3)"
   ]
  },
  {
   "cell_type": "markdown",
   "id": "2bc85888",
   "metadata": {},
   "source": [
    "### Preprocessing"
   ]
  },
  {
   "cell_type": "code",
   "execution_count": 37,
   "id": "7d069cec",
   "metadata": {},
   "outputs": [],
   "source": [
    "def preprocess_arabic_text(text):\n",
    "    # Remove diacritics (tashkeel)\n",
    "    text = araby.strip_tashkeel(text)\n",
    "    \n",
    "    # Normalize Arabic text (standardize different forms of letters)\n",
    "    text = normalize_text(text)\n",
    "    \n",
    "    # Remove punctuation and special characters\n",
    "    arabic_punctuations = '''`÷×؛<>_()*&^%][ـ،/:\"؟.,'{}~¦+|!\"…\"–ـ'''\n",
    "    all_punctuations = string.punctuation + arabic_punctuations\n",
    "    translator = str.maketrans('', '', all_punctuations)\n",
    "    text = text.translate(translator)\n",
    "    \n",
    "    # Remove extra spaces\n",
    "    text = re.sub(' +', ' ', text)\n",
    "    \n",
    "    return text.strip()"
   ]
  },
  {
   "cell_type": "code",
   "execution_count": 38,
   "id": "5495408b",
   "metadata": {},
   "outputs": [
    {
     "name": "stdout",
     "output_type": "stream",
     "text": [
      "Audio files without transcriptions: set()\n",
      "Transcriptions without audio files: {'لشخصك ولأفكارك الـProgressive،\"'}\n"
     ]
    }
   ],
   "source": [
    "audio_files = set(os.listdir( 'Dataset/data/')) \n",
    "csv_audio_ids = set(df['audio_file'].values)\n",
    "audio_without_transcription = audio_files - csv_audio_ids\n",
    "print(\"Audio files without transcriptions:\", audio_without_transcription)\n",
    "transcription_without_audio = csv_audio_ids - audio_files\n",
    "print(\"Transcriptions without audio files:\", transcription_without_audio)\n",
    "df.drop(df[df['audio_file']=='لشخصك ولأفكارك الـProgressive،\"'].index,inplace = True)\n",
    "df.drop(df[df['text'] == '[موسيقى]'].index,inplace = True)"
   ]
  },
  {
   "cell_type": "code",
   "execution_count": null,
   "id": "20d92b3b",
   "metadata": {},
   "outputs": [
    {
     "name": "stderr",
     "output_type": "stream",
     "text": [
      "Processing Audio Files:   8%|▊         | 32612/405874 [1:00:16<2:11:16, 47.39it/s] /Users/maryamsaad/Library/Python/3.9/lib/python/site-packages/noisereduce/spectralgate/nonstationary.py:70: RuntimeWarning: invalid value encountered in divide\n",
      "  sig_mult_above_thresh = (abs_sig_stft - sig_stft_smooth) / sig_stft_smooth\n",
      "Processing Audio Files:   8%|▊         | 32623/405874 [1:00:16<2:09:41, 47.97it/s]"
     ]
    },
    {
     "name": "stdout",
     "output_type": "stream",
     "text": [
      "Error processing 8VvErN_634.mp3: Audio buffer is not finite everywhere\n"
     ]
    },
    {
     "name": "stderr",
     "output_type": "stream",
     "text": [
      "Processing Audio Files:  11%|█         | 44767/405874 [1:05:03<2:31:28, 39.73it/s]"
     ]
    },
    {
     "name": "stdout",
     "output_type": "stream",
     "text": [
      "Error processing IF1Lgl_1794.mp3: Audio buffer is not finite everywhere\n"
     ]
    },
    {
     "name": "stderr",
     "output_type": "stream",
     "text": [
      "Processing Audio Files:  23%|██▎       | 94569/405874 [3:14:20<1:27:55, 59.00it/s]   "
     ]
    },
    {
     "name": "stdout",
     "output_type": "stream",
     "text": [
      "Error processing ekNE5i_2191.mp3: Audio buffer is not finite everywhere\n"
     ]
    },
    {
     "name": "stderr",
     "output_type": "stream",
     "text": [
      "Processing Audio Files:  34%|███▍      | 138578/405874 [3:30:09<52:40, 84.57it/s]    /var/folders/c2/f9lh6rmd4q1648_pfl1636zw0000gn/T/ipykernel_41137/3522123127.py:10: UserWarning: PySoundFile failed. Trying audioread instead.\n",
      "  signal, rate = librosa.load(audio_path, sr=16000)\n",
      "[src/libmpg123/parse.c:do_readahead():1083] warning: Cannot read next header, a one-frame stream? Duh...\n",
      "/Users/maryamsaad/Library/Python/3.9/lib/python/site-packages/librosa/core/audio.py:184: FutureWarning: librosa.core.audio.__audioread_load\n",
      "\tDeprecated as of librosa version 0.10.0.\n",
      "\tIt will be removed in librosa version 1.0.\n",
      "  y, sr_native = __audioread_load(path, offset, duration, dtype)\n",
      "Processing Audio Files:  34%|███▍      | 138578/405874 [3:30:09<52:40, 84.57it/s][src/libmpg123/parse.c:do_readahead():1083] warning: Cannot read next header, a one-frame stream? Duh...\n",
      "/var/folders/c2/f9lh6rmd4q1648_pfl1636zw0000gn/T/ipykernel_41137/3522123127.py:10: UserWarning: PySoundFile failed. Trying audioread instead.\n",
      "  signal, rate = librosa.load(audio_path, sr=16000)\n",
      "/Users/maryamsaad/Library/Python/3.9/lib/python/site-packages/librosa/core/audio.py:184: FutureWarning: librosa.core.audio.__audioread_load\n",
      "\tDeprecated as of librosa version 0.10.0.\n",
      "\tIt will be removed in librosa version 1.0.\n",
      "  y, sr_native = __audioread_load(path, offset, duration, dtype)\n",
      "Processing Audio Files:  34%|███▍      | 138578/405874 [3:30:09<52:40, 84.57it/s][src/libmpg123/parse.c:do_readahead():1083] warning: Cannot read next header, a one-frame stream? Duh...\n",
      "/var/folders/c2/f9lh6rmd4q1648_pfl1636zw0000gn/T/ipykernel_41137/3522123127.py:10: UserWarning: PySoundFile failed. Trying audioread instead.\n",
      "  signal, rate = librosa.load(audio_path, sr=16000)\n",
      "/Users/maryamsaad/Library/Python/3.9/lib/python/site-packages/librosa/core/audio.py:184: FutureWarning: librosa.core.audio.__audioread_load\n",
      "\tDeprecated as of librosa version 0.10.0.\n",
      "\tIt will be removed in librosa version 1.0.\n",
      "  y, sr_native = __audioread_load(path, offset, duration, dtype)\n",
      "Processing Audio Files:  34%|███▍      | 138578/405874 [3:30:09<52:40, 84.57it/s]/var/folders/c2/f9lh6rmd4q1648_pfl1636zw0000gn/T/ipykernel_41137/3522123127.py:10: UserWarning: PySoundFile failed. Trying audioread instead.\n",
      "  signal, rate = librosa.load(audio_path, sr=16000)\n",
      "[src/libmpg123/parse.c:do_readahead():1083] warning: Cannot read next header, a one-frame stream? Duh...\n",
      "/Users/maryamsaad/Library/Python/3.9/lib/python/site-packages/librosa/core/audio.py:184: FutureWarning: librosa.core.audio.__audioread_load\n",
      "\tDeprecated as of librosa version 0.10.0.\n",
      "\tIt will be removed in librosa version 1.0.\n",
      "  y, sr_native = __audioread_load(path, offset, duration, dtype)\n"
     ]
    },
    {
     "name": "stdout",
     "output_type": "stream",
     "text": [
      "Error processing TxPb2b_485.mp3: \n",
      "Error processing Pn1PEx_486.mp3: \n",
      "Error processing 9sESsx_487.mp3: \n"
     ]
    },
    {
     "name": "stderr",
     "output_type": "stream",
     "text": [
      "Processing Audio Files:  34%|███▍      | 138587/405874 [3:30:09<2:42:51, 27.35it/s]/var/folders/c2/f9lh6rmd4q1648_pfl1636zw0000gn/T/ipykernel_41137/3522123127.py:10: UserWarning: PySoundFile failed. Trying audioread instead.\n",
      "  signal, rate = librosa.load(audio_path, sr=16000)\n",
      "[src/libmpg123/parse.c:do_readahead():1083] warning: Cannot read next header, a one-frame stream? Duh...\n",
      "/Users/maryamsaad/Library/Python/3.9/lib/python/site-packages/librosa/core/audio.py:184: FutureWarning: librosa.core.audio.__audioread_load\n",
      "\tDeprecated as of librosa version 0.10.0.\n",
      "\tIt will be removed in librosa version 1.0.\n",
      "  y, sr_native = __audioread_load(path, offset, duration, dtype)\n",
      "Processing Audio Files:  34%|███▍      | 138587/405874 [3:30:10<2:42:51, 27.35it/s][src/libmpg123/parse.c:do_readahead():1083] warning: Cannot read next header, a one-frame stream? Duh...\n",
      "/var/folders/c2/f9lh6rmd4q1648_pfl1636zw0000gn/T/ipykernel_41137/3522123127.py:10: UserWarning: PySoundFile failed. Trying audioread instead.\n",
      "  signal, rate = librosa.load(audio_path, sr=16000)\n",
      "/Users/maryamsaad/Library/Python/3.9/lib/python/site-packages/librosa/core/audio.py:184: FutureWarning: librosa.core.audio.__audioread_load\n",
      "\tDeprecated as of librosa version 0.10.0.\n",
      "\tIt will be removed in librosa version 1.0.\n",
      "  y, sr_native = __audioread_load(path, offset, duration, dtype)\n",
      "Processing Audio Files:  34%|███▍      | 138587/405874 [3:30:10<2:42:51, 27.35it/s]/var/folders/c2/f9lh6rmd4q1648_pfl1636zw0000gn/T/ipykernel_41137/3522123127.py:10: UserWarning: PySoundFile failed. Trying audioread instead.\n",
      "  signal, rate = librosa.load(audio_path, sr=16000)\n",
      "/Users/maryamsaad/Library/Python/3.9/lib/python/site-packages/librosa/core/audio.py:184: FutureWarning: librosa.core.audio.__audioread_load\n",
      "\tDeprecated as of librosa version 0.10.0.\n",
      "\tIt will be removed in librosa version 1.0.\n",
      "  y, sr_native = __audioread_load(path, offset, duration, dtype)\n",
      "[src/libmpg123/parse.c:do_readahead():1083] warning: Cannot read next header, a one-frame stream? Duh...\n"
     ]
    },
    {
     "name": "stdout",
     "output_type": "stream",
     "text": [
      "Error processing p2bNXt_488.mp3: \n",
      "Error processing 5XruHo_489.mp3: \n",
      "Error processing UiQRqf_490.mp3: \n"
     ]
    },
    {
     "name": "stderr",
     "output_type": "stream",
     "text": [
      "Processing Audio Files:  34%|███▍      | 138587/405874 [3:30:10<2:42:51, 27.35it/s]/var/folders/c2/f9lh6rmd4q1648_pfl1636zw0000gn/T/ipykernel_41137/3522123127.py:10: UserWarning: PySoundFile failed. Trying audioread instead.\n",
      "  signal, rate = librosa.load(audio_path, sr=16000)\n",
      "/Users/maryamsaad/Library/Python/3.9/lib/python/site-packages/librosa/core/audio.py:184: FutureWarning: librosa.core.audio.__audioread_load\n",
      "\tDeprecated as of librosa version 0.10.0.\n",
      "\tIt will be removed in librosa version 1.0.\n",
      "  y, sr_native = __audioread_load(path, offset, duration, dtype)\n",
      "[src/libmpg123/parse.c:do_readahead():1083] warning: Cannot read next header, a one-frame stream? Duh...\n",
      "Processing Audio Files:  34%|███▍      | 138587/405874 [3:30:10<2:42:51, 27.35it/s]/var/folders/c2/f9lh6rmd4q1648_pfl1636zw0000gn/T/ipykernel_41137/3522123127.py:10: UserWarning: PySoundFile failed. Trying audioread instead.\n",
      "  signal, rate = librosa.load(audio_path, sr=16000)\n",
      "[src/libmpg123/parse.c:do_readahead():1083] warning: Cannot read next header, a one-frame stream? Duh...\n",
      "/Users/maryamsaad/Library/Python/3.9/lib/python/site-packages/librosa/core/audio.py:184: FutureWarning: librosa.core.audio.__audioread_load\n",
      "\tDeprecated as of librosa version 0.10.0.\n",
      "\tIt will be removed in librosa version 1.0.\n",
      "  y, sr_native = __audioread_load(path, offset, duration, dtype)\n",
      "Processing Audio Files:  34%|███▍      | 138587/405874 [3:30:10<2:42:51, 27.35it/s][src/libmpg123/parse.c:do_readahead():1083] warning: Cannot read next header, a one-frame stream? Duh...\n",
      "/var/folders/c2/f9lh6rmd4q1648_pfl1636zw0000gn/T/ipykernel_41137/3522123127.py:10: UserWarning: PySoundFile failed. Trying audioread instead.\n",
      "  signal, rate = librosa.load(audio_path, sr=16000)\n",
      "/Users/maryamsaad/Library/Python/3.9/lib/python/site-packages/librosa/core/audio.py:184: FutureWarning: librosa.core.audio.__audioread_load\n",
      "\tDeprecated as of librosa version 0.10.0.\n",
      "\tIt will be removed in librosa version 1.0.\n",
      "  y, sr_native = __audioread_load(path, offset, duration, dtype)\n",
      "                                                                                   \r"
     ]
    },
    {
     "name": "stdout",
     "output_type": "stream",
     "text": [
      "Error processing gvgrym_491.mp3: \n",
      "Error processing IoHKbO_492.mp3: \n",
      "Error processing Z2i8Uk_493.mp3: \n"
     ]
    },
    {
     "name": "stderr",
     "output_type": "stream",
     "text": [
      "Processing Audio Files:  34%|███▍      | 138587/405874 [3:30:10<2:42:51, 27.35it/s]/var/folders/c2/f9lh6rmd4q1648_pfl1636zw0000gn/T/ipykernel_41137/3522123127.py:10: UserWarning: PySoundFile failed. Trying audioread instead.\n",
      "  signal, rate = librosa.load(audio_path, sr=16000)\n",
      "[src/libmpg123/parse.c:do_readahead():1083] warning: Cannot read next header, a one-frame stream? Duh...\n",
      "/Users/maryamsaad/Library/Python/3.9/lib/python/site-packages/librosa/core/audio.py:184: FutureWarning: librosa.core.audio.__audioread_load\n",
      "\tDeprecated as of librosa version 0.10.0.\n",
      "\tIt will be removed in librosa version 1.0.\n",
      "  y, sr_native = __audioread_load(path, offset, duration, dtype)\n",
      "Processing Audio Files:  34%|███▍      | 138594/405874 [3:30:10<3:17:40, 22.53it/s]/var/folders/c2/f9lh6rmd4q1648_pfl1636zw0000gn/T/ipykernel_41137/3522123127.py:10: UserWarning: PySoundFile failed. Trying audioread instead.\n",
      "  signal, rate = librosa.load(audio_path, sr=16000)\n",
      "[src/libmpg123/parse.c:do_readahead():1083] warning: Cannot read next header, a one-frame stream? Duh...\n",
      "/Users/maryamsaad/Library/Python/3.9/lib/python/site-packages/librosa/core/audio.py:184: FutureWarning: librosa.core.audio.__audioread_load\n",
      "\tDeprecated as of librosa version 0.10.0.\n",
      "\tIt will be removed in librosa version 1.0.\n",
      "  y, sr_native = __audioread_load(path, offset, duration, dtype)\n",
      "Processing Audio Files:  34%|███▍      | 138594/405874 [3:30:10<3:17:40, 22.53it/s]/var/folders/c2/f9lh6rmd4q1648_pfl1636zw0000gn/T/ipykernel_41137/3522123127.py:10: UserWarning: PySoundFile failed. Trying audioread instead.\n",
      "  signal, rate = librosa.load(audio_path, sr=16000)\n",
      "[src/libmpg123/parse.c:do_readahead():1083] warning: Cannot read next header, a one-frame stream? Duh...\n",
      "/Users/maryamsaad/Library/Python/3.9/lib/python/site-packages/librosa/core/audio.py:184: FutureWarning: librosa.core.audio.__audioread_load\n",
      "\tDeprecated as of librosa version 0.10.0.\n",
      "\tIt will be removed in librosa version 1.0.\n",
      "  y, sr_native = __audioread_load(path, offset, duration, dtype)\n"
     ]
    },
    {
     "name": "stdout",
     "output_type": "stream",
     "text": [
      "Error processing RdIA5F_494.mp3: \n",
      "Error processing PtHnDn_495.mp3: \n",
      "Error processing S6jTDu_496.mp3: \n"
     ]
    },
    {
     "name": "stderr",
     "output_type": "stream",
     "text": [
      "Processing Audio Files:  34%|███▍      | 138594/405874 [3:30:10<3:17:40, 22.53it/s][src/libmpg123/parse.c:do_readahead():1083] warning: Cannot read next header, a one-frame stream? Duh...\n",
      "/var/folders/c2/f9lh6rmd4q1648_pfl1636zw0000gn/T/ipykernel_41137/3522123127.py:10: UserWarning: PySoundFile failed. Trying audioread instead.\n",
      "  signal, rate = librosa.load(audio_path, sr=16000)\n",
      "/Users/maryamsaad/Library/Python/3.9/lib/python/site-packages/librosa/core/audio.py:184: FutureWarning: librosa.core.audio.__audioread_load\n",
      "\tDeprecated as of librosa version 0.10.0.\n",
      "\tIt will be removed in librosa version 1.0.\n",
      "  y, sr_native = __audioread_load(path, offset, duration, dtype)\n",
      "Processing Audio Files:  34%|███▍      | 138594/405874 [3:30:10<3:17:40, 22.53it/s][src/libmpg123/parse.c:do_readahead():1083] warning: Cannot read next header, a one-frame stream? Duh...\n",
      "/var/folders/c2/f9lh6rmd4q1648_pfl1636zw0000gn/T/ipykernel_41137/3522123127.py:10: UserWarning: PySoundFile failed. Trying audioread instead.\n",
      "  signal, rate = librosa.load(audio_path, sr=16000)\n",
      "/Users/maryamsaad/Library/Python/3.9/lib/python/site-packages/librosa/core/audio.py:184: FutureWarning: librosa.core.audio.__audioread_load\n",
      "\tDeprecated as of librosa version 0.10.0.\n",
      "\tIt will be removed in librosa version 1.0.\n",
      "  y, sr_native = __audioread_load(path, offset, duration, dtype)\n",
      "Processing Audio Files:  34%|███▍      | 138594/405874 [3:30:10<3:17:40, 22.53it/s]/var/folders/c2/f9lh6rmd4q1648_pfl1636zw0000gn/T/ipykernel_41137/3522123127.py:10: UserWarning: PySoundFile failed. Trying audioread instead.\n",
      "  signal, rate = librosa.load(audio_path, sr=16000)\n",
      "[src/libmpg123/parse.c:do_readahead():1083] warning: Cannot read next header, a one-frame stream? Duh...\n",
      "/Users/maryamsaad/Library/Python/3.9/lib/python/site-packages/librosa/core/audio.py:184: FutureWarning: librosa.core.audio.__audioread_load\n",
      "\tDeprecated as of librosa version 0.10.0.\n",
      "\tIt will be removed in librosa version 1.0.\n",
      "  y, sr_native = __audioread_load(path, offset, duration, dtype)\n",
      "Processing Audio Files:  34%|███▍      | 138599/405874 [3:30:10<3:38:26, 20.39it/s]"
     ]
    },
    {
     "name": "stdout",
     "output_type": "stream",
     "text": [
      "Error processing 4CYh5K_497.mp3: \n",
      "Error processing 1JBwZP_498.mp3: \n",
      "Error processing m9kZ1f_499.mp3: \n",
      "Error processing JLY0Sl_500.mp3: \n"
     ]
    },
    {
     "name": "stderr",
     "output_type": "stream",
     "text": [
      "/var/folders/c2/f9lh6rmd4q1648_pfl1636zw0000gn/T/ipykernel_41137/3522123127.py:10: UserWarning: PySoundFile failed. Trying audioread instead.\n",
      "  signal, rate = librosa.load(audio_path, sr=16000)\n",
      "[src/libmpg123/parse.c:do_readahead():1083] warning: Cannot read next header, a one-frame stream? Duh...\n",
      "/Users/maryamsaad/Library/Python/3.9/lib/python/site-packages/librosa/core/audio.py:184: FutureWarning: librosa.core.audio.__audioread_load\n",
      "\tDeprecated as of librosa version 0.10.0.\n",
      "\tIt will be removed in librosa version 1.0.\n",
      "  y, sr_native = __audioread_load(path, offset, duration, dtype)\n",
      "Processing Audio Files:  34%|███▍      | 138599/405874 [3:30:10<3:38:26, 20.39it/s]/var/folders/c2/f9lh6rmd4q1648_pfl1636zw0000gn/T/ipykernel_41137/3522123127.py:10: UserWarning: PySoundFile failed. Trying audioread instead.\n",
      "  signal, rate = librosa.load(audio_path, sr=16000)\n",
      "[src/libmpg123/parse.c:do_readahead():1083] warning: Cannot read next header, a one-frame stream? Duh...\n",
      "/Users/maryamsaad/Library/Python/3.9/lib/python/site-packages/librosa/core/audio.py:184: FutureWarning: librosa.core.audio.__audioread_load\n",
      "\tDeprecated as of librosa version 0.10.0.\n",
      "\tIt will be removed in librosa version 1.0.\n",
      "  y, sr_native = __audioread_load(path, offset, duration, dtype)\n",
      "Processing Audio Files:  34%|███▍      | 138599/405874 [3:30:10<3:38:26, 20.39it/s]/var/folders/c2/f9lh6rmd4q1648_pfl1636zw0000gn/T/ipykernel_41137/3522123127.py:10: UserWarning: PySoundFile failed. Trying audioread instead.\n",
      "  signal, rate = librosa.load(audio_path, sr=16000)\n",
      "/Users/maryamsaad/Library/Python/3.9/lib/python/site-packages/librosa/core/audio.py:184: FutureWarning: librosa.core.audio.__audioread_load\n",
      "\tDeprecated as of librosa version 0.10.0.\n",
      "\tIt will be removed in librosa version 1.0.\n",
      "  y, sr_native = __audioread_load(path, offset, duration, dtype)\n",
      "[src/libmpg123/parse.c:do_readahead():1083] warning: Cannot read next header, a one-frame stream? Duh...\n",
      "Processing Audio Files:  34%|███▍      | 138599/405874 [3:30:10<3:38:26, 20.39it/s]/var/folders/c2/f9lh6rmd4q1648_pfl1636zw0000gn/T/ipykernel_41137/3522123127.py:10: UserWarning: PySoundFile failed. Trying audioread instead.\n",
      "  signal, rate = librosa.load(audio_path, sr=16000)\n",
      "/Users/maryamsaad/Library/Python/3.9/lib/python/site-packages/librosa/core/audio.py:184: FutureWarning: librosa.core.audio.__audioread_load\n",
      "\tDeprecated as of librosa version 0.10.0.\n",
      "\tIt will be removed in librosa version 1.0.\n",
      "  y, sr_native = __audioread_load(path, offset, duration, dtype)\n",
      "[src/libmpg123/parse.c:do_readahead():1083] warning: Cannot read next header, a one-frame stream? Duh...\n"
     ]
    },
    {
     "name": "stdout",
     "output_type": "stream",
     "text": [
      "Error processing SGnLUF_501.mp3: \n",
      "Error processing ogg4vp_502.mp3: \n",
      "Error processing ZSwR8E_503.mp3: \n"
     ]
    },
    {
     "name": "stderr",
     "output_type": "stream",
     "text": [
      "Processing Audio Files:  34%|███▍      | 138603/405874 [3:30:11<3:54:07, 19.03it/s]/var/folders/c2/f9lh6rmd4q1648_pfl1636zw0000gn/T/ipykernel_41137/3522123127.py:10: UserWarning: PySoundFile failed. Trying audioread instead.\n",
      "  signal, rate = librosa.load(audio_path, sr=16000)\n",
      "/Users/maryamsaad/Library/Python/3.9/lib/python/site-packages/librosa/core/audio.py:184: FutureWarning: librosa.core.audio.__audioread_load\n",
      "\tDeprecated as of librosa version 0.10.0.\n",
      "\tIt will be removed in librosa version 1.0.\n",
      "  y, sr_native = __audioread_load(path, offset, duration, dtype)\n",
      "[src/libmpg123/parse.c:do_readahead():1083] warning: Cannot read next header, a one-frame stream? Duh...\n",
      "Processing Audio Files:  34%|███▍      | 138603/405874 [3:30:11<3:54:07, 19.03it/s]/var/folders/c2/f9lh6rmd4q1648_pfl1636zw0000gn/T/ipykernel_41137/3522123127.py:10: UserWarning: PySoundFile failed. Trying audioread instead.\n",
      "  signal, rate = librosa.load(audio_path, sr=16000)\n",
      "/Users/maryamsaad/Library/Python/3.9/lib/python/site-packages/librosa/core/audio.py:184: FutureWarning: librosa.core.audio.__audioread_load\n",
      "\tDeprecated as of librosa version 0.10.0.\n",
      "\tIt will be removed in librosa version 1.0.\n",
      "  y, sr_native = __audioread_load(path, offset, duration, dtype)\n",
      "[src/libmpg123/parse.c:do_readahead():1083] warning: Cannot read next header, a one-frame stream? Duh...\n",
      "Processing Audio Files:  34%|███▍      | 138603/405874 [3:30:11<3:54:07, 19.03it/s]/var/folders/c2/f9lh6rmd4q1648_pfl1636zw0000gn/T/ipykernel_41137/3522123127.py:10: UserWarning: PySoundFile failed. Trying audioread instead.\n",
      "  signal, rate = librosa.load(audio_path, sr=16000)\n",
      "/Users/maryamsaad/Library/Python/3.9/lib/python/site-packages/librosa/core/audio.py:184: FutureWarning: librosa.core.audio.__audioread_load\n",
      "\tDeprecated as of librosa version 0.10.0.\n",
      "\tIt will be removed in librosa version 1.0.\n",
      "  y, sr_native = __audioread_load(path, offset, duration, dtype)\n",
      "[src/libmpg123/parse.c:do_readahead():1083] warning: Cannot read next header, a one-frame stream? Duh...\n"
     ]
    },
    {
     "name": "stdout",
     "output_type": "stream",
     "text": [
      "Error processing Pki8Bf_504.mp3: \n",
      "Error processing BdAMwy_505.mp3: \n",
      "Error processing tBACZX_506.mp3: \n"
     ]
    },
    {
     "name": "stderr",
     "output_type": "stream",
     "text": [
      "Processing Audio Files:  34%|███▍      | 138603/405874 [3:30:11<3:54:07, 19.03it/s][src/libmpg123/parse.c:do_readahead():1083] warning: Cannot read next header, a one-frame stream? Duh...\n",
      "/var/folders/c2/f9lh6rmd4q1648_pfl1636zw0000gn/T/ipykernel_41137/3522123127.py:10: UserWarning: PySoundFile failed. Trying audioread instead.\n",
      "  signal, rate = librosa.load(audio_path, sr=16000)\n",
      "/Users/maryamsaad/Library/Python/3.9/lib/python/site-packages/librosa/core/audio.py:184: FutureWarning: librosa.core.audio.__audioread_load\n",
      "\tDeprecated as of librosa version 0.10.0.\n",
      "\tIt will be removed in librosa version 1.0.\n",
      "  y, sr_native = __audioread_load(path, offset, duration, dtype)\n",
      "Processing Audio Files:  34%|███▍      | 138607/405874 [3:30:11<4:08:50, 17.90it/s]/var/folders/c2/f9lh6rmd4q1648_pfl1636zw0000gn/T/ipykernel_41137/3522123127.py:10: UserWarning: PySoundFile failed. Trying audioread instead.\n",
      "  signal, rate = librosa.load(audio_path, sr=16000)\n",
      "[src/libmpg123/parse.c:do_readahead():1083] warning: Cannot read next header, a one-frame stream? Duh...\n",
      "/Users/maryamsaad/Library/Python/3.9/lib/python/site-packages/librosa/core/audio.py:184: FutureWarning: librosa.core.audio.__audioread_load\n",
      "\tDeprecated as of librosa version 0.10.0.\n",
      "\tIt will be removed in librosa version 1.0.\n",
      "  y, sr_native = __audioread_load(path, offset, duration, dtype)\n",
      "Processing Audio Files:  34%|███▍      | 138607/405874 [3:30:11<4:08:50, 17.90it/s]/var/folders/c2/f9lh6rmd4q1648_pfl1636zw0000gn/T/ipykernel_41137/3522123127.py:10: UserWarning: PySoundFile failed. Trying audioread instead.\n",
      "  signal, rate = librosa.load(audio_path, sr=16000)\n",
      "/Users/maryamsaad/Library/Python/3.9/lib/python/site-packages/librosa/core/audio.py:184: FutureWarning: librosa.core.audio.__audioread_load\n",
      "\tDeprecated as of librosa version 0.10.0.\n",
      "\tIt will be removed in librosa version 1.0.\n",
      "  y, sr_native = __audioread_load(path, offset, duration, dtype)\n",
      "[src/libmpg123/parse.c:do_readahead():1083] warning: Cannot read next header, a one-frame stream? Duh...\n"
     ]
    },
    {
     "name": "stdout",
     "output_type": "stream",
     "text": [
      "Error processing 6skpK9_507.mp3: \n",
      "Error processing ILVnZG_508.mp3: \n",
      "Error processing Rslfu1_509.mp3: \n"
     ]
    },
    {
     "name": "stderr",
     "output_type": "stream",
     "text": [
      "Processing Audio Files:  34%|███▍      | 138607/405874 [3:30:11<4:08:50, 17.90it/s]/var/folders/c2/f9lh6rmd4q1648_pfl1636zw0000gn/T/ipykernel_41137/3522123127.py:10: UserWarning: PySoundFile failed. Trying audioread instead.\n",
      "  signal, rate = librosa.load(audio_path, sr=16000)\n",
      "[src/libmpg123/parse.c:do_readahead():1083] warning: Cannot read next header, a one-frame stream? Duh...\n",
      "/Users/maryamsaad/Library/Python/3.9/lib/python/site-packages/librosa/core/audio.py:184: FutureWarning: librosa.core.audio.__audioread_load\n",
      "\tDeprecated as of librosa version 0.10.0.\n",
      "\tIt will be removed in librosa version 1.0.\n",
      "  y, sr_native = __audioread_load(path, offset, duration, dtype)\n",
      "Processing Audio Files:  34%|███▍      | 138610/405874 [3:30:11<4:17:35, 17.29it/s]/var/folders/c2/f9lh6rmd4q1648_pfl1636zw0000gn/T/ipykernel_41137/3522123127.py:10: UserWarning: PySoundFile failed. Trying audioread instead.\n",
      "  signal, rate = librosa.load(audio_path, sr=16000)\n",
      "[src/libmpg123/parse.c:do_readahead():1083] warning: Cannot read next header, a one-frame stream? Duh...\n",
      "/Users/maryamsaad/Library/Python/3.9/lib/python/site-packages/librosa/core/audio.py:184: FutureWarning: librosa.core.audio.__audioread_load\n",
      "\tDeprecated as of librosa version 0.10.0.\n",
      "\tIt will be removed in librosa version 1.0.\n",
      "  y, sr_native = __audioread_load(path, offset, duration, dtype)\n",
      "Processing Audio Files:  34%|███▍      | 138610/405874 [3:30:11<4:17:35, 17.29it/s][src/libmpg123/parse.c:do_readahead():1083] warning: Cannot read next header, a one-frame stream? Duh...\n",
      "/var/folders/c2/f9lh6rmd4q1648_pfl1636zw0000gn/T/ipykernel_41137/3522123127.py:10: UserWarning: PySoundFile failed. Trying audioread instead.\n",
      "  signal, rate = librosa.load(audio_path, sr=16000)\n",
      "/Users/maryamsaad/Library/Python/3.9/lib/python/site-packages/librosa/core/audio.py:184: FutureWarning: librosa.core.audio.__audioread_load\n",
      "\tDeprecated as of librosa version 0.10.0.\n",
      "\tIt will be removed in librosa version 1.0.\n",
      "  y, sr_native = __audioread_load(path, offset, duration, dtype)\n"
     ]
    },
    {
     "name": "stdout",
     "output_type": "stream",
     "text": [
      "Error processing tDhwRV_510.mp3: \n",
      "Error processing jpI5bh_511.mp3: \n",
      "Error processing zGcMbu_512.mp3: \n"
     ]
    },
    {
     "name": "stderr",
     "output_type": "stream",
     "text": [
      "Processing Audio Files:  34%|███▍      | 138610/405874 [3:30:11<4:17:35, 17.29it/s]/var/folders/c2/f9lh6rmd4q1648_pfl1636zw0000gn/T/ipykernel_41137/3522123127.py:10: UserWarning: PySoundFile failed. Trying audioread instead.\n",
      "  signal, rate = librosa.load(audio_path, sr=16000)\n",
      "/Users/maryamsaad/Library/Python/3.9/lib/python/site-packages/librosa/core/audio.py:184: FutureWarning: librosa.core.audio.__audioread_load\n",
      "\tDeprecated as of librosa version 0.10.0.\n",
      "\tIt will be removed in librosa version 1.0.\n",
      "  y, sr_native = __audioread_load(path, offset, duration, dtype)\n",
      "[src/libmpg123/parse.c:do_readahead():1083] warning: Cannot read next header, a one-frame stream? Duh...\n",
      "Processing Audio Files:  34%|███▍      | 138613/405874 [3:30:11<4:27:03, 16.68it/s]/var/folders/c2/f9lh6rmd4q1648_pfl1636zw0000gn/T/ipykernel_41137/3522123127.py:10: UserWarning: PySoundFile failed. Trying audioread instead.\n",
      "  signal, rate = librosa.load(audio_path, sr=16000)\n",
      "/Users/maryamsaad/Library/Python/3.9/lib/python/site-packages/librosa/core/audio.py:184: FutureWarning: librosa.core.audio.__audioread_load\n",
      "\tDeprecated as of librosa version 0.10.0.\n",
      "\tIt will be removed in librosa version 1.0.\n",
      "  y, sr_native = __audioread_load(path, offset, duration, dtype)\n",
      "[src/libmpg123/parse.c:do_readahead():1083] warning: Cannot read next header, a one-frame stream? Duh...\n",
      "Processing Audio Files:  34%|███▍      | 138613/405874 [3:30:11<4:27:03, 16.68it/s]/var/folders/c2/f9lh6rmd4q1648_pfl1636zw0000gn/T/ipykernel_41137/3522123127.py:10: UserWarning: PySoundFile failed. Trying audioread instead.\n",
      "  signal, rate = librosa.load(audio_path, sr=16000)\n",
      "/Users/maryamsaad/Library/Python/3.9/lib/python/site-packages/librosa/core/audio.py:184: FutureWarning: librosa.core.audio.__audioread_load\n",
      "\tDeprecated as of librosa version 0.10.0.\n",
      "\tIt will be removed in librosa version 1.0.\n",
      "  y, sr_native = __audioread_load(path, offset, duration, dtype)\n",
      "[src/libmpg123/parse.c:do_readahead():1083] warning: Cannot read next header, a one-frame stream? Duh...\n"
     ]
    },
    {
     "name": "stdout",
     "output_type": "stream",
     "text": [
      "Error processing 7KwrAg_513.mp3: \n",
      "Error processing kIcF7l_514.mp3: \n",
      "Error processing 4DFxU2_515.mp3: \n"
     ]
    },
    {
     "name": "stderr",
     "output_type": "stream",
     "text": [
      "Processing Audio Files:  34%|███▍      | 138613/405874 [3:30:11<4:27:03, 16.68it/s]/var/folders/c2/f9lh6rmd4q1648_pfl1636zw0000gn/T/ipykernel_41137/3522123127.py:10: UserWarning: PySoundFile failed. Trying audioread instead.\n",
      "  signal, rate = librosa.load(audio_path, sr=16000)\n",
      "/Users/maryamsaad/Library/Python/3.9/lib/python/site-packages/librosa/core/audio.py:184: FutureWarning: librosa.core.audio.__audioread_load\n",
      "\tDeprecated as of librosa version 0.10.0.\n",
      "\tIt will be removed in librosa version 1.0.\n",
      "  y, sr_native = __audioread_load(path, offset, duration, dtype)\n",
      "[src/libmpg123/parse.c:do_readahead():1083] warning: Cannot read next header, a one-frame stream? Duh...\n",
      "Processing Audio Files:  34%|███▍      | 138616/405874 [3:30:11<4:35:29, 16.17it/s]/var/folders/c2/f9lh6rmd4q1648_pfl1636zw0000gn/T/ipykernel_41137/3522123127.py:10: UserWarning: PySoundFile failed. Trying audioread instead.\n",
      "  signal, rate = librosa.load(audio_path, sr=16000)\n",
      "/Users/maryamsaad/Library/Python/3.9/lib/python/site-packages/librosa/core/audio.py:184: FutureWarning: librosa.core.audio.__audioread_load\n",
      "\tDeprecated as of librosa version 0.10.0.\n",
      "\tIt will be removed in librosa version 1.0.\n",
      "  y, sr_native = __audioread_load(path, offset, duration, dtype)\n",
      "[src/libmpg123/parse.c:do_readahead():1083] warning: Cannot read next header, a one-frame stream? Duh...\n",
      "Processing Audio Files:  34%|███▍      | 138616/405874 [3:30:12<4:35:29, 16.17it/s][src/libmpg123/parse.c:do_readahead():1083] warning: Cannot read next header, a one-frame stream? Duh...\n",
      "/var/folders/c2/f9lh6rmd4q1648_pfl1636zw0000gn/T/ipykernel_41137/3522123127.py:10: UserWarning: PySoundFile failed. Trying audioread instead.\n",
      "  signal, rate = librosa.load(audio_path, sr=16000)\n",
      "/Users/maryamsaad/Library/Python/3.9/lib/python/site-packages/librosa/core/audio.py:184: FutureWarning: librosa.core.audio.__audioread_load\n",
      "\tDeprecated as of librosa version 0.10.0.\n",
      "\tIt will be removed in librosa version 1.0.\n",
      "  y, sr_native = __audioread_load(path, offset, duration, dtype)\n",
      "Processing Audio Files:  34%|███▍      | 138618/405874 [3:30:12<4:38:44, 15.98it/s]"
     ]
    },
    {
     "name": "stdout",
     "output_type": "stream",
     "text": [
      "Error processing Sllq1b_516.mp3: \n",
      "Error processing T1fse1_517.mp3: \n",
      "Error processing vwR96h_518.mp3: \n",
      "Error processing pgrpod_519.mp3: \n"
     ]
    },
    {
     "name": "stderr",
     "output_type": "stream",
     "text": [
      "[src/libmpg123/parse.c:do_readahead():1083] warning: Cannot read next header, a one-frame stream? Duh...\n",
      "/var/folders/c2/f9lh6rmd4q1648_pfl1636zw0000gn/T/ipykernel_41137/3522123127.py:10: UserWarning: PySoundFile failed. Trying audioread instead.\n",
      "  signal, rate = librosa.load(audio_path, sr=16000)\n",
      "/Users/maryamsaad/Library/Python/3.9/lib/python/site-packages/librosa/core/audio.py:184: FutureWarning: librosa.core.audio.__audioread_load\n",
      "\tDeprecated as of librosa version 0.10.0.\n",
      "\tIt will be removed in librosa version 1.0.\n",
      "  y, sr_native = __audioread_load(path, offset, duration, dtype)\n",
      "Processing Audio Files:  34%|███▍      | 138618/405874 [3:30:12<4:38:44, 15.98it/s]/var/folders/c2/f9lh6rmd4q1648_pfl1636zw0000gn/T/ipykernel_41137/3522123127.py:10: UserWarning: PySoundFile failed. Trying audioread instead.\n",
      "  signal, rate = librosa.load(audio_path, sr=16000)\n",
      "[src/libmpg123/parse.c:do_readahead():1083] warning: Cannot read next header, a one-frame stream? Duh...\n",
      "/Users/maryamsaad/Library/Python/3.9/lib/python/site-packages/librosa/core/audio.py:184: FutureWarning: librosa.core.audio.__audioread_load\n",
      "\tDeprecated as of librosa version 0.10.0.\n",
      "\tIt will be removed in librosa version 1.0.\n",
      "  y, sr_native = __audioread_load(path, offset, duration, dtype)\n",
      "Processing Audio Files:  34%|███▍      | 138620/405874 [3:30:12<4:43:29, 15.71it/s]/var/folders/c2/f9lh6rmd4q1648_pfl1636zw0000gn/T/ipykernel_41137/3522123127.py:10: UserWarning: PySoundFile failed. Trying audioread instead.\n",
      "  signal, rate = librosa.load(audio_path, sr=16000)\n",
      "[src/libmpg123/parse.c:do_readahead():1083] warning: Cannot read next header, a one-frame stream? Duh...\n",
      "/Users/maryamsaad/Library/Python/3.9/lib/python/site-packages/librosa/core/audio.py:184: FutureWarning: librosa.core.audio.__audioread_load\n",
      "\tDeprecated as of librosa version 0.10.0.\n",
      "\tIt will be removed in librosa version 1.0.\n",
      "  y, sr_native = __audioread_load(path, offset, duration, dtype)\n",
      "Processing Audio Files:  34%|███▍      | 138620/405874 [3:30:12<4:43:29, 15.71it/s]/var/folders/c2/f9lh6rmd4q1648_pfl1636zw0000gn/T/ipykernel_41137/3522123127.py:10: UserWarning: PySoundFile failed. Trying audioread instead.\n",
      "  signal, rate = librosa.load(audio_path, sr=16000)\n",
      "[src/libmpg123/parse.c:do_readahead():1083] warning: Cannot read next header, a one-frame stream? Duh...\n",
      "/Users/maryamsaad/Library/Python/3.9/lib/python/site-packages/librosa/core/audio.py:184: FutureWarning: librosa.core.audio.__audioread_load\n",
      "\tDeprecated as of librosa version 0.10.0.\n",
      "\tIt will be removed in librosa version 1.0.\n",
      "  y, sr_native = __audioread_load(path, offset, duration, dtype)\n"
     ]
    },
    {
     "name": "stdout",
     "output_type": "stream",
     "text": [
      "Error processing 9cgGmb_520.mp3: \n",
      "Error processing bvRVX7_521.mp3: \n",
      "Error processing PlnSIj_522.mp3: \n"
     ]
    },
    {
     "name": "stderr",
     "output_type": "stream",
     "text": [
      "Processing Audio Files:  34%|███▍      | 138622/405874 [3:30:12<4:47:36, 15.49it/s][src/libmpg123/parse.c:do_readahead():1083] warning: Cannot read next header, a one-frame stream? Duh...\n",
      "/var/folders/c2/f9lh6rmd4q1648_pfl1636zw0000gn/T/ipykernel_41137/3522123127.py:10: UserWarning: PySoundFile failed. Trying audioread instead.\n",
      "  signal, rate = librosa.load(audio_path, sr=16000)\n",
      "/Users/maryamsaad/Library/Python/3.9/lib/python/site-packages/librosa/core/audio.py:184: FutureWarning: librosa.core.audio.__audioread_load\n",
      "\tDeprecated as of librosa version 0.10.0.\n",
      "\tIt will be removed in librosa version 1.0.\n",
      "  y, sr_native = __audioread_load(path, offset, duration, dtype)\n",
      "Processing Audio Files:  34%|███▍      | 138622/405874 [3:30:12<4:47:36, 15.49it/s]/var/folders/c2/f9lh6rmd4q1648_pfl1636zw0000gn/T/ipykernel_41137/3522123127.py:10: UserWarning: PySoundFile failed. Trying audioread instead.\n",
      "  signal, rate = librosa.load(audio_path, sr=16000)\n",
      "/Users/maryamsaad/Library/Python/3.9/lib/python/site-packages/librosa/core/audio.py:184: FutureWarning: librosa.core.audio.__audioread_load\n",
      "\tDeprecated as of librosa version 0.10.0.\n",
      "\tIt will be removed in librosa version 1.0.\n",
      "  y, sr_native = __audioread_load(path, offset, duration, dtype)\n",
      "[src/libmpg123/parse.c:do_readahead():1083] warning: Cannot read next header, a one-frame stream? Duh...\n",
      "Processing Audio Files:  34%|███▍      | 138624/405874 [3:30:12<4:50:39, 15.32it/s]/var/folders/c2/f9lh6rmd4q1648_pfl1636zw0000gn/T/ipykernel_41137/3522123127.py:10: UserWarning: PySoundFile failed. Trying audioread instead.\n",
      "  signal, rate = librosa.load(audio_path, sr=16000)\n",
      "/Users/maryamsaad/Library/Python/3.9/lib/python/site-packages/librosa/core/audio.py:184: FutureWarning: librosa.core.audio.__audioread_load\n",
      "\tDeprecated as of librosa version 0.10.0.\n",
      "\tIt will be removed in librosa version 1.0.\n",
      "  y, sr_native = __audioread_load(path, offset, duration, dtype)\n",
      "[src/libmpg123/parse.c:do_readahead():1083] warning: Cannot read next header, a one-frame stream? Duh...\n",
      "                                                                                   "
     ]
    },
    {
     "name": "stdout",
     "output_type": "stream",
     "text": [
      "Error processing NNjI8K_523.mp3: \n",
      "Error processing 4o5Cic_524.mp3: \n",
      "Error processing KZneOv_525.mp3: \n"
     ]
    },
    {
     "name": "stderr",
     "output_type": "stream",
     "text": [
      "Processing Audio Files:  34%|███▍      | 138624/405874 [3:30:12<4:50:39, 15.32it/s]/var/folders/c2/f9lh6rmd4q1648_pfl1636zw0000gn/T/ipykernel_41137/3522123127.py:10: UserWarning: PySoundFile failed. Trying audioread instead.\n",
      "  signal, rate = librosa.load(audio_path, sr=16000)\n",
      "[src/libmpg123/parse.c:do_readahead():1083] warning: Cannot read next header, a one-frame stream? Duh...\n",
      "/Users/maryamsaad/Library/Python/3.9/lib/python/site-packages/librosa/core/audio.py:184: FutureWarning: librosa.core.audio.__audioread_load\n",
      "\tDeprecated as of librosa version 0.10.0.\n",
      "\tIt will be removed in librosa version 1.0.\n",
      "  y, sr_native = __audioread_load(path, offset, duration, dtype)\n",
      "Processing Audio Files:  34%|███▍      | 138626/405874 [3:30:12<4:52:55, 15.21it/s][src/libmpg123/parse.c:do_readahead():1083] warning: Cannot read next header, a one-frame stream? Duh...\n",
      "/var/folders/c2/f9lh6rmd4q1648_pfl1636zw0000gn/T/ipykernel_41137/3522123127.py:10: UserWarning: PySoundFile failed. Trying audioread instead.\n",
      "  signal, rate = librosa.load(audio_path, sr=16000)\n",
      "/Users/maryamsaad/Library/Python/3.9/lib/python/site-packages/librosa/core/audio.py:184: FutureWarning: librosa.core.audio.__audioread_load\n",
      "\tDeprecated as of librosa version 0.10.0.\n",
      "\tIt will be removed in librosa version 1.0.\n",
      "  y, sr_native = __audioread_load(path, offset, duration, dtype)\n",
      "Processing Audio Files:  34%|███▍      | 138626/405874 [3:30:12<4:52:55, 15.21it/s]/var/folders/c2/f9lh6rmd4q1648_pfl1636zw0000gn/T/ipykernel_41137/3522123127.py:10: UserWarning: PySoundFile failed. Trying audioread instead.\n",
      "  signal, rate = librosa.load(audio_path, sr=16000)\n",
      "/Users/maryamsaad/Library/Python/3.9/lib/python/site-packages/librosa/core/audio.py:184: FutureWarning: librosa.core.audio.__audioread_load\n",
      "\tDeprecated as of librosa version 0.10.0.\n",
      "\tIt will be removed in librosa version 1.0.\n",
      "  y, sr_native = __audioread_load(path, offset, duration, dtype)\n",
      "[src/libmpg123/parse.c:do_readahead():1083] warning: Cannot read next header, a one-frame stream? Duh...\n"
     ]
    },
    {
     "name": "stdout",
     "output_type": "stream",
     "text": [
      "Error processing UkfqqQ_526.mp3: \n",
      "Error processing Rasla1_527.mp3: \n",
      "Error processing xLwuWD_528.mp3: \n"
     ]
    },
    {
     "name": "stderr",
     "output_type": "stream",
     "text": [
      "Processing Audio Files:  34%|███▍      | 138628/405874 [3:30:12<5:02:16, 14.74it/s]/var/folders/c2/f9lh6rmd4q1648_pfl1636zw0000gn/T/ipykernel_41137/3522123127.py:10: UserWarning: PySoundFile failed. Trying audioread instead.\n",
      "  signal, rate = librosa.load(audio_path, sr=16000)\n",
      "[src/libmpg123/parse.c:do_readahead():1083] warning: Cannot read next header, a one-frame stream? Duh...\n",
      "/Users/maryamsaad/Library/Python/3.9/lib/python/site-packages/librosa/core/audio.py:184: FutureWarning: librosa.core.audio.__audioread_load\n",
      "\tDeprecated as of librosa version 0.10.0.\n",
      "\tIt will be removed in librosa version 1.0.\n",
      "  y, sr_native = __audioread_load(path, offset, duration, dtype)\n",
      "Processing Audio Files:  34%|███▍      | 138628/405874 [3:30:12<5:02:16, 14.74it/s]/var/folders/c2/f9lh6rmd4q1648_pfl1636zw0000gn/T/ipykernel_41137/3522123127.py:10: UserWarning: PySoundFile failed. Trying audioread instead.\n",
      "  signal, rate = librosa.load(audio_path, sr=16000)\n",
      "/Users/maryamsaad/Library/Python/3.9/lib/python/site-packages/librosa/core/audio.py:184: FutureWarning: librosa.core.audio.__audioread_load\n",
      "\tDeprecated as of librosa version 0.10.0.\n",
      "\tIt will be removed in librosa version 1.0.\n",
      "  y, sr_native = __audioread_load(path, offset, duration, dtype)\n",
      "[src/libmpg123/parse.c:do_readahead():1083] warning: Cannot read next header, a one-frame stream? Duh...\n",
      "Processing Audio Files:  34%|███▍      | 138630/405874 [3:30:12<5:01:31, 14.77it/s]/var/folders/c2/f9lh6rmd4q1648_pfl1636zw0000gn/T/ipykernel_41137/3522123127.py:10: UserWarning: PySoundFile failed. Trying audioread instead.\n",
      "  signal, rate = librosa.load(audio_path, sr=16000)\n",
      "[src/libmpg123/parse.c:do_readahead():1083] warning: Cannot read next header, a one-frame stream? Duh...\n",
      "/Users/maryamsaad/Library/Python/3.9/lib/python/site-packages/librosa/core/audio.py:184: FutureWarning: librosa.core.audio.__audioread_load\n",
      "\tDeprecated as of librosa version 0.10.0.\n",
      "\tIt will be removed in librosa version 1.0.\n",
      "  y, sr_native = __audioread_load(path, offset, duration, dtype)\n"
     ]
    },
    {
     "name": "stdout",
     "output_type": "stream",
     "text": [
      "Error processing lOzzcD_529.mp3: \n",
      "Error processing KXH0yd_530.mp3: \n",
      "Error processing JZWJYM_531.mp3: \n"
     ]
    },
    {
     "name": "stderr",
     "output_type": "stream",
     "text": [
      "Processing Audio Files:  34%|███▍      | 138630/405874 [3:30:12<5:01:31, 14.77it/s]/var/folders/c2/f9lh6rmd4q1648_pfl1636zw0000gn/T/ipykernel_41137/3522123127.py:10: UserWarning: PySoundFile failed. Trying audioread instead.\n",
      "  signal, rate = librosa.load(audio_path, sr=16000)\n",
      "/Users/maryamsaad/Library/Python/3.9/lib/python/site-packages/librosa/core/audio.py:184: FutureWarning: librosa.core.audio.__audioread_load\n",
      "\tDeprecated as of librosa version 0.10.0.\n",
      "\tIt will be removed in librosa version 1.0.\n",
      "  y, sr_native = __audioread_load(path, offset, duration, dtype)\n",
      "[src/libmpg123/parse.c:do_readahead():1083] warning: Cannot read next header, a one-frame stream? Duh...\n",
      "Processing Audio Files:  34%|███▍      | 138632/405874 [3:30:13<5:03:54, 14.66it/s]/var/folders/c2/f9lh6rmd4q1648_pfl1636zw0000gn/T/ipykernel_41137/3522123127.py:10: UserWarning: PySoundFile failed. Trying audioread instead.\n",
      "  signal, rate = librosa.load(audio_path, sr=16000)\n",
      "[src/libmpg123/parse.c:do_readahead():1083] warning: Cannot read next header, a one-frame stream? Duh...\n",
      "/Users/maryamsaad/Library/Python/3.9/lib/python/site-packages/librosa/core/audio.py:184: FutureWarning: librosa.core.audio.__audioread_load\n",
      "\tDeprecated as of librosa version 0.10.0.\n",
      "\tIt will be removed in librosa version 1.0.\n",
      "  y, sr_native = __audioread_load(path, offset, duration, dtype)\n",
      "Processing Audio Files:  34%|███▍      | 138632/405874 [3:30:13<5:03:54, 14.66it/s]/var/folders/c2/f9lh6rmd4q1648_pfl1636zw0000gn/T/ipykernel_41137/3522123127.py:10: UserWarning: PySoundFile failed. Trying audioread instead.\n",
      "  signal, rate = librosa.load(audio_path, sr=16000)\n",
      "/Users/maryamsaad/Library/Python/3.9/lib/python/site-packages/librosa/core/audio.py:184: FutureWarning: librosa.core.audio.__audioread_load\n",
      "\tDeprecated as of librosa version 0.10.0.\n",
      "\tIt will be removed in librosa version 1.0.\n",
      "  y, sr_native = __audioread_load(path, offset, duration, dtype)\n",
      "[src/libmpg123/parse.c:do_readahead():1083] warning: Cannot read next header, a one-frame stream? Duh...\n"
     ]
    },
    {
     "name": "stdout",
     "output_type": "stream",
     "text": [
      "Error processing E3fx0o_532.mp3: \n",
      "Error processing rgFAUk_533.mp3: \n",
      "Error processing 7QZouL_534.mp3: \n"
     ]
    },
    {
     "name": "stderr",
     "output_type": "stream",
     "text": [
      "Processing Audio Files:  34%|███▍      | 138634/405874 [3:30:13<5:01:30, 14.77it/s]/var/folders/c2/f9lh6rmd4q1648_pfl1636zw0000gn/T/ipykernel_41137/3522123127.py:10: UserWarning: PySoundFile failed. Trying audioread instead.\n",
      "  signal, rate = librosa.load(audio_path, sr=16000)\n",
      "[src/libmpg123/parse.c:do_readahead():1083] warning: Cannot read next header, a one-frame stream? Duh...\n",
      "/Users/maryamsaad/Library/Python/3.9/lib/python/site-packages/librosa/core/audio.py:184: FutureWarning: librosa.core.audio.__audioread_load\n",
      "\tDeprecated as of librosa version 0.10.0.\n",
      "\tIt will be removed in librosa version 1.0.\n",
      "  y, sr_native = __audioread_load(path, offset, duration, dtype)\n",
      "Processing Audio Files:  34%|███▍      | 138634/405874 [3:30:13<5:01:30, 14.77it/s]/var/folders/c2/f9lh6rmd4q1648_pfl1636zw0000gn/T/ipykernel_41137/3522123127.py:10: UserWarning: PySoundFile failed. Trying audioread instead.\n",
      "  signal, rate = librosa.load(audio_path, sr=16000)\n",
      "[src/libmpg123/parse.c:do_readahead():1083] warning: Cannot read next header, a one-frame stream? Duh...\n",
      "/Users/maryamsaad/Library/Python/3.9/lib/python/site-packages/librosa/core/audio.py:184: FutureWarning: librosa.core.audio.__audioread_load\n",
      "\tDeprecated as of librosa version 0.10.0.\n",
      "\tIt will be removed in librosa version 1.0.\n",
      "  y, sr_native = __audioread_load(path, offset, duration, dtype)\n",
      "Processing Audio Files:  34%|███▍      | 138636/405874 [3:30:13<5:01:30, 14.77it/s]/var/folders/c2/f9lh6rmd4q1648_pfl1636zw0000gn/T/ipykernel_41137/3522123127.py:10: UserWarning: PySoundFile failed. Trying audioread instead.\n",
      "  signal, rate = librosa.load(audio_path, sr=16000)\n",
      "[src/libmpg123/parse.c:do_readahead():1083] warning: Cannot read next header, a one-frame stream? Duh...\n",
      "/Users/maryamsaad/Library/Python/3.9/lib/python/site-packages/librosa/core/audio.py:184: FutureWarning: librosa.core.audio.__audioread_load\n",
      "\tDeprecated as of librosa version 0.10.0.\n",
      "\tIt will be removed in librosa version 1.0.\n",
      "  y, sr_native = __audioread_load(path, offset, duration, dtype)\n"
     ]
    },
    {
     "name": "stdout",
     "output_type": "stream",
     "text": [
      "Error processing ENqCkr_535.mp3: \n",
      "Error processing XfY5sO_536.mp3: \n",
      "Error processing j39ykF_537.mp3: \n"
     ]
    },
    {
     "name": "stderr",
     "output_type": "stream",
     "text": [
      "Processing Audio Files:  34%|███▍      | 138636/405874 [3:30:13<5:01:30, 14.77it/s]/var/folders/c2/f9lh6rmd4q1648_pfl1636zw0000gn/T/ipykernel_41137/3522123127.py:10: UserWarning: PySoundFile failed. Trying audioread instead.\n",
      "  signal, rate = librosa.load(audio_path, sr=16000)\n",
      "/Users/maryamsaad/Library/Python/3.9/lib/python/site-packages/librosa/core/audio.py:184: FutureWarning: librosa.core.audio.__audioread_load\n",
      "\tDeprecated as of librosa version 0.10.0.\n",
      "\tIt will be removed in librosa version 1.0.\n",
      "  y, sr_native = __audioread_load(path, offset, duration, dtype)\n",
      "[src/libmpg123/parse.c:do_readahead():1083] warning: Cannot read next header, a one-frame stream? Duh...\n",
      "Processing Audio Files:  34%|███▍      | 138638/405874 [3:30:13<5:02:15, 14.74it/s]/var/folders/c2/f9lh6rmd4q1648_pfl1636zw0000gn/T/ipykernel_41137/3522123127.py:10: UserWarning: PySoundFile failed. Trying audioread instead.\n",
      "  signal, rate = librosa.load(audio_path, sr=16000)\n",
      "[src/libmpg123/parse.c:do_readahead():1083] warning: Cannot read next header, a one-frame stream? Duh...\n",
      "/Users/maryamsaad/Library/Python/3.9/lib/python/site-packages/librosa/core/audio.py:184: FutureWarning: librosa.core.audio.__audioread_load\n",
      "\tDeprecated as of librosa version 0.10.0.\n",
      "\tIt will be removed in librosa version 1.0.\n",
      "  y, sr_native = __audioread_load(path, offset, duration, dtype)\n",
      "Processing Audio Files:  34%|███▍      | 138638/405874 [3:30:13<5:02:15, 14.74it/s]/var/folders/c2/f9lh6rmd4q1648_pfl1636zw0000gn/T/ipykernel_41137/3522123127.py:10: UserWarning: PySoundFile failed. Trying audioread instead.\n",
      "  signal, rate = librosa.load(audio_path, sr=16000)\n",
      "[src/libmpg123/parse.c:do_readahead():1083] warning: Cannot read next header, a one-frame stream? Duh...\n",
      "/Users/maryamsaad/Library/Python/3.9/lib/python/site-packages/librosa/core/audio.py:184: FutureWarning: librosa.core.audio.__audioread_load\n",
      "\tDeprecated as of librosa version 0.10.0.\n",
      "\tIt will be removed in librosa version 1.0.\n",
      "  y, sr_native = __audioread_load(path, offset, duration, dtype)\n"
     ]
    },
    {
     "name": "stdout",
     "output_type": "stream",
     "text": [
      "Error processing PmEVXK_538.mp3: \n",
      "Error processing 4x3r46_539.mp3: \n",
      "Error processing A7Ccot_540.mp3: \n"
     ]
    },
    {
     "name": "stderr",
     "output_type": "stream",
     "text": [
      "Processing Audio Files:  34%|███▍      | 138640/405874 [3:30:13<5:06:34, 14.53it/s]/var/folders/c2/f9lh6rmd4q1648_pfl1636zw0000gn/T/ipykernel_41137/3522123127.py:10: UserWarning: PySoundFile failed. Trying audioread instead.\n",
      "  signal, rate = librosa.load(audio_path, sr=16000)\n",
      "/Users/maryamsaad/Library/Python/3.9/lib/python/site-packages/librosa/core/audio.py:184: FutureWarning: librosa.core.audio.__audioread_load\n",
      "\tDeprecated as of librosa version 0.10.0.\n",
      "\tIt will be removed in librosa version 1.0.\n",
      "  y, sr_native = __audioread_load(path, offset, duration, dtype)\n",
      "[src/libmpg123/parse.c:do_readahead():1083] warning: Cannot read next header, a one-frame stream? Duh...\n",
      "Processing Audio Files:  34%|███▍      | 138640/405874 [3:30:13<5:06:34, 14.53it/s]/var/folders/c2/f9lh6rmd4q1648_pfl1636zw0000gn/T/ipykernel_41137/3522123127.py:10: UserWarning: PySoundFile failed. Trying audioread instead.\n",
      "  signal, rate = librosa.load(audio_path, sr=16000)\n",
      "[src/libmpg123/parse.c:do_readahead():1083] warning: Cannot read next header, a one-frame stream? Duh...\n",
      "/Users/maryamsaad/Library/Python/3.9/lib/python/site-packages/librosa/core/audio.py:184: FutureWarning: librosa.core.audio.__audioread_load\n",
      "\tDeprecated as of librosa version 0.10.0.\n",
      "\tIt will be removed in librosa version 1.0.\n",
      "  y, sr_native = __audioread_load(path, offset, duration, dtype)\n",
      "Processing Audio Files:  34%|███▍      | 138642/405874 [3:30:13<5:05:21, 14.59it/s][src/libmpg123/parse.c:do_readahead():1083] warning: Cannot read next header, a one-frame stream? Duh...\n",
      "/var/folders/c2/f9lh6rmd4q1648_pfl1636zw0000gn/T/ipykernel_41137/3522123127.py:10: UserWarning: PySoundFile failed. Trying audioread instead.\n",
      "  signal, rate = librosa.load(audio_path, sr=16000)\n",
      "/Users/maryamsaad/Library/Python/3.9/lib/python/site-packages/librosa/core/audio.py:184: FutureWarning: librosa.core.audio.__audioread_load\n",
      "\tDeprecated as of librosa version 0.10.0.\n",
      "\tIt will be removed in librosa version 1.0.\n",
      "  y, sr_native = __audioread_load(path, offset, duration, dtype)\n"
     ]
    },
    {
     "name": "stdout",
     "output_type": "stream",
     "text": [
      "Error processing D8Pnfv_541.mp3: \n",
      "Error processing whahcS_542.mp3: \n",
      "Error processing CMiXWm_543.mp3: \n"
     ]
    },
    {
     "name": "stderr",
     "output_type": "stream",
     "text": [
      "Processing Audio Files:  34%|███▍      | 138642/405874 [3:30:13<5:05:21, 14.59it/s][src/libmpg123/parse.c:do_readahead():1083] warning: Cannot read next header, a one-frame stream? Duh...\n",
      "/var/folders/c2/f9lh6rmd4q1648_pfl1636zw0000gn/T/ipykernel_41137/3522123127.py:10: UserWarning: PySoundFile failed. Trying audioread instead.\n",
      "  signal, rate = librosa.load(audio_path, sr=16000)\n",
      "/Users/maryamsaad/Library/Python/3.9/lib/python/site-packages/librosa/core/audio.py:184: FutureWarning: librosa.core.audio.__audioread_load\n",
      "\tDeprecated as of librosa version 0.10.0.\n",
      "\tIt will be removed in librosa version 1.0.\n",
      "  y, sr_native = __audioread_load(path, offset, duration, dtype)\n",
      "Processing Audio Files:  34%|███▍      | 138644/405874 [3:30:13<5:03:44, 14.66it/s]/var/folders/c2/f9lh6rmd4q1648_pfl1636zw0000gn/T/ipykernel_41137/3522123127.py:10: UserWarning: PySoundFile failed. Trying audioread instead.\n",
      "  signal, rate = librosa.load(audio_path, sr=16000)\n",
      "/Users/maryamsaad/Library/Python/3.9/lib/python/site-packages/librosa/core/audio.py:184: FutureWarning: librosa.core.audio.__audioread_load\n",
      "\tDeprecated as of librosa version 0.10.0.\n",
      "\tIt will be removed in librosa version 1.0.\n",
      "  y, sr_native = __audioread_load(path, offset, duration, dtype)\n",
      "[src/libmpg123/parse.c:do_readahead():1083] warning: Cannot read next header, a one-frame stream? Duh...\n",
      "Processing Audio Files:  34%|███▍      | 138644/405874 [3:30:13<5:03:44, 14.66it/s]/var/folders/c2/f9lh6rmd4q1648_pfl1636zw0000gn/T/ipykernel_41137/3522123127.py:10: UserWarning: PySoundFile failed. Trying audioread instead.\n",
      "  signal, rate = librosa.load(audio_path, sr=16000)\n",
      "/Users/maryamsaad/Library/Python/3.9/lib/python/site-packages/librosa/core/audio.py:184: FutureWarning: librosa.core.audio.__audioread_load\n",
      "\tDeprecated as of librosa version 0.10.0.\n",
      "\tIt will be removed in librosa version 1.0.\n",
      "  y, sr_native = __audioread_load(path, offset, duration, dtype)\n",
      "[src/libmpg123/parse.c:do_readahead():1083] warning: Cannot read next header, a one-frame stream? Duh...\n",
      "                                                                                   "
     ]
    },
    {
     "name": "stdout",
     "output_type": "stream",
     "text": [
      "Error processing CROdee_544.mp3: \n",
      "Error processing PhGahG_545.mp3: \n",
      "Error processing ygtJVY_546.mp3: \n"
     ]
    },
    {
     "name": "stderr",
     "output_type": "stream",
     "text": [
      "Processing Audio Files:  34%|███▍      | 138646/405874 [3:30:13<5:01:29, 14.77it/s]/var/folders/c2/f9lh6rmd4q1648_pfl1636zw0000gn/T/ipykernel_41137/3522123127.py:10: UserWarning: PySoundFile failed. Trying audioread instead.\n",
      "  signal, rate = librosa.load(audio_path, sr=16000)\n",
      "[src/libmpg123/parse.c:do_readahead():1083] warning: Cannot read next header, a one-frame stream? Duh...\n",
      "/Users/maryamsaad/Library/Python/3.9/lib/python/site-packages/librosa/core/audio.py:184: FutureWarning: librosa.core.audio.__audioread_load\n",
      "\tDeprecated as of librosa version 0.10.0.\n",
      "\tIt will be removed in librosa version 1.0.\n",
      "  y, sr_native = __audioread_load(path, offset, duration, dtype)\n",
      "Processing Audio Files:  34%|███▍      | 138646/405874 [3:30:14<5:01:29, 14.77it/s]/var/folders/c2/f9lh6rmd4q1648_pfl1636zw0000gn/T/ipykernel_41137/3522123127.py:10: UserWarning: PySoundFile failed. Trying audioread instead.\n",
      "  signal, rate = librosa.load(audio_path, sr=16000)\n",
      "/Users/maryamsaad/Library/Python/3.9/lib/python/site-packages/librosa/core/audio.py:184: FutureWarning: librosa.core.audio.__audioread_load\n",
      "\tDeprecated as of librosa version 0.10.0.\n",
      "\tIt will be removed in librosa version 1.0.\n",
      "  y, sr_native = __audioread_load(path, offset, duration, dtype)\n",
      "[src/libmpg123/parse.c:do_readahead():1083] warning: Cannot read next header, a one-frame stream? Duh...\n",
      "Processing Audio Files:  34%|███▍      | 138648/405874 [3:30:14<5:00:57, 14.80it/s]/var/folders/c2/f9lh6rmd4q1648_pfl1636zw0000gn/T/ipykernel_41137/3522123127.py:10: UserWarning: PySoundFile failed. Trying audioread instead.\n",
      "  signal, rate = librosa.load(audio_path, sr=16000)\n",
      "[src/libmpg123/parse.c:do_readahead():1083] warning: Cannot read next header, a one-frame stream? Duh...\n",
      "/Users/maryamsaad/Library/Python/3.9/lib/python/site-packages/librosa/core/audio.py:184: FutureWarning: librosa.core.audio.__audioread_load\n",
      "\tDeprecated as of librosa version 0.10.0.\n",
      "\tIt will be removed in librosa version 1.0.\n",
      "  y, sr_native = __audioread_load(path, offset, duration, dtype)\n"
     ]
    },
    {
     "name": "stdout",
     "output_type": "stream",
     "text": [
      "Error processing PYy1yz_547.mp3: \n",
      "Error processing TmdkXc_548.mp3: \n",
      "Error processing 0HZNO9_549.mp3: \n"
     ]
    },
    {
     "name": "stderr",
     "output_type": "stream",
     "text": [
      "Processing Audio Files:  34%|███▍      | 138648/405874 [3:30:14<5:00:57, 14.80it/s]/var/folders/c2/f9lh6rmd4q1648_pfl1636zw0000gn/T/ipykernel_41137/3522123127.py:10: UserWarning: PySoundFile failed. Trying audioread instead.\n",
      "  signal, rate = librosa.load(audio_path, sr=16000)\n",
      "[src/libmpg123/parse.c:do_readahead():1083] warning: Cannot read next header, a one-frame stream? Duh...\n",
      "/Users/maryamsaad/Library/Python/3.9/lib/python/site-packages/librosa/core/audio.py:184: FutureWarning: librosa.core.audio.__audioread_load\n",
      "\tDeprecated as of librosa version 0.10.0.\n",
      "\tIt will be removed in librosa version 1.0.\n",
      "  y, sr_native = __audioread_load(path, offset, duration, dtype)\n",
      "Processing Audio Files:  34%|███▍      | 138650/405874 [3:30:14<5:01:22, 14.78it/s]/var/folders/c2/f9lh6rmd4q1648_pfl1636zw0000gn/T/ipykernel_41137/3522123127.py:10: UserWarning: PySoundFile failed. Trying audioread instead.\n",
      "  signal, rate = librosa.load(audio_path, sr=16000)\n",
      "[src/libmpg123/parse.c:do_readahead():1083] warning: Cannot read next header, a one-frame stream? Duh...\n",
      "/Users/maryamsaad/Library/Python/3.9/lib/python/site-packages/librosa/core/audio.py:184: FutureWarning: librosa.core.audio.__audioread_load\n",
      "\tDeprecated as of librosa version 0.10.0.\n",
      "\tIt will be removed in librosa version 1.0.\n",
      "  y, sr_native = __audioread_load(path, offset, duration, dtype)\n",
      "Processing Audio Files:  34%|███▍      | 138650/405874 [3:30:14<5:01:22, 14.78it/s]/var/folders/c2/f9lh6rmd4q1648_pfl1636zw0000gn/T/ipykernel_41137/3522123127.py:10: UserWarning: PySoundFile failed. Trying audioread instead.\n",
      "  signal, rate = librosa.load(audio_path, sr=16000)\n",
      "/Users/maryamsaad/Library/Python/3.9/lib/python/site-packages/librosa/core/audio.py:184: FutureWarning: librosa.core.audio.__audioread_load\n",
      "\tDeprecated as of librosa version 0.10.0.\n",
      "\tIt will be removed in librosa version 1.0.\n",
      "  y, sr_native = __audioread_load(path, offset, duration, dtype)\n",
      "[src/libmpg123/parse.c:do_readahead():1083] warning: Cannot read next header, a one-frame stream? Duh...\n"
     ]
    },
    {
     "name": "stdout",
     "output_type": "stream",
     "text": [
      "Error processing 7NAMFA_550.mp3: \n",
      "Error processing mBkUpN_551.mp3: \n",
      "Error processing k8aS6K_552.mp3: \n"
     ]
    },
    {
     "name": "stderr",
     "output_type": "stream",
     "text": [
      "Processing Audio Files:  34%|███▍      | 138652/405874 [3:30:14<5:06:18, 14.54it/s][src/libmpg123/parse.c:do_readahead():1083] warning: Cannot read next header, a one-frame stream? Duh...\n",
      "/var/folders/c2/f9lh6rmd4q1648_pfl1636zw0000gn/T/ipykernel_41137/3522123127.py:10: UserWarning: PySoundFile failed. Trying audioread instead.\n",
      "  signal, rate = librosa.load(audio_path, sr=16000)\n",
      "/Users/maryamsaad/Library/Python/3.9/lib/python/site-packages/librosa/core/audio.py:184: FutureWarning: librosa.core.audio.__audioread_load\n",
      "\tDeprecated as of librosa version 0.10.0.\n",
      "\tIt will be removed in librosa version 1.0.\n",
      "  y, sr_native = __audioread_load(path, offset, duration, dtype)\n",
      "Processing Audio Files:  34%|███▍      | 138652/405874 [3:30:14<5:06:18, 14.54it/s]/var/folders/c2/f9lh6rmd4q1648_pfl1636zw0000gn/T/ipykernel_41137/3522123127.py:10: UserWarning: PySoundFile failed. Trying audioread instead.\n",
      "  signal, rate = librosa.load(audio_path, sr=16000)\n",
      "[src/libmpg123/parse.c:do_readahead():1083] warning: Cannot read next header, a one-frame stream? Duh...\n",
      "/Users/maryamsaad/Library/Python/3.9/lib/python/site-packages/librosa/core/audio.py:184: FutureWarning: librosa.core.audio.__audioread_load\n",
      "\tDeprecated as of librosa version 0.10.0.\n",
      "\tIt will be removed in librosa version 1.0.\n",
      "  y, sr_native = __audioread_load(path, offset, duration, dtype)\n",
      "Processing Audio Files:  34%|███▍      | 138654/405874 [3:30:14<5:04:49, 14.61it/s]/var/folders/c2/f9lh6rmd4q1648_pfl1636zw0000gn/T/ipykernel_41137/3522123127.py:10: UserWarning: PySoundFile failed. Trying audioread instead.\n",
      "  signal, rate = librosa.load(audio_path, sr=16000)\n",
      "[src/libmpg123/parse.c:do_readahead():1083] warning: Cannot read next header, a one-frame stream? Duh...\n",
      "/Users/maryamsaad/Library/Python/3.9/lib/python/site-packages/librosa/core/audio.py:184: FutureWarning: librosa.core.audio.__audioread_load\n",
      "\tDeprecated as of librosa version 0.10.0.\n",
      "\tIt will be removed in librosa version 1.0.\n",
      "  y, sr_native = __audioread_load(path, offset, duration, dtype)\n"
     ]
    },
    {
     "name": "stdout",
     "output_type": "stream",
     "text": [
      "Error processing PMfdDe_553.mp3: \n",
      "Error processing wH2emP_554.mp3: \n",
      "Error processing PnysLB_555.mp3: \n"
     ]
    },
    {
     "name": "stderr",
     "output_type": "stream",
     "text": [
      "Processing Audio Files:  34%|███▍      | 138654/405874 [3:30:14<5:04:49, 14.61it/s]/var/folders/c2/f9lh6rmd4q1648_pfl1636zw0000gn/T/ipykernel_41137/3522123127.py:10: UserWarning: PySoundFile failed. Trying audioread instead.\n",
      "  signal, rate = librosa.load(audio_path, sr=16000)\n",
      "/Users/maryamsaad/Library/Python/3.9/lib/python/site-packages/librosa/core/audio.py:184: FutureWarning: librosa.core.audio.__audioread_load\n",
      "\tDeprecated as of librosa version 0.10.0.\n",
      "\tIt will be removed in librosa version 1.0.\n",
      "  y, sr_native = __audioread_load(path, offset, duration, dtype)\n",
      "[src/libmpg123/parse.c:do_readahead():1083] warning: Cannot read next header, a one-frame stream? Duh...\n",
      "Processing Audio Files:  34%|███▍      | 138656/405874 [3:30:14<5:04:38, 14.62it/s]/var/folders/c2/f9lh6rmd4q1648_pfl1636zw0000gn/T/ipykernel_41137/3522123127.py:10: UserWarning: PySoundFile failed. Trying audioread instead.\n",
      "  signal, rate = librosa.load(audio_path, sr=16000)\n",
      "/Users/maryamsaad/Library/Python/3.9/lib/python/site-packages/librosa/core/audio.py:184: FutureWarning: librosa.core.audio.__audioread_load\n",
      "\tDeprecated as of librosa version 0.10.0.\n",
      "\tIt will be removed in librosa version 1.0.\n",
      "  y, sr_native = __audioread_load(path, offset, duration, dtype)\n",
      "[src/libmpg123/parse.c:do_readahead():1083] warning: Cannot read next header, a one-frame stream? Duh...\n",
      "Processing Audio Files:  34%|███▍      | 138656/405874 [3:30:14<5:04:38, 14.62it/s]/var/folders/c2/f9lh6rmd4q1648_pfl1636zw0000gn/T/ipykernel_41137/3522123127.py:10: UserWarning: PySoundFile failed. Trying audioread instead.\n",
      "  signal, rate = librosa.load(audio_path, sr=16000)\n",
      "/Users/maryamsaad/Library/Python/3.9/lib/python/site-packages/librosa/core/audio.py:184: FutureWarning: librosa.core.audio.__audioread_load\n",
      "\tDeprecated as of librosa version 0.10.0.\n",
      "\tIt will be removed in librosa version 1.0.\n",
      "  y, sr_native = __audioread_load(path, offset, duration, dtype)\n",
      "[src/libmpg123/parse.c:do_readahead():1083] warning: Cannot read next header, a one-frame stream? Duh...\n",
      "                                                                                   "
     ]
    },
    {
     "name": "stdout",
     "output_type": "stream",
     "text": [
      "Error processing lfvbZs_556.mp3: \n",
      "Error processing vAAZgz_557.mp3: \n",
      "Error processing 6hPUZI_558.mp3: \n"
     ]
    },
    {
     "name": "stderr",
     "output_type": "stream",
     "text": [
      "Processing Audio Files:  34%|███▍      | 138658/405874 [3:30:14<5:01:48, 14.76it/s]/var/folders/c2/f9lh6rmd4q1648_pfl1636zw0000gn/T/ipykernel_41137/3522123127.py:10: UserWarning: PySoundFile failed. Trying audioread instead.\n",
      "  signal, rate = librosa.load(audio_path, sr=16000)\n",
      "[src/libmpg123/parse.c:do_readahead():1083] warning: Cannot read next header, a one-frame stream? Duh...\n",
      "/Users/maryamsaad/Library/Python/3.9/lib/python/site-packages/librosa/core/audio.py:184: FutureWarning: librosa.core.audio.__audioread_load\n",
      "\tDeprecated as of librosa version 0.10.0.\n",
      "\tIt will be removed in librosa version 1.0.\n",
      "  y, sr_native = __audioread_load(path, offset, duration, dtype)\n",
      "Processing Audio Files:  34%|███▍      | 138658/405874 [3:30:14<5:01:48, 14.76it/s]/var/folders/c2/f9lh6rmd4q1648_pfl1636zw0000gn/T/ipykernel_41137/3522123127.py:10: UserWarning: PySoundFile failed. Trying audioread instead.\n",
      "  signal, rate = librosa.load(audio_path, sr=16000)\n",
      "[src/libmpg123/parse.c:do_readahead():1083] warning: Cannot read next header, a one-frame stream? Duh...\n",
      "/Users/maryamsaad/Library/Python/3.9/lib/python/site-packages/librosa/core/audio.py:184: FutureWarning: librosa.core.audio.__audioread_load\n",
      "\tDeprecated as of librosa version 0.10.0.\n",
      "\tIt will be removed in librosa version 1.0.\n",
      "  y, sr_native = __audioread_load(path, offset, duration, dtype)\n",
      "Processing Audio Files:  34%|███▍      | 138660/405874 [3:30:14<5:02:47, 14.71it/s]/var/folders/c2/f9lh6rmd4q1648_pfl1636zw0000gn/T/ipykernel_41137/3522123127.py:10: UserWarning: PySoundFile failed. Trying audioread instead.\n",
      "  signal, rate = librosa.load(audio_path, sr=16000)\n",
      "[src/libmpg123/parse.c:do_readahead():1083] warning: Cannot read next header, a one-frame stream? Duh...\n",
      "/Users/maryamsaad/Library/Python/3.9/lib/python/site-packages/librosa/core/audio.py:184: FutureWarning: librosa.core.audio.__audioread_load\n",
      "\tDeprecated as of librosa version 0.10.0.\n",
      "\tIt will be removed in librosa version 1.0.\n",
      "  y, sr_native = __audioread_load(path, offset, duration, dtype)\n"
     ]
    },
    {
     "name": "stdout",
     "output_type": "stream",
     "text": [
      "Error processing 9la0G7_559.mp3: \n",
      "Error processing qJ7Kwd_560.mp3: \n",
      "Error processing 1iLLsP_561.mp3: \n"
     ]
    },
    {
     "name": "stderr",
     "output_type": "stream",
     "text": [
      "Processing Audio Files:  34%|███▍      | 138660/405874 [3:30:15<5:02:47, 14.71it/s]/var/folders/c2/f9lh6rmd4q1648_pfl1636zw0000gn/T/ipykernel_41137/3522123127.py:10: UserWarning: PySoundFile failed. Trying audioread instead.\n",
      "  signal, rate = librosa.load(audio_path, sr=16000)\n",
      "/Users/maryamsaad/Library/Python/3.9/lib/python/site-packages/librosa/core/audio.py:184: FutureWarning: librosa.core.audio.__audioread_load\n",
      "\tDeprecated as of librosa version 0.10.0.\n",
      "\tIt will be removed in librosa version 1.0.\n",
      "  y, sr_native = __audioread_load(path, offset, duration, dtype)\n",
      "[src/libmpg123/parse.c:do_readahead():1083] warning: Cannot read next header, a one-frame stream? Duh...\n",
      "Processing Audio Files:  34%|███▍      | 138662/405874 [3:30:15<5:06:56, 14.51it/s]/var/folders/c2/f9lh6rmd4q1648_pfl1636zw0000gn/T/ipykernel_41137/3522123127.py:10: UserWarning: PySoundFile failed. Trying audioread instead.\n",
      "  signal, rate = librosa.load(audio_path, sr=16000)\n",
      "[src/libmpg123/parse.c:do_readahead():1083] warning: Cannot read next header, a one-frame stream? Duh...\n",
      "/Users/maryamsaad/Library/Python/3.9/lib/python/site-packages/librosa/core/audio.py:184: FutureWarning: librosa.core.audio.__audioread_load\n",
      "\tDeprecated as of librosa version 0.10.0.\n",
      "\tIt will be removed in librosa version 1.0.\n",
      "  y, sr_native = __audioread_load(path, offset, duration, dtype)\n",
      "Processing Audio Files:  34%|███▍      | 138662/405874 [3:30:15<5:06:56, 14.51it/s]/var/folders/c2/f9lh6rmd4q1648_pfl1636zw0000gn/T/ipykernel_41137/3522123127.py:10: UserWarning: PySoundFile failed. Trying audioread instead.\n",
      "  signal, rate = librosa.load(audio_path, sr=16000)\n",
      "/Users/maryamsaad/Library/Python/3.9/lib/python/site-packages/librosa/core/audio.py:184: FutureWarning: librosa.core.audio.__audioread_load\n",
      "\tDeprecated as of librosa version 0.10.0.\n",
      "\tIt will be removed in librosa version 1.0.\n",
      "  y, sr_native = __audioread_load(path, offset, duration, dtype)\n",
      "[src/libmpg123/parse.c:do_readahead():1083] warning: Cannot read next header, a one-frame stream? Duh...\n"
     ]
    },
    {
     "name": "stdout",
     "output_type": "stream",
     "text": [
      "Error processing 6hzl1d_562.mp3: \n",
      "Error processing NfOmvm_563.mp3: \n",
      "Error processing 2jwcsx_564.mp3: \n"
     ]
    },
    {
     "name": "stderr",
     "output_type": "stream",
     "text": [
      "Processing Audio Files:  34%|███▍      | 138664/405874 [3:30:15<5:04:39, 14.62it/s]/var/folders/c2/f9lh6rmd4q1648_pfl1636zw0000gn/T/ipykernel_41137/3522123127.py:10: UserWarning: PySoundFile failed. Trying audioread instead.\n",
      "  signal, rate = librosa.load(audio_path, sr=16000)\n",
      "/Users/maryamsaad/Library/Python/3.9/lib/python/site-packages/librosa/core/audio.py:184: FutureWarning: librosa.core.audio.__audioread_load\n",
      "\tDeprecated as of librosa version 0.10.0.\n",
      "\tIt will be removed in librosa version 1.0.\n",
      "  y, sr_native = __audioread_load(path, offset, duration, dtype)\n",
      "[src/libmpg123/parse.c:do_readahead():1083] warning: Cannot read next header, a one-frame stream? Duh...\n",
      "Processing Audio Files:  34%|███▍      | 138664/405874 [3:30:15<5:04:39, 14.62it/s]/var/folders/c2/f9lh6rmd4q1648_pfl1636zw0000gn/T/ipykernel_41137/3522123127.py:10: UserWarning: PySoundFile failed. Trying audioread instead.\n",
      "  signal, rate = librosa.load(audio_path, sr=16000)\n",
      "/Users/maryamsaad/Library/Python/3.9/lib/python/site-packages/librosa/core/audio.py:184: FutureWarning: librosa.core.audio.__audioread_load\n",
      "\tDeprecated as of librosa version 0.10.0.\n",
      "\tIt will be removed in librosa version 1.0.\n",
      "  y, sr_native = __audioread_load(path, offset, duration, dtype)\n",
      "[src/libmpg123/parse.c:do_readahead():1083] warning: Cannot read next header, a one-frame stream? Duh...\n",
      "Processing Audio Files:  34%|███▍      | 138666/405874 [3:30:15<5:04:04, 14.65it/s]/var/folders/c2/f9lh6rmd4q1648_pfl1636zw0000gn/T/ipykernel_41137/3522123127.py:10: UserWarning: PySoundFile failed. Trying audioread instead.\n",
      "  signal, rate = librosa.load(audio_path, sr=16000)\n",
      "[src/libmpg123/parse.c:do_readahead():1083] warning: Cannot read next header, a one-frame stream? Duh...\n",
      "/Users/maryamsaad/Library/Python/3.9/lib/python/site-packages/librosa/core/audio.py:184: FutureWarning: librosa.core.audio.__audioread_load\n",
      "\tDeprecated as of librosa version 0.10.0.\n",
      "\tIt will be removed in librosa version 1.0.\n",
      "  y, sr_native = __audioread_load(path, offset, duration, dtype)\n"
     ]
    },
    {
     "name": "stdout",
     "output_type": "stream",
     "text": [
      "Error processing rNHJba_565.mp3: \n",
      "Error processing Sw2270_566.mp3: \n",
      "Error processing Dc71YJ_567.mp3: \n"
     ]
    },
    {
     "name": "stderr",
     "output_type": "stream",
     "text": [
      "Processing Audio Files:  34%|███▍      | 138666/405874 [3:30:15<5:04:04, 14.65it/s]/var/folders/c2/f9lh6rmd4q1648_pfl1636zw0000gn/T/ipykernel_41137/3522123127.py:10: UserWarning: PySoundFile failed. Trying audioread instead.\n",
      "  signal, rate = librosa.load(audio_path, sr=16000)\n",
      "[src/libmpg123/parse.c:do_readahead():1083] warning: Cannot read next header, a one-frame stream? Duh...\n",
      "/Users/maryamsaad/Library/Python/3.9/lib/python/site-packages/librosa/core/audio.py:184: FutureWarning: librosa.core.audio.__audioread_load\n",
      "\tDeprecated as of librosa version 0.10.0.\n",
      "\tIt will be removed in librosa version 1.0.\n",
      "  y, sr_native = __audioread_load(path, offset, duration, dtype)\n",
      "Processing Audio Files:  34%|███▍      | 138668/405874 [3:30:15<5:03:10, 14.69it/s][src/libmpg123/parse.c:do_readahead():1083] warning: Cannot read next header, a one-frame stream? Duh...\n",
      "/var/folders/c2/f9lh6rmd4q1648_pfl1636zw0000gn/T/ipykernel_41137/3522123127.py:10: UserWarning: PySoundFile failed. Trying audioread instead.\n",
      "  signal, rate = librosa.load(audio_path, sr=16000)\n",
      "/Users/maryamsaad/Library/Python/3.9/lib/python/site-packages/librosa/core/audio.py:184: FutureWarning: librosa.core.audio.__audioread_load\n",
      "\tDeprecated as of librosa version 0.10.0.\n",
      "\tIt will be removed in librosa version 1.0.\n",
      "  y, sr_native = __audioread_load(path, offset, duration, dtype)\n",
      "Processing Audio Files:  34%|███▍      | 138668/405874 [3:30:15<5:03:10, 14.69it/s]/var/folders/c2/f9lh6rmd4q1648_pfl1636zw0000gn/T/ipykernel_41137/3522123127.py:10: UserWarning: PySoundFile failed. Trying audioread instead.\n",
      "  signal, rate = librosa.load(audio_path, sr=16000)\n",
      "/Users/maryamsaad/Library/Python/3.9/lib/python/site-packages/librosa/core/audio.py:184: FutureWarning: librosa.core.audio.__audioread_load\n",
      "\tDeprecated as of librosa version 0.10.0.\n",
      "\tIt will be removed in librosa version 1.0.\n",
      "  y, sr_native = __audioread_load(path, offset, duration, dtype)\n",
      "[src/libmpg123/parse.c:do_readahead():1083] warning: Cannot read next header, a one-frame stream? Duh...\n"
     ]
    },
    {
     "name": "stdout",
     "output_type": "stream",
     "text": [
      "Error processing N4mneo_568.mp3: \n",
      "Error processing 8JPRme_569.mp3: \n",
      "Error processing hPxwYR_570.mp3: \n"
     ]
    },
    {
     "name": "stderr",
     "output_type": "stream",
     "text": [
      "Processing Audio Files:  34%|███▍      | 138670/405874 [3:30:15<5:02:22, 14.73it/s]/var/folders/c2/f9lh6rmd4q1648_pfl1636zw0000gn/T/ipykernel_41137/3522123127.py:10: UserWarning: PySoundFile failed. Trying audioread instead.\n",
      "  signal, rate = librosa.load(audio_path, sr=16000)\n",
      "[src/libmpg123/parse.c:do_readahead():1083] warning: Cannot read next header, a one-frame stream? Duh...\n",
      "/Users/maryamsaad/Library/Python/3.9/lib/python/site-packages/librosa/core/audio.py:184: FutureWarning: librosa.core.audio.__audioread_load\n",
      "\tDeprecated as of librosa version 0.10.0.\n",
      "\tIt will be removed in librosa version 1.0.\n",
      "  y, sr_native = __audioread_load(path, offset, duration, dtype)\n",
      "Processing Audio Files:  34%|███▍      | 138670/405874 [3:30:15<5:02:22, 14.73it/s]/var/folders/c2/f9lh6rmd4q1648_pfl1636zw0000gn/T/ipykernel_41137/3522123127.py:10: UserWarning: PySoundFile failed. Trying audioread instead.\n",
      "  signal, rate = librosa.load(audio_path, sr=16000)\n",
      "/Users/maryamsaad/Library/Python/3.9/lib/python/site-packages/librosa/core/audio.py:184: FutureWarning: librosa.core.audio.__audioread_load\n",
      "\tDeprecated as of librosa version 0.10.0.\n",
      "\tIt will be removed in librosa version 1.0.\n",
      "  y, sr_native = __audioread_load(path, offset, duration, dtype)\n",
      "[src/libmpg123/parse.c:do_readahead():1083] warning: Cannot read next header, a one-frame stream? Duh...\n",
      "Processing Audio Files:  34%|███▍      | 138672/405874 [3:30:15<5:01:32, 14.77it/s]/var/folders/c2/f9lh6rmd4q1648_pfl1636zw0000gn/T/ipykernel_41137/3522123127.py:10: UserWarning: PySoundFile failed. Trying audioread instead.\n",
      "  signal, rate = librosa.load(audio_path, sr=16000)\n",
      "[src/libmpg123/parse.c:do_readahead():1083] warning: Cannot read next header, a one-frame stream? Duh...\n",
      "/Users/maryamsaad/Library/Python/3.9/lib/python/site-packages/librosa/core/audio.py:184: FutureWarning: librosa.core.audio.__audioread_load\n",
      "\tDeprecated as of librosa version 0.10.0.\n",
      "\tIt will be removed in librosa version 1.0.\n",
      "  y, sr_native = __audioread_load(path, offset, duration, dtype)\n"
     ]
    },
    {
     "name": "stdout",
     "output_type": "stream",
     "text": [
      "Error processing 3IGYOs_571.mp3: \n",
      "Error processing aGuBQc_572.mp3: \n",
      "Error processing UW7460_573.mp3: \n"
     ]
    },
    {
     "name": "stderr",
     "output_type": "stream",
     "text": [
      "Processing Audio Files:  34%|███▍      | 138672/405874 [3:30:15<5:01:32, 14.77it/s]/var/folders/c2/f9lh6rmd4q1648_pfl1636zw0000gn/T/ipykernel_41137/3522123127.py:10: UserWarning: PySoundFile failed. Trying audioread instead.\n",
      "  signal, rate = librosa.load(audio_path, sr=16000)\n",
      "[src/libmpg123/parse.c:do_readahead():1083] warning: Cannot read next header, a one-frame stream? Duh...\n",
      "/Users/maryamsaad/Library/Python/3.9/lib/python/site-packages/librosa/core/audio.py:184: FutureWarning: librosa.core.audio.__audioread_load\n",
      "\tDeprecated as of librosa version 0.10.0.\n",
      "\tIt will be removed in librosa version 1.0.\n",
      "  y, sr_native = __audioread_load(path, offset, duration, dtype)\n",
      "Processing Audio Files:  34%|███▍      | 138674/405874 [3:30:15<5:01:22, 14.78it/s]/var/folders/c2/f9lh6rmd4q1648_pfl1636zw0000gn/T/ipykernel_41137/3522123127.py:10: UserWarning: PySoundFile failed. Trying audioread instead.\n",
      "  signal, rate = librosa.load(audio_path, sr=16000)\n",
      "[src/libmpg123/parse.c:do_readahead():1083] warning: Cannot read next header, a one-frame stream? Duh...\n",
      "/Users/maryamsaad/Library/Python/3.9/lib/python/site-packages/librosa/core/audio.py:184: FutureWarning: librosa.core.audio.__audioread_load\n",
      "\tDeprecated as of librosa version 0.10.0.\n",
      "\tIt will be removed in librosa version 1.0.\n",
      "  y, sr_native = __audioread_load(path, offset, duration, dtype)\n",
      "Processing Audio Files:  34%|███▍      | 138674/405874 [3:30:15<5:01:22, 14.78it/s]/var/folders/c2/f9lh6rmd4q1648_pfl1636zw0000gn/T/ipykernel_41137/3522123127.py:10: UserWarning: PySoundFile failed. Trying audioread instead.\n",
      "  signal, rate = librosa.load(audio_path, sr=16000)\n",
      "/Users/maryamsaad/Library/Python/3.9/lib/python/site-packages/librosa/core/audio.py:184: FutureWarning: librosa.core.audio.__audioread_load\n",
      "\tDeprecated as of librosa version 0.10.0.\n",
      "\tIt will be removed in librosa version 1.0.\n",
      "  y, sr_native = __audioread_load(path, offset, duration, dtype)\n",
      "[src/libmpg123/parse.c:do_readahead():1083] warning: Cannot read next header, a one-frame stream? Duh...\n"
     ]
    },
    {
     "name": "stdout",
     "output_type": "stream",
     "text": [
      "Error processing RWtIgn_574.mp3: \n",
      "Error processing txXhZX_575.mp3: \n",
      "Error processing FpPWSW_576.mp3: \n"
     ]
    },
    {
     "name": "stderr",
     "output_type": "stream",
     "text": [
      "Processing Audio Files:  34%|███▍      | 138676/405874 [3:30:16<5:08:40, 14.43it/s]/var/folders/c2/f9lh6rmd4q1648_pfl1636zw0000gn/T/ipykernel_41137/3522123127.py:10: UserWarning: PySoundFile failed. Trying audioread instead.\n",
      "  signal, rate = librosa.load(audio_path, sr=16000)\n",
      "/Users/maryamsaad/Library/Python/3.9/lib/python/site-packages/librosa/core/audio.py:184: FutureWarning: librosa.core.audio.__audioread_load\n",
      "\tDeprecated as of librosa version 0.10.0.\n",
      "\tIt will be removed in librosa version 1.0.\n",
      "  y, sr_native = __audioread_load(path, offset, duration, dtype)\n",
      "[src/libmpg123/parse.c:do_readahead():1083] warning: Cannot read next header, a one-frame stream? Duh...\n",
      "Processing Audio Files:  34%|███▍      | 138676/405874 [3:30:16<5:08:40, 14.43it/s][src/libmpg123/parse.c:do_readahead():1083] warning: Cannot read next header, a one-frame stream? Duh...\n",
      "/var/folders/c2/f9lh6rmd4q1648_pfl1636zw0000gn/T/ipykernel_41137/3522123127.py:10: UserWarning: PySoundFile failed. Trying audioread instead.\n",
      "  signal, rate = librosa.load(audio_path, sr=16000)\n",
      "/Users/maryamsaad/Library/Python/3.9/lib/python/site-packages/librosa/core/audio.py:184: FutureWarning: librosa.core.audio.__audioread_load\n",
      "\tDeprecated as of librosa version 0.10.0.\n",
      "\tIt will be removed in librosa version 1.0.\n",
      "  y, sr_native = __audioread_load(path, offset, duration, dtype)\n",
      "Processing Audio Files:  34%|███▍      | 138678/405874 [3:30:16<5:04:51, 14.61it/s]/var/folders/c2/f9lh6rmd4q1648_pfl1636zw0000gn/T/ipykernel_41137/3522123127.py:10: UserWarning: PySoundFile failed. Trying audioread instead.\n",
      "  signal, rate = librosa.load(audio_path, sr=16000)\n",
      "[src/libmpg123/parse.c:do_readahead():1083] warning: Cannot read next header, a one-frame stream? Duh...\n",
      "/Users/maryamsaad/Library/Python/3.9/lib/python/site-packages/librosa/core/audio.py:184: FutureWarning: librosa.core.audio.__audioread_load\n",
      "\tDeprecated as of librosa version 0.10.0.\n",
      "\tIt will be removed in librosa version 1.0.\n",
      "  y, sr_native = __audioread_load(path, offset, duration, dtype)\n"
     ]
    },
    {
     "name": "stdout",
     "output_type": "stream",
     "text": [
      "Error processing xRpGno_577.mp3: \n",
      "Error processing KFajoW_578.mp3: \n",
      "Error processing NN5F63_579.mp3: \n"
     ]
    },
    {
     "name": "stderr",
     "output_type": "stream",
     "text": [
      "Processing Audio Files:  34%|███▍      | 138678/405874 [3:30:16<5:04:51, 14.61it/s]/var/folders/c2/f9lh6rmd4q1648_pfl1636zw0000gn/T/ipykernel_41137/3522123127.py:10: UserWarning: PySoundFile failed. Trying audioread instead.\n",
      "  signal, rate = librosa.load(audio_path, sr=16000)\n",
      "[src/libmpg123/parse.c:do_readahead():1083] warning: Cannot read next header, a one-frame stream? Duh...\n",
      "/Users/maryamsaad/Library/Python/3.9/lib/python/site-packages/librosa/core/audio.py:184: FutureWarning: librosa.core.audio.__audioread_load\n",
      "\tDeprecated as of librosa version 0.10.0.\n",
      "\tIt will be removed in librosa version 1.0.\n",
      "  y, sr_native = __audioread_load(path, offset, duration, dtype)\n",
      "Processing Audio Files:  34%|███▍      | 138680/405874 [3:30:16<5:05:07, 14.59it/s]/var/folders/c2/f9lh6rmd4q1648_pfl1636zw0000gn/T/ipykernel_41137/3522123127.py:10: UserWarning: PySoundFile failed. Trying audioread instead.\n",
      "  signal, rate = librosa.load(audio_path, sr=16000)\n",
      "[src/libmpg123/parse.c:do_readahead():1083] warning: Cannot read next header, a one-frame stream? Duh...\n",
      "/Users/maryamsaad/Library/Python/3.9/lib/python/site-packages/librosa/core/audio.py:184: FutureWarning: librosa.core.audio.__audioread_load\n",
      "\tDeprecated as of librosa version 0.10.0.\n",
      "\tIt will be removed in librosa version 1.0.\n",
      "  y, sr_native = __audioread_load(path, offset, duration, dtype)\n",
      "Processing Audio Files:  34%|███▍      | 138680/405874 [3:30:16<5:05:07, 14.59it/s]/var/folders/c2/f9lh6rmd4q1648_pfl1636zw0000gn/T/ipykernel_41137/3522123127.py:10: UserWarning: PySoundFile failed. Trying audioread instead.\n",
      "  signal, rate = librosa.load(audio_path, sr=16000)\n",
      "/Users/maryamsaad/Library/Python/3.9/lib/python/site-packages/librosa/core/audio.py:184: FutureWarning: librosa.core.audio.__audioread_load\n",
      "\tDeprecated as of librosa version 0.10.0.\n",
      "\tIt will be removed in librosa version 1.0.\n",
      "  y, sr_native = __audioread_load(path, offset, duration, dtype)\n",
      "[src/libmpg123/parse.c:do_readahead():1083] warning: Cannot read next header, a one-frame stream? Duh...\n"
     ]
    },
    {
     "name": "stdout",
     "output_type": "stream",
     "text": [
      "Error processing LhExiM_580.mp3: \n",
      "Error processing ieEPJL_581.mp3: \n",
      "Error processing fDWYhd_582.mp3: \n"
     ]
    },
    {
     "name": "stderr",
     "output_type": "stream",
     "text": [
      "Processing Audio Files:  34%|███▍      | 138682/405874 [3:30:16<5:03:02, 14.69it/s][src/libmpg123/parse.c:do_readahead():1083] warning: Cannot read next header, a one-frame stream? Duh...\n",
      "/var/folders/c2/f9lh6rmd4q1648_pfl1636zw0000gn/T/ipykernel_41137/3522123127.py:10: UserWarning: PySoundFile failed. Trying audioread instead.\n",
      "  signal, rate = librosa.load(audio_path, sr=16000)\n",
      "/Users/maryamsaad/Library/Python/3.9/lib/python/site-packages/librosa/core/audio.py:184: FutureWarning: librosa.core.audio.__audioread_load\n",
      "\tDeprecated as of librosa version 0.10.0.\n",
      "\tIt will be removed in librosa version 1.0.\n",
      "  y, sr_native = __audioread_load(path, offset, duration, dtype)\n",
      "Processing Audio Files:  34%|███▍      | 138682/405874 [3:30:16<5:03:02, 14.69it/s]/var/folders/c2/f9lh6rmd4q1648_pfl1636zw0000gn/T/ipykernel_41137/3522123127.py:10: UserWarning: PySoundFile failed. Trying audioread instead.\n",
      "  signal, rate = librosa.load(audio_path, sr=16000)\n",
      "[src/libmpg123/parse.c:do_readahead():1083] warning: Cannot read next header, a one-frame stream? Duh...\n",
      "/Users/maryamsaad/Library/Python/3.9/lib/python/site-packages/librosa/core/audio.py:184: FutureWarning: librosa.core.audio.__audioread_load\n",
      "\tDeprecated as of librosa version 0.10.0.\n",
      "\tIt will be removed in librosa version 1.0.\n",
      "  y, sr_native = __audioread_load(path, offset, duration, dtype)\n",
      "Processing Audio Files:  34%|███▍      | 138684/405874 [3:30:16<5:02:08, 14.74it/s]/var/folders/c2/f9lh6rmd4q1648_pfl1636zw0000gn/T/ipykernel_41137/3522123127.py:10: UserWarning: PySoundFile failed. Trying audioread instead.\n",
      "  signal, rate = librosa.load(audio_path, sr=16000)\n",
      "[src/libmpg123/parse.c:do_readahead():1083] warning: Cannot read next header, a one-frame stream? Duh...\n",
      "/Users/maryamsaad/Library/Python/3.9/lib/python/site-packages/librosa/core/audio.py:184: FutureWarning: librosa.core.audio.__audioread_load\n",
      "\tDeprecated as of librosa version 0.10.0.\n",
      "\tIt will be removed in librosa version 1.0.\n",
      "  y, sr_native = __audioread_load(path, offset, duration, dtype)\n"
     ]
    },
    {
     "name": "stdout",
     "output_type": "stream",
     "text": [
      "Error processing aFaqTm_583.mp3: \n",
      "Error processing 3vWsDq_584.mp3: \n",
      "Error processing JeNegF_585.mp3: \n"
     ]
    },
    {
     "name": "stderr",
     "output_type": "stream",
     "text": [
      "Processing Audio Files:  34%|███▍      | 138684/405874 [3:30:16<5:02:08, 14.74it/s]/var/folders/c2/f9lh6rmd4q1648_pfl1636zw0000gn/T/ipykernel_41137/3522123127.py:10: UserWarning: PySoundFile failed. Trying audioread instead.\n",
      "  signal, rate = librosa.load(audio_path, sr=16000)\n",
      "[src/libmpg123/parse.c:do_readahead():1083] warning: Cannot read next header, a one-frame stream? Duh...\n",
      "/Users/maryamsaad/Library/Python/3.9/lib/python/site-packages/librosa/core/audio.py:184: FutureWarning: librosa.core.audio.__audioread_load\n",
      "\tDeprecated as of librosa version 0.10.0.\n",
      "\tIt will be removed in librosa version 1.0.\n",
      "  y, sr_native = __audioread_load(path, offset, duration, dtype)\n",
      "Processing Audio Files:  34%|███▍      | 138686/405874 [3:30:16<5:02:46, 14.71it/s][src/libmpg123/parse.c:do_readahead():1083] warning: Cannot read next header, a one-frame stream? Duh...\n",
      "/var/folders/c2/f9lh6rmd4q1648_pfl1636zw0000gn/T/ipykernel_41137/3522123127.py:10: UserWarning: PySoundFile failed. Trying audioread instead.\n",
      "  signal, rate = librosa.load(audio_path, sr=16000)\n",
      "/Users/maryamsaad/Library/Python/3.9/lib/python/site-packages/librosa/core/audio.py:184: FutureWarning: librosa.core.audio.__audioread_load\n",
      "\tDeprecated as of librosa version 0.10.0.\n",
      "\tIt will be removed in librosa version 1.0.\n",
      "  y, sr_native = __audioread_load(path, offset, duration, dtype)\n",
      "Processing Audio Files:  34%|███▍      | 138686/405874 [3:30:16<5:02:46, 14.71it/s]/var/folders/c2/f9lh6rmd4q1648_pfl1636zw0000gn/T/ipykernel_41137/3522123127.py:10: UserWarning: PySoundFile failed. Trying audioread instead.\n",
      "  signal, rate = librosa.load(audio_path, sr=16000)\n",
      "/Users/maryamsaad/Library/Python/3.9/lib/python/site-packages/librosa/core/audio.py:184: FutureWarning: librosa.core.audio.__audioread_load\n",
      "\tDeprecated as of librosa version 0.10.0.\n",
      "\tIt will be removed in librosa version 1.0.\n",
      "  y, sr_native = __audioread_load(path, offset, duration, dtype)\n",
      "[src/libmpg123/parse.c:do_readahead():1083] warning: Cannot read next header, a one-frame stream? Duh...\n"
     ]
    },
    {
     "name": "stdout",
     "output_type": "stream",
     "text": [
      "Error processing MQzDoa_586.mp3: \n",
      "Error processing ATbwsb_587.mp3: \n",
      "Error processing W9dRa1_588.mp3: \n"
     ]
    },
    {
     "name": "stderr",
     "output_type": "stream",
     "text": [
      "Processing Audio Files:  34%|███▍      | 138688/405874 [3:30:16<5:05:45, 14.56it/s]/var/folders/c2/f9lh6rmd4q1648_pfl1636zw0000gn/T/ipykernel_41137/3522123127.py:10: UserWarning: PySoundFile failed. Trying audioread instead.\n",
      "  signal, rate = librosa.load(audio_path, sr=16000)\n",
      "/Users/maryamsaad/Library/Python/3.9/lib/python/site-packages/librosa/core/audio.py:184: FutureWarning: librosa.core.audio.__audioread_load\n",
      "\tDeprecated as of librosa version 0.10.0.\n",
      "\tIt will be removed in librosa version 1.0.\n",
      "  y, sr_native = __audioread_load(path, offset, duration, dtype)\n",
      "[src/libmpg123/parse.c:do_readahead():1083] warning: Cannot read next header, a one-frame stream? Duh...\n",
      "Processing Audio Files:  34%|███▍      | 138688/405874 [3:30:16<5:05:45, 14.56it/s][src/libmpg123/parse.c:do_readahead():1083] warning: Cannot read next header, a one-frame stream? Duh...\n",
      "/var/folders/c2/f9lh6rmd4q1648_pfl1636zw0000gn/T/ipykernel_41137/3522123127.py:10: UserWarning: PySoundFile failed. Trying audioread instead.\n",
      "  signal, rate = librosa.load(audio_path, sr=16000)\n",
      "/Users/maryamsaad/Library/Python/3.9/lib/python/site-packages/librosa/core/audio.py:184: FutureWarning: librosa.core.audio.__audioread_load\n",
      "\tDeprecated as of librosa version 0.10.0.\n",
      "\tIt will be removed in librosa version 1.0.\n",
      "  y, sr_native = __audioread_load(path, offset, duration, dtype)\n",
      "Processing Audio Files:  34%|███▍      | 138690/405874 [3:30:16<5:04:17, 14.63it/s]/var/folders/c2/f9lh6rmd4q1648_pfl1636zw0000gn/T/ipykernel_41137/3522123127.py:10: UserWarning: PySoundFile failed. Trying audioread instead.\n",
      "  signal, rate = librosa.load(audio_path, sr=16000)\n",
      "/Users/maryamsaad/Library/Python/3.9/lib/python/site-packages/librosa/core/audio.py:184: FutureWarning: librosa.core.audio.__audioread_load\n",
      "\tDeprecated as of librosa version 0.10.0.\n",
      "\tIt will be removed in librosa version 1.0.\n",
      "  y, sr_native = __audioread_load(path, offset, duration, dtype)\n",
      "[src/libmpg123/parse.c:do_readahead():1083] warning: Cannot read next header, a one-frame stream? Duh...\n"
     ]
    },
    {
     "name": "stdout",
     "output_type": "stream",
     "text": [
      "Error processing 2kdj1H_589.mp3: \n",
      "Error processing Of0ynr_590.mp3: \n",
      "Error processing 3w33MH_591.mp3: \n"
     ]
    },
    {
     "name": "stderr",
     "output_type": "stream",
     "text": [
      "Processing Audio Files:  34%|███▍      | 138690/405874 [3:30:17<5:04:17, 14.63it/s]/var/folders/c2/f9lh6rmd4q1648_pfl1636zw0000gn/T/ipykernel_41137/3522123127.py:10: UserWarning: PySoundFile failed. Trying audioread instead.\n",
      "  signal, rate = librosa.load(audio_path, sr=16000)\n",
      "/Users/maryamsaad/Library/Python/3.9/lib/python/site-packages/librosa/core/audio.py:184: FutureWarning: librosa.core.audio.__audioread_load\n",
      "\tDeprecated as of librosa version 0.10.0.\n",
      "\tIt will be removed in librosa version 1.0.\n",
      "  y, sr_native = __audioread_load(path, offset, duration, dtype)\n",
      "[src/libmpg123/parse.c:do_readahead():1083] warning: Cannot read next header, a one-frame stream? Duh...\n",
      "Processing Audio Files:  34%|███▍      | 138692/405874 [3:30:17<5:03:55, 14.65it/s]/var/folders/c2/f9lh6rmd4q1648_pfl1636zw0000gn/T/ipykernel_41137/3522123127.py:10: UserWarning: PySoundFile failed. Trying audioread instead.\n",
      "  signal, rate = librosa.load(audio_path, sr=16000)\n",
      "/Users/maryamsaad/Library/Python/3.9/lib/python/site-packages/librosa/core/audio.py:184: FutureWarning: librosa.core.audio.__audioread_load\n",
      "\tDeprecated as of librosa version 0.10.0.\n",
      "\tIt will be removed in librosa version 1.0.\n",
      "  y, sr_native = __audioread_load(path, offset, duration, dtype)\n",
      "[src/libmpg123/parse.c:do_readahead():1083] warning: Cannot read next header, a one-frame stream? Duh...\n",
      "Processing Audio Files:  34%|███▍      | 138692/405874 [3:30:17<5:03:55, 14.65it/s]/var/folders/c2/f9lh6rmd4q1648_pfl1636zw0000gn/T/ipykernel_41137/3522123127.py:10: UserWarning: PySoundFile failed. Trying audioread instead.\n",
      "  signal, rate = librosa.load(audio_path, sr=16000)\n",
      "[src/libmpg123/parse.c:do_readahead():1083] warning: Cannot read next header, a one-frame stream? Duh...\n",
      "/Users/maryamsaad/Library/Python/3.9/lib/python/site-packages/librosa/core/audio.py:184: FutureWarning: librosa.core.audio.__audioread_load\n",
      "\tDeprecated as of librosa version 0.10.0.\n",
      "\tIt will be removed in librosa version 1.0.\n",
      "  y, sr_native = __audioread_load(path, offset, duration, dtype)\n"
     ]
    },
    {
     "name": "stdout",
     "output_type": "stream",
     "text": [
      "Error processing 5G4lGo_592.mp3: \n",
      "Error processing ditaBy_593.mp3: \n",
      "Error processing pPX23x_594.mp3: \n"
     ]
    },
    {
     "name": "stderr",
     "output_type": "stream",
     "text": [
      "Processing Audio Files:  34%|███▍      | 138694/405874 [3:30:17<5:02:54, 14.70it/s]/var/folders/c2/f9lh6rmd4q1648_pfl1636zw0000gn/T/ipykernel_41137/3522123127.py:10: UserWarning: PySoundFile failed. Trying audioread instead.\n",
      "  signal, rate = librosa.load(audio_path, sr=16000)\n",
      "[src/libmpg123/parse.c:do_readahead():1083] warning: Cannot read next header, a one-frame stream? Duh...\n",
      "/Users/maryamsaad/Library/Python/3.9/lib/python/site-packages/librosa/core/audio.py:184: FutureWarning: librosa.core.audio.__audioread_load\n",
      "\tDeprecated as of librosa version 0.10.0.\n",
      "\tIt will be removed in librosa version 1.0.\n",
      "  y, sr_native = __audioread_load(path, offset, duration, dtype)\n",
      "Processing Audio Files:  34%|███▍      | 138694/405874 [3:30:17<5:02:54, 14.70it/s]/var/folders/c2/f9lh6rmd4q1648_pfl1636zw0000gn/T/ipykernel_41137/3522123127.py:10: UserWarning: PySoundFile failed. Trying audioread instead.\n",
      "  signal, rate = librosa.load(audio_path, sr=16000)\n",
      "/Users/maryamsaad/Library/Python/3.9/lib/python/site-packages/librosa/core/audio.py:184: FutureWarning: librosa.core.audio.__audioread_load\n",
      "\tDeprecated as of librosa version 0.10.0.\n",
      "\tIt will be removed in librosa version 1.0.\n",
      "  y, sr_native = __audioread_load(path, offset, duration, dtype)\n",
      "[src/libmpg123/parse.c:do_readahead():1083] warning: Cannot read next header, a one-frame stream? Duh...\n",
      "Processing Audio Files:  34%|███▍      | 138696/405874 [3:30:17<5:02:15, 14.73it/s]/var/folders/c2/f9lh6rmd4q1648_pfl1636zw0000gn/T/ipykernel_41137/3522123127.py:10: UserWarning: PySoundFile failed. Trying audioread instead.\n",
      "  signal, rate = librosa.load(audio_path, sr=16000)\n",
      "/Users/maryamsaad/Library/Python/3.9/lib/python/site-packages/librosa/core/audio.py:184: FutureWarning: librosa.core.audio.__audioread_load\n",
      "\tDeprecated as of librosa version 0.10.0.\n",
      "\tIt will be removed in librosa version 1.0.\n",
      "  y, sr_native = __audioread_load(path, offset, duration, dtype)\n",
      "[src/libmpg123/parse.c:do_readahead():1083] warning: Cannot read next header, a one-frame stream? Duh...\n"
     ]
    },
    {
     "name": "stdout",
     "output_type": "stream",
     "text": [
      "Error processing 8lBdS6_595.mp3: \n",
      "Error processing zjSHuA_596.mp3: \n",
      "Error processing tAJKya_597.mp3: \n"
     ]
    },
    {
     "name": "stderr",
     "output_type": "stream",
     "text": [
      "Processing Audio Files:  34%|███▍      | 138696/405874 [3:30:17<5:02:15, 14.73it/s]/var/folders/c2/f9lh6rmd4q1648_pfl1636zw0000gn/T/ipykernel_41137/3522123127.py:10: UserWarning: PySoundFile failed. Trying audioread instead.\n",
      "  signal, rate = librosa.load(audio_path, sr=16000)\n",
      "[src/libmpg123/parse.c:do_readahead():1083] warning: Cannot read next header, a one-frame stream? Duh...\n",
      "/Users/maryamsaad/Library/Python/3.9/lib/python/site-packages/librosa/core/audio.py:184: FutureWarning: librosa.core.audio.__audioread_load\n",
      "\tDeprecated as of librosa version 0.10.0.\n",
      "\tIt will be removed in librosa version 1.0.\n",
      "  y, sr_native = __audioread_load(path, offset, duration, dtype)\n",
      "Processing Audio Files:  34%|███▍      | 138698/405874 [3:30:17<5:02:24, 14.72it/s]/var/folders/c2/f9lh6rmd4q1648_pfl1636zw0000gn/T/ipykernel_41137/3522123127.py:10: UserWarning: PySoundFile failed. Trying audioread instead.\n",
      "  signal, rate = librosa.load(audio_path, sr=16000)\n",
      "[src/libmpg123/parse.c:do_readahead():1083] warning: Cannot read next header, a one-frame stream? Duh...\n",
      "/Users/maryamsaad/Library/Python/3.9/lib/python/site-packages/librosa/core/audio.py:184: FutureWarning: librosa.core.audio.__audioread_load\n",
      "\tDeprecated as of librosa version 0.10.0.\n",
      "\tIt will be removed in librosa version 1.0.\n",
      "  y, sr_native = __audioread_load(path, offset, duration, dtype)\n",
      "Processing Audio Files:  34%|███▍      | 138698/405874 [3:30:17<5:02:24, 14.72it/s]/var/folders/c2/f9lh6rmd4q1648_pfl1636zw0000gn/T/ipykernel_41137/3522123127.py:10: UserWarning: PySoundFile failed. Trying audioread instead.\n",
      "  signal, rate = librosa.load(audio_path, sr=16000)\n",
      "/Users/maryamsaad/Library/Python/3.9/lib/python/site-packages/librosa/core/audio.py:184: FutureWarning: librosa.core.audio.__audioread_load\n",
      "\tDeprecated as of librosa version 0.10.0.\n",
      "\tIt will be removed in librosa version 1.0.\n",
      "  y, sr_native = __audioread_load(path, offset, duration, dtype)\n",
      "[src/libmpg123/parse.c:do_readahead():1083] warning: Cannot read next header, a one-frame stream? Duh...\n"
     ]
    },
    {
     "name": "stdout",
     "output_type": "stream",
     "text": [
      "Error processing LyeixJ_598.mp3: \n",
      "Error processing oOnw09_599.mp3: \n",
      "Error processing BtOQ2g_600.mp3: \n"
     ]
    },
    {
     "name": "stderr",
     "output_type": "stream",
     "text": [
      "Processing Audio Files:  34%|███▍      | 138700/405874 [3:30:17<5:03:22, 14.68it/s]/var/folders/c2/f9lh6rmd4q1648_pfl1636zw0000gn/T/ipykernel_41137/3522123127.py:10: UserWarning: PySoundFile failed. Trying audioread instead.\n",
      "  signal, rate = librosa.load(audio_path, sr=16000)\n",
      "/Users/maryamsaad/Library/Python/3.9/lib/python/site-packages/librosa/core/audio.py:184: FutureWarning: librosa.core.audio.__audioread_load\n",
      "\tDeprecated as of librosa version 0.10.0.\n",
      "\tIt will be removed in librosa version 1.0.\n",
      "  y, sr_native = __audioread_load(path, offset, duration, dtype)\n",
      "[src/libmpg123/parse.c:do_readahead():1083] warning: Cannot read next header, a one-frame stream? Duh...\n",
      "Processing Audio Files:  34%|███▍      | 138700/405874 [3:30:17<5:03:22, 14.68it/s][src/libmpg123/parse.c:do_readahead():1083] warning: Cannot read next header, a one-frame stream? Duh...\n",
      "/var/folders/c2/f9lh6rmd4q1648_pfl1636zw0000gn/T/ipykernel_41137/3522123127.py:10: UserWarning: PySoundFile failed. Trying audioread instead.\n",
      "  signal, rate = librosa.load(audio_path, sr=16000)\n",
      "/Users/maryamsaad/Library/Python/3.9/lib/python/site-packages/librosa/core/audio.py:184: FutureWarning: librosa.core.audio.__audioread_load\n",
      "\tDeprecated as of librosa version 0.10.0.\n",
      "\tIt will be removed in librosa version 1.0.\n",
      "  y, sr_native = __audioread_load(path, offset, duration, dtype)\n",
      "Processing Audio Files:  34%|███▍      | 138702/405874 [3:30:17<5:04:44, 14.61it/s]/var/folders/c2/f9lh6rmd4q1648_pfl1636zw0000gn/T/ipykernel_41137/3522123127.py:10: UserWarning: PySoundFile failed. Trying audioread instead.\n",
      "  signal, rate = librosa.load(audio_path, sr=16000)\n",
      "/Users/maryamsaad/Library/Python/3.9/lib/python/site-packages/librosa/core/audio.py:184: FutureWarning: librosa.core.audio.__audioread_load\n",
      "\tDeprecated as of librosa version 0.10.0.\n",
      "\tIt will be removed in librosa version 1.0.\n",
      "  y, sr_native = __audioread_load(path, offset, duration, dtype)\n",
      "[src/libmpg123/parse.c:do_readahead():1083] warning: Cannot read next header, a one-frame stream? Duh...\n"
     ]
    },
    {
     "name": "stdout",
     "output_type": "stream",
     "text": [
      "Error processing PLDdb2_601.mp3: \n",
      "Error processing GIDJHt_602.mp3: \n",
      "Error processing lzMNxT_603.mp3: \n"
     ]
    },
    {
     "name": "stderr",
     "output_type": "stream",
     "text": [
      "Processing Audio Files:  34%|███▍      | 138702/405874 [3:30:17<5:04:44, 14.61it/s]/var/folders/c2/f9lh6rmd4q1648_pfl1636zw0000gn/T/ipykernel_41137/3522123127.py:10: UserWarning: PySoundFile failed. Trying audioread instead.\n",
      "  signal, rate = librosa.load(audio_path, sr=16000)\n",
      "/Users/maryamsaad/Library/Python/3.9/lib/python/site-packages/librosa/core/audio.py:184: FutureWarning: librosa.core.audio.__audioread_load\n",
      "\tDeprecated as of librosa version 0.10.0.\n",
      "\tIt will be removed in librosa version 1.0.\n",
      "  y, sr_native = __audioread_load(path, offset, duration, dtype)\n",
      "[src/libmpg123/parse.c:do_readahead():1083] warning: Cannot read next header, a one-frame stream? Duh...\n",
      "Processing Audio Files:  34%|███▍      | 138704/405874 [3:30:17<5:03:45, 14.66it/s]/var/folders/c2/f9lh6rmd4q1648_pfl1636zw0000gn/T/ipykernel_41137/3522123127.py:10: UserWarning: PySoundFile failed. Trying audioread instead.\n",
      "  signal, rate = librosa.load(audio_path, sr=16000)\n",
      "/Users/maryamsaad/Library/Python/3.9/lib/python/site-packages/librosa/core/audio.py:184: FutureWarning: librosa.core.audio.__audioread_load\n",
      "\tDeprecated as of librosa version 0.10.0.\n",
      "\tIt will be removed in librosa version 1.0.\n",
      "  y, sr_native = __audioread_load(path, offset, duration, dtype)\n",
      "[src/libmpg123/parse.c:do_readahead():1083] warning: Cannot read next header, a one-frame stream? Duh...\n",
      "Processing Audio Files:  34%|███▍      | 138704/405874 [3:30:18<5:03:45, 14.66it/s]/var/folders/c2/f9lh6rmd4q1648_pfl1636zw0000gn/T/ipykernel_41137/3522123127.py:10: UserWarning: PySoundFile failed. Trying audioread instead.\n",
      "  signal, rate = librosa.load(audio_path, sr=16000)\n",
      "[src/libmpg123/parse.c:do_readahead():1083] warning: Cannot read next header, a one-frame stream? Duh...\n",
      "/Users/maryamsaad/Library/Python/3.9/lib/python/site-packages/librosa/core/audio.py:184: FutureWarning: librosa.core.audio.__audioread_load\n",
      "\tDeprecated as of librosa version 0.10.0.\n",
      "\tIt will be removed in librosa version 1.0.\n",
      "  y, sr_native = __audioread_load(path, offset, duration, dtype)\n"
     ]
    },
    {
     "name": "stdout",
     "output_type": "stream",
     "text": [
      "Error processing AIvYVP_604.mp3: \n",
      "Error processing Y4RObC_605.mp3: \n",
      "Error processing L41Rln_606.mp3: \n"
     ]
    },
    {
     "name": "stderr",
     "output_type": "stream",
     "text": [
      "Processing Audio Files:  34%|███▍      | 138706/405874 [3:30:18<5:02:46, 14.71it/s]/var/folders/c2/f9lh6rmd4q1648_pfl1636zw0000gn/T/ipykernel_41137/3522123127.py:10: UserWarning: PySoundFile failed. Trying audioread instead.\n",
      "  signal, rate = librosa.load(audio_path, sr=16000)\n",
      "[src/libmpg123/parse.c:do_readahead():1083] warning: Cannot read next header, a one-frame stream? Duh...\n",
      "/Users/maryamsaad/Library/Python/3.9/lib/python/site-packages/librosa/core/audio.py:184: FutureWarning: librosa.core.audio.__audioread_load\n",
      "\tDeprecated as of librosa version 0.10.0.\n",
      "\tIt will be removed in librosa version 1.0.\n",
      "  y, sr_native = __audioread_load(path, offset, duration, dtype)\n",
      "Processing Audio Files:  34%|███▍      | 138706/405874 [3:30:18<5:02:46, 14.71it/s]/var/folders/c2/f9lh6rmd4q1648_pfl1636zw0000gn/T/ipykernel_41137/3522123127.py:10: UserWarning: PySoundFile failed. Trying audioread instead.\n",
      "  signal, rate = librosa.load(audio_path, sr=16000)\n",
      "/Users/maryamsaad/Library/Python/3.9/lib/python/site-packages/librosa/core/audio.py:184: FutureWarning: librosa.core.audio.__audioread_load\n",
      "\tDeprecated as of librosa version 0.10.0.\n",
      "\tIt will be removed in librosa version 1.0.\n",
      "  y, sr_native = __audioread_load(path, offset, duration, dtype)\n",
      "[src/libmpg123/parse.c:do_readahead():1083] warning: Cannot read next header, a one-frame stream? Duh...\n",
      "Processing Audio Files:  34%|███▍      | 138708/405874 [3:30:18<5:01:54, 14.75it/s]/var/folders/c2/f9lh6rmd4q1648_pfl1636zw0000gn/T/ipykernel_41137/3522123127.py:10: UserWarning: PySoundFile failed. Trying audioread instead.\n",
      "  signal, rate = librosa.load(audio_path, sr=16000)\n",
      "[src/libmpg123/parse.c:do_readahead():1083] warning: Cannot read next header, a one-frame stream? Duh...\n",
      "/Users/maryamsaad/Library/Python/3.9/lib/python/site-packages/librosa/core/audio.py:184: FutureWarning: librosa.core.audio.__audioread_load\n",
      "\tDeprecated as of librosa version 0.10.0.\n",
      "\tIt will be removed in librosa version 1.0.\n",
      "  y, sr_native = __audioread_load(path, offset, duration, dtype)\n"
     ]
    },
    {
     "name": "stdout",
     "output_type": "stream",
     "text": [
      "Error processing 8p9vL1_607.mp3: \n",
      "Error processing AjArFT_608.mp3: \n",
      "Error processing dPKBJ8_609.mp3: \n"
     ]
    },
    {
     "name": "stderr",
     "output_type": "stream",
     "text": [
      "Processing Audio Files:  34%|███▍      | 138708/405874 [3:30:18<5:01:54, 14.75it/s]/var/folders/c2/f9lh6rmd4q1648_pfl1636zw0000gn/T/ipykernel_41137/3522123127.py:10: UserWarning: PySoundFile failed. Trying audioread instead.\n",
      "  signal, rate = librosa.load(audio_path, sr=16000)\n",
      "[src/libmpg123/parse.c:do_readahead():1083] warning: Cannot read next header, a one-frame stream? Duh...\n",
      "/Users/maryamsaad/Library/Python/3.9/lib/python/site-packages/librosa/core/audio.py:184: FutureWarning: librosa.core.audio.__audioread_load\n",
      "\tDeprecated as of librosa version 0.10.0.\n",
      "\tIt will be removed in librosa version 1.0.\n",
      "  y, sr_native = __audioread_load(path, offset, duration, dtype)\n",
      "Processing Audio Files:  34%|███▍      | 138710/405874 [3:30:18<5:01:22, 14.77it/s]/var/folders/c2/f9lh6rmd4q1648_pfl1636zw0000gn/T/ipykernel_41137/3522123127.py:10: UserWarning: PySoundFile failed. Trying audioread instead.\n",
      "  signal, rate = librosa.load(audio_path, sr=16000)\n",
      "[src/libmpg123/parse.c:do_readahead():1083] warning: Cannot read next header, a one-frame stream? Duh...\n",
      "/Users/maryamsaad/Library/Python/3.9/lib/python/site-packages/librosa/core/audio.py:184: FutureWarning: librosa.core.audio.__audioread_load\n",
      "\tDeprecated as of librosa version 0.10.0.\n",
      "\tIt will be removed in librosa version 1.0.\n",
      "  y, sr_native = __audioread_load(path, offset, duration, dtype)\n",
      "Processing Audio Files:  34%|███▍      | 138710/405874 [3:30:18<5:01:22, 14.77it/s]/var/folders/c2/f9lh6rmd4q1648_pfl1636zw0000gn/T/ipykernel_41137/3522123127.py:10: UserWarning: PySoundFile failed. Trying audioread instead.\n",
      "  signal, rate = librosa.load(audio_path, sr=16000)\n",
      "[src/libmpg123/parse.c:do_readahead():1083] warning: Cannot read next header, a one-frame stream? Duh...\n",
      "/Users/maryamsaad/Library/Python/3.9/lib/python/site-packages/librosa/core/audio.py:184: FutureWarning: librosa.core.audio.__audioread_load\n",
      "\tDeprecated as of librosa version 0.10.0.\n",
      "\tIt will be removed in librosa version 1.0.\n",
      "  y, sr_native = __audioread_load(path, offset, duration, dtype)\n"
     ]
    },
    {
     "name": "stdout",
     "output_type": "stream",
     "text": [
      "Error processing gOnayh_610.mp3: \n",
      "Error processing J3NCpA_611.mp3: \n",
      "Error processing Pi8gzd_612.mp3: \n"
     ]
    },
    {
     "name": "stderr",
     "output_type": "stream",
     "text": [
      "Processing Audio Files:  34%|███▍      | 138712/405874 [3:30:18<5:00:59, 14.79it/s][src/libmpg123/parse.c:do_readahead():1083] warning: Cannot read next header, a one-frame stream? Duh...\n",
      "/var/folders/c2/f9lh6rmd4q1648_pfl1636zw0000gn/T/ipykernel_41137/3522123127.py:10: UserWarning: PySoundFile failed. Trying audioread instead.\n",
      "  signal, rate = librosa.load(audio_path, sr=16000)\n",
      "/Users/maryamsaad/Library/Python/3.9/lib/python/site-packages/librosa/core/audio.py:184: FutureWarning: librosa.core.audio.__audioread_load\n",
      "\tDeprecated as of librosa version 0.10.0.\n",
      "\tIt will be removed in librosa version 1.0.\n",
      "  y, sr_native = __audioread_load(path, offset, duration, dtype)\n",
      "Processing Audio Files:  34%|███▍      | 138712/405874 [3:30:18<5:00:59, 14.79it/s]/var/folders/c2/f9lh6rmd4q1648_pfl1636zw0000gn/T/ipykernel_41137/3522123127.py:10: UserWarning: PySoundFile failed. Trying audioread instead.\n",
      "  signal, rate = librosa.load(audio_path, sr=16000)\n",
      "[src/libmpg123/parse.c:do_readahead():1083] warning: Cannot read next header, a one-frame stream? Duh...\n",
      "/Users/maryamsaad/Library/Python/3.9/lib/python/site-packages/librosa/core/audio.py:184: FutureWarning: librosa.core.audio.__audioread_load\n",
      "\tDeprecated as of librosa version 0.10.0.\n",
      "\tIt will be removed in librosa version 1.0.\n",
      "  y, sr_native = __audioread_load(path, offset, duration, dtype)\n",
      "Processing Audio Files:  34%|███▍      | 138714/405874 [3:30:18<5:13:32, 14.20it/s]/var/folders/c2/f9lh6rmd4q1648_pfl1636zw0000gn/T/ipykernel_41137/3522123127.py:10: UserWarning: PySoundFile failed. Trying audioread instead.\n",
      "  signal, rate = librosa.load(audio_path, sr=16000)\n",
      "/Users/maryamsaad/Library/Python/3.9/lib/python/site-packages/librosa/core/audio.py:184: FutureWarning: librosa.core.audio.__audioread_load\n",
      "\tDeprecated as of librosa version 0.10.0.\n",
      "\tIt will be removed in librosa version 1.0.\n",
      "  y, sr_native = __audioread_load(path, offset, duration, dtype)\n",
      "[src/libmpg123/parse.c:do_readahead():1083] warning: Cannot read next header, a one-frame stream? Duh...\n"
     ]
    },
    {
     "name": "stdout",
     "output_type": "stream",
     "text": [
      "Error processing qTKISC_613.mp3: \n",
      "Error processing XXx4IC_614.mp3: \n",
      "Error processing AGOwED_615.mp3: \n"
     ]
    },
    {
     "name": "stderr",
     "output_type": "stream",
     "text": [
      "Processing Audio Files:  34%|███▍      | 138714/405874 [3:30:18<5:13:32, 14.20it/s][src/libmpg123/parse.c:do_readahead():1083] warning: Cannot read next header, a one-frame stream? Duh...\n",
      "/var/folders/c2/f9lh6rmd4q1648_pfl1636zw0000gn/T/ipykernel_41137/3522123127.py:10: UserWarning: PySoundFile failed. Trying audioread instead.\n",
      "  signal, rate = librosa.load(audio_path, sr=16000)\n",
      "/Users/maryamsaad/Library/Python/3.9/lib/python/site-packages/librosa/core/audio.py:184: FutureWarning: librosa.core.audio.__audioread_load\n",
      "\tDeprecated as of librosa version 0.10.0.\n",
      "\tIt will be removed in librosa version 1.0.\n",
      "  y, sr_native = __audioread_load(path, offset, duration, dtype)\n",
      "Processing Audio Files:  34%|███▍      | 138716/405874 [3:30:18<5:11:19, 14.30it/s]/var/folders/c2/f9lh6rmd4q1648_pfl1636zw0000gn/T/ipykernel_41137/3522123127.py:10: UserWarning: PySoundFile failed. Trying audioread instead.\n",
      "  signal, rate = librosa.load(audio_path, sr=16000)\n",
      "[src/libmpg123/parse.c:do_readahead():1083] warning: Cannot read next header, a one-frame stream? Duh...\n",
      "/Users/maryamsaad/Library/Python/3.9/lib/python/site-packages/librosa/core/audio.py:184: FutureWarning: librosa.core.audio.__audioread_load\n",
      "\tDeprecated as of librosa version 0.10.0.\n",
      "\tIt will be removed in librosa version 1.0.\n",
      "  y, sr_native = __audioread_load(path, offset, duration, dtype)\n",
      "Processing Audio Files:  34%|███▍      | 138716/405874 [3:30:18<5:11:19, 14.30it/s][src/libmpg123/parse.c:do_readahead():1083] warning: Cannot read next header, a one-frame stream? Duh...\n",
      "/var/folders/c2/f9lh6rmd4q1648_pfl1636zw0000gn/T/ipykernel_41137/3522123127.py:10: UserWarning: PySoundFile failed. Trying audioread instead.\n",
      "  signal, rate = librosa.load(audio_path, sr=16000)\n",
      "/Users/maryamsaad/Library/Python/3.9/lib/python/site-packages/librosa/core/audio.py:184: FutureWarning: librosa.core.audio.__audioread_load\n",
      "\tDeprecated as of librosa version 0.10.0.\n",
      "\tIt will be removed in librosa version 1.0.\n",
      "  y, sr_native = __audioread_load(path, offset, duration, dtype)\n"
     ]
    },
    {
     "name": "stdout",
     "output_type": "stream",
     "text": [
      "Error processing 9f5tAD_616.mp3: \n",
      "Error processing TPprUm_617.mp3: \n",
      "Error processing Syu2py_618.mp3: \n"
     ]
    },
    {
     "name": "stderr",
     "output_type": "stream",
     "text": [
      "Processing Audio Files:  34%|███▍      | 138718/405874 [3:30:18<5:09:03, 14.41it/s]/var/folders/c2/f9lh6rmd4q1648_pfl1636zw0000gn/T/ipykernel_41137/3522123127.py:10: UserWarning: PySoundFile failed. Trying audioread instead.\n",
      "  signal, rate = librosa.load(audio_path, sr=16000)\n",
      "[src/libmpg123/parse.c:do_readahead():1083] warning: Cannot read next header, a one-frame stream? Duh...\n",
      "/Users/maryamsaad/Library/Python/3.9/lib/python/site-packages/librosa/core/audio.py:184: FutureWarning: librosa.core.audio.__audioread_load\n",
      "\tDeprecated as of librosa version 0.10.0.\n",
      "\tIt will be removed in librosa version 1.0.\n",
      "  y, sr_native = __audioread_load(path, offset, duration, dtype)\n",
      "Processing Audio Files:  34%|███▍      | 138718/405874 [3:30:18<5:09:03, 14.41it/s]/var/folders/c2/f9lh6rmd4q1648_pfl1636zw0000gn/T/ipykernel_41137/3522123127.py:10: UserWarning: PySoundFile failed. Trying audioread instead.\n",
      "  signal, rate = librosa.load(audio_path, sr=16000)\n",
      "[src/libmpg123/parse.c:do_readahead():1083] warning: Cannot read next header, a one-frame stream? Duh...\n",
      "/Users/maryamsaad/Library/Python/3.9/lib/python/site-packages/librosa/core/audio.py:184: FutureWarning: librosa.core.audio.__audioread_load\n",
      "\tDeprecated as of librosa version 0.10.0.\n",
      "\tIt will be removed in librosa version 1.0.\n",
      "  y, sr_native = __audioread_load(path, offset, duration, dtype)\n",
      "Processing Audio Files:  34%|███▍      | 138720/405874 [3:30:19<5:05:54, 14.55it/s]/var/folders/c2/f9lh6rmd4q1648_pfl1636zw0000gn/T/ipykernel_41137/3522123127.py:10: UserWarning: PySoundFile failed. Trying audioread instead.\n",
      "  signal, rate = librosa.load(audio_path, sr=16000)\n",
      "/Users/maryamsaad/Library/Python/3.9/lib/python/site-packages/librosa/core/audio.py:184: FutureWarning: librosa.core.audio.__audioread_load\n",
      "\tDeprecated as of librosa version 0.10.0.\n",
      "\tIt will be removed in librosa version 1.0.\n",
      "  y, sr_native = __audioread_load(path, offset, duration, dtype)\n",
      "[src/libmpg123/parse.c:do_readahead():1083] warning: Cannot read next header, a one-frame stream? Duh...\n",
      "Processing Audio Files:  34%|███▍      | 138720/405874 [3:30:19<5:05:54, 14.55it/s]"
     ]
    },
    {
     "name": "stdout",
     "output_type": "stream",
     "text": [
      "Error processing wohjw8_619.mp3: \n",
      "Error processing I9LQvz_620.mp3: \n",
      "Error processing 4JJbeR_621.mp3: \n",
      "Error processing iubrD4_622.mp3: \n"
     ]
    },
    {
     "name": "stderr",
     "output_type": "stream",
     "text": [
      "/var/folders/c2/f9lh6rmd4q1648_pfl1636zw0000gn/T/ipykernel_41137/3522123127.py:10: UserWarning: PySoundFile failed. Trying audioread instead.\n",
      "  signal, rate = librosa.load(audio_path, sr=16000)\n",
      "/Users/maryamsaad/Library/Python/3.9/lib/python/site-packages/librosa/core/audio.py:184: FutureWarning: librosa.core.audio.__audioread_load\n",
      "\tDeprecated as of librosa version 0.10.0.\n",
      "\tIt will be removed in librosa version 1.0.\n",
      "  y, sr_native = __audioread_load(path, offset, duration, dtype)\n",
      "[src/libmpg123/parse.c:do_readahead():1083] warning: Cannot read next header, a one-frame stream? Duh...\n",
      "Processing Audio Files:  34%|███▍      | 138722/405874 [3:30:19<5:03:36, 14.67it/s][src/libmpg123/parse.c:do_readahead():1083] warning: Cannot read next header, a one-frame stream? Duh...\n",
      "/var/folders/c2/f9lh6rmd4q1648_pfl1636zw0000gn/T/ipykernel_41137/3522123127.py:10: UserWarning: PySoundFile failed. Trying audioread instead.\n",
      "  signal, rate = librosa.load(audio_path, sr=16000)\n",
      "/Users/maryamsaad/Library/Python/3.9/lib/python/site-packages/librosa/core/audio.py:184: FutureWarning: librosa.core.audio.__audioread_load\n",
      "\tDeprecated as of librosa version 0.10.0.\n",
      "\tIt will be removed in librosa version 1.0.\n",
      "  y, sr_native = __audioread_load(path, offset, duration, dtype)\n",
      "Processing Audio Files:  34%|███▍      | 138722/405874 [3:30:19<5:03:36, 14.67it/s]/var/folders/c2/f9lh6rmd4q1648_pfl1636zw0000gn/T/ipykernel_41137/3522123127.py:10: UserWarning: PySoundFile failed. Trying audioread instead.\n",
      "  signal, rate = librosa.load(audio_path, sr=16000)\n",
      "/Users/maryamsaad/Library/Python/3.9/lib/python/site-packages/librosa/core/audio.py:184: FutureWarning: librosa.core.audio.__audioread_load\n",
      "\tDeprecated as of librosa version 0.10.0.\n",
      "\tIt will be removed in librosa version 1.0.\n",
      "  y, sr_native = __audioread_load(path, offset, duration, dtype)\n",
      "[src/libmpg123/parse.c:do_readahead():1083] warning: Cannot read next header, a one-frame stream? Duh...\n",
      "Processing Audio Files:  34%|███▍      | 138724/405874 [3:30:19<5:01:32, 14.77it/s]/var/folders/c2/f9lh6rmd4q1648_pfl1636zw0000gn/T/ipykernel_41137/3522123127.py:10: UserWarning: PySoundFile failed. Trying audioread instead.\n",
      "  signal, rate = librosa.load(audio_path, sr=16000)\n",
      "[src/libmpg123/parse.c:do_readahead():1083] warning: Cannot read next header, a one-frame stream? Duh...\n",
      "/Users/maryamsaad/Library/Python/3.9/lib/python/site-packages/librosa/core/audio.py:184: FutureWarning: librosa.core.audio.__audioread_load\n",
      "\tDeprecated as of librosa version 0.10.0.\n",
      "\tIt will be removed in librosa version 1.0.\n",
      "  y, sr_native = __audioread_load(path, offset, duration, dtype)\n",
      "                                                                                   \r"
     ]
    },
    {
     "name": "stdout",
     "output_type": "stream",
     "text": [
      "Error processing EGq2dk_623.mp3: \n",
      "Error processing VFm7QC_624.mp3: \n",
      "Error processing 5oveYs_625.mp3: \n"
     ]
    },
    {
     "name": "stderr",
     "output_type": "stream",
     "text": [
      "Processing Audio Files:  34%|███▍      | 138724/405874 [3:30:19<5:01:32, 14.77it/s]/var/folders/c2/f9lh6rmd4q1648_pfl1636zw0000gn/T/ipykernel_41137/3522123127.py:10: UserWarning: PySoundFile failed. Trying audioread instead.\n",
      "  signal, rate = librosa.load(audio_path, sr=16000)\n",
      "[src/libmpg123/parse.c:do_readahead():1083] warning: Cannot read next header, a one-frame stream? Duh...\n",
      "/Users/maryamsaad/Library/Python/3.9/lib/python/site-packages/librosa/core/audio.py:184: FutureWarning: librosa.core.audio.__audioread_load\n",
      "\tDeprecated as of librosa version 0.10.0.\n",
      "\tIt will be removed in librosa version 1.0.\n",
      "  y, sr_native = __audioread_load(path, offset, duration, dtype)\n",
      "Processing Audio Files:  34%|███▍      | 138726/405874 [3:30:19<5:05:54, 14.56it/s]/var/folders/c2/f9lh6rmd4q1648_pfl1636zw0000gn/T/ipykernel_41137/3522123127.py:10: UserWarning: PySoundFile failed. Trying audioread instead.\n",
      "  signal, rate = librosa.load(audio_path, sr=16000)\n",
      "[src/libmpg123/parse.c:do_readahead():1083] warning: Cannot read next header, a one-frame stream? Duh...\n",
      "/Users/maryamsaad/Library/Python/3.9/lib/python/site-packages/librosa/core/audio.py:184: FutureWarning: librosa.core.audio.__audioread_load\n",
      "\tDeprecated as of librosa version 0.10.0.\n",
      "\tIt will be removed in librosa version 1.0.\n",
      "  y, sr_native = __audioread_load(path, offset, duration, dtype)\n",
      "Processing Audio Files:  34%|███▍      | 138726/405874 [3:30:19<5:05:54, 14.56it/s]/var/folders/c2/f9lh6rmd4q1648_pfl1636zw0000gn/T/ipykernel_41137/3522123127.py:10: UserWarning: PySoundFile failed. Trying audioread instead.\n",
      "  signal, rate = librosa.load(audio_path, sr=16000)\n",
      "/Users/maryamsaad/Library/Python/3.9/lib/python/site-packages/librosa/core/audio.py:184: FutureWarning: librosa.core.audio.__audioread_load\n",
      "\tDeprecated as of librosa version 0.10.0.\n",
      "\tIt will be removed in librosa version 1.0.\n",
      "  y, sr_native = __audioread_load(path, offset, duration, dtype)\n",
      "[src/libmpg123/parse.c:do_readahead():1083] warning: Cannot read next header, a one-frame stream? Duh...\n"
     ]
    },
    {
     "name": "stdout",
     "output_type": "stream",
     "text": [
      "Error processing D5aDsh_626.mp3: \n",
      "Error processing 7S1Nwr_627.mp3: \n",
      "Error processing HbE2vh_628.mp3: \n"
     ]
    },
    {
     "name": "stderr",
     "output_type": "stream",
     "text": [
      "Processing Audio Files:  34%|███▍      | 138728/405874 [3:30:19<5:03:26, 14.67it/s][src/libmpg123/parse.c:do_readahead():1083] warning: Cannot read next header, a one-frame stream? Duh...\n",
      "/var/folders/c2/f9lh6rmd4q1648_pfl1636zw0000gn/T/ipykernel_41137/3522123127.py:10: UserWarning: PySoundFile failed. Trying audioread instead.\n",
      "  signal, rate = librosa.load(audio_path, sr=16000)\n",
      "/Users/maryamsaad/Library/Python/3.9/lib/python/site-packages/librosa/core/audio.py:184: FutureWarning: librosa.core.audio.__audioread_load\n",
      "\tDeprecated as of librosa version 0.10.0.\n",
      "\tIt will be removed in librosa version 1.0.\n",
      "  y, sr_native = __audioread_load(path, offset, duration, dtype)\n",
      "Processing Audio Files:  34%|███▍      | 138728/405874 [3:30:19<5:03:26, 14.67it/s]/var/folders/c2/f9lh6rmd4q1648_pfl1636zw0000gn/T/ipykernel_41137/3522123127.py:10: UserWarning: PySoundFile failed. Trying audioread instead.\n",
      "  signal, rate = librosa.load(audio_path, sr=16000)\n",
      "/Users/maryamsaad/Library/Python/3.9/lib/python/site-packages/librosa/core/audio.py:184: FutureWarning: librosa.core.audio.__audioread_load\n",
      "\tDeprecated as of librosa version 0.10.0.\n",
      "\tIt will be removed in librosa version 1.0.\n",
      "  y, sr_native = __audioread_load(path, offset, duration, dtype)\n",
      "[src/libmpg123/parse.c:do_readahead():1083] warning: Cannot read next header, a one-frame stream? Duh...\n",
      "Processing Audio Files:  34%|███▍      | 138730/405874 [3:30:19<5:04:44, 14.61it/s]/var/folders/c2/f9lh6rmd4q1648_pfl1636zw0000gn/T/ipykernel_41137/3522123127.py:10: UserWarning: PySoundFile failed. Trying audioread instead.\n",
      "  signal, rate = librosa.load(audio_path, sr=16000)\n",
      "/Users/maryamsaad/Library/Python/3.9/lib/python/site-packages/librosa/core/audio.py:184: FutureWarning: librosa.core.audio.__audioread_load\n",
      "\tDeprecated as of librosa version 0.10.0.\n",
      "\tIt will be removed in librosa version 1.0.\n",
      "  y, sr_native = __audioread_load(path, offset, duration, dtype)\n",
      "[src/libmpg123/parse.c:do_readahead():1083] warning: Cannot read next header, a one-frame stream? Duh...\n"
     ]
    },
    {
     "name": "stdout",
     "output_type": "stream",
     "text": [
      "Error processing Oe0C25_629.mp3: \n",
      "Error processing GBJ1UP_630.mp3: \n",
      "Error processing yDirIG_631.mp3: \n"
     ]
    },
    {
     "name": "stderr",
     "output_type": "stream",
     "text": [
      "Processing Audio Files:  34%|███▍      | 138730/405874 [3:30:19<5:04:44, 14.61it/s]/var/folders/c2/f9lh6rmd4q1648_pfl1636zw0000gn/T/ipykernel_41137/3522123127.py:10: UserWarning: PySoundFile failed. Trying audioread instead.\n",
      "  signal, rate = librosa.load(audio_path, sr=16000)\n",
      "/Users/maryamsaad/Library/Python/3.9/lib/python/site-packages/librosa/core/audio.py:184: FutureWarning: librosa.core.audio.__audioread_load\n",
      "\tDeprecated as of librosa version 0.10.0.\n",
      "\tIt will be removed in librosa version 1.0.\n",
      "  y, sr_native = __audioread_load(path, offset, duration, dtype)\n",
      "[src/libmpg123/parse.c:do_readahead():1083] warning: Cannot read next header, a one-frame stream? Duh...\n",
      "Processing Audio Files:  34%|███▍      | 138732/405874 [3:30:19<5:03:16, 14.68it/s]/var/folders/c2/f9lh6rmd4q1648_pfl1636zw0000gn/T/ipykernel_41137/3522123127.py:10: UserWarning: PySoundFile failed. Trying audioread instead.\n",
      "  signal, rate = librosa.load(audio_path, sr=16000)\n",
      "[src/libmpg123/parse.c:do_readahead():1083] warning: Cannot read next header, a one-frame stream? Duh...\n",
      "/Users/maryamsaad/Library/Python/3.9/lib/python/site-packages/librosa/core/audio.py:184: FutureWarning: librosa.core.audio.__audioread_load\n",
      "\tDeprecated as of librosa version 0.10.0.\n",
      "\tIt will be removed in librosa version 1.0.\n",
      "  y, sr_native = __audioread_load(path, offset, duration, dtype)\n",
      "Processing Audio Files:  34%|███▍      | 138732/405874 [3:30:19<5:03:16, 14.68it/s]/var/folders/c2/f9lh6rmd4q1648_pfl1636zw0000gn/T/ipykernel_41137/3522123127.py:10: UserWarning: PySoundFile failed. Trying audioread instead.\n",
      "  signal, rate = librosa.load(audio_path, sr=16000)\n",
      "/Users/maryamsaad/Library/Python/3.9/lib/python/site-packages/librosa/core/audio.py:184: FutureWarning: librosa.core.audio.__audioread_load\n",
      "\tDeprecated as of librosa version 0.10.0.\n",
      "\tIt will be removed in librosa version 1.0.\n",
      "  y, sr_native = __audioread_load(path, offset, duration, dtype)\n",
      "[src/libmpg123/parse.c:do_readahead():1083] warning: Cannot read next header, a one-frame stream? Duh...\n"
     ]
    },
    {
     "name": "stdout",
     "output_type": "stream",
     "text": [
      "Error processing 6Qp9ye_632.mp3: \n",
      "Error processing hXZpyZ_633.mp3: \n",
      "Error processing 1DZgnR_634.mp3: \n"
     ]
    },
    {
     "name": "stderr",
     "output_type": "stream",
     "text": [
      "Processing Audio Files:  34%|███▍      | 138734/405874 [3:30:19<5:01:54, 14.75it/s]/var/folders/c2/f9lh6rmd4q1648_pfl1636zw0000gn/T/ipykernel_41137/3522123127.py:10: UserWarning: PySoundFile failed. Trying audioread instead.\n",
      "  signal, rate = librosa.load(audio_path, sr=16000)\n",
      "[src/libmpg123/parse.c:do_readahead():1083] warning: Cannot read next header, a one-frame stream? Duh...\n",
      "/Users/maryamsaad/Library/Python/3.9/lib/python/site-packages/librosa/core/audio.py:184: FutureWarning: librosa.core.audio.__audioread_load\n",
      "\tDeprecated as of librosa version 0.10.0.\n",
      "\tIt will be removed in librosa version 1.0.\n",
      "  y, sr_native = __audioread_load(path, offset, duration, dtype)\n",
      "Processing Audio Files:  34%|███▍      | 138734/405874 [3:30:20<5:01:54, 14.75it/s]/var/folders/c2/f9lh6rmd4q1648_pfl1636zw0000gn/T/ipykernel_41137/3522123127.py:10: UserWarning: PySoundFile failed. Trying audioread instead.\n",
      "  signal, rate = librosa.load(audio_path, sr=16000)\n",
      "/Users/maryamsaad/Library/Python/3.9/lib/python/site-packages/librosa/core/audio.py:184: FutureWarning: librosa.core.audio.__audioread_load\n",
      "\tDeprecated as of librosa version 0.10.0.\n",
      "\tIt will be removed in librosa version 1.0.\n",
      "  y, sr_native = __audioread_load(path, offset, duration, dtype)\n",
      "[src/libmpg123/parse.c:do_readahead():1083] warning: Cannot read next header, a one-frame stream? Duh...\n",
      "Processing Audio Files:  34%|███▍      | 138736/405874 [3:30:20<5:02:25, 14.72it/s]/var/folders/c2/f9lh6rmd4q1648_pfl1636zw0000gn/T/ipykernel_41137/3522123127.py:10: UserWarning: PySoundFile failed. Trying audioread instead.\n",
      "  signal, rate = librosa.load(audio_path, sr=16000)\n",
      "/Users/maryamsaad/Library/Python/3.9/lib/python/site-packages/librosa/core/audio.py:184: FutureWarning: librosa.core.audio.__audioread_load\n",
      "\tDeprecated as of librosa version 0.10.0.\n",
      "\tIt will be removed in librosa version 1.0.\n",
      "  y, sr_native = __audioread_load(path, offset, duration, dtype)\n",
      "[src/libmpg123/parse.c:do_readahead():1083] warning: Cannot read next header, a one-frame stream? Duh...\n"
     ]
    },
    {
     "name": "stdout",
     "output_type": "stream",
     "text": [
      "Error processing c3ostF_635.mp3: \n",
      "Error processing smfeHJ_636.mp3: \n",
      "Error processing KYmg99_637.mp3: \n"
     ]
    },
    {
     "name": "stderr",
     "output_type": "stream",
     "text": [
      "Processing Audio Files:  34%|███▍      | 138736/405874 [3:30:20<5:02:25, 14.72it/s]/var/folders/c2/f9lh6rmd4q1648_pfl1636zw0000gn/T/ipykernel_41137/3522123127.py:10: UserWarning: PySoundFile failed. Trying audioread instead.\n",
      "  signal, rate = librosa.load(audio_path, sr=16000)\n",
      "/Users/maryamsaad/Library/Python/3.9/lib/python/site-packages/librosa/core/audio.py:184: FutureWarning: librosa.core.audio.__audioread_load\n",
      "\tDeprecated as of librosa version 0.10.0.\n",
      "\tIt will be removed in librosa version 1.0.\n",
      "  y, sr_native = __audioread_load(path, offset, duration, dtype)\n",
      "[src/libmpg123/parse.c:do_readahead():1083] warning: Cannot read next header, a one-frame stream? Duh...\n",
      "Processing Audio Files:  34%|███▍      | 138738/405874 [3:30:20<5:01:31, 14.77it/s]/var/folders/c2/f9lh6rmd4q1648_pfl1636zw0000gn/T/ipykernel_41137/3522123127.py:10: UserWarning: PySoundFile failed. Trying audioread instead.\n",
      "  signal, rate = librosa.load(audio_path, sr=16000)\n",
      "[src/libmpg123/parse.c:do_readahead():1083] warning: Cannot read next header, a one-frame stream? Duh...\n",
      "/Users/maryamsaad/Library/Python/3.9/lib/python/site-packages/librosa/core/audio.py:184: FutureWarning: librosa.core.audio.__audioread_load\n",
      "\tDeprecated as of librosa version 0.10.0.\n",
      "\tIt will be removed in librosa version 1.0.\n",
      "  y, sr_native = __audioread_load(path, offset, duration, dtype)\n",
      "Processing Audio Files:  34%|███▍      | 138738/405874 [3:30:20<5:01:31, 14.77it/s]/var/folders/c2/f9lh6rmd4q1648_pfl1636zw0000gn/T/ipykernel_41137/3522123127.py:10: UserWarning: PySoundFile failed. Trying audioread instead.\n",
      "  signal, rate = librosa.load(audio_path, sr=16000)\n",
      "/Users/maryamsaad/Library/Python/3.9/lib/python/site-packages/librosa/core/audio.py:184: FutureWarning: librosa.core.audio.__audioread_load\n",
      "\tDeprecated as of librosa version 0.10.0.\n",
      "\tIt will be removed in librosa version 1.0.\n",
      "  y, sr_native = __audioread_load(path, offset, duration, dtype)\n",
      "[src/libmpg123/parse.c:do_readahead():1083] warning: Cannot read next header, a one-frame stream? Duh...\n"
     ]
    },
    {
     "name": "stdout",
     "output_type": "stream",
     "text": [
      "Error processing 2gAF79_638.mp3: \n",
      "Error processing 7IVYas_639.mp3: \n",
      "Error processing 93JOH6_640.mp3: \n"
     ]
    },
    {
     "name": "stderr",
     "output_type": "stream",
     "text": [
      "Processing Audio Files:  34%|███▍      | 138740/405874 [3:30:20<5:05:45, 14.56it/s][src/libmpg123/parse.c:do_readahead():1083] warning: Cannot read next header, a one-frame stream? Duh...\n",
      "/var/folders/c2/f9lh6rmd4q1648_pfl1636zw0000gn/T/ipykernel_41137/3522123127.py:10: UserWarning: PySoundFile failed. Trying audioread instead.\n",
      "  signal, rate = librosa.load(audio_path, sr=16000)\n",
      "/Users/maryamsaad/Library/Python/3.9/lib/python/site-packages/librosa/core/audio.py:184: FutureWarning: librosa.core.audio.__audioread_load\n",
      "\tDeprecated as of librosa version 0.10.0.\n",
      "\tIt will be removed in librosa version 1.0.\n",
      "  y, sr_native = __audioread_load(path, offset, duration, dtype)\n",
      "Processing Audio Files:  34%|███▍      | 138740/405874 [3:30:20<5:05:45, 14.56it/s]/var/folders/c2/f9lh6rmd4q1648_pfl1636zw0000gn/T/ipykernel_41137/3522123127.py:10: UserWarning: PySoundFile failed. Trying audioread instead.\n",
      "  signal, rate = librosa.load(audio_path, sr=16000)\n",
      "/Users/maryamsaad/Library/Python/3.9/lib/python/site-packages/librosa/core/audio.py:184: FutureWarning: librosa.core.audio.__audioread_load\n",
      "\tDeprecated as of librosa version 0.10.0.\n",
      "\tIt will be removed in librosa version 1.0.\n",
      "  y, sr_native = __audioread_load(path, offset, duration, dtype)\n",
      "[src/libmpg123/parse.c:do_readahead():1083] warning: Cannot read next header, a one-frame stream? Duh...\n",
      "Processing Audio Files:  34%|███▍      | 138742/405874 [3:30:20<5:03:49, 14.65it/s]/var/folders/c2/f9lh6rmd4q1648_pfl1636zw0000gn/T/ipykernel_41137/3522123127.py:10: UserWarning: PySoundFile failed. Trying audioread instead.\n",
      "  signal, rate = librosa.load(audio_path, sr=16000)\n",
      "[src/libmpg123/parse.c:do_readahead():1083] warning: Cannot read next header, a one-frame stream? Duh...\n",
      "/Users/maryamsaad/Library/Python/3.9/lib/python/site-packages/librosa/core/audio.py:184: FutureWarning: librosa.core.audio.__audioread_load\n",
      "\tDeprecated as of librosa version 0.10.0.\n",
      "\tIt will be removed in librosa version 1.0.\n",
      "  y, sr_native = __audioread_load(path, offset, duration, dtype)\n"
     ]
    },
    {
     "name": "stdout",
     "output_type": "stream",
     "text": [
      "Error processing R2DIo9_641.mp3: \n",
      "Error processing odwedy_642.mp3: \n",
      "Error processing pW1qrg_643.mp3: \n"
     ]
    },
    {
     "name": "stderr",
     "output_type": "stream",
     "text": [
      "Processing Audio Files:  34%|███▍      | 138742/405874 [3:30:20<5:03:49, 14.65it/s]/var/folders/c2/f9lh6rmd4q1648_pfl1636zw0000gn/T/ipykernel_41137/3522123127.py:10: UserWarning: PySoundFile failed. Trying audioread instead.\n",
      "  signal, rate = librosa.load(audio_path, sr=16000)\n",
      "/Users/maryamsaad/Library/Python/3.9/lib/python/site-packages/librosa/core/audio.py:184: FutureWarning: librosa.core.audio.__audioread_load\n",
      "\tDeprecated as of librosa version 0.10.0.\n",
      "\tIt will be removed in librosa version 1.0.\n",
      "  y, sr_native = __audioread_load(path, offset, duration, dtype)\n",
      "[src/libmpg123/parse.c:do_readahead():1083] warning: Cannot read next header, a one-frame stream? Duh...\n",
      "Processing Audio Files:  34%|███▍      | 138744/405874 [3:30:20<5:03:24, 14.67it/s]/var/folders/c2/f9lh6rmd4q1648_pfl1636zw0000gn/T/ipykernel_41137/3522123127.py:10: UserWarning: PySoundFile failed. Trying audioread instead.\n",
      "  signal, rate = librosa.load(audio_path, sr=16000)\n",
      "[src/libmpg123/parse.c:do_readahead():1083] warning: Cannot read next header, a one-frame stream? Duh...\n",
      "/Users/maryamsaad/Library/Python/3.9/lib/python/site-packages/librosa/core/audio.py:184: FutureWarning: librosa.core.audio.__audioread_load\n",
      "\tDeprecated as of librosa version 0.10.0.\n",
      "\tIt will be removed in librosa version 1.0.\n",
      "  y, sr_native = __audioread_load(path, offset, duration, dtype)\n",
      "Processing Audio Files:  34%|███▍      | 138744/405874 [3:30:20<5:03:24, 14.67it/s]/var/folders/c2/f9lh6rmd4q1648_pfl1636zw0000gn/T/ipykernel_41137/3522123127.py:10: UserWarning: PySoundFile failed. Trying audioread instead.\n",
      "  signal, rate = librosa.load(audio_path, sr=16000)\n",
      "/Users/maryamsaad/Library/Python/3.9/lib/python/site-packages/librosa/core/audio.py:184: FutureWarning: librosa.core.audio.__audioread_load\n",
      "\tDeprecated as of librosa version 0.10.0.\n",
      "\tIt will be removed in librosa version 1.0.\n",
      "  y, sr_native = __audioread_load(path, offset, duration, dtype)\n",
      "[src/libmpg123/parse.c:do_readahead():1083] warning: Cannot read next header, a one-frame stream? Duh...\n"
     ]
    },
    {
     "name": "stdout",
     "output_type": "stream",
     "text": [
      "Error processing ciaDLi_644.mp3: \n",
      "Error processing XRHLSY_645.mp3: \n",
      "Error processing mQWExJ_646.mp3: \n"
     ]
    },
    {
     "name": "stderr",
     "output_type": "stream",
     "text": [
      "Processing Audio Files:  34%|███▍      | 138746/405874 [3:30:20<5:01:50, 14.75it/s]/var/folders/c2/f9lh6rmd4q1648_pfl1636zw0000gn/T/ipykernel_41137/3522123127.py:10: UserWarning: PySoundFile failed. Trying audioread instead.\n",
      "  signal, rate = librosa.load(audio_path, sr=16000)\n",
      "[src/libmpg123/parse.c:do_readahead():1083] warning: Cannot read next header, a one-frame stream? Duh...\n",
      "/Users/maryamsaad/Library/Python/3.9/lib/python/site-packages/librosa/core/audio.py:184: FutureWarning: librosa.core.audio.__audioread_load\n",
      "\tDeprecated as of librosa version 0.10.0.\n",
      "\tIt will be removed in librosa version 1.0.\n",
      "  y, sr_native = __audioread_load(path, offset, duration, dtype)\n",
      "Processing Audio Files:  34%|███▍      | 138746/405874 [3:30:20<5:01:50, 14.75it/s]/var/folders/c2/f9lh6rmd4q1648_pfl1636zw0000gn/T/ipykernel_41137/3522123127.py:10: UserWarning: PySoundFile failed. Trying audioread instead.\n",
      "  signal, rate = librosa.load(audio_path, sr=16000)\n",
      "[src/libmpg123/parse.c:do_readahead():1083] warning: Cannot read next header, a one-frame stream? Duh...\n",
      "/Users/maryamsaad/Library/Python/3.9/lib/python/site-packages/librosa/core/audio.py:184: FutureWarning: librosa.core.audio.__audioread_load\n",
      "\tDeprecated as of librosa version 0.10.0.\n",
      "\tIt will be removed in librosa version 1.0.\n",
      "  y, sr_native = __audioread_load(path, offset, duration, dtype)\n",
      "Processing Audio Files:  34%|███▍      | 138748/405874 [3:30:20<5:00:31, 14.81it/s]/var/folders/c2/f9lh6rmd4q1648_pfl1636zw0000gn/T/ipykernel_41137/3522123127.py:10: UserWarning: PySoundFile failed. Trying audioread instead.\n",
      "  signal, rate = librosa.load(audio_path, sr=16000)\n",
      "[src/libmpg123/parse.c:do_readahead():1083] warning: Cannot read next header, a one-frame stream? Duh...\n",
      "/Users/maryamsaad/Library/Python/3.9/lib/python/site-packages/librosa/core/audio.py:184: FutureWarning: librosa.core.audio.__audioread_load\n",
      "\tDeprecated as of librosa version 0.10.0.\n",
      "\tIt will be removed in librosa version 1.0.\n",
      "  y, sr_native = __audioread_load(path, offset, duration, dtype)\n",
      "Processing Audio Files:  34%|███▍      | 138748/405874 [3:30:21<5:00:31, 14.81it/s]"
     ]
    },
    {
     "name": "stdout",
     "output_type": "stream",
     "text": [
      "Error processing Npeute_647.mp3: \n",
      "Error processing Zh11PA_648.mp3: \n",
      "Error processing 8L5tAh_649.mp3: \n",
      "Error processing DwF58p_650.mp3: \n"
     ]
    },
    {
     "name": "stderr",
     "output_type": "stream",
     "text": [
      "/var/folders/c2/f9lh6rmd4q1648_pfl1636zw0000gn/T/ipykernel_41137/3522123127.py:10: UserWarning: PySoundFile failed. Trying audioread instead.\n",
      "  signal, rate = librosa.load(audio_path, sr=16000)\n",
      "/Users/maryamsaad/Library/Python/3.9/lib/python/site-packages/librosa/core/audio.py:184: FutureWarning: librosa.core.audio.__audioread_load\n",
      "\tDeprecated as of librosa version 0.10.0.\n",
      "\tIt will be removed in librosa version 1.0.\n",
      "  y, sr_native = __audioread_load(path, offset, duration, dtype)\n",
      "[src/libmpg123/parse.c:do_readahead():1083] warning: Cannot read next header, a one-frame stream? Duh...\n",
      "Processing Audio Files:  34%|███▍      | 138750/405874 [3:30:21<5:00:29, 14.82it/s]/var/folders/c2/f9lh6rmd4q1648_pfl1636zw0000gn/T/ipykernel_41137/3522123127.py:10: UserWarning: PySoundFile failed. Trying audioread instead.\n",
      "  signal, rate = librosa.load(audio_path, sr=16000)\n",
      "[src/libmpg123/parse.c:do_readahead():1083] warning: Cannot read next header, a one-frame stream? Duh...\n",
      "/Users/maryamsaad/Library/Python/3.9/lib/python/site-packages/librosa/core/audio.py:184: FutureWarning: librosa.core.audio.__audioread_load\n",
      "\tDeprecated as of librosa version 0.10.0.\n",
      "\tIt will be removed in librosa version 1.0.\n",
      "  y, sr_native = __audioread_load(path, offset, duration, dtype)\n",
      "Processing Audio Files:  34%|███▍      | 138750/405874 [3:30:21<5:00:29, 14.82it/s]/var/folders/c2/f9lh6rmd4q1648_pfl1636zw0000gn/T/ipykernel_41137/3522123127.py:10: UserWarning: PySoundFile failed. Trying audioread instead.\n",
      "  signal, rate = librosa.load(audio_path, sr=16000)\n",
      "[src/libmpg123/parse.c:do_readahead():1083] warning: Cannot read next header, a one-frame stream? Duh...\n",
      "/Users/maryamsaad/Library/Python/3.9/lib/python/site-packages/librosa/core/audio.py:184: FutureWarning: librosa.core.audio.__audioread_load\n",
      "\tDeprecated as of librosa version 0.10.0.\n",
      "\tIt will be removed in librosa version 1.0.\n",
      "  y, sr_native = __audioread_load(path, offset, duration, dtype)\n",
      "Processing Audio Files:  34%|███▍      | 138752/405874 [3:30:21<5:05:32, 14.57it/s]/var/folders/c2/f9lh6rmd4q1648_pfl1636zw0000gn/T/ipykernel_41137/3522123127.py:10: UserWarning: PySoundFile failed. Trying audioread instead.\n",
      "  signal, rate = librosa.load(audio_path, sr=16000)\n",
      "[src/libmpg123/parse.c:do_readahead():1083] warning: Cannot read next header, a one-frame stream? Duh...\n",
      "/Users/maryamsaad/Library/Python/3.9/lib/python/site-packages/librosa/core/audio.py:184: FutureWarning: librosa.core.audio.__audioread_load\n",
      "\tDeprecated as of librosa version 0.10.0.\n",
      "\tIt will be removed in librosa version 1.0.\n",
      "  y, sr_native = __audioread_load(path, offset, duration, dtype)\n"
     ]
    },
    {
     "name": "stdout",
     "output_type": "stream",
     "text": [
      "Error processing Hw77kq_651.mp3: \n",
      "Error processing l4QVF1_652.mp3: \n",
      "Error processing 1JiFas_653.mp3: \n"
     ]
    },
    {
     "name": "stderr",
     "output_type": "stream",
     "text": [
      "Processing Audio Files:  34%|███▍      | 138752/405874 [3:30:21<5:05:32, 14.57it/s]/var/folders/c2/f9lh6rmd4q1648_pfl1636zw0000gn/T/ipykernel_41137/3522123127.py:10: UserWarning: PySoundFile failed. Trying audioread instead.\n",
      "  signal, rate = librosa.load(audio_path, sr=16000)\n",
      "/Users/maryamsaad/Library/Python/3.9/lib/python/site-packages/librosa/core/audio.py:184: FutureWarning: librosa.core.audio.__audioread_load\n",
      "\tDeprecated as of librosa version 0.10.0.\n",
      "\tIt will be removed in librosa version 1.0.\n",
      "  y, sr_native = __audioread_load(path, offset, duration, dtype)\n",
      "[src/libmpg123/parse.c:do_readahead():1083] warning: Cannot read next header, a one-frame stream? Duh...\n",
      "Processing Audio Files:  34%|███▍      | 138754/405874 [3:30:21<5:03:06, 14.69it/s]/var/folders/c2/f9lh6rmd4q1648_pfl1636zw0000gn/T/ipykernel_41137/3522123127.py:10: UserWarning: PySoundFile failed. Trying audioread instead.\n",
      "  signal, rate = librosa.load(audio_path, sr=16000)\n",
      "[src/libmpg123/parse.c:do_readahead():1083] warning: Cannot read next header, a one-frame stream? Duh...\n",
      "/Users/maryamsaad/Library/Python/3.9/lib/python/site-packages/librosa/core/audio.py:184: FutureWarning: librosa.core.audio.__audioread_load\n",
      "\tDeprecated as of librosa version 0.10.0.\n",
      "\tIt will be removed in librosa version 1.0.\n",
      "  y, sr_native = __audioread_load(path, offset, duration, dtype)\n",
      "Processing Audio Files:  34%|███▍      | 138754/405874 [3:30:21<5:03:06, 14.69it/s]/var/folders/c2/f9lh6rmd4q1648_pfl1636zw0000gn/T/ipykernel_41137/3522123127.py:10: UserWarning: PySoundFile failed. Trying audioread instead.\n",
      "  signal, rate = librosa.load(audio_path, sr=16000)\n",
      "/Users/maryamsaad/Library/Python/3.9/lib/python/site-packages/librosa/core/audio.py:184: FutureWarning: librosa.core.audio.__audioread_load\n",
      "\tDeprecated as of librosa version 0.10.0.\n",
      "\tIt will be removed in librosa version 1.0.\n",
      "  y, sr_native = __audioread_load(path, offset, duration, dtype)\n",
      "[src/libmpg123/parse.c:do_readahead():1083] warning: Cannot read next header, a one-frame stream? Duh...\n"
     ]
    },
    {
     "name": "stdout",
     "output_type": "stream",
     "text": [
      "Error processing bPgkV5_654.mp3: \n",
      "Error processing 3ARA5I_655.mp3: \n",
      "Error processing zBO7n3_656.mp3: \n"
     ]
    },
    {
     "name": "stderr",
     "output_type": "stream",
     "text": [
      "Processing Audio Files:  34%|███▍      | 138756/405874 [3:30:21<5:03:31, 14.67it/s]/var/folders/c2/f9lh6rmd4q1648_pfl1636zw0000gn/T/ipykernel_41137/3522123127.py:10: UserWarning: PySoundFile failed. Trying audioread instead.\n",
      "  signal, rate = librosa.load(audio_path, sr=16000)\n",
      "/Users/maryamsaad/Library/Python/3.9/lib/python/site-packages/librosa/core/audio.py:184: FutureWarning: librosa.core.audio.__audioread_load\n",
      "\tDeprecated as of librosa version 0.10.0.\n",
      "\tIt will be removed in librosa version 1.0.\n",
      "  y, sr_native = __audioread_load(path, offset, duration, dtype)\n",
      "[src/libmpg123/parse.c:do_readahead():1083] warning: Cannot read next header, a one-frame stream? Duh...\n",
      "Processing Audio Files:  34%|███▍      | 138756/405874 [3:30:21<5:03:31, 14.67it/s]/var/folders/c2/f9lh6rmd4q1648_pfl1636zw0000gn/T/ipykernel_41137/3522123127.py:10: UserWarning: PySoundFile failed. Trying audioread instead.\n",
      "  signal, rate = librosa.load(audio_path, sr=16000)\n",
      "/Users/maryamsaad/Library/Python/3.9/lib/python/site-packages/librosa/core/audio.py:184: FutureWarning: librosa.core.audio.__audioread_load\n",
      "\tDeprecated as of librosa version 0.10.0.\n",
      "\tIt will be removed in librosa version 1.0.\n",
      "  y, sr_native = __audioread_load(path, offset, duration, dtype)\n",
      "[src/libmpg123/parse.c:do_readahead():1083] warning: Cannot read next header, a one-frame stream? Duh...\n",
      "Processing Audio Files:  34%|███▍      | 138758/405874 [3:30:21<5:04:45, 14.61it/s]/var/folders/c2/f9lh6rmd4q1648_pfl1636zw0000gn/T/ipykernel_41137/3522123127.py:10: UserWarning: PySoundFile failed. Trying audioread instead.\n",
      "  signal, rate = librosa.load(audio_path, sr=16000)\n",
      "[src/libmpg123/parse.c:do_readahead():1083] warning: Cannot read next header, a one-frame stream? Duh...\n",
      "/Users/maryamsaad/Library/Python/3.9/lib/python/site-packages/librosa/core/audio.py:184: FutureWarning: librosa.core.audio.__audioread_load\n",
      "\tDeprecated as of librosa version 0.10.0.\n",
      "\tIt will be removed in librosa version 1.0.\n",
      "  y, sr_native = __audioread_load(path, offset, duration, dtype)\n"
     ]
    },
    {
     "name": "stdout",
     "output_type": "stream",
     "text": [
      "Error processing tuhjea_657.mp3: \n",
      "Error processing Ldh8PY_658.mp3: \n",
      "Error processing mkGoGr_659.mp3: \n"
     ]
    },
    {
     "name": "stderr",
     "output_type": "stream",
     "text": [
      "Processing Audio Files:  34%|███▍      | 138758/405874 [3:30:21<5:04:45, 14.61it/s][src/libmpg123/parse.c:do_readahead():1083] warning: Cannot read next header, a one-frame stream? Duh...\n",
      "/var/folders/c2/f9lh6rmd4q1648_pfl1636zw0000gn/T/ipykernel_41137/3522123127.py:10: UserWarning: PySoundFile failed. Trying audioread instead.\n",
      "  signal, rate = librosa.load(audio_path, sr=16000)\n",
      "/Users/maryamsaad/Library/Python/3.9/lib/python/site-packages/librosa/core/audio.py:184: FutureWarning: librosa.core.audio.__audioread_load\n",
      "\tDeprecated as of librosa version 0.10.0.\n",
      "\tIt will be removed in librosa version 1.0.\n",
      "  y, sr_native = __audioread_load(path, offset, duration, dtype)\n",
      "Processing Audio Files:  34%|███▍      | 138760/405874 [3:30:21<5:02:43, 14.71it/s]/var/folders/c2/f9lh6rmd4q1648_pfl1636zw0000gn/T/ipykernel_41137/3522123127.py:10: UserWarning: PySoundFile failed. Trying audioread instead.\n",
      "  signal, rate = librosa.load(audio_path, sr=16000)\n",
      "/Users/maryamsaad/Library/Python/3.9/lib/python/site-packages/librosa/core/audio.py:184: FutureWarning: librosa.core.audio.__audioread_load\n",
      "\tDeprecated as of librosa version 0.10.0.\n",
      "\tIt will be removed in librosa version 1.0.\n",
      "  y, sr_native = __audioread_load(path, offset, duration, dtype)\n",
      "[src/libmpg123/parse.c:do_readahead():1083] warning: Cannot read next header, a one-frame stream? Duh...\n",
      "Processing Audio Files:  34%|███▍      | 138760/405874 [3:30:21<5:02:43, 14.71it/s]/var/folders/c2/f9lh6rmd4q1648_pfl1636zw0000gn/T/ipykernel_41137/3522123127.py:10: UserWarning: PySoundFile failed. Trying audioread instead.\n",
      "  signal, rate = librosa.load(audio_path, sr=16000)\n",
      "[src/libmpg123/parse.c:do_readahead():1083] warning: Cannot read next header, a one-frame stream? Duh...\n",
      "/Users/maryamsaad/Library/Python/3.9/lib/python/site-packages/librosa/core/audio.py:184: FutureWarning: librosa.core.audio.__audioread_load\n",
      "\tDeprecated as of librosa version 0.10.0.\n",
      "\tIt will be removed in librosa version 1.0.\n",
      "  y, sr_native = __audioread_load(path, offset, duration, dtype)\n"
     ]
    },
    {
     "name": "stdout",
     "output_type": "stream",
     "text": [
      "Error processing tIvVgi_660.mp3: \n",
      "Error processing oq5T1U_661.mp3: \n",
      "Error processing JZnKHs_662.mp3: \n"
     ]
    },
    {
     "name": "stderr",
     "output_type": "stream",
     "text": [
      "Processing Audio Files:  34%|███▍      | 138762/405874 [3:30:21<5:02:02, 14.74it/s]/var/folders/c2/f9lh6rmd4q1648_pfl1636zw0000gn/T/ipykernel_41137/3522123127.py:10: UserWarning: PySoundFile failed. Trying audioread instead.\n",
      "  signal, rate = librosa.load(audio_path, sr=16000)\n",
      "[src/libmpg123/parse.c:do_readahead():1083] warning: Cannot read next header, a one-frame stream? Duh...\n",
      "/Users/maryamsaad/Library/Python/3.9/lib/python/site-packages/librosa/core/audio.py:184: FutureWarning: librosa.core.audio.__audioread_load\n",
      "\tDeprecated as of librosa version 0.10.0.\n",
      "\tIt will be removed in librosa version 1.0.\n",
      "  y, sr_native = __audioread_load(path, offset, duration, dtype)\n",
      "Processing Audio Files:  34%|███▍      | 138762/405874 [3:30:21<5:02:02, 14.74it/s]/var/folders/c2/f9lh6rmd4q1648_pfl1636zw0000gn/T/ipykernel_41137/3522123127.py:10: UserWarning: PySoundFile failed. Trying audioread instead.\n",
      "  signal, rate = librosa.load(audio_path, sr=16000)\n",
      "/Users/maryamsaad/Library/Python/3.9/lib/python/site-packages/librosa/core/audio.py:184: FutureWarning: librosa.core.audio.__audioread_load\n",
      "\tDeprecated as of librosa version 0.10.0.\n",
      "\tIt will be removed in librosa version 1.0.\n",
      "  y, sr_native = __audioread_load(path, offset, duration, dtype)\n",
      "[src/libmpg123/parse.c:do_readahead():1083] warning: Cannot read next header, a one-frame stream? Duh...\n",
      "Processing Audio Files:  34%|███▍      | 138764/405874 [3:30:22<5:04:42, 14.61it/s]/var/folders/c2/f9lh6rmd4q1648_pfl1636zw0000gn/T/ipykernel_41137/3522123127.py:10: UserWarning: PySoundFile failed. Trying audioread instead.\n",
      "  signal, rate = librosa.load(audio_path, sr=16000)\n",
      "[src/libmpg123/parse.c:do_readahead():1083] warning: Cannot read next header, a one-frame stream? Duh...\n",
      "/Users/maryamsaad/Library/Python/3.9/lib/python/site-packages/librosa/core/audio.py:184: FutureWarning: librosa.core.audio.__audioread_load\n",
      "\tDeprecated as of librosa version 0.10.0.\n",
      "\tIt will be removed in librosa version 1.0.\n",
      "  y, sr_native = __audioread_load(path, offset, duration, dtype)\n"
     ]
    },
    {
     "name": "stdout",
     "output_type": "stream",
     "text": [
      "Error processing TX0WLN_663.mp3: \n",
      "Error processing u9FDwC_664.mp3: \n",
      "Error processing 7IC38q_665.mp3: \n"
     ]
    },
    {
     "name": "stderr",
     "output_type": "stream",
     "text": [
      "Processing Audio Files:  34%|███▍      | 138764/405874 [3:30:22<5:04:42, 14.61it/s][src/libmpg123/parse.c:do_readahead():1083] warning: Cannot read next header, a one-frame stream? Duh...\n",
      "/var/folders/c2/f9lh6rmd4q1648_pfl1636zw0000gn/T/ipykernel_41137/3522123127.py:10: UserWarning: PySoundFile failed. Trying audioread instead.\n",
      "  signal, rate = librosa.load(audio_path, sr=16000)\n",
      "/Users/maryamsaad/Library/Python/3.9/lib/python/site-packages/librosa/core/audio.py:184: FutureWarning: librosa.core.audio.__audioread_load\n",
      "\tDeprecated as of librosa version 0.10.0.\n",
      "\tIt will be removed in librosa version 1.0.\n",
      "  y, sr_native = __audioread_load(path, offset, duration, dtype)\n",
      "Processing Audio Files:  34%|███▍      | 138766/405874 [3:30:22<5:04:38, 14.61it/s]/var/folders/c2/f9lh6rmd4q1648_pfl1636zw0000gn/T/ipykernel_41137/3522123127.py:10: UserWarning: PySoundFile failed. Trying audioread instead.\n",
      "  signal, rate = librosa.load(audio_path, sr=16000)\n",
      "/Users/maryamsaad/Library/Python/3.9/lib/python/site-packages/librosa/core/audio.py:184: FutureWarning: librosa.core.audio.__audioread_load\n",
      "\tDeprecated as of librosa version 0.10.0.\n",
      "\tIt will be removed in librosa version 1.0.\n",
      "  y, sr_native = __audioread_load(path, offset, duration, dtype)\n",
      "[src/libmpg123/parse.c:do_readahead():1083] warning: Cannot read next header, a one-frame stream? Duh...\n",
      "Processing Audio Files:  34%|███▍      | 138766/405874 [3:30:22<5:04:38, 14.61it/s]/var/folders/c2/f9lh6rmd4q1648_pfl1636zw0000gn/T/ipykernel_41137/3522123127.py:10: UserWarning: PySoundFile failed. Trying audioread instead.\n",
      "  signal, rate = librosa.load(audio_path, sr=16000)\n",
      "/Users/maryamsaad/Library/Python/3.9/lib/python/site-packages/librosa/core/audio.py:184: FutureWarning: librosa.core.audio.__audioread_load\n",
      "\tDeprecated as of librosa version 0.10.0.\n",
      "\tIt will be removed in librosa version 1.0.\n",
      "  y, sr_native = __audioread_load(path, offset, duration, dtype)\n",
      "[src/libmpg123/parse.c:do_readahead():1083] warning: Cannot read next header, a one-frame stream? Duh...\n"
     ]
    },
    {
     "name": "stdout",
     "output_type": "stream",
     "text": [
      "Error processing dpHnVX_666.mp3: \n",
      "Error processing PBkfs9_667.mp3: \n",
      "Error processing 0Q3g7N_668.mp3: \n"
     ]
    },
    {
     "name": "stderr",
     "output_type": "stream",
     "text": [
      "Processing Audio Files:  34%|███▍      | 138768/405874 [3:30:22<5:04:36, 14.61it/s]/var/folders/c2/f9lh6rmd4q1648_pfl1636zw0000gn/T/ipykernel_41137/3522123127.py:10: UserWarning: PySoundFile failed. Trying audioread instead.\n",
      "  signal, rate = librosa.load(audio_path, sr=16000)\n",
      "/Users/maryamsaad/Library/Python/3.9/lib/python/site-packages/librosa/core/audio.py:184: FutureWarning: librosa.core.audio.__audioread_load\n",
      "\tDeprecated as of librosa version 0.10.0.\n",
      "\tIt will be removed in librosa version 1.0.\n",
      "  y, sr_native = __audioread_load(path, offset, duration, dtype)\n",
      "[src/libmpg123/parse.c:do_readahead():1083] warning: Cannot read next header, a one-frame stream? Duh...\n",
      "Processing Audio Files:  34%|███▍      | 138768/405874 [3:30:22<5:04:36, 14.61it/s]/var/folders/c2/f9lh6rmd4q1648_pfl1636zw0000gn/T/ipykernel_41137/3522123127.py:10: UserWarning: PySoundFile failed. Trying audioread instead.\n",
      "  signal, rate = librosa.load(audio_path, sr=16000)\n",
      "/Users/maryamsaad/Library/Python/3.9/lib/python/site-packages/librosa/core/audio.py:184: FutureWarning: librosa.core.audio.__audioread_load\n",
      "\tDeprecated as of librosa version 0.10.0.\n",
      "\tIt will be removed in librosa version 1.0.\n",
      "  y, sr_native = __audioread_load(path, offset, duration, dtype)\n",
      "[src/libmpg123/parse.c:do_readahead():1083] warning: Cannot read next header, a one-frame stream? Duh...\n",
      "Processing Audio Files:  34%|███▍      | 138770/405874 [3:30:22<5:03:51, 14.65it/s]/var/folders/c2/f9lh6rmd4q1648_pfl1636zw0000gn/T/ipykernel_41137/3522123127.py:10: UserWarning: PySoundFile failed. Trying audioread instead.\n",
      "  signal, rate = librosa.load(audio_path, sr=16000)\n",
      "[src/libmpg123/parse.c:do_readahead():1083] warning: Cannot read next header, a one-frame stream? Duh...\n",
      "/Users/maryamsaad/Library/Python/3.9/lib/python/site-packages/librosa/core/audio.py:184: FutureWarning: librosa.core.audio.__audioread_load\n",
      "\tDeprecated as of librosa version 0.10.0.\n",
      "\tIt will be removed in librosa version 1.0.\n",
      "  y, sr_native = __audioread_load(path, offset, duration, dtype)\n"
     ]
    },
    {
     "name": "stdout",
     "output_type": "stream",
     "text": [
      "Error processing 9V5h4q_669.mp3: \n",
      "Error processing QMRigK_670.mp3: \n",
      "Error processing nLOLfG_671.mp3: \n"
     ]
    },
    {
     "name": "stderr",
     "output_type": "stream",
     "text": [
      "Processing Audio Files:  34%|███▍      | 138770/405874 [3:30:22<5:03:51, 14.65it/s]/var/folders/c2/f9lh6rmd4q1648_pfl1636zw0000gn/T/ipykernel_41137/3522123127.py:10: UserWarning: PySoundFile failed. Trying audioread instead.\n",
      "  signal, rate = librosa.load(audio_path, sr=16000)\n",
      "[src/libmpg123/parse.c:do_readahead():1083] warning: Cannot read next header, a one-frame stream? Duh...\n",
      "/Users/maryamsaad/Library/Python/3.9/lib/python/site-packages/librosa/core/audio.py:184: FutureWarning: librosa.core.audio.__audioread_load\n",
      "\tDeprecated as of librosa version 0.10.0.\n",
      "\tIt will be removed in librosa version 1.0.\n",
      "  y, sr_native = __audioread_load(path, offset, duration, dtype)\n",
      "Processing Audio Files:  34%|███▍      | 138772/405874 [3:30:22<5:03:30, 14.67it/s]/var/folders/c2/f9lh6rmd4q1648_pfl1636zw0000gn/T/ipykernel_41137/3522123127.py:10: UserWarning: PySoundFile failed. Trying audioread instead.\n",
      "  signal, rate = librosa.load(audio_path, sr=16000)\n",
      "[src/libmpg123/parse.c:do_readahead():1083] warning: Cannot read next header, a one-frame stream? Duh...\n",
      "/Users/maryamsaad/Library/Python/3.9/lib/python/site-packages/librosa/core/audio.py:184: FutureWarning: librosa.core.audio.__audioread_load\n",
      "\tDeprecated as of librosa version 0.10.0.\n",
      "\tIt will be removed in librosa version 1.0.\n",
      "  y, sr_native = __audioread_load(path, offset, duration, dtype)\n",
      "Processing Audio Files:  34%|███▍      | 138772/405874 [3:30:22<5:03:30, 14.67it/s][src/libmpg123/parse.c:do_readahead():1083] warning: Cannot read next header, a one-frame stream? Duh...\n",
      "/var/folders/c2/f9lh6rmd4q1648_pfl1636zw0000gn/T/ipykernel_41137/3522123127.py:10: UserWarning: PySoundFile failed. Trying audioread instead.\n",
      "  signal, rate = librosa.load(audio_path, sr=16000)\n",
      "/Users/maryamsaad/Library/Python/3.9/lib/python/site-packages/librosa/core/audio.py:184: FutureWarning: librosa.core.audio.__audioread_load\n",
      "\tDeprecated as of librosa version 0.10.0.\n",
      "\tIt will be removed in librosa version 1.0.\n",
      "  y, sr_native = __audioread_load(path, offset, duration, dtype)\n"
     ]
    },
    {
     "name": "stdout",
     "output_type": "stream",
     "text": [
      "Error processing mMmvqT_672.mp3: \n",
      "Error processing 1Wv1j6_673.mp3: \n",
      "Error processing Vc2SUJ_674.mp3: \n"
     ]
    },
    {
     "name": "stderr",
     "output_type": "stream",
     "text": [
      "Processing Audio Files:  34%|███▍      | 138774/405874 [3:30:22<5:01:27, 14.77it/s]/var/folders/c2/f9lh6rmd4q1648_pfl1636zw0000gn/T/ipykernel_41137/3522123127.py:10: UserWarning: PySoundFile failed. Trying audioread instead.\n",
      "  signal, rate = librosa.load(audio_path, sr=16000)\n",
      "/Users/maryamsaad/Library/Python/3.9/lib/python/site-packages/librosa/core/audio.py:184: FutureWarning: librosa.core.audio.__audioread_load\n",
      "\tDeprecated as of librosa version 0.10.0.\n",
      "\tIt will be removed in librosa version 1.0.\n",
      "  y, sr_native = __audioread_load(path, offset, duration, dtype)\n",
      "[src/libmpg123/parse.c:do_readahead():1083] warning: Cannot read next header, a one-frame stream? Duh...\n",
      "Processing Audio Files:  34%|███▍      | 138774/405874 [3:30:22<5:01:27, 14.77it/s]/var/folders/c2/f9lh6rmd4q1648_pfl1636zw0000gn/T/ipykernel_41137/3522123127.py:10: UserWarning: PySoundFile failed. Trying audioread instead.\n",
      "  signal, rate = librosa.load(audio_path, sr=16000)\n",
      "/Users/maryamsaad/Library/Python/3.9/lib/python/site-packages/librosa/core/audio.py:184: FutureWarning: librosa.core.audio.__audioread_load\n",
      "\tDeprecated as of librosa version 0.10.0.\n",
      "\tIt will be removed in librosa version 1.0.\n",
      "  y, sr_native = __audioread_load(path, offset, duration, dtype)\n",
      "[src/libmpg123/parse.c:do_readahead():1083] warning: Cannot read next header, a one-frame stream? Duh...\n",
      "Processing Audio Files:  34%|███▍      | 138776/405874 [3:30:22<5:06:18, 14.53it/s]/var/folders/c2/f9lh6rmd4q1648_pfl1636zw0000gn/T/ipykernel_41137/3522123127.py:10: UserWarning: PySoundFile failed. Trying audioread instead.\n",
      "  signal, rate = librosa.load(audio_path, sr=16000)\n",
      "/Users/maryamsaad/Library/Python/3.9/lib/python/site-packages/librosa/core/audio.py:184: FutureWarning: librosa.core.audio.__audioread_load\n",
      "\tDeprecated as of librosa version 0.10.0.\n",
      "\tIt will be removed in librosa version 1.0.\n",
      "  y, sr_native = __audioread_load(path, offset, duration, dtype)\n",
      "[src/libmpg123/parse.c:do_readahead():1083] warning: Cannot read next header, a one-frame stream? Duh...\n"
     ]
    },
    {
     "name": "stdout",
     "output_type": "stream",
     "text": [
      "Error processing 4QIX3T_675.mp3: \n",
      "Error processing NsZEo9_676.mp3: \n",
      "Error processing K3Hr9K_677.mp3: \n"
     ]
    },
    {
     "name": "stderr",
     "output_type": "stream",
     "text": [
      "Processing Audio Files:  34%|███▍      | 138776/405874 [3:30:22<5:06:18, 14.53it/s]/var/folders/c2/f9lh6rmd4q1648_pfl1636zw0000gn/T/ipykernel_41137/3522123127.py:10: UserWarning: PySoundFile failed. Trying audioread instead.\n",
      "  signal, rate = librosa.load(audio_path, sr=16000)\n",
      "[src/libmpg123/parse.c:do_readahead():1083] warning: Cannot read next header, a one-frame stream? Duh...\n",
      "/Users/maryamsaad/Library/Python/3.9/lib/python/site-packages/librosa/core/audio.py:184: FutureWarning: librosa.core.audio.__audioread_load\n",
      "\tDeprecated as of librosa version 0.10.0.\n",
      "\tIt will be removed in librosa version 1.0.\n",
      "  y, sr_native = __audioread_load(path, offset, duration, dtype)\n",
      "Processing Audio Files:  34%|███▍      | 138778/405874 [3:30:22<5:04:28, 14.62it/s]/var/folders/c2/f9lh6rmd4q1648_pfl1636zw0000gn/T/ipykernel_41137/3522123127.py:10: UserWarning: PySoundFile failed. Trying audioread instead.\n",
      "  signal, rate = librosa.load(audio_path, sr=16000)\n",
      "/Users/maryamsaad/Library/Python/3.9/lib/python/site-packages/librosa/core/audio.py:184: FutureWarning: librosa.core.audio.__audioread_load\n",
      "\tDeprecated as of librosa version 0.10.0.\n",
      "\tIt will be removed in librosa version 1.0.\n",
      "  y, sr_native = __audioread_load(path, offset, duration, dtype)\n",
      "[src/libmpg123/parse.c:do_readahead():1083] warning: Cannot read next header, a one-frame stream? Duh...\n",
      "Processing Audio Files:  34%|███▍      | 138778/405874 [3:30:23<5:04:28, 14.62it/s]/var/folders/c2/f9lh6rmd4q1648_pfl1636zw0000gn/T/ipykernel_41137/3522123127.py:10: UserWarning: PySoundFile failed. Trying audioread instead.\n",
      "  signal, rate = librosa.load(audio_path, sr=16000)\n",
      "/Users/maryamsaad/Library/Python/3.9/lib/python/site-packages/librosa/core/audio.py:184: FutureWarning: librosa.core.audio.__audioread_load\n",
      "\tDeprecated as of librosa version 0.10.0.\n",
      "\tIt will be removed in librosa version 1.0.\n",
      "  y, sr_native = __audioread_load(path, offset, duration, dtype)\n",
      "[src/libmpg123/parse.c:do_readahead():1083] warning: Cannot read next header, a one-frame stream? Duh...\n",
      "Processing Audio Files:  34%|███▍      | 138778/405874 [3:30:23<5:04:28, 14.62it/s]"
     ]
    },
    {
     "name": "stdout",
     "output_type": "stream",
     "text": [
      "Error processing iFvLHY_678.mp3: \n",
      "Error processing VsH2au_679.mp3: \n",
      "Error processing LUKsw0_680.mp3: \n",
      "Error processing 19qDbx_681.mp3: \n"
     ]
    },
    {
     "name": "stderr",
     "output_type": "stream",
     "text": [
      "Processing Audio Files:  34%|███▍      | 138780/405874 [3:30:23<5:01:49, 14.75it/s][src/libmpg123/parse.c:do_readahead():1083] warning: Cannot read next header, a one-frame stream? Duh...\n",
      "/var/folders/c2/f9lh6rmd4q1648_pfl1636zw0000gn/T/ipykernel_41137/3522123127.py:10: UserWarning: PySoundFile failed. Trying audioread instead.\n",
      "  signal, rate = librosa.load(audio_path, sr=16000)\n",
      "/Users/maryamsaad/Library/Python/3.9/lib/python/site-packages/librosa/core/audio.py:184: FutureWarning: librosa.core.audio.__audioread_load\n",
      "\tDeprecated as of librosa version 0.10.0.\n",
      "\tIt will be removed in librosa version 1.0.\n",
      "  y, sr_native = __audioread_load(path, offset, duration, dtype)\n",
      "Processing Audio Files:  34%|███▍      | 138780/405874 [3:30:23<5:01:49, 14.75it/s][src/libmpg123/parse.c:do_readahead():1083] warning: Cannot read next header, a one-frame stream? Duh...\n",
      "/var/folders/c2/f9lh6rmd4q1648_pfl1636zw0000gn/T/ipykernel_41137/3522123127.py:10: UserWarning: PySoundFile failed. Trying audioread instead.\n",
      "  signal, rate = librosa.load(audio_path, sr=16000)\n",
      "/Users/maryamsaad/Library/Python/3.9/lib/python/site-packages/librosa/core/audio.py:184: FutureWarning: librosa.core.audio.__audioread_load\n",
      "\tDeprecated as of librosa version 0.10.0.\n",
      "\tIt will be removed in librosa version 1.0.\n",
      "  y, sr_native = __audioread_load(path, offset, duration, dtype)\n",
      "Processing Audio Files:  34%|███▍      | 138782/405874 [3:30:23<5:01:08, 14.78it/s]/var/folders/c2/f9lh6rmd4q1648_pfl1636zw0000gn/T/ipykernel_41137/3522123127.py:10: UserWarning: PySoundFile failed. Trying audioread instead.\n",
      "  signal, rate = librosa.load(audio_path, sr=16000)\n",
      "[src/libmpg123/parse.c:do_readahead():1083] warning: Cannot read next header, a one-frame stream? Duh...\n",
      "/Users/maryamsaad/Library/Python/3.9/lib/python/site-packages/librosa/core/audio.py:184: FutureWarning: librosa.core.audio.__audioread_load\n",
      "\tDeprecated as of librosa version 0.10.0.\n",
      "\tIt will be removed in librosa version 1.0.\n",
      "  y, sr_native = __audioread_load(path, offset, duration, dtype)\n",
      "Processing Audio Files:  34%|███▍      | 138782/405874 [3:30:23<5:01:08, 14.78it/s]/var/folders/c2/f9lh6rmd4q1648_pfl1636zw0000gn/T/ipykernel_41137/3522123127.py:10: UserWarning: PySoundFile failed. Trying audioread instead.\n",
      "  signal, rate = librosa.load(audio_path, sr=16000)\n",
      "/Users/maryamsaad/Library/Python/3.9/lib/python/site-packages/librosa/core/audio.py:184: FutureWarning: librosa.core.audio.__audioread_load\n",
      "\tDeprecated as of librosa version 0.10.0.\n",
      "\tIt will be removed in librosa version 1.0.\n",
      "  y, sr_native = __audioread_load(path, offset, duration, dtype)\n",
      "[src/libmpg123/parse.c:do_readahead():1083] warning: Cannot read next header, a one-frame stream? Duh...\n"
     ]
    },
    {
     "name": "stdout",
     "output_type": "stream",
     "text": [
      "Error processing 3jWQfg_682.mp3: \n",
      "Error processing eJ4K0T_683.mp3: \n",
      "Error processing 5FJwm3_684.mp3: \n"
     ]
    },
    {
     "name": "stderr",
     "output_type": "stream",
     "text": [
      "Processing Audio Files:  34%|███▍      | 138784/405874 [3:30:23<5:00:28, 14.81it/s]/var/folders/c2/f9lh6rmd4q1648_pfl1636zw0000gn/T/ipykernel_41137/3522123127.py:10: UserWarning: PySoundFile failed. Trying audioread instead.\n",
      "  signal, rate = librosa.load(audio_path, sr=16000)\n",
      "[src/libmpg123/parse.c:do_readahead():1083] warning: Cannot read next header, a one-frame stream? Duh...\n",
      "/Users/maryamsaad/Library/Python/3.9/lib/python/site-packages/librosa/core/audio.py:184: FutureWarning: librosa.core.audio.__audioread_load\n",
      "\tDeprecated as of librosa version 0.10.0.\n",
      "\tIt will be removed in librosa version 1.0.\n",
      "  y, sr_native = __audioread_load(path, offset, duration, dtype)\n",
      "Processing Audio Files:  34%|███▍      | 138784/405874 [3:30:23<5:00:28, 14.81it/s]/var/folders/c2/f9lh6rmd4q1648_pfl1636zw0000gn/T/ipykernel_41137/3522123127.py:10: UserWarning: PySoundFile failed. Trying audioread instead.\n",
      "  signal, rate = librosa.load(audio_path, sr=16000)\n",
      "/Users/maryamsaad/Library/Python/3.9/lib/python/site-packages/librosa/core/audio.py:184: FutureWarning: librosa.core.audio.__audioread_load\n",
      "\tDeprecated as of librosa version 0.10.0.\n",
      "\tIt will be removed in librosa version 1.0.\n",
      "  y, sr_native = __audioread_load(path, offset, duration, dtype)\n",
      "[src/libmpg123/parse.c:do_readahead():1083] warning: Cannot read next header, a one-frame stream? Duh...\n",
      "Processing Audio Files:  34%|███▍      | 138786/405874 [3:30:23<5:02:57, 14.69it/s]/var/folders/c2/f9lh6rmd4q1648_pfl1636zw0000gn/T/ipykernel_41137/3522123127.py:10: UserWarning: PySoundFile failed. Trying audioread instead.\n",
      "  signal, rate = librosa.load(audio_path, sr=16000)\n",
      "/Users/maryamsaad/Library/Python/3.9/lib/python/site-packages/librosa/core/audio.py:184: FutureWarning: librosa.core.audio.__audioread_load\n",
      "\tDeprecated as of librosa version 0.10.0.\n",
      "\tIt will be removed in librosa version 1.0.\n",
      "  y, sr_native = __audioread_load(path, offset, duration, dtype)\n",
      "[src/libmpg123/parse.c:do_readahead():1083] warning: Cannot read next header, a one-frame stream? Duh...\n"
     ]
    },
    {
     "name": "stdout",
     "output_type": "stream",
     "text": [
      "Error processing nTW70u_685.mp3: \n",
      "Error processing 1YJGiW_686.mp3: \n",
      "Error processing 827lCW_687.mp3: \n"
     ]
    },
    {
     "name": "stderr",
     "output_type": "stream",
     "text": [
      "Processing Audio Files:  34%|███▍      | 138786/405874 [3:30:23<5:02:57, 14.69it/s][src/libmpg123/parse.c:do_readahead():1083] warning: Cannot read next header, a one-frame stream? Duh...\n",
      "/var/folders/c2/f9lh6rmd4q1648_pfl1636zw0000gn/T/ipykernel_41137/3522123127.py:10: UserWarning: PySoundFile failed. Trying audioread instead.\n",
      "  signal, rate = librosa.load(audio_path, sr=16000)\n",
      "/Users/maryamsaad/Library/Python/3.9/lib/python/site-packages/librosa/core/audio.py:184: FutureWarning: librosa.core.audio.__audioread_load\n",
      "\tDeprecated as of librosa version 0.10.0.\n",
      "\tIt will be removed in librosa version 1.0.\n",
      "  y, sr_native = __audioread_load(path, offset, duration, dtype)\n",
      "Processing Audio Files:  34%|███▍      | 138788/405874 [3:30:23<5:07:57, 14.45it/s]/var/folders/c2/f9lh6rmd4q1648_pfl1636zw0000gn/T/ipykernel_41137/3522123127.py:10: UserWarning: PySoundFile failed. Trying audioread instead.\n",
      "  signal, rate = librosa.load(audio_path, sr=16000)\n",
      "/Users/maryamsaad/Library/Python/3.9/lib/python/site-packages/librosa/core/audio.py:184: FutureWarning: librosa.core.audio.__audioread_load\n",
      "\tDeprecated as of librosa version 0.10.0.\n",
      "\tIt will be removed in librosa version 1.0.\n",
      "  y, sr_native = __audioread_load(path, offset, duration, dtype)\n",
      "[src/libmpg123/parse.c:do_readahead():1083] warning: Cannot read next header, a one-frame stream? Duh...\n",
      "Processing Audio Files:  34%|███▍      | 138788/405874 [3:30:23<5:07:57, 14.45it/s]/var/folders/c2/f9lh6rmd4q1648_pfl1636zw0000gn/T/ipykernel_41137/3522123127.py:10: UserWarning: PySoundFile failed. Trying audioread instead.\n",
      "  signal, rate = librosa.load(audio_path, sr=16000)\n",
      "/Users/maryamsaad/Library/Python/3.9/lib/python/site-packages/librosa/core/audio.py:184: FutureWarning: librosa.core.audio.__audioread_load\n",
      "\tDeprecated as of librosa version 0.10.0.\n",
      "\tIt will be removed in librosa version 1.0.\n",
      "  y, sr_native = __audioread_load(path, offset, duration, dtype)\n",
      "[src/libmpg123/parse.c:do_readahead():1083] warning: Cannot read next header, a one-frame stream? Duh...\n"
     ]
    },
    {
     "name": "stdout",
     "output_type": "stream",
     "text": [
      "Error processing IQc2Ve_688.mp3: \n",
      "Error processing OP2iIC_689.mp3: \n",
      "Error processing 8oIy7K_690.mp3: \n"
     ]
    },
    {
     "name": "stderr",
     "output_type": "stream",
     "text": [
      "Processing Audio Files:  34%|███▍      | 138790/405874 [3:30:23<5:08:04, 14.45it/s]/var/folders/c2/f9lh6rmd4q1648_pfl1636zw0000gn/T/ipykernel_41137/3522123127.py:10: UserWarning: PySoundFile failed. Trying audioread instead.\n",
      "  signal, rate = librosa.load(audio_path, sr=16000)\n",
      "/Users/maryamsaad/Library/Python/3.9/lib/python/site-packages/librosa/core/audio.py:184: FutureWarning: librosa.core.audio.__audioread_load\n",
      "\tDeprecated as of librosa version 0.10.0.\n",
      "\tIt will be removed in librosa version 1.0.\n",
      "  y, sr_native = __audioread_load(path, offset, duration, dtype)\n",
      "[src/libmpg123/parse.c:do_readahead():1083] warning: Cannot read next header, a one-frame stream? Duh...\n",
      "Processing Audio Files:  34%|███▍      | 138790/405874 [3:30:23<5:08:04, 14.45it/s]/var/folders/c2/f9lh6rmd4q1648_pfl1636zw0000gn/T/ipykernel_41137/3522123127.py:10: UserWarning: PySoundFile failed. Trying audioread instead.\n",
      "  signal, rate = librosa.load(audio_path, sr=16000)\n",
      "[src/libmpg123/parse.c:do_readahead():1083] warning: Cannot read next header, a one-frame stream? Duh...\n",
      "/Users/maryamsaad/Library/Python/3.9/lib/python/site-packages/librosa/core/audio.py:184: FutureWarning: librosa.core.audio.__audioread_load\n",
      "\tDeprecated as of librosa version 0.10.0.\n",
      "\tIt will be removed in librosa version 1.0.\n",
      "  y, sr_native = __audioread_load(path, offset, duration, dtype)\n",
      "Processing Audio Files:  34%|███▍      | 138792/405874 [3:30:23<5:12:51, 14.23it/s]/var/folders/c2/f9lh6rmd4q1648_pfl1636zw0000gn/T/ipykernel_41137/3522123127.py:10: UserWarning: PySoundFile failed. Trying audioread instead.\n",
      "  signal, rate = librosa.load(audio_path, sr=16000)\n",
      "/Users/maryamsaad/Library/Python/3.9/lib/python/site-packages/librosa/core/audio.py:184: FutureWarning: librosa.core.audio.__audioread_load\n",
      "\tDeprecated as of librosa version 0.10.0.\n",
      "\tIt will be removed in librosa version 1.0.\n",
      "  y, sr_native = __audioread_load(path, offset, duration, dtype)\n",
      "[src/libmpg123/parse.c:do_readahead():1083] warning: Cannot read next header, a one-frame stream? Duh...\n"
     ]
    },
    {
     "name": "stdout",
     "output_type": "stream",
     "text": [
      "Error processing W03dfG_691.mp3: \n",
      "Error processing mjw4aA_692.mp3: \n",
      "Error processing Tf8qTV_693.mp3: \n"
     ]
    },
    {
     "name": "stderr",
     "output_type": "stream",
     "text": [
      "Processing Audio Files:  34%|███▍      | 138792/405874 [3:30:24<5:12:51, 14.23it/s]/var/folders/c2/f9lh6rmd4q1648_pfl1636zw0000gn/T/ipykernel_41137/3522123127.py:10: UserWarning: PySoundFile failed. Trying audioread instead.\n",
      "  signal, rate = librosa.load(audio_path, sr=16000)\n",
      "[src/libmpg123/parse.c:do_readahead():1083] warning: Cannot read next header, a one-frame stream? Duh...\n",
      "/Users/maryamsaad/Library/Python/3.9/lib/python/site-packages/librosa/core/audio.py:184: FutureWarning: librosa.core.audio.__audioread_load\n",
      "\tDeprecated as of librosa version 0.10.0.\n",
      "\tIt will be removed in librosa version 1.0.\n",
      "  y, sr_native = __audioread_load(path, offset, duration, dtype)\n",
      "Processing Audio Files:  34%|███▍      | 138794/405874 [3:30:24<5:13:30, 14.20it/s][src/libmpg123/parse.c:do_readahead():1083] warning: Cannot read next header, a one-frame stream? Duh...\n",
      "/var/folders/c2/f9lh6rmd4q1648_pfl1636zw0000gn/T/ipykernel_41137/3522123127.py:10: UserWarning: PySoundFile failed. Trying audioread instead.\n",
      "  signal, rate = librosa.load(audio_path, sr=16000)\n",
      "/Users/maryamsaad/Library/Python/3.9/lib/python/site-packages/librosa/core/audio.py:184: FutureWarning: librosa.core.audio.__audioread_load\n",
      "\tDeprecated as of librosa version 0.10.0.\n",
      "\tIt will be removed in librosa version 1.0.\n",
      "  y, sr_native = __audioread_load(path, offset, duration, dtype)\n",
      "Processing Audio Files:  34%|███▍      | 138794/405874 [3:30:24<5:13:30, 14.20it/s]/var/folders/c2/f9lh6rmd4q1648_pfl1636zw0000gn/T/ipykernel_41137/3522123127.py:10: UserWarning: PySoundFile failed. Trying audioread instead.\n",
      "  signal, rate = librosa.load(audio_path, sr=16000)\n",
      "/Users/maryamsaad/Library/Python/3.9/lib/python/site-packages/librosa/core/audio.py:184: FutureWarning: librosa.core.audio.__audioread_load\n",
      "\tDeprecated as of librosa version 0.10.0.\n",
      "\tIt will be removed in librosa version 1.0.\n",
      "  y, sr_native = __audioread_load(path, offset, duration, dtype)\n",
      "[src/libmpg123/parse.c:do_readahead():1083] warning: Cannot read next header, a one-frame stream? Duh...\n"
     ]
    },
    {
     "name": "stdout",
     "output_type": "stream",
     "text": [
      "Error processing Y6fPwI_694.mp3: \n",
      "Error processing Ji4BAh_695.mp3: \n",
      "Error processing r4Fpy3_696.mp3: \n"
     ]
    },
    {
     "name": "stderr",
     "output_type": "stream",
     "text": [
      "Processing Audio Files:  34%|███▍      | 138796/405874 [3:30:24<5:11:22, 14.30it/s][src/libmpg123/parse.c:do_readahead():1083] warning: Cannot read next header, a one-frame stream? Duh...\n",
      "/var/folders/c2/f9lh6rmd4q1648_pfl1636zw0000gn/T/ipykernel_41137/3522123127.py:10: UserWarning: PySoundFile failed. Trying audioread instead.\n",
      "  signal, rate = librosa.load(audio_path, sr=16000)\n",
      "/Users/maryamsaad/Library/Python/3.9/lib/python/site-packages/librosa/core/audio.py:184: FutureWarning: librosa.core.audio.__audioread_load\n",
      "\tDeprecated as of librosa version 0.10.0.\n",
      "\tIt will be removed in librosa version 1.0.\n",
      "  y, sr_native = __audioread_load(path, offset, duration, dtype)\n",
      "Processing Audio Files:  34%|███▍      | 138796/405874 [3:30:24<5:11:22, 14.30it/s]/var/folders/c2/f9lh6rmd4q1648_pfl1636zw0000gn/T/ipykernel_41137/3522123127.py:10: UserWarning: PySoundFile failed. Trying audioread instead.\n",
      "  signal, rate = librosa.load(audio_path, sr=16000)\n",
      "[src/libmpg123/parse.c:do_readahead():1083] warning: Cannot read next header, a one-frame stream? Duh...\n",
      "/Users/maryamsaad/Library/Python/3.9/lib/python/site-packages/librosa/core/audio.py:184: FutureWarning: librosa.core.audio.__audioread_load\n",
      "\tDeprecated as of librosa version 0.10.0.\n",
      "\tIt will be removed in librosa version 1.0.\n",
      "  y, sr_native = __audioread_load(path, offset, duration, dtype)\n",
      "Processing Audio Files:  34%|███▍      | 138798/405874 [3:30:24<5:11:02, 14.31it/s][src/libmpg123/parse.c:do_readahead():1083] warning: Cannot read next header, a one-frame stream? Duh...\n",
      "/var/folders/c2/f9lh6rmd4q1648_pfl1636zw0000gn/T/ipykernel_41137/3522123127.py:10: UserWarning: PySoundFile failed. Trying audioread instead.\n",
      "  signal, rate = librosa.load(audio_path, sr=16000)\n",
      "/Users/maryamsaad/Library/Python/3.9/lib/python/site-packages/librosa/core/audio.py:184: FutureWarning: librosa.core.audio.__audioread_load\n",
      "\tDeprecated as of librosa version 0.10.0.\n",
      "\tIt will be removed in librosa version 1.0.\n",
      "  y, sr_native = __audioread_load(path, offset, duration, dtype)\n"
     ]
    },
    {
     "name": "stdout",
     "output_type": "stream",
     "text": [
      "Error processing whtaxT_697.mp3: \n",
      "Error processing d4OGHA_698.mp3: \n",
      "Error processing Sn4n5k_699.mp3: \n"
     ]
    },
    {
     "name": "stderr",
     "output_type": "stream",
     "text": [
      "Processing Audio Files:  34%|███▍      | 138798/405874 [3:30:24<5:11:02, 14.31it/s]/var/folders/c2/f9lh6rmd4q1648_pfl1636zw0000gn/T/ipykernel_41137/3522123127.py:10: UserWarning: PySoundFile failed. Trying audioread instead.\n",
      "  signal, rate = librosa.load(audio_path, sr=16000)\n",
      "[src/libmpg123/parse.c:do_readahead():1083] warning: Cannot read next header, a one-frame stream? Duh...\n",
      "/Users/maryamsaad/Library/Python/3.9/lib/python/site-packages/librosa/core/audio.py:184: FutureWarning: librosa.core.audio.__audioread_load\n",
      "\tDeprecated as of librosa version 0.10.0.\n",
      "\tIt will be removed in librosa version 1.0.\n",
      "  y, sr_native = __audioread_load(path, offset, duration, dtype)\n",
      "Processing Audio Files:  34%|███▍      | 138800/405874 [3:30:24<5:13:34, 14.19it/s]/var/folders/c2/f9lh6rmd4q1648_pfl1636zw0000gn/T/ipykernel_41137/3522123127.py:10: UserWarning: PySoundFile failed. Trying audioread instead.\n",
      "  signal, rate = librosa.load(audio_path, sr=16000)\n",
      "/Users/maryamsaad/Library/Python/3.9/lib/python/site-packages/librosa/core/audio.py:184: FutureWarning: librosa.core.audio.__audioread_load\n",
      "\tDeprecated as of librosa version 0.10.0.\n",
      "\tIt will be removed in librosa version 1.0.\n",
      "  y, sr_native = __audioread_load(path, offset, duration, dtype)\n",
      "[src/libmpg123/parse.c:do_readahead():1083] warning: Cannot read next header, a one-frame stream? Duh...\n",
      "Processing Audio Files:  34%|███▍      | 138800/405874 [3:30:24<5:13:34, 14.19it/s]/var/folders/c2/f9lh6rmd4q1648_pfl1636zw0000gn/T/ipykernel_41137/3522123127.py:10: UserWarning: PySoundFile failed. Trying audioread instead.\n",
      "  signal, rate = librosa.load(audio_path, sr=16000)\n",
      "[src/libmpg123/parse.c:do_readahead():1083] warning: Cannot read next header, a one-frame stream? Duh...\n",
      "/Users/maryamsaad/Library/Python/3.9/lib/python/site-packages/librosa/core/audio.py:184: FutureWarning: librosa.core.audio.__audioread_load\n",
      "\tDeprecated as of librosa version 0.10.0.\n",
      "\tIt will be removed in librosa version 1.0.\n",
      "  y, sr_native = __audioread_load(path, offset, duration, dtype)\n"
     ]
    },
    {
     "name": "stdout",
     "output_type": "stream",
     "text": [
      "Error processing qczdQd_700.mp3: \n",
      "Error processing 6SK1bg_701.mp3: \n",
      "Error processing T7Spo5_702.mp3: \n"
     ]
    },
    {
     "name": "stderr",
     "output_type": "stream",
     "text": [
      "Processing Audio Files:  34%|███▍      | 138802/405874 [3:30:24<5:10:36, 14.33it/s][src/libmpg123/parse.c:do_readahead():1083] warning: Cannot read next header, a one-frame stream? Duh...\n",
      "/var/folders/c2/f9lh6rmd4q1648_pfl1636zw0000gn/T/ipykernel_41137/3522123127.py:10: UserWarning: PySoundFile failed. Trying audioread instead.\n",
      "  signal, rate = librosa.load(audio_path, sr=16000)\n",
      "/Users/maryamsaad/Library/Python/3.9/lib/python/site-packages/librosa/core/audio.py:184: FutureWarning: librosa.core.audio.__audioread_load\n",
      "\tDeprecated as of librosa version 0.10.0.\n",
      "\tIt will be removed in librosa version 1.0.\n",
      "  y, sr_native = __audioread_load(path, offset, duration, dtype)\n",
      "Processing Audio Files:  34%|███▍      | 138802/405874 [3:30:24<5:10:36, 14.33it/s]/var/folders/c2/f9lh6rmd4q1648_pfl1636zw0000gn/T/ipykernel_41137/3522123127.py:10: UserWarning: PySoundFile failed. Trying audioread instead.\n",
      "  signal, rate = librosa.load(audio_path, sr=16000)\n",
      "/Users/maryamsaad/Library/Python/3.9/lib/python/site-packages/librosa/core/audio.py:184: FutureWarning: librosa.core.audio.__audioread_load\n",
      "\tDeprecated as of librosa version 0.10.0.\n",
      "\tIt will be removed in librosa version 1.0.\n",
      "  y, sr_native = __audioread_load(path, offset, duration, dtype)\n",
      "[src/libmpg123/parse.c:do_readahead():1083] warning: Cannot read next header, a one-frame stream? Duh...\n",
      "Processing Audio Files:  34%|███▍      | 138804/405874 [3:30:24<5:08:11, 14.44it/s]/var/folders/c2/f9lh6rmd4q1648_pfl1636zw0000gn/T/ipykernel_41137/3522123127.py:10: UserWarning: PySoundFile failed. Trying audioread instead.\n",
      "  signal, rate = librosa.load(audio_path, sr=16000)\n",
      "/Users/maryamsaad/Library/Python/3.9/lib/python/site-packages/librosa/core/audio.py:184: FutureWarning: librosa.core.audio.__audioread_load\n",
      "\tDeprecated as of librosa version 0.10.0.\n",
      "\tIt will be removed in librosa version 1.0.\n",
      "  y, sr_native = __audioread_load(path, offset, duration, dtype)\n",
      "[src/libmpg123/parse.c:do_readahead():1083] warning: Cannot read next header, a one-frame stream? Duh...\n"
     ]
    },
    {
     "name": "stdout",
     "output_type": "stream",
     "text": [
      "Error processing lhRXYU_703.mp3: \n",
      "Error processing K8RqUQ_704.mp3: \n",
      "Error processing Squu0P_705.mp3: \n"
     ]
    },
    {
     "name": "stderr",
     "output_type": "stream",
     "text": [
      "Processing Audio Files:  34%|███▍      | 138804/405874 [3:30:24<5:08:11, 14.44it/s]/var/folders/c2/f9lh6rmd4q1648_pfl1636zw0000gn/T/ipykernel_41137/3522123127.py:10: UserWarning: PySoundFile failed. Trying audioread instead.\n",
      "  signal, rate = librosa.load(audio_path, sr=16000)\n",
      "/Users/maryamsaad/Library/Python/3.9/lib/python/site-packages/librosa/core/audio.py:184: FutureWarning: librosa.core.audio.__audioread_load\n",
      "\tDeprecated as of librosa version 0.10.0.\n",
      "\tIt will be removed in librosa version 1.0.\n",
      "  y, sr_native = __audioread_load(path, offset, duration, dtype)\n",
      "[src/libmpg123/parse.c:do_readahead():1083] warning: Cannot read next header, a one-frame stream? Duh...\n",
      "Processing Audio Files:  34%|███▍      | 138806/405874 [3:30:24<5:14:23, 14.16it/s]/var/folders/c2/f9lh6rmd4q1648_pfl1636zw0000gn/T/ipykernel_41137/3522123127.py:10: UserWarning: PySoundFile failed. Trying audioread instead.\n",
      "  signal, rate = librosa.load(audio_path, sr=16000)\n",
      "/Users/maryamsaad/Library/Python/3.9/lib/python/site-packages/librosa/core/audio.py:184: FutureWarning: librosa.core.audio.__audioread_load\n",
      "\tDeprecated as of librosa version 0.10.0.\n",
      "\tIt will be removed in librosa version 1.0.\n",
      "  y, sr_native = __audioread_load(path, offset, duration, dtype)\n",
      "[src/libmpg123/parse.c:do_readahead():1083] warning: Cannot read next header, a one-frame stream? Duh...\n",
      "Processing Audio Files:  34%|███▍      | 138806/405874 [3:30:25<5:14:23, 14.16it/s]/var/folders/c2/f9lh6rmd4q1648_pfl1636zw0000gn/T/ipykernel_41137/3522123127.py:10: UserWarning: PySoundFile failed. Trying audioread instead.\n",
      "  signal, rate = librosa.load(audio_path, sr=16000)\n",
      "/Users/maryamsaad/Library/Python/3.9/lib/python/site-packages/librosa/core/audio.py:184: FutureWarning: librosa.core.audio.__audioread_load\n",
      "\tDeprecated as of librosa version 0.10.0.\n",
      "\tIt will be removed in librosa version 1.0.\n",
      "  y, sr_native = __audioread_load(path, offset, duration, dtype)\n",
      "[src/libmpg123/parse.c:do_readahead():1083] warning: Cannot read next header, a one-frame stream? Duh...\n"
     ]
    },
    {
     "name": "stdout",
     "output_type": "stream",
     "text": [
      "Error processing bfFZdS_706.mp3: \n",
      "Error processing nnuyzG_707.mp3: \n",
      "Error processing qSgN6S_708.mp3: \n"
     ]
    },
    {
     "name": "stderr",
     "output_type": "stream",
     "text": [
      "Processing Audio Files:  34%|███▍      | 138808/405874 [3:30:25<5:10:44, 14.32it/s]/var/folders/c2/f9lh6rmd4q1648_pfl1636zw0000gn/T/ipykernel_41137/3522123127.py:10: UserWarning: PySoundFile failed. Trying audioread instead.\n",
      "  signal, rate = librosa.load(audio_path, sr=16000)\n",
      "[src/libmpg123/parse.c:do_readahead():1083] warning: Cannot read next header, a one-frame stream? Duh...\n",
      "/Users/maryamsaad/Library/Python/3.9/lib/python/site-packages/librosa/core/audio.py:184: FutureWarning: librosa.core.audio.__audioread_load\n",
      "\tDeprecated as of librosa version 0.10.0.\n",
      "\tIt will be removed in librosa version 1.0.\n",
      "  y, sr_native = __audioread_load(path, offset, duration, dtype)\n",
      "Processing Audio Files:  34%|███▍      | 138808/405874 [3:30:25<5:10:44, 14.32it/s]/var/folders/c2/f9lh6rmd4q1648_pfl1636zw0000gn/T/ipykernel_41137/3522123127.py:10: UserWarning: PySoundFile failed. Trying audioread instead.\n",
      "  signal, rate = librosa.load(audio_path, sr=16000)\n",
      "/Users/maryamsaad/Library/Python/3.9/lib/python/site-packages/librosa/core/audio.py:184: FutureWarning: librosa.core.audio.__audioread_load\n",
      "\tDeprecated as of librosa version 0.10.0.\n",
      "\tIt will be removed in librosa version 1.0.\n",
      "  y, sr_native = __audioread_load(path, offset, duration, dtype)\n",
      "[src/libmpg123/parse.c:do_readahead():1083] warning: Cannot read next header, a one-frame stream? Duh...\n",
      "Processing Audio Files:  34%|███▍      | 138810/405874 [3:30:25<5:07:39, 14.47it/s][src/libmpg123/parse.c:do_readahead():1083] warning: Cannot read next header, a one-frame stream? Duh...\n",
      "/var/folders/c2/f9lh6rmd4q1648_pfl1636zw0000gn/T/ipykernel_41137/3522123127.py:10: UserWarning: PySoundFile failed. Trying audioread instead.\n",
      "  signal, rate = librosa.load(audio_path, sr=16000)\n",
      "/Users/maryamsaad/Library/Python/3.9/lib/python/site-packages/librosa/core/audio.py:184: FutureWarning: librosa.core.audio.__audioread_load\n",
      "\tDeprecated as of librosa version 0.10.0.\n",
      "\tIt will be removed in librosa version 1.0.\n",
      "  y, sr_native = __audioread_load(path, offset, duration, dtype)\n"
     ]
    },
    {
     "name": "stdout",
     "output_type": "stream",
     "text": [
      "Error processing d6PCYz_709.mp3: \n",
      "Error processing AdDLup_710.mp3: \n",
      "Error processing 3Jkesy_711.mp3: \n"
     ]
    },
    {
     "name": "stderr",
     "output_type": "stream",
     "text": [
      "Processing Audio Files:  34%|███▍      | 138810/405874 [3:30:25<5:07:39, 14.47it/s]/var/folders/c2/f9lh6rmd4q1648_pfl1636zw0000gn/T/ipykernel_41137/3522123127.py:10: UserWarning: PySoundFile failed. Trying audioread instead.\n",
      "  signal, rate = librosa.load(audio_path, sr=16000)\n",
      "[src/libmpg123/parse.c:do_readahead():1083] warning: Cannot read next header, a one-frame stream? Duh...\n",
      "/Users/maryamsaad/Library/Python/3.9/lib/python/site-packages/librosa/core/audio.py:184: FutureWarning: librosa.core.audio.__audioread_load\n",
      "\tDeprecated as of librosa version 0.10.0.\n",
      "\tIt will be removed in librosa version 1.0.\n",
      "  y, sr_native = __audioread_load(path, offset, duration, dtype)\n",
      "Processing Audio Files:  34%|███▍      | 138812/405874 [3:30:25<5:05:47, 14.56it/s]/var/folders/c2/f9lh6rmd4q1648_pfl1636zw0000gn/T/ipykernel_41137/3522123127.py:10: UserWarning: PySoundFile failed. Trying audioread instead.\n",
      "  signal, rate = librosa.load(audio_path, sr=16000)\n",
      "/Users/maryamsaad/Library/Python/3.9/lib/python/site-packages/librosa/core/audio.py:184: FutureWarning: librosa.core.audio.__audioread_load\n",
      "\tDeprecated as of librosa version 0.10.0.\n",
      "\tIt will be removed in librosa version 1.0.\n",
      "  y, sr_native = __audioread_load(path, offset, duration, dtype)\n",
      "[src/libmpg123/parse.c:do_readahead():1083] warning: Cannot read next header, a one-frame stream? Duh...\n",
      "Processing Audio Files:  34%|███▍      | 138812/405874 [3:30:25<5:05:47, 14.56it/s]/var/folders/c2/f9lh6rmd4q1648_pfl1636zw0000gn/T/ipykernel_41137/3522123127.py:10: UserWarning: PySoundFile failed. Trying audioread instead.\n",
      "  signal, rate = librosa.load(audio_path, sr=16000)\n",
      "/Users/maryamsaad/Library/Python/3.9/lib/python/site-packages/librosa/core/audio.py:184: FutureWarning: librosa.core.audio.__audioread_load\n",
      "\tDeprecated as of librosa version 0.10.0.\n",
      "\tIt will be removed in librosa version 1.0.\n",
      "  y, sr_native = __audioread_load(path, offset, duration, dtype)\n",
      "[src/libmpg123/parse.c:do_readahead():1083] warning: Cannot read next header, a one-frame stream? Duh...\n"
     ]
    },
    {
     "name": "stdout",
     "output_type": "stream",
     "text": [
      "Error processing dwBxt6_712.mp3: \n",
      "Error processing 5ZMv0g_713.mp3: \n",
      "Error processing LncDqj_714.mp3: \n"
     ]
    },
    {
     "name": "stderr",
     "output_type": "stream",
     "text": [
      "Processing Audio Files:  34%|███▍      | 138814/405874 [3:30:25<5:03:33, 14.66it/s][src/libmpg123/parse.c:do_readahead():1083] warning: Cannot read next header, a one-frame stream? Duh...\n",
      "/var/folders/c2/f9lh6rmd4q1648_pfl1636zw0000gn/T/ipykernel_41137/3522123127.py:10: UserWarning: PySoundFile failed. Trying audioread instead.\n",
      "  signal, rate = librosa.load(audio_path, sr=16000)\n",
      "/Users/maryamsaad/Library/Python/3.9/lib/python/site-packages/librosa/core/audio.py:184: FutureWarning: librosa.core.audio.__audioread_load\n",
      "\tDeprecated as of librosa version 0.10.0.\n",
      "\tIt will be removed in librosa version 1.0.\n",
      "  y, sr_native = __audioread_load(path, offset, duration, dtype)\n",
      "Processing Audio Files:  34%|███▍      | 138814/405874 [3:30:25<5:03:33, 14.66it/s]/var/folders/c2/f9lh6rmd4q1648_pfl1636zw0000gn/T/ipykernel_41137/3522123127.py:10: UserWarning: PySoundFile failed. Trying audioread instead.\n",
      "  signal, rate = librosa.load(audio_path, sr=16000)\n",
      "/Users/maryamsaad/Library/Python/3.9/lib/python/site-packages/librosa/core/audio.py:184: FutureWarning: librosa.core.audio.__audioread_load\n",
      "\tDeprecated as of librosa version 0.10.0.\n",
      "\tIt will be removed in librosa version 1.0.\n",
      "  y, sr_native = __audioread_load(path, offset, duration, dtype)\n",
      "[src/libmpg123/parse.c:do_readahead():1083] warning: Cannot read next header, a one-frame stream? Duh...\n",
      "Processing Audio Files:  34%|███▍      | 138816/405874 [3:30:25<5:03:01, 14.69it/s]/var/folders/c2/f9lh6rmd4q1648_pfl1636zw0000gn/T/ipykernel_41137/3522123127.py:10: UserWarning: PySoundFile failed. Trying audioread instead.\n",
      "  signal, rate = librosa.load(audio_path, sr=16000)\n",
      "[src/libmpg123/parse.c:do_readahead():1083] warning: Cannot read next header, a one-frame stream? Duh...\n",
      "/Users/maryamsaad/Library/Python/3.9/lib/python/site-packages/librosa/core/audio.py:184: FutureWarning: librosa.core.audio.__audioread_load\n",
      "\tDeprecated as of librosa version 0.10.0.\n",
      "\tIt will be removed in librosa version 1.0.\n",
      "  y, sr_native = __audioread_load(path, offset, duration, dtype)\n"
     ]
    },
    {
     "name": "stdout",
     "output_type": "stream",
     "text": [
      "Error processing hOdUEA_715.mp3: \n",
      "Error processing sTJrxO_716.mp3: \n",
      "Error processing IZGOVM_717.mp3: \n"
     ]
    },
    {
     "name": "stderr",
     "output_type": "stream",
     "text": [
      "Processing Audio Files:  34%|███▍      | 138816/405874 [3:30:25<5:03:01, 14.69it/s]/var/folders/c2/f9lh6rmd4q1648_pfl1636zw0000gn/T/ipykernel_41137/3522123127.py:10: UserWarning: PySoundFile failed. Trying audioread instead.\n",
      "  signal, rate = librosa.load(audio_path, sr=16000)\n",
      "/Users/maryamsaad/Library/Python/3.9/lib/python/site-packages/librosa/core/audio.py:184: FutureWarning: librosa.core.audio.__audioread_load\n",
      "\tDeprecated as of librosa version 0.10.0.\n",
      "\tIt will be removed in librosa version 1.0.\n",
      "  y, sr_native = __audioread_load(path, offset, duration, dtype)\n",
      "[src/libmpg123/parse.c:do_readahead():1083] warning: Cannot read next header, a one-frame stream? Duh...\n",
      "Processing Audio Files:  34%|███▍      | 138818/405874 [3:30:25<5:06:07, 14.54it/s]/var/folders/c2/f9lh6rmd4q1648_pfl1636zw0000gn/T/ipykernel_41137/3522123127.py:10: UserWarning: PySoundFile failed. Trying audioread instead.\n",
      "  signal, rate = librosa.load(audio_path, sr=16000)\n",
      "/Users/maryamsaad/Library/Python/3.9/lib/python/site-packages/librosa/core/audio.py:184: FutureWarning: librosa.core.audio.__audioread_load\n",
      "\tDeprecated as of librosa version 0.10.0.\n",
      "\tIt will be removed in librosa version 1.0.\n",
      "  y, sr_native = __audioread_load(path, offset, duration, dtype)\n",
      "[src/libmpg123/parse.c:do_readahead():1083] warning: Cannot read next header, a one-frame stream? Duh...\n",
      "Processing Audio Files:  34%|███▍      | 138818/405874 [3:30:25<5:06:07, 14.54it/s]/var/folders/c2/f9lh6rmd4q1648_pfl1636zw0000gn/T/ipykernel_41137/3522123127.py:10: UserWarning: PySoundFile failed. Trying audioread instead.\n",
      "  signal, rate = librosa.load(audio_path, sr=16000)\n",
      "/Users/maryamsaad/Library/Python/3.9/lib/python/site-packages/librosa/core/audio.py:184: FutureWarning: librosa.core.audio.__audioread_load\n",
      "\tDeprecated as of librosa version 0.10.0.\n",
      "\tIt will be removed in librosa version 1.0.\n",
      "  y, sr_native = __audioread_load(path, offset, duration, dtype)\n",
      "[src/libmpg123/parse.c:do_readahead():1083] warning: Cannot read next header, a one-frame stream? Duh...\n"
     ]
    },
    {
     "name": "stdout",
     "output_type": "stream",
     "text": [
      "Error processing vFBo20_718.mp3: \n",
      "Error processing inuKfE_719.mp3: \n",
      "Error processing 2sAE7r_720.mp3: \n"
     ]
    },
    {
     "name": "stderr",
     "output_type": "stream",
     "text": [
      "Processing Audio Files:  34%|███▍      | 138820/405874 [3:30:25<5:04:43, 14.61it/s][src/libmpg123/parse.c:do_readahead():1083] warning: Cannot read next header, a one-frame stream? Duh...\n",
      "/var/folders/c2/f9lh6rmd4q1648_pfl1636zw0000gn/T/ipykernel_41137/3522123127.py:10: UserWarning: PySoundFile failed. Trying audioread instead.\n",
      "  signal, rate = librosa.load(audio_path, sr=16000)\n",
      "/Users/maryamsaad/Library/Python/3.9/lib/python/site-packages/librosa/core/audio.py:184: FutureWarning: librosa.core.audio.__audioread_load\n",
      "\tDeprecated as of librosa version 0.10.0.\n",
      "\tIt will be removed in librosa version 1.0.\n",
      "  y, sr_native = __audioread_load(path, offset, duration, dtype)\n",
      "Processing Audio Files:  34%|███▍      | 138820/405874 [3:30:25<5:04:43, 14.61it/s]/var/folders/c2/f9lh6rmd4q1648_pfl1636zw0000gn/T/ipykernel_41137/3522123127.py:10: UserWarning: PySoundFile failed. Trying audioread instead.\n",
      "  signal, rate = librosa.load(audio_path, sr=16000)\n",
      "/Users/maryamsaad/Library/Python/3.9/lib/python/site-packages/librosa/core/audio.py:184: FutureWarning: librosa.core.audio.__audioread_load\n",
      "\tDeprecated as of librosa version 0.10.0.\n",
      "\tIt will be removed in librosa version 1.0.\n",
      "  y, sr_native = __audioread_load(path, offset, duration, dtype)\n",
      "[src/libmpg123/parse.c:do_readahead():1083] warning: Cannot read next header, a one-frame stream? Duh...\n",
      "Processing Audio Files:  34%|███▍      | 138822/405874 [3:30:26<5:03:19, 14.67it/s]/var/folders/c2/f9lh6rmd4q1648_pfl1636zw0000gn/T/ipykernel_41137/3522123127.py:10: UserWarning: PySoundFile failed. Trying audioread instead.\n",
      "  signal, rate = librosa.load(audio_path, sr=16000)\n",
      "/Users/maryamsaad/Library/Python/3.9/lib/python/site-packages/librosa/core/audio.py:184: FutureWarning: librosa.core.audio.__audioread_load\n",
      "\tDeprecated as of librosa version 0.10.0.\n",
      "\tIt will be removed in librosa version 1.0.\n",
      "  y, sr_native = __audioread_load(path, offset, duration, dtype)\n",
      "[src/libmpg123/parse.c:do_readahead():1083] warning: Cannot read next header, a one-frame stream? Duh...\n"
     ]
    },
    {
     "name": "stdout",
     "output_type": "stream",
     "text": [
      "Error processing j0EoCA_721.mp3: \n",
      "Error processing WsHeS4_722.mp3: \n",
      "Error processing OHmy6M_723.mp3: \n"
     ]
    },
    {
     "name": "stderr",
     "output_type": "stream",
     "text": [
      "Processing Audio Files:  34%|███▍      | 138822/405874 [3:30:26<5:03:19, 14.67it/s]/var/folders/c2/f9lh6rmd4q1648_pfl1636zw0000gn/T/ipykernel_41137/3522123127.py:10: UserWarning: PySoundFile failed. Trying audioread instead.\n",
      "  signal, rate = librosa.load(audio_path, sr=16000)\n",
      "/Users/maryamsaad/Library/Python/3.9/lib/python/site-packages/librosa/core/audio.py:184: FutureWarning: librosa.core.audio.__audioread_load\n",
      "\tDeprecated as of librosa version 0.10.0.\n",
      "\tIt will be removed in librosa version 1.0.\n",
      "  y, sr_native = __audioread_load(path, offset, duration, dtype)\n",
      "[src/libmpg123/parse.c:do_readahead():1083] warning: Cannot read next header, a one-frame stream? Duh...\n",
      "Processing Audio Files:  34%|███▍      | 138824/405874 [3:30:26<5:03:30, 14.66it/s]/var/folders/c2/f9lh6rmd4q1648_pfl1636zw0000gn/T/ipykernel_41137/3522123127.py:10: UserWarning: PySoundFile failed. Trying audioread instead.\n",
      "  signal, rate = librosa.load(audio_path, sr=16000)\n",
      "[src/libmpg123/parse.c:do_readahead():1083] warning: Cannot read next header, a one-frame stream? Duh...\n",
      "/Users/maryamsaad/Library/Python/3.9/lib/python/site-packages/librosa/core/audio.py:184: FutureWarning: librosa.core.audio.__audioread_load\n",
      "\tDeprecated as of librosa version 0.10.0.\n",
      "\tIt will be removed in librosa version 1.0.\n",
      "  y, sr_native = __audioread_load(path, offset, duration, dtype)\n",
      "Processing Audio Files:  34%|███▍      | 138824/405874 [3:30:26<5:03:30, 14.66it/s]/var/folders/c2/f9lh6rmd4q1648_pfl1636zw0000gn/T/ipykernel_41137/3522123127.py:10: UserWarning: PySoundFile failed. Trying audioread instead.\n",
      "  signal, rate = librosa.load(audio_path, sr=16000)\n",
      "/Users/maryamsaad/Library/Python/3.9/lib/python/site-packages/librosa/core/audio.py:184: FutureWarning: librosa.core.audio.__audioread_load\n",
      "\tDeprecated as of librosa version 0.10.0.\n",
      "\tIt will be removed in librosa version 1.0.\n",
      "  y, sr_native = __audioread_load(path, offset, duration, dtype)\n",
      "[src/libmpg123/parse.c:do_readahead():1083] warning: Cannot read next header, a one-frame stream? Duh...\n",
      "Processing Audio Files:  34%|███▍      | 138824/405874 [3:30:26<5:03:30, 14.66it/s]"
     ]
    },
    {
     "name": "stdout",
     "output_type": "stream",
     "text": [
      "Error processing FlCLwc_724.mp3: \n",
      "Error processing 9hPM0d_725.mp3: \n",
      "Error processing rTJGwg_726.mp3: \n",
      "Error processing 2AB7Vx_727.mp3: \n"
     ]
    },
    {
     "name": "stderr",
     "output_type": "stream",
     "text": [
      "Processing Audio Files:  34%|███▍      | 138826/405874 [3:30:26<5:01:57, 14.74it/s]/var/folders/c2/f9lh6rmd4q1648_pfl1636zw0000gn/T/ipykernel_41137/3522123127.py:10: UserWarning: PySoundFile failed. Trying audioread instead.\n",
      "  signal, rate = librosa.load(audio_path, sr=16000)\n",
      "[src/libmpg123/parse.c:do_readahead():1083] warning: Cannot read next header, a one-frame stream? Duh...\n",
      "/Users/maryamsaad/Library/Python/3.9/lib/python/site-packages/librosa/core/audio.py:184: FutureWarning: librosa.core.audio.__audioread_load\n",
      "\tDeprecated as of librosa version 0.10.0.\n",
      "\tIt will be removed in librosa version 1.0.\n",
      "  y, sr_native = __audioread_load(path, offset, duration, dtype)\n",
      "Processing Audio Files:  34%|███▍      | 138826/405874 [3:30:26<5:01:57, 14.74it/s]/var/folders/c2/f9lh6rmd4q1648_pfl1636zw0000gn/T/ipykernel_41137/3522123127.py:10: UserWarning: PySoundFile failed. Trying audioread instead.\n",
      "  signal, rate = librosa.load(audio_path, sr=16000)\n",
      "/Users/maryamsaad/Library/Python/3.9/lib/python/site-packages/librosa/core/audio.py:184: FutureWarning: librosa.core.audio.__audioread_load\n",
      "\tDeprecated as of librosa version 0.10.0.\n",
      "\tIt will be removed in librosa version 1.0.\n",
      "  y, sr_native = __audioread_load(path, offset, duration, dtype)\n",
      "[src/libmpg123/parse.c:do_readahead():1083] warning: Cannot read next header, a one-frame stream? Duh...\n",
      "Processing Audio Files:  34%|███▍      | 138828/405874 [3:30:26<5:08:48, 14.41it/s][src/libmpg123/parse.c:do_readahead():1083] warning: Cannot read next header, a one-frame stream? Duh...\n",
      "/var/folders/c2/f9lh6rmd4q1648_pfl1636zw0000gn/T/ipykernel_41137/3522123127.py:10: UserWarning: PySoundFile failed. Trying audioread instead.\n",
      "  signal, rate = librosa.load(audio_path, sr=16000)\n",
      "/Users/maryamsaad/Library/Python/3.9/lib/python/site-packages/librosa/core/audio.py:184: FutureWarning: librosa.core.audio.__audioread_load\n",
      "\tDeprecated as of librosa version 0.10.0.\n",
      "\tIt will be removed in librosa version 1.0.\n",
      "  y, sr_native = __audioread_load(path, offset, duration, dtype)\n",
      "Processing Audio Files:  34%|███▍      | 138828/405874 [3:30:26<5:08:48, 14.41it/s]/var/folders/c2/f9lh6rmd4q1648_pfl1636zw0000gn/T/ipykernel_41137/3522123127.py:10: UserWarning: PySoundFile failed. Trying audioread instead.\n",
      "  signal, rate = librosa.load(audio_path, sr=16000)\n",
      "[src/libmpg123/parse.c:do_readahead():1083] warning: Cannot read next header, a one-frame stream? Duh...\n",
      "/Users/maryamsaad/Library/Python/3.9/lib/python/site-packages/librosa/core/audio.py:184: FutureWarning: librosa.core.audio.__audioread_load\n",
      "\tDeprecated as of librosa version 0.10.0.\n",
      "\tIt will be removed in librosa version 1.0.\n",
      "  y, sr_native = __audioread_load(path, offset, duration, dtype)\n"
     ]
    },
    {
     "name": "stdout",
     "output_type": "stream",
     "text": [
      "Error processing d4LITu_728.mp3: \n",
      "Error processing yn5pta_729.mp3: \n",
      "Error processing M0B8VN_730.mp3: \n"
     ]
    },
    {
     "name": "stderr",
     "output_type": "stream",
     "text": [
      "Processing Audio Files:  34%|███▍      | 138830/405874 [3:30:26<5:04:16, 14.63it/s]/var/folders/c2/f9lh6rmd4q1648_pfl1636zw0000gn/T/ipykernel_41137/3522123127.py:10: UserWarning: PySoundFile failed. Trying audioread instead.\n",
      "  signal, rate = librosa.load(audio_path, sr=16000)\n",
      "/Users/maryamsaad/Library/Python/3.9/lib/python/site-packages/librosa/core/audio.py:184: FutureWarning: librosa.core.audio.__audioread_load\n",
      "\tDeprecated as of librosa version 0.10.0.\n",
      "\tIt will be removed in librosa version 1.0.\n",
      "  y, sr_native = __audioread_load(path, offset, duration, dtype)\n",
      "[src/libmpg123/parse.c:do_readahead():1083] warning: Cannot read next header, a one-frame stream? Duh...\n",
      "Processing Audio Files:  34%|███▍      | 138830/405874 [3:30:26<5:04:16, 14.63it/s]/var/folders/c2/f9lh6rmd4q1648_pfl1636zw0000gn/T/ipykernel_41137/3522123127.py:10: UserWarning: PySoundFile failed. Trying audioread instead.\n",
      "  signal, rate = librosa.load(audio_path, sr=16000)\n",
      "/Users/maryamsaad/Library/Python/3.9/lib/python/site-packages/librosa/core/audio.py:184: FutureWarning: librosa.core.audio.__audioread_load\n",
      "\tDeprecated as of librosa version 0.10.0.\n",
      "\tIt will be removed in librosa version 1.0.\n",
      "  y, sr_native = __audioread_load(path, offset, duration, dtype)\n",
      "[src/libmpg123/parse.c:do_readahead():1083] warning: Cannot read next header, a one-frame stream? Duh...\n",
      "Processing Audio Files:  34%|███▍      | 138832/405874 [3:30:26<5:03:45, 14.65it/s]/var/folders/c2/f9lh6rmd4q1648_pfl1636zw0000gn/T/ipykernel_41137/3522123127.py:10: UserWarning: PySoundFile failed. Trying audioread instead.\n",
      "  signal, rate = librosa.load(audio_path, sr=16000)\n",
      "[src/libmpg123/parse.c:do_readahead():1083] warning: Cannot read next header, a one-frame stream? Duh...\n",
      "/Users/maryamsaad/Library/Python/3.9/lib/python/site-packages/librosa/core/audio.py:184: FutureWarning: librosa.core.audio.__audioread_load\n",
      "\tDeprecated as of librosa version 0.10.0.\n",
      "\tIt will be removed in librosa version 1.0.\n",
      "  y, sr_native = __audioread_load(path, offset, duration, dtype)\n"
     ]
    },
    {
     "name": "stdout",
     "output_type": "stream",
     "text": [
      "Error processing Vh2tQo_731.mp3: \n",
      "Error processing ukLnAn_732.mp3: \n",
      "Error processing QEMFCo_733.mp3: \n"
     ]
    },
    {
     "name": "stderr",
     "output_type": "stream",
     "text": [
      "Processing Audio Files:  34%|███▍      | 138832/405874 [3:30:26<5:03:45, 14.65it/s]/var/folders/c2/f9lh6rmd4q1648_pfl1636zw0000gn/T/ipykernel_41137/3522123127.py:10: UserWarning: PySoundFile failed. Trying audioread instead.\n",
      "  signal, rate = librosa.load(audio_path, sr=16000)\n",
      "[src/libmpg123/parse.c:do_readahead():1083] warning: Cannot read next header, a one-frame stream? Duh...\n",
      "/Users/maryamsaad/Library/Python/3.9/lib/python/site-packages/librosa/core/audio.py:184: FutureWarning: librosa.core.audio.__audioread_load\n",
      "\tDeprecated as of librosa version 0.10.0.\n",
      "\tIt will be removed in librosa version 1.0.\n",
      "  y, sr_native = __audioread_load(path, offset, duration, dtype)\n",
      "Processing Audio Files:  34%|███▍      | 138834/405874 [3:30:26<5:02:35, 14.71it/s]/var/folders/c2/f9lh6rmd4q1648_pfl1636zw0000gn/T/ipykernel_41137/3522123127.py:10: UserWarning: PySoundFile failed. Trying audioread instead.\n",
      "  signal, rate = librosa.load(audio_path, sr=16000)\n",
      "[src/libmpg123/parse.c:do_readahead():1083] warning: Cannot read next header, a one-frame stream? Duh...\n",
      "/Users/maryamsaad/Library/Python/3.9/lib/python/site-packages/librosa/core/audio.py:184: FutureWarning: librosa.core.audio.__audioread_load\n",
      "\tDeprecated as of librosa version 0.10.0.\n",
      "\tIt will be removed in librosa version 1.0.\n",
      "  y, sr_native = __audioread_load(path, offset, duration, dtype)\n",
      "Processing Audio Files:  34%|███▍      | 138834/405874 [3:30:26<5:02:35, 14.71it/s][src/libmpg123/parse.c:do_readahead():1083] warning: Cannot read next header, a one-frame stream? Duh...\n",
      "/var/folders/c2/f9lh6rmd4q1648_pfl1636zw0000gn/T/ipykernel_41137/3522123127.py:10: UserWarning: PySoundFile failed. Trying audioread instead.\n",
      "  signal, rate = librosa.load(audio_path, sr=16000)\n",
      "/Users/maryamsaad/Library/Python/3.9/lib/python/site-packages/librosa/core/audio.py:184: FutureWarning: librosa.core.audio.__audioread_load\n",
      "\tDeprecated as of librosa version 0.10.0.\n",
      "\tIt will be removed in librosa version 1.0.\n",
      "  y, sr_native = __audioread_load(path, offset, duration, dtype)\n"
     ]
    },
    {
     "name": "stdout",
     "output_type": "stream",
     "text": [
      "Error processing Pfc0ZL_734.mp3: \n",
      "Error processing Tleeg8_735.mp3: \n",
      "Error processing uxhtJs_736.mp3: \n"
     ]
    },
    {
     "name": "stderr",
     "output_type": "stream",
     "text": [
      "Processing Audio Files:  34%|███▍      | 138836/405874 [3:30:26<5:01:13, 14.78it/s]/var/folders/c2/f9lh6rmd4q1648_pfl1636zw0000gn/T/ipykernel_41137/3522123127.py:10: UserWarning: PySoundFile failed. Trying audioread instead.\n",
      "  signal, rate = librosa.load(audio_path, sr=16000)\n",
      "[src/libmpg123/parse.c:do_readahead():1083] warning: Cannot read next header, a one-frame stream? Duh...\n",
      "/Users/maryamsaad/Library/Python/3.9/lib/python/site-packages/librosa/core/audio.py:184: FutureWarning: librosa.core.audio.__audioread_load\n",
      "\tDeprecated as of librosa version 0.10.0.\n",
      "\tIt will be removed in librosa version 1.0.\n",
      "  y, sr_native = __audioread_load(path, offset, duration, dtype)\n",
      "Processing Audio Files:  34%|███▍      | 138836/405874 [3:30:27<5:01:13, 14.78it/s]/var/folders/c2/f9lh6rmd4q1648_pfl1636zw0000gn/T/ipykernel_41137/3522123127.py:10: UserWarning: PySoundFile failed. Trying audioread instead.\n",
      "  signal, rate = librosa.load(audio_path, sr=16000)\n",
      "/Users/maryamsaad/Library/Python/3.9/lib/python/site-packages/librosa/core/audio.py:184: FutureWarning: librosa.core.audio.__audioread_load\n",
      "\tDeprecated as of librosa version 0.10.0.\n",
      "\tIt will be removed in librosa version 1.0.\n",
      "  y, sr_native = __audioread_load(path, offset, duration, dtype)\n",
      "[src/libmpg123/parse.c:do_readahead():1083] warning: Cannot read next header, a one-frame stream? Duh...\n",
      "Processing Audio Files:  34%|███▍      | 138838/405874 [3:30:27<5:01:23, 14.77it/s]/var/folders/c2/f9lh6rmd4q1648_pfl1636zw0000gn/T/ipykernel_41137/3522123127.py:10: UserWarning: PySoundFile failed. Trying audioread instead.\n",
      "  signal, rate = librosa.load(audio_path, sr=16000)\n",
      "[src/libmpg123/parse.c:do_readahead():1083] warning: Cannot read next header, a one-frame stream? Duh...\n",
      "/Users/maryamsaad/Library/Python/3.9/lib/python/site-packages/librosa/core/audio.py:184: FutureWarning: librosa.core.audio.__audioread_load\n",
      "\tDeprecated as of librosa version 0.10.0.\n",
      "\tIt will be removed in librosa version 1.0.\n",
      "  y, sr_native = __audioread_load(path, offset, duration, dtype)\n"
     ]
    },
    {
     "name": "stdout",
     "output_type": "stream",
     "text": [
      "Error processing 9wzHJ7_737.mp3: \n",
      "Error processing 3DNlKM_738.mp3: \n",
      "Error processing FbgZkl_739.mp3: \n"
     ]
    },
    {
     "name": "stderr",
     "output_type": "stream",
     "text": [
      "Processing Audio Files:  34%|███▍      | 138838/405874 [3:30:27<5:01:23, 14.77it/s]/var/folders/c2/f9lh6rmd4q1648_pfl1636zw0000gn/T/ipykernel_41137/3522123127.py:10: UserWarning: PySoundFile failed. Trying audioread instead.\n",
      "  signal, rate = librosa.load(audio_path, sr=16000)\n",
      "/Users/maryamsaad/Library/Python/3.9/lib/python/site-packages/librosa/core/audio.py:184: FutureWarning: librosa.core.audio.__audioread_load\n",
      "\tDeprecated as of librosa version 0.10.0.\n",
      "\tIt will be removed in librosa version 1.0.\n",
      "  y, sr_native = __audioread_load(path, offset, duration, dtype)\n",
      "[src/libmpg123/parse.c:do_readahead():1083] warning: Cannot read next header, a one-frame stream? Duh...\n",
      "Processing Audio Files:  34%|███▍      | 138840/405874 [3:30:27<5:07:16, 14.48it/s]/var/folders/c2/f9lh6rmd4q1648_pfl1636zw0000gn/T/ipykernel_41137/3522123127.py:10: UserWarning: PySoundFile failed. Trying audioread instead.\n",
      "  signal, rate = librosa.load(audio_path, sr=16000)\n",
      "/Users/maryamsaad/Library/Python/3.9/lib/python/site-packages/librosa/core/audio.py:184: FutureWarning: librosa.core.audio.__audioread_load\n",
      "\tDeprecated as of librosa version 0.10.0.\n",
      "\tIt will be removed in librosa version 1.0.\n",
      "  y, sr_native = __audioread_load(path, offset, duration, dtype)\n",
      "[src/libmpg123/parse.c:do_readahead():1083] warning: Cannot read next header, a one-frame stream? Duh...\n",
      "Processing Audio Files:  34%|███▍      | 138840/405874 [3:30:27<5:07:16, 14.48it/s]/var/folders/c2/f9lh6rmd4q1648_pfl1636zw0000gn/T/ipykernel_41137/3522123127.py:10: UserWarning: PySoundFile failed. Trying audioread instead.\n",
      "  signal, rate = librosa.load(audio_path, sr=16000)\n",
      "/Users/maryamsaad/Library/Python/3.9/lib/python/site-packages/librosa/core/audio.py:184: FutureWarning: librosa.core.audio.__audioread_load\n",
      "\tDeprecated as of librosa version 0.10.0.\n",
      "\tIt will be removed in librosa version 1.0.\n",
      "  y, sr_native = __audioread_load(path, offset, duration, dtype)\n",
      "[src/libmpg123/parse.c:do_readahead():1083] warning: Cannot read next header, a one-frame stream? Duh...\n"
     ]
    },
    {
     "name": "stdout",
     "output_type": "stream",
     "text": [
      "Error processing 4429Qw_740.mp3: \n",
      "Error processing 4fo00K_741.mp3: \n",
      "Error processing X9oZnY_742.mp3: \n"
     ]
    },
    {
     "name": "stderr",
     "output_type": "stream",
     "text": [
      "Processing Audio Files:  34%|███▍      | 138842/405874 [3:30:27<5:04:09, 14.63it/s]/var/folders/c2/f9lh6rmd4q1648_pfl1636zw0000gn/T/ipykernel_41137/3522123127.py:10: UserWarning: PySoundFile failed. Trying audioread instead.\n",
      "  signal, rate = librosa.load(audio_path, sr=16000)\n",
      "/Users/maryamsaad/Library/Python/3.9/lib/python/site-packages/librosa/core/audio.py:184: FutureWarning: librosa.core.audio.__audioread_load\n",
      "\tDeprecated as of librosa version 0.10.0.\n",
      "\tIt will be removed in librosa version 1.0.\n",
      "  y, sr_native = __audioread_load(path, offset, duration, dtype)\n",
      "[src/libmpg123/parse.c:do_readahead():1083] warning: Cannot read next header, a one-frame stream? Duh...\n",
      "Processing Audio Files:  34%|███▍      | 138842/405874 [3:30:27<5:04:09, 14.63it/s]/var/folders/c2/f9lh6rmd4q1648_pfl1636zw0000gn/T/ipykernel_41137/3522123127.py:10: UserWarning: PySoundFile failed. Trying audioread instead.\n",
      "  signal, rate = librosa.load(audio_path, sr=16000)\n",
      "/Users/maryamsaad/Library/Python/3.9/lib/python/site-packages/librosa/core/audio.py:184: FutureWarning: librosa.core.audio.__audioread_load\n",
      "\tDeprecated as of librosa version 0.10.0.\n",
      "\tIt will be removed in librosa version 1.0.\n",
      "  y, sr_native = __audioread_load(path, offset, duration, dtype)\n",
      "[src/libmpg123/parse.c:do_readahead():1083] warning: Cannot read next header, a one-frame stream? Duh...\n",
      "Processing Audio Files:  34%|███▍      | 138844/405874 [3:30:27<5:02:25, 14.72it/s]/var/folders/c2/f9lh6rmd4q1648_pfl1636zw0000gn/T/ipykernel_41137/3522123127.py:10: UserWarning: PySoundFile failed. Trying audioread instead.\n",
      "  signal, rate = librosa.load(audio_path, sr=16000)\n",
      "[src/libmpg123/parse.c:do_readahead():1083] warning: Cannot read next header, a one-frame stream? Duh...\n",
      "/Users/maryamsaad/Library/Python/3.9/lib/python/site-packages/librosa/core/audio.py:184: FutureWarning: librosa.core.audio.__audioread_load\n",
      "\tDeprecated as of librosa version 0.10.0.\n",
      "\tIt will be removed in librosa version 1.0.\n",
      "  y, sr_native = __audioread_load(path, offset, duration, dtype)\n"
     ]
    },
    {
     "name": "stdout",
     "output_type": "stream",
     "text": [
      "Error processing 5oncdy_743.mp3: \n",
      "Error processing aQkpsg_744.mp3: \n",
      "Error processing sjucyr_745.mp3: \n"
     ]
    },
    {
     "name": "stderr",
     "output_type": "stream",
     "text": [
      "Processing Audio Files:  34%|███▍      | 138844/405874 [3:30:27<5:02:25, 14.72it/s]/var/folders/c2/f9lh6rmd4q1648_pfl1636zw0000gn/T/ipykernel_41137/3522123127.py:10: UserWarning: PySoundFile failed. Trying audioread instead.\n",
      "  signal, rate = librosa.load(audio_path, sr=16000)\n",
      "[src/libmpg123/parse.c:do_readahead():1083] warning: Cannot read next header, a one-frame stream? Duh...\n",
      "/Users/maryamsaad/Library/Python/3.9/lib/python/site-packages/librosa/core/audio.py:184: FutureWarning: librosa.core.audio.__audioread_load\n",
      "\tDeprecated as of librosa version 0.10.0.\n",
      "\tIt will be removed in librosa version 1.0.\n",
      "  y, sr_native = __audioread_load(path, offset, duration, dtype)\n",
      "Processing Audio Files:  34%|███▍      | 138846/405874 [3:30:27<5:01:46, 14.75it/s]/var/folders/c2/f9lh6rmd4q1648_pfl1636zw0000gn/T/ipykernel_41137/3522123127.py:10: UserWarning: PySoundFile failed. Trying audioread instead.\n",
      "  signal, rate = librosa.load(audio_path, sr=16000)\n",
      "[src/libmpg123/parse.c:do_readahead():1083] warning: Cannot read next header, a one-frame stream? Duh...\n",
      "/Users/maryamsaad/Library/Python/3.9/lib/python/site-packages/librosa/core/audio.py:184: FutureWarning: librosa.core.audio.__audioread_load\n",
      "\tDeprecated as of librosa version 0.10.0.\n",
      "\tIt will be removed in librosa version 1.0.\n",
      "  y, sr_native = __audioread_load(path, offset, duration, dtype)\n",
      "Processing Audio Files:  34%|███▍      | 138846/405874 [3:30:27<5:01:46, 14.75it/s]/var/folders/c2/f9lh6rmd4q1648_pfl1636zw0000gn/T/ipykernel_41137/3522123127.py:10: UserWarning: PySoundFile failed. Trying audioread instead.\n",
      "  signal, rate = librosa.load(audio_path, sr=16000)\n",
      "/Users/maryamsaad/Library/Python/3.9/lib/python/site-packages/librosa/core/audio.py:184: FutureWarning: librosa.core.audio.__audioread_load\n",
      "\tDeprecated as of librosa version 0.10.0.\n",
      "\tIt will be removed in librosa version 1.0.\n",
      "  y, sr_native = __audioread_load(path, offset, duration, dtype)\n",
      "[src/libmpg123/parse.c:do_readahead():1083] warning: Cannot read next header, a one-frame stream? Duh...\n",
      "                                                                                   "
     ]
    },
    {
     "name": "stdout",
     "output_type": "stream",
     "text": [
      "Error processing qNgwdC_746.mp3: \n",
      "Error processing Il5ksj_747.mp3: \n",
      "Error processing gZ0XEA_748.mp3: \n"
     ]
    },
    {
     "name": "stderr",
     "output_type": "stream",
     "text": [
      "Processing Audio Files:  34%|███▍      | 138848/405874 [3:30:27<5:00:37, 14.80it/s][src/libmpg123/parse.c:do_readahead():1083] warning: Cannot read next header, a one-frame stream? Duh...\n",
      "/var/folders/c2/f9lh6rmd4q1648_pfl1636zw0000gn/T/ipykernel_41137/3522123127.py:10: UserWarning: PySoundFile failed. Trying audioread instead.\n",
      "  signal, rate = librosa.load(audio_path, sr=16000)\n",
      "/Users/maryamsaad/Library/Python/3.9/lib/python/site-packages/librosa/core/audio.py:184: FutureWarning: librosa.core.audio.__audioread_load\n",
      "\tDeprecated as of librosa version 0.10.0.\n",
      "\tIt will be removed in librosa version 1.0.\n",
      "  y, sr_native = __audioread_load(path, offset, duration, dtype)\n",
      "Processing Audio Files:  34%|███▍      | 138848/405874 [3:30:27<5:00:37, 14.80it/s]/var/folders/c2/f9lh6rmd4q1648_pfl1636zw0000gn/T/ipykernel_41137/3522123127.py:10: UserWarning: PySoundFile failed. Trying audioread instead.\n",
      "  signal, rate = librosa.load(audio_path, sr=16000)\n",
      "/Users/maryamsaad/Library/Python/3.9/lib/python/site-packages/librosa/core/audio.py:184: FutureWarning: librosa.core.audio.__audioread_load\n",
      "\tDeprecated as of librosa version 0.10.0.\n",
      "\tIt will be removed in librosa version 1.0.\n",
      "  y, sr_native = __audioread_load(path, offset, duration, dtype)\n",
      "[src/libmpg123/parse.c:do_readahead():1083] warning: Cannot read next header, a one-frame stream? Duh...\n",
      "Processing Audio Files:  34%|███▍      | 138850/405874 [3:30:27<5:01:21, 14.77it/s]/var/folders/c2/f9lh6rmd4q1648_pfl1636zw0000gn/T/ipykernel_41137/3522123127.py:10: UserWarning: PySoundFile failed. Trying audioread instead.\n",
      "  signal, rate = librosa.load(audio_path, sr=16000)\n",
      "[src/libmpg123/parse.c:do_readahead():1083] warning: Cannot read next header, a one-frame stream? Duh...\n",
      "/Users/maryamsaad/Library/Python/3.9/lib/python/site-packages/librosa/core/audio.py:184: FutureWarning: librosa.core.audio.__audioread_load\n",
      "\tDeprecated as of librosa version 0.10.0.\n",
      "\tIt will be removed in librosa version 1.0.\n",
      "  y, sr_native = __audioread_load(path, offset, duration, dtype)\n"
     ]
    },
    {
     "name": "stdout",
     "output_type": "stream",
     "text": [
      "Error processing hcmQeS_749.mp3: \n",
      "Error processing CiFmWT_750.mp3: \n",
      "Error processing Fj4jlo_751.mp3: \n"
     ]
    },
    {
     "name": "stderr",
     "output_type": "stream",
     "text": [
      "Processing Audio Files:  34%|███▍      | 138850/405874 [3:30:28<5:01:21, 14.77it/s]/var/folders/c2/f9lh6rmd4q1648_pfl1636zw0000gn/T/ipykernel_41137/3522123127.py:10: UserWarning: PySoundFile failed. Trying audioread instead.\n",
      "  signal, rate = librosa.load(audio_path, sr=16000)\n",
      "/Users/maryamsaad/Library/Python/3.9/lib/python/site-packages/librosa/core/audio.py:184: FutureWarning: librosa.core.audio.__audioread_load\n",
      "\tDeprecated as of librosa version 0.10.0.\n",
      "\tIt will be removed in librosa version 1.0.\n",
      "  y, sr_native = __audioread_load(path, offset, duration, dtype)\n",
      "[src/libmpg123/parse.c:do_readahead():1083] warning: Cannot read next header, a one-frame stream? Duh...\n",
      "Processing Audio Files:  34%|███▍      | 138852/405874 [3:30:28<5:07:08, 14.49it/s]/var/folders/c2/f9lh6rmd4q1648_pfl1636zw0000gn/T/ipykernel_41137/3522123127.py:10: UserWarning: PySoundFile failed. Trying audioread instead.\n",
      "  signal, rate = librosa.load(audio_path, sr=16000)\n",
      "/Users/maryamsaad/Library/Python/3.9/lib/python/site-packages/librosa/core/audio.py:184: FutureWarning: librosa.core.audio.__audioread_load\n",
      "\tDeprecated as of librosa version 0.10.0.\n",
      "\tIt will be removed in librosa version 1.0.\n",
      "  y, sr_native = __audioread_load(path, offset, duration, dtype)\n",
      "[src/libmpg123/parse.c:do_readahead():1083] warning: Cannot read next header, a one-frame stream? Duh...\n",
      "Processing Audio Files:  34%|███▍      | 138852/405874 [3:30:28<5:07:08, 14.49it/s]/var/folders/c2/f9lh6rmd4q1648_pfl1636zw0000gn/T/ipykernel_41137/3522123127.py:10: UserWarning: PySoundFile failed. Trying audioread instead.\n",
      "  signal, rate = librosa.load(audio_path, sr=16000)\n",
      "[src/libmpg123/parse.c:do_readahead():1083] warning: Cannot read next header, a one-frame stream? Duh...\n",
      "/Users/maryamsaad/Library/Python/3.9/lib/python/site-packages/librosa/core/audio.py:184: FutureWarning: librosa.core.audio.__audioread_load\n",
      "\tDeprecated as of librosa version 0.10.0.\n",
      "\tIt will be removed in librosa version 1.0.\n",
      "  y, sr_native = __audioread_load(path, offset, duration, dtype)\n"
     ]
    },
    {
     "name": "stdout",
     "output_type": "stream",
     "text": [
      "Error processing opKDgw_752.mp3: \n",
      "Error processing r4K7qt_753.mp3: \n",
      "Error processing hNuILg_754.mp3: \n"
     ]
    },
    {
     "name": "stderr",
     "output_type": "stream",
     "text": [
      "Processing Audio Files:  34%|███▍      | 138854/405874 [3:30:28<5:03:43, 14.65it/s]/var/folders/c2/f9lh6rmd4q1648_pfl1636zw0000gn/T/ipykernel_41137/3522123127.py:10: UserWarning: PySoundFile failed. Trying audioread instead.\n",
      "  signal, rate = librosa.load(audio_path, sr=16000)\n",
      "/Users/maryamsaad/Library/Python/3.9/lib/python/site-packages/librosa/core/audio.py:184: FutureWarning: librosa.core.audio.__audioread_load\n",
      "\tDeprecated as of librosa version 0.10.0.\n",
      "\tIt will be removed in librosa version 1.0.\n",
      "  y, sr_native = __audioread_load(path, offset, duration, dtype)\n",
      "[src/libmpg123/parse.c:do_readahead():1083] warning: Cannot read next header, a one-frame stream? Duh...\n",
      "Processing Audio Files:  34%|███▍      | 138854/405874 [3:30:28<5:03:43, 14.65it/s]/var/folders/c2/f9lh6rmd4q1648_pfl1636zw0000gn/T/ipykernel_41137/3522123127.py:10: UserWarning: PySoundFile failed. Trying audioread instead.\n",
      "  signal, rate = librosa.load(audio_path, sr=16000)\n",
      "/Users/maryamsaad/Library/Python/3.9/lib/python/site-packages/librosa/core/audio.py:184: FutureWarning: librosa.core.audio.__audioread_load\n",
      "\tDeprecated as of librosa version 0.10.0.\n",
      "\tIt will be removed in librosa version 1.0.\n",
      "  y, sr_native = __audioread_load(path, offset, duration, dtype)\n",
      "[src/libmpg123/parse.c:do_readahead():1083] warning: Cannot read next header, a one-frame stream? Duh...\n",
      "Processing Audio Files:  34%|███▍      | 138856/405874 [3:30:28<5:03:14, 14.68it/s]/var/folders/c2/f9lh6rmd4q1648_pfl1636zw0000gn/T/ipykernel_41137/3522123127.py:10: UserWarning: PySoundFile failed. Trying audioread instead.\n",
      "  signal, rate = librosa.load(audio_path, sr=16000)\n",
      "[src/libmpg123/parse.c:do_readahead():1083] warning: Cannot read next header, a one-frame stream? Duh...\n",
      "/Users/maryamsaad/Library/Python/3.9/lib/python/site-packages/librosa/core/audio.py:184: FutureWarning: librosa.core.audio.__audioread_load\n",
      "\tDeprecated as of librosa version 0.10.0.\n",
      "\tIt will be removed in librosa version 1.0.\n",
      "  y, sr_native = __audioread_load(path, offset, duration, dtype)\n"
     ]
    },
    {
     "name": "stdout",
     "output_type": "stream",
     "text": [
      "Error processing 4BRSst_755.mp3: \n",
      "Error processing Uxfcbd_756.mp3: \n",
      "Error processing MrLts4_757.mp3: \n"
     ]
    },
    {
     "name": "stderr",
     "output_type": "stream",
     "text": [
      "Processing Audio Files:  34%|███▍      | 138856/405874 [3:30:28<5:03:14, 14.68it/s]/var/folders/c2/f9lh6rmd4q1648_pfl1636zw0000gn/T/ipykernel_41137/3522123127.py:10: UserWarning: PySoundFile failed. Trying audioread instead.\n",
      "  signal, rate = librosa.load(audio_path, sr=16000)\n",
      "/Users/maryamsaad/Library/Python/3.9/lib/python/site-packages/librosa/core/audio.py:184: FutureWarning: librosa.core.audio.__audioread_load\n",
      "\tDeprecated as of librosa version 0.10.0.\n",
      "\tIt will be removed in librosa version 1.0.\n",
      "  y, sr_native = __audioread_load(path, offset, duration, dtype)\n",
      "[src/libmpg123/parse.c:do_readahead():1083] warning: Cannot read next header, a one-frame stream? Duh...\n",
      "Processing Audio Files:  34%|███▍      | 138858/405874 [3:30:28<5:02:31, 14.71it/s]/var/folders/c2/f9lh6rmd4q1648_pfl1636zw0000gn/T/ipykernel_41137/3522123127.py:10: UserWarning: PySoundFile failed. Trying audioread instead.\n",
      "  signal, rate = librosa.load(audio_path, sr=16000)\n",
      "/Users/maryamsaad/Library/Python/3.9/lib/python/site-packages/librosa/core/audio.py:184: FutureWarning: librosa.core.audio.__audioread_load\n",
      "\tDeprecated as of librosa version 0.10.0.\n",
      "\tIt will be removed in librosa version 1.0.\n",
      "  y, sr_native = __audioread_load(path, offset, duration, dtype)\n",
      "[src/libmpg123/parse.c:do_readahead():1083] warning: Cannot read next header, a one-frame stream? Duh...\n",
      "Processing Audio Files:  34%|███▍      | 138858/405874 [3:30:28<5:02:31, 14.71it/s]/var/folders/c2/f9lh6rmd4q1648_pfl1636zw0000gn/T/ipykernel_41137/3522123127.py:10: UserWarning: PySoundFile failed. Trying audioread instead.\n",
      "  signal, rate = librosa.load(audio_path, sr=16000)\n",
      "/Users/maryamsaad/Library/Python/3.9/lib/python/site-packages/librosa/core/audio.py:184: FutureWarning: librosa.core.audio.__audioread_load\n",
      "\tDeprecated as of librosa version 0.10.0.\n",
      "\tIt will be removed in librosa version 1.0.\n",
      "  y, sr_native = __audioread_load(path, offset, duration, dtype)\n",
      "[src/libmpg123/parse.c:do_readahead():1083] warning: Cannot read next header, a one-frame stream? Duh...\n"
     ]
    },
    {
     "name": "stdout",
     "output_type": "stream",
     "text": [
      "Error processing 7YLlG7_758.mp3: \n",
      "Error processing ucN9rJ_759.mp3: \n",
      "Error processing 3QptHp_760.mp3: \n"
     ]
    },
    {
     "name": "stderr",
     "output_type": "stream",
     "text": [
      "Processing Audio Files:  34%|███▍      | 138860/405874 [3:30:28<5:01:50, 14.74it/s]/var/folders/c2/f9lh6rmd4q1648_pfl1636zw0000gn/T/ipykernel_41137/3522123127.py:10: UserWarning: PySoundFile failed. Trying audioread instead.\n",
      "  signal, rate = librosa.load(audio_path, sr=16000)\n",
      "[src/libmpg123/parse.c:do_readahead():1083] warning: Cannot read next header, a one-frame stream? Duh...\n",
      "/Users/maryamsaad/Library/Python/3.9/lib/python/site-packages/librosa/core/audio.py:184: FutureWarning: librosa.core.audio.__audioread_load\n",
      "\tDeprecated as of librosa version 0.10.0.\n",
      "\tIt will be removed in librosa version 1.0.\n",
      "  y, sr_native = __audioread_load(path, offset, duration, dtype)\n",
      "Processing Audio Files:  34%|███▍      | 138860/405874 [3:30:28<5:01:50, 14.74it/s]/var/folders/c2/f9lh6rmd4q1648_pfl1636zw0000gn/T/ipykernel_41137/3522123127.py:10: UserWarning: PySoundFile failed. Trying audioread instead.\n",
      "  signal, rate = librosa.load(audio_path, sr=16000)\n",
      "/Users/maryamsaad/Library/Python/3.9/lib/python/site-packages/librosa/core/audio.py:184: FutureWarning: librosa.core.audio.__audioread_load\n",
      "\tDeprecated as of librosa version 0.10.0.\n",
      "\tIt will be removed in librosa version 1.0.\n",
      "  y, sr_native = __audioread_load(path, offset, duration, dtype)\n",
      "[src/libmpg123/parse.c:do_readahead():1083] warning: Cannot read next header, a one-frame stream? Duh...\n",
      "Processing Audio Files:  34%|███▍      | 138862/405874 [3:30:28<5:01:44, 14.75it/s]/var/folders/c2/f9lh6rmd4q1648_pfl1636zw0000gn/T/ipykernel_41137/3522123127.py:10: UserWarning: PySoundFile failed. Trying audioread instead.\n",
      "  signal, rate = librosa.load(audio_path, sr=16000)\n",
      "[src/libmpg123/parse.c:do_readahead():1083] warning: Cannot read next header, a one-frame stream? Duh...\n",
      "/Users/maryamsaad/Library/Python/3.9/lib/python/site-packages/librosa/core/audio.py:184: FutureWarning: librosa.core.audio.__audioread_load\n",
      "\tDeprecated as of librosa version 0.10.0.\n",
      "\tIt will be removed in librosa version 1.0.\n",
      "  y, sr_native = __audioread_load(path, offset, duration, dtype)\n"
     ]
    },
    {
     "name": "stdout",
     "output_type": "stream",
     "text": [
      "Error processing P0Zlnx_761.mp3: \n",
      "Error processing IQn8IQ_762.mp3: \n",
      "Error processing OwRgfH_763.mp3: \n"
     ]
    },
    {
     "name": "stderr",
     "output_type": "stream",
     "text": [
      "Processing Audio Files:  34%|███▍      | 138862/405874 [3:30:28<5:01:44, 14.75it/s]/var/folders/c2/f9lh6rmd4q1648_pfl1636zw0000gn/T/ipykernel_41137/3522123127.py:10: UserWarning: PySoundFile failed. Trying audioread instead.\n",
      "  signal, rate = librosa.load(audio_path, sr=16000)\n",
      "[src/libmpg123/parse.c:do_readahead():1083] warning: Cannot read next header, a one-frame stream? Duh...\n",
      "/Users/maryamsaad/Library/Python/3.9/lib/python/site-packages/librosa/core/audio.py:184: FutureWarning: librosa.core.audio.__audioread_load\n",
      "\tDeprecated as of librosa version 0.10.0.\n",
      "\tIt will be removed in librosa version 1.0.\n",
      "  y, sr_native = __audioread_load(path, offset, duration, dtype)\n",
      "Processing Audio Files:  34%|███▍      | 138864/405874 [3:30:28<5:05:44, 14.56it/s]/var/folders/c2/f9lh6rmd4q1648_pfl1636zw0000gn/T/ipykernel_41137/3522123127.py:10: UserWarning: PySoundFile failed. Trying audioread instead.\n",
      "  signal, rate = librosa.load(audio_path, sr=16000)\n",
      "/Users/maryamsaad/Library/Python/3.9/lib/python/site-packages/librosa/core/audio.py:184: FutureWarning: librosa.core.audio.__audioread_load\n",
      "\tDeprecated as of librosa version 0.10.0.\n",
      "\tIt will be removed in librosa version 1.0.\n",
      "  y, sr_native = __audioread_load(path, offset, duration, dtype)\n",
      "[src/libmpg123/parse.c:do_readahead():1083] warning: Cannot read next header, a one-frame stream? Duh...\n",
      "Processing Audio Files:  34%|███▍      | 138864/405874 [3:30:28<5:05:44, 14.56it/s]/var/folders/c2/f9lh6rmd4q1648_pfl1636zw0000gn/T/ipykernel_41137/3522123127.py:10: UserWarning: PySoundFile failed. Trying audioread instead.\n",
      "  signal, rate = librosa.load(audio_path, sr=16000)\n",
      "/Users/maryamsaad/Library/Python/3.9/lib/python/site-packages/librosa/core/audio.py:184: FutureWarning: librosa.core.audio.__audioread_load\n",
      "\tDeprecated as of librosa version 0.10.0.\n",
      "\tIt will be removed in librosa version 1.0.\n",
      "  y, sr_native = __audioread_load(path, offset, duration, dtype)\n",
      "[src/libmpg123/parse.c:do_readahead():1083] warning: Cannot read next header, a one-frame stream? Duh...\n"
     ]
    },
    {
     "name": "stdout",
     "output_type": "stream",
     "text": [
      "Error processing IpzQn1_764.mp3: \n",
      "Error processing Wcx9cc_765.mp3: \n",
      "Error processing B2B6fm_766.mp3: \n"
     ]
    },
    {
     "name": "stderr",
     "output_type": "stream",
     "text": [
      "Processing Audio Files:  34%|███▍      | 138866/405874 [3:30:29<5:03:34, 14.66it/s][src/libmpg123/parse.c:do_readahead():1083] warning: Cannot read next header, a one-frame stream? Duh...\n",
      "/var/folders/c2/f9lh6rmd4q1648_pfl1636zw0000gn/T/ipykernel_41137/3522123127.py:10: UserWarning: PySoundFile failed. Trying audioread instead.\n",
      "  signal, rate = librosa.load(audio_path, sr=16000)\n",
      "/Users/maryamsaad/Library/Python/3.9/lib/python/site-packages/librosa/core/audio.py:184: FutureWarning: librosa.core.audio.__audioread_load\n",
      "\tDeprecated as of librosa version 0.10.0.\n",
      "\tIt will be removed in librosa version 1.0.\n",
      "  y, sr_native = __audioread_load(path, offset, duration, dtype)\n",
      "Processing Audio Files:  34%|███▍      | 138866/405874 [3:30:29<5:03:34, 14.66it/s]/var/folders/c2/f9lh6rmd4q1648_pfl1636zw0000gn/T/ipykernel_41137/3522123127.py:10: UserWarning: PySoundFile failed. Trying audioread instead.\n",
      "  signal, rate = librosa.load(audio_path, sr=16000)\n",
      "[src/libmpg123/parse.c:do_readahead():1083] warning: Cannot read next header, a one-frame stream? Duh...\n",
      "/Users/maryamsaad/Library/Python/3.9/lib/python/site-packages/librosa/core/audio.py:184: FutureWarning: librosa.core.audio.__audioread_load\n",
      "\tDeprecated as of librosa version 0.10.0.\n",
      "\tIt will be removed in librosa version 1.0.\n",
      "  y, sr_native = __audioread_load(path, offset, duration, dtype)\n",
      "Processing Audio Files:  34%|███▍      | 138868/405874 [3:30:29<5:01:43, 14.75it/s]/var/folders/c2/f9lh6rmd4q1648_pfl1636zw0000gn/T/ipykernel_41137/3522123127.py:10: UserWarning: PySoundFile failed. Trying audioread instead.\n",
      "  signal, rate = librosa.load(audio_path, sr=16000)\n",
      "[src/libmpg123/parse.c:do_readahead():1083] warning: Cannot read next header, a one-frame stream? Duh...\n",
      "/Users/maryamsaad/Library/Python/3.9/lib/python/site-packages/librosa/core/audio.py:184: FutureWarning: librosa.core.audio.__audioread_load\n",
      "\tDeprecated as of librosa version 0.10.0.\n",
      "\tIt will be removed in librosa version 1.0.\n",
      "  y, sr_native = __audioread_load(path, offset, duration, dtype)\n"
     ]
    },
    {
     "name": "stdout",
     "output_type": "stream",
     "text": [
      "Error processing ZGKXKH_767.mp3: \n",
      "Error processing XFmYu8_768.mp3: \n",
      "Error processing jT9p8p_769.mp3: \n"
     ]
    },
    {
     "name": "stderr",
     "output_type": "stream",
     "text": [
      "Processing Audio Files:  34%|███▍      | 138868/405874 [3:30:29<5:01:43, 14.75it/s]/var/folders/c2/f9lh6rmd4q1648_pfl1636zw0000gn/T/ipykernel_41137/3522123127.py:10: UserWarning: PySoundFile failed. Trying audioread instead.\n",
      "  signal, rate = librosa.load(audio_path, sr=16000)\n",
      "/Users/maryamsaad/Library/Python/3.9/lib/python/site-packages/librosa/core/audio.py:184: FutureWarning: librosa.core.audio.__audioread_load\n",
      "\tDeprecated as of librosa version 0.10.0.\n",
      "\tIt will be removed in librosa version 1.0.\n",
      "  y, sr_native = __audioread_load(path, offset, duration, dtype)\n",
      "[src/libmpg123/parse.c:do_readahead():1083] warning: Cannot read next header, a one-frame stream? Duh...\n",
      "Processing Audio Files:  34%|███▍      | 138870/405874 [3:30:29<5:03:18, 14.67it/s]/var/folders/c2/f9lh6rmd4q1648_pfl1636zw0000gn/T/ipykernel_41137/3522123127.py:10: UserWarning: PySoundFile failed. Trying audioread instead.\n",
      "  signal, rate = librosa.load(audio_path, sr=16000)\n",
      "/Users/maryamsaad/Library/Python/3.9/lib/python/site-packages/librosa/core/audio.py:184: FutureWarning: librosa.core.audio.__audioread_load\n",
      "\tDeprecated as of librosa version 0.10.0.\n",
      "\tIt will be removed in librosa version 1.0.\n",
      "  y, sr_native = __audioread_load(path, offset, duration, dtype)\n",
      "[src/libmpg123/parse.c:do_readahead():1083] warning: Cannot read next header, a one-frame stream? Duh...\n",
      "Processing Audio Files:  34%|███▍      | 138870/405874 [3:30:29<5:03:18, 14.67it/s]/var/folders/c2/f9lh6rmd4q1648_pfl1636zw0000gn/T/ipykernel_41137/3522123127.py:10: UserWarning: PySoundFile failed. Trying audioread instead.\n",
      "  signal, rate = librosa.load(audio_path, sr=16000)\n",
      "/Users/maryamsaad/Library/Python/3.9/lib/python/site-packages/librosa/core/audio.py:184: FutureWarning: librosa.core.audio.__audioread_load\n",
      "\tDeprecated as of librosa version 0.10.0.\n",
      "\tIt will be removed in librosa version 1.0.\n",
      "  y, sr_native = __audioread_load(path, offset, duration, dtype)\n",
      "[src/libmpg123/parse.c:do_readahead():1083] warning: Cannot read next header, a one-frame stream? Duh...\n"
     ]
    },
    {
     "name": "stdout",
     "output_type": "stream",
     "text": [
      "Error processing 7Fc8uw_770.mp3: \n",
      "Error processing sCiGdX_771.mp3: \n",
      "Error processing 1A9bql_772.mp3: \n"
     ]
    },
    {
     "name": "stderr",
     "output_type": "stream",
     "text": [
      "Processing Audio Files:  34%|███▍      | 138872/405874 [3:30:29<5:02:12, 14.73it/s]/var/folders/c2/f9lh6rmd4q1648_pfl1636zw0000gn/T/ipykernel_41137/3522123127.py:10: UserWarning: PySoundFile failed. Trying audioread instead.\n",
      "  signal, rate = librosa.load(audio_path, sr=16000)\n",
      "/Users/maryamsaad/Library/Python/3.9/lib/python/site-packages/librosa/core/audio.py:184: FutureWarning: librosa.core.audio.__audioread_load\n",
      "\tDeprecated as of librosa version 0.10.0.\n",
      "\tIt will be removed in librosa version 1.0.\n",
      "  y, sr_native = __audioread_load(path, offset, duration, dtype)\n",
      "[src/libmpg123/parse.c:do_readahead():1083] warning: Cannot read next header, a one-frame stream? Duh...\n",
      "Processing Audio Files:  34%|███▍      | 138872/405874 [3:30:29<5:02:12, 14.73it/s]/var/folders/c2/f9lh6rmd4q1648_pfl1636zw0000gn/T/ipykernel_41137/3522123127.py:10: UserWarning: PySoundFile failed. Trying audioread instead.\n",
      "  signal, rate = librosa.load(audio_path, sr=16000)\n",
      "/Users/maryamsaad/Library/Python/3.9/lib/python/site-packages/librosa/core/audio.py:184: FutureWarning: librosa.core.audio.__audioread_load\n",
      "\tDeprecated as of librosa version 0.10.0.\n",
      "\tIt will be removed in librosa version 1.0.\n",
      "  y, sr_native = __audioread_load(path, offset, duration, dtype)\n",
      "[src/libmpg123/parse.c:do_readahead():1083] warning: Cannot read next header, a one-frame stream? Duh...\n",
      "Processing Audio Files:  34%|███▍      | 138874/405874 [3:30:29<5:00:50, 14.79it/s]/var/folders/c2/f9lh6rmd4q1648_pfl1636zw0000gn/T/ipykernel_41137/3522123127.py:10: UserWarning: PySoundFile failed. Trying audioread instead.\n",
      "  signal, rate = librosa.load(audio_path, sr=16000)\n",
      "[src/libmpg123/parse.c:do_readahead():1083] warning: Cannot read next header, a one-frame stream? Duh...\n",
      "/Users/maryamsaad/Library/Python/3.9/lib/python/site-packages/librosa/core/audio.py:184: FutureWarning: librosa.core.audio.__audioread_load\n",
      "\tDeprecated as of librosa version 0.10.0.\n",
      "\tIt will be removed in librosa version 1.0.\n",
      "  y, sr_native = __audioread_load(path, offset, duration, dtype)\n",
      "                                                                                   "
     ]
    },
    {
     "name": "stdout",
     "output_type": "stream",
     "text": [
      "Error processing wEU62V_773.mp3: \n",
      "Error processing kaPjTc_774.mp3: \n",
      "Error processing cZJ06r_775.mp3: \n"
     ]
    },
    {
     "name": "stderr",
     "output_type": "stream",
     "text": [
      "Processing Audio Files:  34%|███▍      | 138874/405874 [3:30:29<5:00:50, 14.79it/s]/var/folders/c2/f9lh6rmd4q1648_pfl1636zw0000gn/T/ipykernel_41137/3522123127.py:10: UserWarning: PySoundFile failed. Trying audioread instead.\n",
      "  signal, rate = librosa.load(audio_path, sr=16000)\n",
      "/Users/maryamsaad/Library/Python/3.9/lib/python/site-packages/librosa/core/audio.py:184: FutureWarning: librosa.core.audio.__audioread_load\n",
      "\tDeprecated as of librosa version 0.10.0.\n",
      "\tIt will be removed in librosa version 1.0.\n",
      "  y, sr_native = __audioread_load(path, offset, duration, dtype)\n",
      "[src/libmpg123/parse.c:do_readahead():1083] warning: Cannot read next header, a one-frame stream? Duh...\n",
      "Processing Audio Files:  34%|███▍      | 138876/405874 [3:30:29<5:03:58, 14.64it/s]/var/folders/c2/f9lh6rmd4q1648_pfl1636zw0000gn/T/ipykernel_41137/3522123127.py:10: UserWarning: PySoundFile failed. Trying audioread instead.\n",
      "  signal, rate = librosa.load(audio_path, sr=16000)\n",
      "/Users/maryamsaad/Library/Python/3.9/lib/python/site-packages/librosa/core/audio.py:184: FutureWarning: librosa.core.audio.__audioread_load\n",
      "\tDeprecated as of librosa version 0.10.0.\n",
      "\tIt will be removed in librosa version 1.0.\n",
      "  y, sr_native = __audioread_load(path, offset, duration, dtype)\n",
      "[src/libmpg123/parse.c:do_readahead():1083] warning: Cannot read next header, a one-frame stream? Duh...\n",
      "Processing Audio Files:  34%|███▍      | 138876/405874 [3:30:29<5:03:58, 14.64it/s]/var/folders/c2/f9lh6rmd4q1648_pfl1636zw0000gn/T/ipykernel_41137/3522123127.py:10: UserWarning: PySoundFile failed. Trying audioread instead.\n",
      "  signal, rate = librosa.load(audio_path, sr=16000)\n",
      "/Users/maryamsaad/Library/Python/3.9/lib/python/site-packages/librosa/core/audio.py:184: FutureWarning: librosa.core.audio.__audioread_load\n",
      "\tDeprecated as of librosa version 0.10.0.\n",
      "\tIt will be removed in librosa version 1.0.\n",
      "  y, sr_native = __audioread_load(path, offset, duration, dtype)\n",
      "[src/libmpg123/parse.c:do_readahead():1083] warning: Cannot read next header, a one-frame stream? Duh...\n"
     ]
    },
    {
     "name": "stdout",
     "output_type": "stream",
     "text": [
      "Error processing R35D83_776.mp3: \n",
      "Error processing LxJBUa_777.mp3: \n",
      "Error processing vZB5p4_778.mp3: \n"
     ]
    },
    {
     "name": "stderr",
     "output_type": "stream",
     "text": [
      "Processing Audio Files:  34%|███▍      | 138878/405874 [3:30:29<5:01:43, 14.75it/s]/var/folders/c2/f9lh6rmd4q1648_pfl1636zw0000gn/T/ipykernel_41137/3522123127.py:10: UserWarning: PySoundFile failed. Trying audioread instead.\n",
      "  signal, rate = librosa.load(audio_path, sr=16000)\n",
      "/Users/maryamsaad/Library/Python/3.9/lib/python/site-packages/librosa/core/audio.py:184: FutureWarning: librosa.core.audio.__audioread_load\n",
      "\tDeprecated as of librosa version 0.10.0.\n",
      "\tIt will be removed in librosa version 1.0.\n",
      "  y, sr_native = __audioread_load(path, offset, duration, dtype)\n",
      "[src/libmpg123/parse.c:do_readahead():1083] warning: Cannot read next header, a one-frame stream? Duh...\n",
      "Processing Audio Files:  34%|███▍      | 138878/405874 [3:30:29<5:01:43, 14.75it/s][src/libmpg123/parse.c:do_readahead():1083] warning: Cannot read next header, a one-frame stream? Duh...\n",
      "/var/folders/c2/f9lh6rmd4q1648_pfl1636zw0000gn/T/ipykernel_41137/3522123127.py:10: UserWarning: PySoundFile failed. Trying audioread instead.\n",
      "  signal, rate = librosa.load(audio_path, sr=16000)\n",
      "/Users/maryamsaad/Library/Python/3.9/lib/python/site-packages/librosa/core/audio.py:184: FutureWarning: librosa.core.audio.__audioread_load\n",
      "\tDeprecated as of librosa version 0.10.0.\n",
      "\tIt will be removed in librosa version 1.0.\n",
      "  y, sr_native = __audioread_load(path, offset, duration, dtype)\n",
      "Processing Audio Files:  34%|███▍      | 138880/405874 [3:30:29<5:02:38, 14.70it/s][src/libmpg123/parse.c:do_readahead():1083] warning: Cannot read next header, a one-frame stream? Duh...\n",
      "/var/folders/c2/f9lh6rmd4q1648_pfl1636zw0000gn/T/ipykernel_41137/3522123127.py:10: UserWarning: PySoundFile failed. Trying audioread instead.\n",
      "  signal, rate = librosa.load(audio_path, sr=16000)\n",
      "/Users/maryamsaad/Library/Python/3.9/lib/python/site-packages/librosa/core/audio.py:184: FutureWarning: librosa.core.audio.__audioread_load\n",
      "\tDeprecated as of librosa version 0.10.0.\n",
      "\tIt will be removed in librosa version 1.0.\n",
      "  y, sr_native = __audioread_load(path, offset, duration, dtype)\n"
     ]
    },
    {
     "name": "stdout",
     "output_type": "stream",
     "text": [
      "Error processing dCqZPu_779.mp3: \n",
      "Error processing c3BBJ7_780.mp3: \n",
      "Error processing 0lUHRn_781.mp3: \n"
     ]
    },
    {
     "name": "stderr",
     "output_type": "stream",
     "text": [
      "Processing Audio Files:  34%|███▍      | 138880/405874 [3:30:30<5:02:38, 14.70it/s]/var/folders/c2/f9lh6rmd4q1648_pfl1636zw0000gn/T/ipykernel_41137/3522123127.py:10: UserWarning: PySoundFile failed. Trying audioread instead.\n",
      "  signal, rate = librosa.load(audio_path, sr=16000)\n",
      "[src/libmpg123/parse.c:do_readahead():1083] warning: Cannot read next header, a one-frame stream? Duh...\n",
      "/Users/maryamsaad/Library/Python/3.9/lib/python/site-packages/librosa/core/audio.py:184: FutureWarning: librosa.core.audio.__audioread_load\n",
      "\tDeprecated as of librosa version 0.10.0.\n",
      "\tIt will be removed in librosa version 1.0.\n",
      "  y, sr_native = __audioread_load(path, offset, duration, dtype)\n",
      "Processing Audio Files:  34%|███▍      | 138882/405874 [3:30:30<5:01:30, 14.76it/s]/var/folders/c2/f9lh6rmd4q1648_pfl1636zw0000gn/T/ipykernel_41137/3522123127.py:10: UserWarning: PySoundFile failed. Trying audioread instead.\n",
      "  signal, rate = librosa.load(audio_path, sr=16000)\n",
      "[src/libmpg123/parse.c:do_readahead():1083] warning: Cannot read next header, a one-frame stream? Duh...\n",
      "/Users/maryamsaad/Library/Python/3.9/lib/python/site-packages/librosa/core/audio.py:184: FutureWarning: librosa.core.audio.__audioread_load\n",
      "\tDeprecated as of librosa version 0.10.0.\n",
      "\tIt will be removed in librosa version 1.0.\n",
      "  y, sr_native = __audioread_load(path, offset, duration, dtype)\n",
      "Processing Audio Files:  34%|███▍      | 138882/405874 [3:30:30<5:01:30, 14.76it/s]/var/folders/c2/f9lh6rmd4q1648_pfl1636zw0000gn/T/ipykernel_41137/3522123127.py:10: UserWarning: PySoundFile failed. Trying audioread instead.\n",
      "  signal, rate = librosa.load(audio_path, sr=16000)\n",
      "[src/libmpg123/parse.c:do_readahead():1083] warning: Cannot read next header, a one-frame stream? Duh...\n",
      "/Users/maryamsaad/Library/Python/3.9/lib/python/site-packages/librosa/core/audio.py:184: FutureWarning: librosa.core.audio.__audioread_load\n",
      "\tDeprecated as of librosa version 0.10.0.\n",
      "\tIt will be removed in librosa version 1.0.\n",
      "  y, sr_native = __audioread_load(path, offset, duration, dtype)\n"
     ]
    },
    {
     "name": "stdout",
     "output_type": "stream",
     "text": [
      "Error processing wFQRUV_782.mp3: \n",
      "Error processing Qu51vw_783.mp3: \n",
      "Error processing YHawJ9_784.mp3: \n"
     ]
    },
    {
     "name": "stderr",
     "output_type": "stream",
     "text": [
      "Processing Audio Files:  34%|███▍      | 138884/405874 [3:30:30<5:01:40, 14.75it/s][src/libmpg123/parse.c:do_readahead():1083] warning: Cannot read next header, a one-frame stream? Duh...\n",
      "/var/folders/c2/f9lh6rmd4q1648_pfl1636zw0000gn/T/ipykernel_41137/3522123127.py:10: UserWarning: PySoundFile failed. Trying audioread instead.\n",
      "  signal, rate = librosa.load(audio_path, sr=16000)\n",
      "/Users/maryamsaad/Library/Python/3.9/lib/python/site-packages/librosa/core/audio.py:184: FutureWarning: librosa.core.audio.__audioread_load\n",
      "\tDeprecated as of librosa version 0.10.0.\n",
      "\tIt will be removed in librosa version 1.0.\n",
      "  y, sr_native = __audioread_load(path, offset, duration, dtype)\n",
      "Processing Audio Files:  34%|███▍      | 138884/405874 [3:30:30<5:01:40, 14.75it/s]/var/folders/c2/f9lh6rmd4q1648_pfl1636zw0000gn/T/ipykernel_41137/3522123127.py:10: UserWarning: PySoundFile failed. Trying audioread instead.\n",
      "  signal, rate = librosa.load(audio_path, sr=16000)\n",
      "/Users/maryamsaad/Library/Python/3.9/lib/python/site-packages/librosa/core/audio.py:184: FutureWarning: librosa.core.audio.__audioread_load\n",
      "\tDeprecated as of librosa version 0.10.0.\n",
      "\tIt will be removed in librosa version 1.0.\n",
      "  y, sr_native = __audioread_load(path, offset, duration, dtype)\n",
      "[src/libmpg123/parse.c:do_readahead():1083] warning: Cannot read next header, a one-frame stream? Duh...\n",
      "Processing Audio Files:  34%|███▍      | 138886/405874 [3:30:30<5:02:46, 14.70it/s]/var/folders/c2/f9lh6rmd4q1648_pfl1636zw0000gn/T/ipykernel_41137/3522123127.py:10: UserWarning: PySoundFile failed. Trying audioread instead.\n",
      "  signal, rate = librosa.load(audio_path, sr=16000)\n",
      "/Users/maryamsaad/Library/Python/3.9/lib/python/site-packages/librosa/core/audio.py:184: FutureWarning: librosa.core.audio.__audioread_load\n",
      "\tDeprecated as of librosa version 0.10.0.\n",
      "\tIt will be removed in librosa version 1.0.\n",
      "  y, sr_native = __audioread_load(path, offset, duration, dtype)\n",
      "[src/libmpg123/parse.c:do_readahead():1083] warning: Cannot read next header, a one-frame stream? Duh...\n"
     ]
    },
    {
     "name": "stdout",
     "output_type": "stream",
     "text": [
      "Error processing oyMcAx_785.mp3: \n",
      "Error processing m2yhKY_786.mp3: \n",
      "Error processing GrcFDc_787.mp3: \n"
     ]
    },
    {
     "name": "stderr",
     "output_type": "stream",
     "text": [
      "Processing Audio Files:  34%|███▍      | 138886/405874 [3:30:30<5:02:46, 14.70it/s]/var/folders/c2/f9lh6rmd4q1648_pfl1636zw0000gn/T/ipykernel_41137/3522123127.py:10: UserWarning: PySoundFile failed. Trying audioread instead.\n",
      "  signal, rate = librosa.load(audio_path, sr=16000)\n",
      "/Users/maryamsaad/Library/Python/3.9/lib/python/site-packages/librosa/core/audio.py:184: FutureWarning: librosa.core.audio.__audioread_load\n",
      "\tDeprecated as of librosa version 0.10.0.\n",
      "\tIt will be removed in librosa version 1.0.\n",
      "  y, sr_native = __audioread_load(path, offset, duration, dtype)\n",
      "[src/libmpg123/parse.c:do_readahead():1083] warning: Cannot read next header, a one-frame stream? Duh...\n",
      "Processing Audio Files:  34%|███▍      | 138888/405874 [3:30:30<5:05:28, 14.57it/s]/var/folders/c2/f9lh6rmd4q1648_pfl1636zw0000gn/T/ipykernel_41137/3522123127.py:10: UserWarning: PySoundFile failed. Trying audioread instead.\n",
      "  signal, rate = librosa.load(audio_path, sr=16000)\n",
      "/Users/maryamsaad/Library/Python/3.9/lib/python/site-packages/librosa/core/audio.py:184: FutureWarning: librosa.core.audio.__audioread_load\n",
      "\tDeprecated as of librosa version 0.10.0.\n",
      "\tIt will be removed in librosa version 1.0.\n",
      "  y, sr_native = __audioread_load(path, offset, duration, dtype)\n",
      "[src/libmpg123/parse.c:do_readahead():1083] warning: Cannot read next header, a one-frame stream? Duh...\n",
      "Processing Audio Files:  34%|███▍      | 138888/405874 [3:30:30<5:05:28, 14.57it/s]/var/folders/c2/f9lh6rmd4q1648_pfl1636zw0000gn/T/ipykernel_41137/3522123127.py:10: UserWarning: PySoundFile failed. Trying audioread instead.\n",
      "  signal, rate = librosa.load(audio_path, sr=16000)\n",
      "/Users/maryamsaad/Library/Python/3.9/lib/python/site-packages/librosa/core/audio.py:184: FutureWarning: librosa.core.audio.__audioread_load\n",
      "\tDeprecated as of librosa version 0.10.0.\n",
      "\tIt will be removed in librosa version 1.0.\n",
      "  y, sr_native = __audioread_load(path, offset, duration, dtype)\n",
      "[src/libmpg123/parse.c:do_readahead():1083] warning: Cannot read next header, a one-frame stream? Duh...\n"
     ]
    },
    {
     "name": "stdout",
     "output_type": "stream",
     "text": [
      "Error processing 7zdD7I_788.mp3: \n",
      "Error processing o1nvrj_789.mp3: \n",
      "Error processing WuTzCr_790.mp3: \n"
     ]
    },
    {
     "name": "stderr",
     "output_type": "stream",
     "text": [
      "Processing Audio Files:  34%|███▍      | 138890/405874 [3:30:30<5:03:25, 14.67it/s]/var/folders/c2/f9lh6rmd4q1648_pfl1636zw0000gn/T/ipykernel_41137/3522123127.py:10: UserWarning: PySoundFile failed. Trying audioread instead.\n",
      "  signal, rate = librosa.load(audio_path, sr=16000)\n",
      "[src/libmpg123/parse.c:do_readahead():1083] warning: Cannot read next header, a one-frame stream? Duh...\n",
      "/Users/maryamsaad/Library/Python/3.9/lib/python/site-packages/librosa/core/audio.py:184: FutureWarning: librosa.core.audio.__audioread_load\n",
      "\tDeprecated as of librosa version 0.10.0.\n",
      "\tIt will be removed in librosa version 1.0.\n",
      "  y, sr_native = __audioread_load(path, offset, duration, dtype)\n",
      "Processing Audio Files:  34%|███▍      | 138890/405874 [3:30:30<5:03:25, 14.67it/s]/var/folders/c2/f9lh6rmd4q1648_pfl1636zw0000gn/T/ipykernel_41137/3522123127.py:10: UserWarning: PySoundFile failed. Trying audioread instead.\n",
      "  signal, rate = librosa.load(audio_path, sr=16000)\n",
      "/Users/maryamsaad/Library/Python/3.9/lib/python/site-packages/librosa/core/audio.py:184: FutureWarning: librosa.core.audio.__audioread_load\n",
      "\tDeprecated as of librosa version 0.10.0.\n",
      "\tIt will be removed in librosa version 1.0.\n",
      "  y, sr_native = __audioread_load(path, offset, duration, dtype)\n",
      "[src/libmpg123/parse.c:do_readahead():1083] warning: Cannot read next header, a one-frame stream? Duh...\n",
      "Processing Audio Files:  34%|███▍      | 138892/405874 [3:30:30<5:03:13, 14.67it/s]/var/folders/c2/f9lh6rmd4q1648_pfl1636zw0000gn/T/ipykernel_41137/3522123127.py:10: UserWarning: PySoundFile failed. Trying audioread instead.\n",
      "  signal, rate = librosa.load(audio_path, sr=16000)\n",
      "/Users/maryamsaad/Library/Python/3.9/lib/python/site-packages/librosa/core/audio.py:184: FutureWarning: librosa.core.audio.__audioread_load\n",
      "\tDeprecated as of librosa version 0.10.0.\n",
      "\tIt will be removed in librosa version 1.0.\n",
      "  y, sr_native = __audioread_load(path, offset, duration, dtype)\n",
      "[src/libmpg123/parse.c:do_readahead():1083] warning: Cannot read next header, a one-frame stream? Duh...\n"
     ]
    },
    {
     "name": "stdout",
     "output_type": "stream",
     "text": [
      "Error processing fHEEej_791.mp3: \n",
      "Error processing sFEMcN_792.mp3: \n",
      "Error processing ZpNQeJ_793.mp3: \n"
     ]
    },
    {
     "name": "stderr",
     "output_type": "stream",
     "text": [
      "Processing Audio Files:  34%|███▍      | 138892/405874 [3:30:30<5:03:13, 14.67it/s]/var/folders/c2/f9lh6rmd4q1648_pfl1636zw0000gn/T/ipykernel_41137/3522123127.py:10: UserWarning: PySoundFile failed. Trying audioread instead.\n",
      "  signal, rate = librosa.load(audio_path, sr=16000)\n",
      "[src/libmpg123/parse.c:do_readahead():1083] warning: Cannot read next header, a one-frame stream? Duh...\n",
      "/Users/maryamsaad/Library/Python/3.9/lib/python/site-packages/librosa/core/audio.py:184: FutureWarning: librosa.core.audio.__audioread_load\n",
      "\tDeprecated as of librosa version 0.10.0.\n",
      "\tIt will be removed in librosa version 1.0.\n",
      "  y, sr_native = __audioread_load(path, offset, duration, dtype)\n",
      "Processing Audio Files:  34%|███▍      | 138894/405874 [3:30:30<5:02:05, 14.73it/s]/var/folders/c2/f9lh6rmd4q1648_pfl1636zw0000gn/T/ipykernel_41137/3522123127.py:10: UserWarning: PySoundFile failed. Trying audioread instead.\n",
      "  signal, rate = librosa.load(audio_path, sr=16000)\n",
      "[src/libmpg123/parse.c:do_readahead():1083] warning: Cannot read next header, a one-frame stream? Duh...\n",
      "/Users/maryamsaad/Library/Python/3.9/lib/python/site-packages/librosa/core/audio.py:184: FutureWarning: librosa.core.audio.__audioread_load\n",
      "\tDeprecated as of librosa version 0.10.0.\n",
      "\tIt will be removed in librosa version 1.0.\n",
      "  y, sr_native = __audioread_load(path, offset, duration, dtype)\n",
      "Processing Audio Files:  34%|███▍      | 138894/405874 [3:30:30<5:02:05, 14.73it/s]/var/folders/c2/f9lh6rmd4q1648_pfl1636zw0000gn/T/ipykernel_41137/3522123127.py:10: UserWarning: PySoundFile failed. Trying audioread instead.\n",
      "  signal, rate = librosa.load(audio_path, sr=16000)\n",
      "/Users/maryamsaad/Library/Python/3.9/lib/python/site-packages/librosa/core/audio.py:184: FutureWarning: librosa.core.audio.__audioread_load\n",
      "\tDeprecated as of librosa version 0.10.0.\n",
      "\tIt will be removed in librosa version 1.0.\n",
      "  y, sr_native = __audioread_load(path, offset, duration, dtype)\n",
      "[src/libmpg123/parse.c:do_readahead():1083] warning: Cannot read next header, a one-frame stream? Duh...\n",
      "Processing Audio Files:  34%|███▍      | 138894/405874 [3:30:31<5:02:05, 14.73it/s]"
     ]
    },
    {
     "name": "stdout",
     "output_type": "stream",
     "text": [
      "Error processing WNz8Qp_794.mp3: \n",
      "Error processing pSweeK_795.mp3: \n",
      "Error processing iNunbG_796.mp3: \n",
      "Error processing YFErAB_797.mp3: \n"
     ]
    },
    {
     "name": "stderr",
     "output_type": "stream",
     "text": [
      "Processing Audio Files:  34%|███▍      | 138896/405874 [3:30:31<5:00:13, 14.82it/s]/var/folders/c2/f9lh6rmd4q1648_pfl1636zw0000gn/T/ipykernel_41137/3522123127.py:10: UserWarning: PySoundFile failed. Trying audioread instead.\n",
      "  signal, rate = librosa.load(audio_path, sr=16000)\n",
      "[src/libmpg123/parse.c:do_readahead():1083] warning: Cannot read next header, a one-frame stream? Duh...\n",
      "/Users/maryamsaad/Library/Python/3.9/lib/python/site-packages/librosa/core/audio.py:184: FutureWarning: librosa.core.audio.__audioread_load\n",
      "\tDeprecated as of librosa version 0.10.0.\n",
      "\tIt will be removed in librosa version 1.0.\n",
      "  y, sr_native = __audioread_load(path, offset, duration, dtype)\n",
      "Processing Audio Files:  34%|███▍      | 138896/405874 [3:30:31<5:00:13, 14.82it/s][src/libmpg123/parse.c:do_readahead():1083] warning: Cannot read next header, a one-frame stream? Duh...\n",
      "/var/folders/c2/f9lh6rmd4q1648_pfl1636zw0000gn/T/ipykernel_41137/3522123127.py:10: UserWarning: PySoundFile failed. Trying audioread instead.\n",
      "  signal, rate = librosa.load(audio_path, sr=16000)\n",
      "/Users/maryamsaad/Library/Python/3.9/lib/python/site-packages/librosa/core/audio.py:184: FutureWarning: librosa.core.audio.__audioread_load\n",
      "\tDeprecated as of librosa version 0.10.0.\n",
      "\tIt will be removed in librosa version 1.0.\n",
      "  y, sr_native = __audioread_load(path, offset, duration, dtype)\n",
      "Processing Audio Files:  34%|███▍      | 138898/405874 [3:30:31<5:01:34, 14.75it/s]/var/folders/c2/f9lh6rmd4q1648_pfl1636zw0000gn/T/ipykernel_41137/3522123127.py:10: UserWarning: PySoundFile failed. Trying audioread instead.\n",
      "  signal, rate = librosa.load(audio_path, sr=16000)\n",
      "[src/libmpg123/parse.c:do_readahead():1083] warning: Cannot read next header, a one-frame stream? Duh...\n",
      "/Users/maryamsaad/Library/Python/3.9/lib/python/site-packages/librosa/core/audio.py:184: FutureWarning: librosa.core.audio.__audioread_load\n",
      "\tDeprecated as of librosa version 0.10.0.\n",
      "\tIt will be removed in librosa version 1.0.\n",
      "  y, sr_native = __audioread_load(path, offset, duration, dtype)\n",
      "Processing Audio Files:  34%|███▍      | 138898/405874 [3:30:31<5:01:34, 14.75it/s][src/libmpg123/parse.c:do_readahead():1083] warning: Cannot read next header, a one-frame stream? Duh...\n",
      "/var/folders/c2/f9lh6rmd4q1648_pfl1636zw0000gn/T/ipykernel_41137/3522123127.py:10: UserWarning: PySoundFile failed. Trying audioread instead.\n",
      "  signal, rate = librosa.load(audio_path, sr=16000)\n",
      "/Users/maryamsaad/Library/Python/3.9/lib/python/site-packages/librosa/core/audio.py:184: FutureWarning: librosa.core.audio.__audioread_load\n",
      "\tDeprecated as of librosa version 0.10.0.\n",
      "\tIt will be removed in librosa version 1.0.\n",
      "  y, sr_native = __audioread_load(path, offset, duration, dtype)\n"
     ]
    },
    {
     "name": "stdout",
     "output_type": "stream",
     "text": [
      "Error processing 2Rw2cf_798.mp3: \n",
      "Error processing SeOJpm_799.mp3: \n",
      "Error processing LtJyNg_800.mp3: \n"
     ]
    },
    {
     "name": "stderr",
     "output_type": "stream",
     "text": [
      "Processing Audio Files:  34%|███▍      | 138900/405874 [3:30:31<5:01:53, 14.74it/s]/var/folders/c2/f9lh6rmd4q1648_pfl1636zw0000gn/T/ipykernel_41137/3522123127.py:10: UserWarning: PySoundFile failed. Trying audioread instead.\n",
      "  signal, rate = librosa.load(audio_path, sr=16000)\n",
      "/Users/maryamsaad/Library/Python/3.9/lib/python/site-packages/librosa/core/audio.py:184: FutureWarning: librosa.core.audio.__audioread_load\n",
      "\tDeprecated as of librosa version 0.10.0.\n",
      "\tIt will be removed in librosa version 1.0.\n",
      "  y, sr_native = __audioread_load(path, offset, duration, dtype)\n",
      "[src/libmpg123/parse.c:do_readahead():1083] warning: Cannot read next header, a one-frame stream? Duh...\n",
      "Processing Audio Files:  34%|███▍      | 138900/405874 [3:30:31<5:01:53, 14.74it/s]/var/folders/c2/f9lh6rmd4q1648_pfl1636zw0000gn/T/ipykernel_41137/3522123127.py:10: UserWarning: PySoundFile failed. Trying audioread instead.\n",
      "  signal, rate = librosa.load(audio_path, sr=16000)\n",
      "/Users/maryamsaad/Library/Python/3.9/lib/python/site-packages/librosa/core/audio.py:184: FutureWarning: librosa.core.audio.__audioread_load\n",
      "\tDeprecated as of librosa version 0.10.0.\n",
      "\tIt will be removed in librosa version 1.0.\n",
      "  y, sr_native = __audioread_load(path, offset, duration, dtype)\n",
      "[src/libmpg123/parse.c:do_readahead():1083] warning: Cannot read next header, a one-frame stream? Duh...\n",
      "Processing Audio Files:  34%|███▍      | 138902/405874 [3:30:31<5:04:27, 14.61it/s]/var/folders/c2/f9lh6rmd4q1648_pfl1636zw0000gn/T/ipykernel_41137/3522123127.py:10: UserWarning: PySoundFile failed. Trying audioread instead.\n",
      "  signal, rate = librosa.load(audio_path, sr=16000)\n",
      "/Users/maryamsaad/Library/Python/3.9/lib/python/site-packages/librosa/core/audio.py:184: FutureWarning: librosa.core.audio.__audioread_load\n",
      "\tDeprecated as of librosa version 0.10.0.\n",
      "\tIt will be removed in librosa version 1.0.\n",
      "  y, sr_native = __audioread_load(path, offset, duration, dtype)\n",
      "[src/libmpg123/parse.c:do_readahead():1083] warning: Cannot read next header, a one-frame stream? Duh...\n"
     ]
    },
    {
     "name": "stdout",
     "output_type": "stream",
     "text": [
      "Error processing YiuEDD_801.mp3: \n",
      "Error processing qftdIA_802.mp3: \n",
      "Error processing YgfC5M_803.mp3: \n"
     ]
    },
    {
     "name": "stderr",
     "output_type": "stream",
     "text": [
      "Processing Audio Files:  34%|███▍      | 138902/405874 [3:30:31<5:04:27, 14.61it/s]/var/folders/c2/f9lh6rmd4q1648_pfl1636zw0000gn/T/ipykernel_41137/3522123127.py:10: UserWarning: PySoundFile failed. Trying audioread instead.\n",
      "  signal, rate = librosa.load(audio_path, sr=16000)\n",
      "/Users/maryamsaad/Library/Python/3.9/lib/python/site-packages/librosa/core/audio.py:184: FutureWarning: librosa.core.audio.__audioread_load\n",
      "\tDeprecated as of librosa version 0.10.0.\n",
      "\tIt will be removed in librosa version 1.0.\n",
      "  y, sr_native = __audioread_load(path, offset, duration, dtype)\n",
      "[src/libmpg123/parse.c:do_readahead():1083] warning: Cannot read next header, a one-frame stream? Duh...\n",
      "Processing Audio Files:  34%|███▍      | 138904/405874 [3:30:31<5:03:13, 14.67it/s]/var/folders/c2/f9lh6rmd4q1648_pfl1636zw0000gn/T/ipykernel_41137/3522123127.py:10: UserWarning: PySoundFile failed. Trying audioread instead.\n",
      "  signal, rate = librosa.load(audio_path, sr=16000)\n",
      "[src/libmpg123/parse.c:do_readahead():1083] warning: Cannot read next header, a one-frame stream? Duh...\n",
      "/Users/maryamsaad/Library/Python/3.9/lib/python/site-packages/librosa/core/audio.py:184: FutureWarning: librosa.core.audio.__audioread_load\n",
      "\tDeprecated as of librosa version 0.10.0.\n",
      "\tIt will be removed in librosa version 1.0.\n",
      "  y, sr_native = __audioread_load(path, offset, duration, dtype)\n",
      "Processing Audio Files:  34%|███▍      | 138904/405874 [3:30:31<5:03:13, 14.67it/s]/var/folders/c2/f9lh6rmd4q1648_pfl1636zw0000gn/T/ipykernel_41137/3522123127.py:10: UserWarning: PySoundFile failed. Trying audioread instead.\n",
      "  signal, rate = librosa.load(audio_path, sr=16000)\n",
      "[src/libmpg123/parse.c:do_readahead():1083] warning: Cannot read next header, a one-frame stream? Duh...\n",
      "/Users/maryamsaad/Library/Python/3.9/lib/python/site-packages/librosa/core/audio.py:184: FutureWarning: librosa.core.audio.__audioread_load\n",
      "\tDeprecated as of librosa version 0.10.0.\n",
      "\tIt will be removed in librosa version 1.0.\n",
      "  y, sr_native = __audioread_load(path, offset, duration, dtype)\n"
     ]
    },
    {
     "name": "stdout",
     "output_type": "stream",
     "text": [
      "Error processing fSBmWS_804.mp3: \n",
      "Error processing nUpAqF_805.mp3: \n",
      "Error processing t5StkO_806.mp3: \n"
     ]
    },
    {
     "name": "stderr",
     "output_type": "stream",
     "text": [
      "Processing Audio Files:  34%|███▍      | 138906/405874 [3:30:31<5:01:30, 14.76it/s]/var/folders/c2/f9lh6rmd4q1648_pfl1636zw0000gn/T/ipykernel_41137/3522123127.py:10: UserWarning: PySoundFile failed. Trying audioread instead.\n",
      "  signal, rate = librosa.load(audio_path, sr=16000)\n",
      "[src/libmpg123/parse.c:do_readahead():1083] warning: Cannot read next header, a one-frame stream? Duh...\n",
      "/Users/maryamsaad/Library/Python/3.9/lib/python/site-packages/librosa/core/audio.py:184: FutureWarning: librosa.core.audio.__audioread_load\n",
      "\tDeprecated as of librosa version 0.10.0.\n",
      "\tIt will be removed in librosa version 1.0.\n",
      "  y, sr_native = __audioread_load(path, offset, duration, dtype)\n",
      "Processing Audio Files:  34%|███▍      | 138906/405874 [3:30:31<5:01:30, 14.76it/s]/var/folders/c2/f9lh6rmd4q1648_pfl1636zw0000gn/T/ipykernel_41137/3522123127.py:10: UserWarning: PySoundFile failed. Trying audioread instead.\n",
      "  signal, rate = librosa.load(audio_path, sr=16000)\n",
      "[src/libmpg123/parse.c:do_readahead():1083] warning: Cannot read next header, a one-frame stream? Duh...\n",
      "/Users/maryamsaad/Library/Python/3.9/lib/python/site-packages/librosa/core/audio.py:184: FutureWarning: librosa.core.audio.__audioread_load\n",
      "\tDeprecated as of librosa version 0.10.0.\n",
      "\tIt will be removed in librosa version 1.0.\n",
      "  y, sr_native = __audioread_load(path, offset, duration, dtype)\n",
      "Processing Audio Files:  34%|███▍      | 138908/405874 [3:30:31<5:02:20, 14.72it/s]/var/folders/c2/f9lh6rmd4q1648_pfl1636zw0000gn/T/ipykernel_41137/3522123127.py:10: UserWarning: PySoundFile failed. Trying audioread instead.\n",
      "  signal, rate = librosa.load(audio_path, sr=16000)\n",
      "[src/libmpg123/parse.c:do_readahead():1083] warning: Cannot read next header, a one-frame stream? Duh...\n",
      "/Users/maryamsaad/Library/Python/3.9/lib/python/site-packages/librosa/core/audio.py:184: FutureWarning: librosa.core.audio.__audioread_load\n",
      "\tDeprecated as of librosa version 0.10.0.\n",
      "\tIt will be removed in librosa version 1.0.\n",
      "  y, sr_native = __audioread_load(path, offset, duration, dtype)\n"
     ]
    },
    {
     "name": "stdout",
     "output_type": "stream",
     "text": [
      "Error processing 95X1R2_807.mp3: \n",
      "Error processing cCq34g_808.mp3: \n",
      "Error processing I3cwZr_809.mp3: \n"
     ]
    },
    {
     "name": "stderr",
     "output_type": "stream",
     "text": [
      "Processing Audio Files:  34%|███▍      | 138908/405874 [3:30:31<5:02:20, 14.72it/s]/var/folders/c2/f9lh6rmd4q1648_pfl1636zw0000gn/T/ipykernel_41137/3522123127.py:10: UserWarning: PySoundFile failed. Trying audioread instead.\n",
      "  signal, rate = librosa.load(audio_path, sr=16000)\n",
      "/Users/maryamsaad/Library/Python/3.9/lib/python/site-packages/librosa/core/audio.py:184: FutureWarning: librosa.core.audio.__audioread_load\n",
      "\tDeprecated as of librosa version 0.10.0.\n",
      "\tIt will be removed in librosa version 1.0.\n",
      "  y, sr_native = __audioread_load(path, offset, duration, dtype)\n",
      "[src/libmpg123/parse.c:do_readahead():1083] warning: Cannot read next header, a one-frame stream? Duh...\n",
      "Processing Audio Files:  34%|███▍      | 138910/405874 [3:30:32<5:01:14, 14.77it/s]/var/folders/c2/f9lh6rmd4q1648_pfl1636zw0000gn/T/ipykernel_41137/3522123127.py:10: UserWarning: PySoundFile failed. Trying audioread instead.\n",
      "  signal, rate = librosa.load(audio_path, sr=16000)\n",
      "[src/libmpg123/parse.c:do_readahead():1083] warning: Cannot read next header, a one-frame stream? Duh...\n",
      "/Users/maryamsaad/Library/Python/3.9/lib/python/site-packages/librosa/core/audio.py:184: FutureWarning: librosa.core.audio.__audioread_load\n",
      "\tDeprecated as of librosa version 0.10.0.\n",
      "\tIt will be removed in librosa version 1.0.\n",
      "  y, sr_native = __audioread_load(path, offset, duration, dtype)\n",
      "Processing Audio Files:  34%|███▍      | 138910/405874 [3:30:32<5:01:14, 14.77it/s]/var/folders/c2/f9lh6rmd4q1648_pfl1636zw0000gn/T/ipykernel_41137/3522123127.py:10: UserWarning: PySoundFile failed. Trying audioread instead.\n",
      "  signal, rate = librosa.load(audio_path, sr=16000)\n",
      "/Users/maryamsaad/Library/Python/3.9/lib/python/site-packages/librosa/core/audio.py:184: FutureWarning: librosa.core.audio.__audioread_load\n",
      "\tDeprecated as of librosa version 0.10.0.\n",
      "\tIt will be removed in librosa version 1.0.\n",
      "  y, sr_native = __audioread_load(path, offset, duration, dtype)\n",
      "[src/libmpg123/parse.c:do_readahead():1083] warning: Cannot read next header, a one-frame stream? Duh...\n"
     ]
    },
    {
     "name": "stdout",
     "output_type": "stream",
     "text": [
      "Error processing CORwZ0_810.mp3: \n",
      "Error processing t4cVgu_811.mp3: \n",
      "Error processing ojsMGC_812.mp3: \n"
     ]
    },
    {
     "name": "stderr",
     "output_type": "stream",
     "text": [
      "Processing Audio Files:  34%|███▍      | 138912/405874 [3:30:32<5:01:33, 14.75it/s]/var/folders/c2/f9lh6rmd4q1648_pfl1636zw0000gn/T/ipykernel_41137/3522123127.py:10: UserWarning: PySoundFile failed. Trying audioread instead.\n",
      "  signal, rate = librosa.load(audio_path, sr=16000)\n",
      "/Users/maryamsaad/Library/Python/3.9/lib/python/site-packages/librosa/core/audio.py:184: FutureWarning: librosa.core.audio.__audioread_load\n",
      "\tDeprecated as of librosa version 0.10.0.\n",
      "\tIt will be removed in librosa version 1.0.\n",
      "  y, sr_native = __audioread_load(path, offset, duration, dtype)\n",
      "[src/libmpg123/parse.c:do_readahead():1083] warning: Cannot read next header, a one-frame stream? Duh...\n",
      "Processing Audio Files:  34%|███▍      | 138912/405874 [3:30:32<5:01:33, 14.75it/s]/var/folders/c2/f9lh6rmd4q1648_pfl1636zw0000gn/T/ipykernel_41137/3522123127.py:10: UserWarning: PySoundFile failed. Trying audioread instead.\n",
      "  signal, rate = librosa.load(audio_path, sr=16000)\n",
      "/Users/maryamsaad/Library/Python/3.9/lib/python/site-packages/librosa/core/audio.py:184: FutureWarning: librosa.core.audio.__audioread_load\n",
      "\tDeprecated as of librosa version 0.10.0.\n",
      "\tIt will be removed in librosa version 1.0.\n",
      "  y, sr_native = __audioread_load(path, offset, duration, dtype)\n",
      "[src/libmpg123/parse.c:do_readahead():1083] warning: Cannot read next header, a one-frame stream? Duh...\n",
      "Processing Audio Files:  34%|███▍      | 138914/405874 [3:30:32<5:06:25, 14.52it/s]/var/folders/c2/f9lh6rmd4q1648_pfl1636zw0000gn/T/ipykernel_41137/3522123127.py:10: UserWarning: PySoundFile failed. Trying audioread instead.\n",
      "  signal, rate = librosa.load(audio_path, sr=16000)\n",
      "[src/libmpg123/parse.c:do_readahead():1083] warning: Cannot read next header, a one-frame stream? Duh...\n",
      "/Users/maryamsaad/Library/Python/3.9/lib/python/site-packages/librosa/core/audio.py:184: FutureWarning: librosa.core.audio.__audioread_load\n",
      "\tDeprecated as of librosa version 0.10.0.\n",
      "\tIt will be removed in librosa version 1.0.\n",
      "  y, sr_native = __audioread_load(path, offset, duration, dtype)\n"
     ]
    },
    {
     "name": "stdout",
     "output_type": "stream",
     "text": [
      "Error processing P9F29O_813.mp3: \n",
      "Error processing u3IcJJ_814.mp3: \n",
      "Error processing FRgC43_815.mp3: \n"
     ]
    },
    {
     "name": "stderr",
     "output_type": "stream",
     "text": [
      "Processing Audio Files:  34%|███▍      | 138914/405874 [3:30:32<5:06:25, 14.52it/s]/var/folders/c2/f9lh6rmd4q1648_pfl1636zw0000gn/T/ipykernel_41137/3522123127.py:10: UserWarning: PySoundFile failed. Trying audioread instead.\n",
      "  signal, rate = librosa.load(audio_path, sr=16000)\n",
      "/Users/maryamsaad/Library/Python/3.9/lib/python/site-packages/librosa/core/audio.py:184: FutureWarning: librosa.core.audio.__audioread_load\n",
      "\tDeprecated as of librosa version 0.10.0.\n",
      "\tIt will be removed in librosa version 1.0.\n",
      "  y, sr_native = __audioread_load(path, offset, duration, dtype)\n",
      "[src/libmpg123/parse.c:do_readahead():1083] warning: Cannot read next header, a one-frame stream? Duh...\n",
      "Processing Audio Files:  34%|███▍      | 138916/405874 [3:30:32<5:04:27, 14.61it/s]/var/folders/c2/f9lh6rmd4q1648_pfl1636zw0000gn/T/ipykernel_41137/3522123127.py:10: UserWarning: PySoundFile failed. Trying audioread instead.\n",
      "  signal, rate = librosa.load(audio_path, sr=16000)\n",
      "/Users/maryamsaad/Library/Python/3.9/lib/python/site-packages/librosa/core/audio.py:184: FutureWarning: librosa.core.audio.__audioread_load\n",
      "\tDeprecated as of librosa version 0.10.0.\n",
      "\tIt will be removed in librosa version 1.0.\n",
      "  y, sr_native = __audioread_load(path, offset, duration, dtype)\n",
      "[src/libmpg123/parse.c:do_readahead():1083] warning: Cannot read next header, a one-frame stream? Duh...\n",
      "Processing Audio Files:  34%|███▍      | 138916/405874 [3:30:32<5:04:27, 14.61it/s]/var/folders/c2/f9lh6rmd4q1648_pfl1636zw0000gn/T/ipykernel_41137/3522123127.py:10: UserWarning: PySoundFile failed. Trying audioread instead.\n",
      "  signal, rate = librosa.load(audio_path, sr=16000)\n",
      "/Users/maryamsaad/Library/Python/3.9/lib/python/site-packages/librosa/core/audio.py:184: FutureWarning: librosa.core.audio.__audioread_load\n",
      "\tDeprecated as of librosa version 0.10.0.\n",
      "\tIt will be removed in librosa version 1.0.\n",
      "  y, sr_native = __audioread_load(path, offset, duration, dtype)\n",
      "[src/libmpg123/parse.c:do_readahead():1083] warning: Cannot read next header, a one-frame stream? Duh...\n"
     ]
    },
    {
     "name": "stdout",
     "output_type": "stream",
     "text": [
      "Error processing TOLqD7_816.mp3: \n",
      "Error processing 3PqQC5_817.mp3: \n",
      "Error processing BM0P94_818.mp3: \n"
     ]
    },
    {
     "name": "stderr",
     "output_type": "stream",
     "text": [
      "Processing Audio Files:  34%|███▍      | 138918/405874 [3:30:32<5:03:40, 14.65it/s]/var/folders/c2/f9lh6rmd4q1648_pfl1636zw0000gn/T/ipykernel_41137/3522123127.py:10: UserWarning: PySoundFile failed. Trying audioread instead.\n",
      "  signal, rate = librosa.load(audio_path, sr=16000)\n",
      "[src/libmpg123/parse.c:do_readahead():1083] warning: Cannot read next header, a one-frame stream? Duh...\n",
      "/Users/maryamsaad/Library/Python/3.9/lib/python/site-packages/librosa/core/audio.py:184: FutureWarning: librosa.core.audio.__audioread_load\n",
      "\tDeprecated as of librosa version 0.10.0.\n",
      "\tIt will be removed in librosa version 1.0.\n",
      "  y, sr_native = __audioread_load(path, offset, duration, dtype)\n",
      "Processing Audio Files:  34%|███▍      | 138918/405874 [3:30:32<5:03:40, 14.65it/s]/var/folders/c2/f9lh6rmd4q1648_pfl1636zw0000gn/T/ipykernel_41137/3522123127.py:10: UserWarning: PySoundFile failed. Trying audioread instead.\n",
      "  signal, rate = librosa.load(audio_path, sr=16000)\n",
      "/Users/maryamsaad/Library/Python/3.9/lib/python/site-packages/librosa/core/audio.py:184: FutureWarning: librosa.core.audio.__audioread_load\n",
      "\tDeprecated as of librosa version 0.10.0.\n",
      "\tIt will be removed in librosa version 1.0.\n",
      "  y, sr_native = __audioread_load(path, offset, duration, dtype)\n",
      "[src/libmpg123/parse.c:do_readahead():1083] warning: Cannot read next header, a one-frame stream? Duh...\n",
      "Processing Audio Files:  34%|███▍      | 138920/405874 [3:30:32<5:03:15, 14.67it/s][src/libmpg123/parse.c:do_readahead():1083] warning: Cannot read next header, a one-frame stream? Duh...\n",
      "/var/folders/c2/f9lh6rmd4q1648_pfl1636zw0000gn/T/ipykernel_41137/3522123127.py:10: UserWarning: PySoundFile failed. Trying audioread instead.\n",
      "  signal, rate = librosa.load(audio_path, sr=16000)\n",
      "/Users/maryamsaad/Library/Python/3.9/lib/python/site-packages/librosa/core/audio.py:184: FutureWarning: librosa.core.audio.__audioread_load\n",
      "\tDeprecated as of librosa version 0.10.0.\n",
      "\tIt will be removed in librosa version 1.0.\n",
      "  y, sr_native = __audioread_load(path, offset, duration, dtype)\n"
     ]
    },
    {
     "name": "stdout",
     "output_type": "stream",
     "text": [
      "Error processing gN2Yby_819.mp3: \n",
      "Error processing pWB2Pm_820.mp3: \n",
      "Error processing dM5AHi_821.mp3: \n"
     ]
    },
    {
     "name": "stderr",
     "output_type": "stream",
     "text": [
      "Processing Audio Files:  34%|███▍      | 138920/405874 [3:30:32<5:03:15, 14.67it/s]/var/folders/c2/f9lh6rmd4q1648_pfl1636zw0000gn/T/ipykernel_41137/3522123127.py:10: UserWarning: PySoundFile failed. Trying audioread instead.\n",
      "  signal, rate = librosa.load(audio_path, sr=16000)\n",
      "/Users/maryamsaad/Library/Python/3.9/lib/python/site-packages/librosa/core/audio.py:184: FutureWarning: librosa.core.audio.__audioread_load\n",
      "\tDeprecated as of librosa version 0.10.0.\n",
      "\tIt will be removed in librosa version 1.0.\n",
      "  y, sr_native = __audioread_load(path, offset, duration, dtype)\n",
      "[src/libmpg123/parse.c:do_readahead():1083] warning: Cannot read next header, a one-frame stream? Duh...\n",
      "Processing Audio Files:  34%|███▍      | 138922/405874 [3:30:32<5:01:56, 14.74it/s]/var/folders/c2/f9lh6rmd4q1648_pfl1636zw0000gn/T/ipykernel_41137/3522123127.py:10: UserWarning: PySoundFile failed. Trying audioread instead.\n",
      "  signal, rate = librosa.load(audio_path, sr=16000)\n",
      "[src/libmpg123/parse.c:do_readahead():1083] warning: Cannot read next header, a one-frame stream? Duh...\n",
      "/Users/maryamsaad/Library/Python/3.9/lib/python/site-packages/librosa/core/audio.py:184: FutureWarning: librosa.core.audio.__audioread_load\n",
      "\tDeprecated as of librosa version 0.10.0.\n",
      "\tIt will be removed in librosa version 1.0.\n",
      "  y, sr_native = __audioread_load(path, offset, duration, dtype)\n",
      "Processing Audio Files:  34%|███▍      | 138922/405874 [3:30:32<5:01:56, 14.74it/s]/var/folders/c2/f9lh6rmd4q1648_pfl1636zw0000gn/T/ipykernel_41137/3522123127.py:10: UserWarning: PySoundFile failed. Trying audioread instead.\n",
      "  signal, rate = librosa.load(audio_path, sr=16000)\n",
      "[src/libmpg123/parse.c:do_readahead():1083] warning: Cannot read next header, a one-frame stream? Duh...\n",
      "/Users/maryamsaad/Library/Python/3.9/lib/python/site-packages/librosa/core/audio.py:184: FutureWarning: librosa.core.audio.__audioread_load\n",
      "\tDeprecated as of librosa version 0.10.0.\n",
      "\tIt will be removed in librosa version 1.0.\n",
      "  y, sr_native = __audioread_load(path, offset, duration, dtype)\n"
     ]
    },
    {
     "name": "stdout",
     "output_type": "stream",
     "text": [
      "Error processing yjZq7C_822.mp3: \n",
      "Error processing iaNqBb_823.mp3: \n",
      "Error processing w4neJD_824.mp3: \n"
     ]
    },
    {
     "name": "stderr",
     "output_type": "stream",
     "text": [
      "Processing Audio Files:  34%|███▍      | 138924/405874 [3:30:32<5:01:35, 14.75it/s]/var/folders/c2/f9lh6rmd4q1648_pfl1636zw0000gn/T/ipykernel_41137/3522123127.py:10: UserWarning: PySoundFile failed. Trying audioread instead.\n",
      "  signal, rate = librosa.load(audio_path, sr=16000)\n",
      "[src/libmpg123/parse.c:do_readahead():1083] warning: Cannot read next header, a one-frame stream? Duh...\n",
      "/Users/maryamsaad/Library/Python/3.9/lib/python/site-packages/librosa/core/audio.py:184: FutureWarning: librosa.core.audio.__audioread_load\n",
      "\tDeprecated as of librosa version 0.10.0.\n",
      "\tIt will be removed in librosa version 1.0.\n",
      "  y, sr_native = __audioread_load(path, offset, duration, dtype)\n",
      "Processing Audio Files:  34%|███▍      | 138924/405874 [3:30:33<5:01:35, 14.75it/s]/var/folders/c2/f9lh6rmd4q1648_pfl1636zw0000gn/T/ipykernel_41137/3522123127.py:10: UserWarning: PySoundFile failed. Trying audioread instead.\n",
      "  signal, rate = librosa.load(audio_path, sr=16000)\n",
      "/Users/maryamsaad/Library/Python/3.9/lib/python/site-packages/librosa/core/audio.py:184: FutureWarning: librosa.core.audio.__audioread_load\n",
      "\tDeprecated as of librosa version 0.10.0.\n",
      "\tIt will be removed in librosa version 1.0.\n",
      "  y, sr_native = __audioread_load(path, offset, duration, dtype)\n",
      "[src/libmpg123/parse.c:do_readahead():1083] warning: Cannot read next header, a one-frame stream? Duh...\n",
      "Processing Audio Files:  34%|███▍      | 138926/405874 [3:30:33<5:05:24, 14.57it/s]/var/folders/c2/f9lh6rmd4q1648_pfl1636zw0000gn/T/ipykernel_41137/3522123127.py:10: UserWarning: PySoundFile failed. Trying audioread instead.\n",
      "  signal, rate = librosa.load(audio_path, sr=16000)\n",
      "[src/libmpg123/parse.c:do_readahead():1083] warning: Cannot read next header, a one-frame stream? Duh...\n",
      "/Users/maryamsaad/Library/Python/3.9/lib/python/site-packages/librosa/core/audio.py:184: FutureWarning: librosa.core.audio.__audioread_load\n",
      "\tDeprecated as of librosa version 0.10.0.\n",
      "\tIt will be removed in librosa version 1.0.\n",
      "  y, sr_native = __audioread_load(path, offset, duration, dtype)\n"
     ]
    },
    {
     "name": "stdout",
     "output_type": "stream",
     "text": [
      "Error processing 8BcFBG_825.mp3: \n",
      "Error processing rKVcQN_826.mp3: \n",
      "Error processing YPD98u_827.mp3: \n"
     ]
    },
    {
     "name": "stderr",
     "output_type": "stream",
     "text": [
      "Processing Audio Files:  34%|███▍      | 138926/405874 [3:30:33<5:05:24, 14.57it/s]/var/folders/c2/f9lh6rmd4q1648_pfl1636zw0000gn/T/ipykernel_41137/3522123127.py:10: UserWarning: PySoundFile failed. Trying audioread instead.\n",
      "  signal, rate = librosa.load(audio_path, sr=16000)\n",
      "[src/libmpg123/parse.c:do_readahead():1083] warning: Cannot read next header, a one-frame stream? Duh...\n",
      "/Users/maryamsaad/Library/Python/3.9/lib/python/site-packages/librosa/core/audio.py:184: FutureWarning: librosa.core.audio.__audioread_load\n",
      "\tDeprecated as of librosa version 0.10.0.\n",
      "\tIt will be removed in librosa version 1.0.\n",
      "  y, sr_native = __audioread_load(path, offset, duration, dtype)\n",
      "Processing Audio Files:  34%|███▍      | 138928/405874 [3:30:33<5:04:22, 14.62it/s]/var/folders/c2/f9lh6rmd4q1648_pfl1636zw0000gn/T/ipykernel_41137/3522123127.py:10: UserWarning: PySoundFile failed. Trying audioread instead.\n",
      "  signal, rate = librosa.load(audio_path, sr=16000)\n",
      "[src/libmpg123/parse.c:do_readahead():1083] warning: Cannot read next header, a one-frame stream? Duh...\n",
      "/Users/maryamsaad/Library/Python/3.9/lib/python/site-packages/librosa/core/audio.py:184: FutureWarning: librosa.core.audio.__audioread_load\n",
      "\tDeprecated as of librosa version 0.10.0.\n",
      "\tIt will be removed in librosa version 1.0.\n",
      "  y, sr_native = __audioread_load(path, offset, duration, dtype)\n",
      "Processing Audio Files:  34%|███▍      | 138928/405874 [3:30:33<5:04:22, 14.62it/s]/var/folders/c2/f9lh6rmd4q1648_pfl1636zw0000gn/T/ipykernel_41137/3522123127.py:10: UserWarning: PySoundFile failed. Trying audioread instead.\n",
      "  signal, rate = librosa.load(audio_path, sr=16000)\n",
      "/Users/maryamsaad/Library/Python/3.9/lib/python/site-packages/librosa/core/audio.py:184: FutureWarning: librosa.core.audio.__audioread_load\n",
      "\tDeprecated as of librosa version 0.10.0.\n",
      "\tIt will be removed in librosa version 1.0.\n",
      "  y, sr_native = __audioread_load(path, offset, duration, dtype)\n",
      "[src/libmpg123/parse.c:do_readahead():1083] warning: Cannot read next header, a one-frame stream? Duh...\n"
     ]
    },
    {
     "name": "stdout",
     "output_type": "stream",
     "text": [
      "Error processing cPbcFl_828.mp3: \n",
      "Error processing vMhBc0_829.mp3: \n",
      "Error processing fFFQ58_830.mp3: \n"
     ]
    },
    {
     "name": "stderr",
     "output_type": "stream",
     "text": [
      "Processing Audio Files:  34%|███▍      | 138930/405874 [3:30:33<5:02:50, 14.69it/s]/var/folders/c2/f9lh6rmd4q1648_pfl1636zw0000gn/T/ipykernel_41137/3522123127.py:10: UserWarning: PySoundFile failed. Trying audioread instead.\n",
      "  signal, rate = librosa.load(audio_path, sr=16000)\n",
      "[src/libmpg123/parse.c:do_readahead():1083] warning: Cannot read next header, a one-frame stream? Duh...\n",
      "/Users/maryamsaad/Library/Python/3.9/lib/python/site-packages/librosa/core/audio.py:184: FutureWarning: librosa.core.audio.__audioread_load\n",
      "\tDeprecated as of librosa version 0.10.0.\n",
      "\tIt will be removed in librosa version 1.0.\n",
      "  y, sr_native = __audioread_load(path, offset, duration, dtype)\n",
      "Processing Audio Files:  34%|███▍      | 138930/405874 [3:30:33<5:02:50, 14.69it/s]/var/folders/c2/f9lh6rmd4q1648_pfl1636zw0000gn/T/ipykernel_41137/3522123127.py:10: UserWarning: PySoundFile failed. Trying audioread instead.\n",
      "  signal, rate = librosa.load(audio_path, sr=16000)\n",
      "/Users/maryamsaad/Library/Python/3.9/lib/python/site-packages/librosa/core/audio.py:184: FutureWarning: librosa.core.audio.__audioread_load\n",
      "\tDeprecated as of librosa version 0.10.0.\n",
      "\tIt will be removed in librosa version 1.0.\n",
      "  y, sr_native = __audioread_load(path, offset, duration, dtype)\n",
      "[src/libmpg123/parse.c:do_readahead():1083] warning: Cannot read next header, a one-frame stream? Duh...\n",
      "Processing Audio Files:  34%|███▍      | 138932/405874 [3:30:33<5:02:07, 14.73it/s]/var/folders/c2/f9lh6rmd4q1648_pfl1636zw0000gn/T/ipykernel_41137/3522123127.py:10: UserWarning: PySoundFile failed. Trying audioread instead.\n",
      "  signal, rate = librosa.load(audio_path, sr=16000)\n",
      "[src/libmpg123/parse.c:do_readahead():1083] warning: Cannot read next header, a one-frame stream? Duh...\n",
      "/Users/maryamsaad/Library/Python/3.9/lib/python/site-packages/librosa/core/audio.py:184: FutureWarning: librosa.core.audio.__audioread_load\n",
      "\tDeprecated as of librosa version 0.10.0.\n",
      "\tIt will be removed in librosa version 1.0.\n",
      "  y, sr_native = __audioread_load(path, offset, duration, dtype)\n"
     ]
    },
    {
     "name": "stdout",
     "output_type": "stream",
     "text": [
      "Error processing aTwsif_831.mp3: \n",
      "Error processing 3v6T0l_832.mp3: \n",
      "Error processing NuZSfw_833.mp3: \n"
     ]
    },
    {
     "name": "stderr",
     "output_type": "stream",
     "text": [
      "Processing Audio Files:  34%|███▍      | 138932/405874 [3:30:33<5:02:07, 14.73it/s]/var/folders/c2/f9lh6rmd4q1648_pfl1636zw0000gn/T/ipykernel_41137/3522123127.py:10: UserWarning: PySoundFile failed. Trying audioread instead.\n",
      "  signal, rate = librosa.load(audio_path, sr=16000)\n",
      "[src/libmpg123/parse.c:do_readahead():1083] warning: Cannot read next header, a one-frame stream? Duh...\n",
      "/Users/maryamsaad/Library/Python/3.9/lib/python/site-packages/librosa/core/audio.py:184: FutureWarning: librosa.core.audio.__audioread_load\n",
      "\tDeprecated as of librosa version 0.10.0.\n",
      "\tIt will be removed in librosa version 1.0.\n",
      "  y, sr_native = __audioread_load(path, offset, duration, dtype)\n",
      "Processing Audio Files:  34%|███▍      | 138934/405874 [3:30:33<5:01:45, 14.74it/s]/var/folders/c2/f9lh6rmd4q1648_pfl1636zw0000gn/T/ipykernel_41137/3522123127.py:10: UserWarning: PySoundFile failed. Trying audioread instead.\n",
      "  signal, rate = librosa.load(audio_path, sr=16000)\n",
      "[src/libmpg123/parse.c:do_readahead():1083] warning: Cannot read next header, a one-frame stream? Duh...\n",
      "/Users/maryamsaad/Library/Python/3.9/lib/python/site-packages/librosa/core/audio.py:184: FutureWarning: librosa.core.audio.__audioread_load\n",
      "\tDeprecated as of librosa version 0.10.0.\n",
      "\tIt will be removed in librosa version 1.0.\n",
      "  y, sr_native = __audioread_load(path, offset, duration, dtype)\n",
      "Processing Audio Files:  34%|███▍      | 138934/405874 [3:30:33<5:01:45, 14.74it/s]/var/folders/c2/f9lh6rmd4q1648_pfl1636zw0000gn/T/ipykernel_41137/3522123127.py:10: UserWarning: PySoundFile failed. Trying audioread instead.\n",
      "  signal, rate = librosa.load(audio_path, sr=16000)\n",
      "/Users/maryamsaad/Library/Python/3.9/lib/python/site-packages/librosa/core/audio.py:184: FutureWarning: librosa.core.audio.__audioread_load\n",
      "\tDeprecated as of librosa version 0.10.0.\n",
      "\tIt will be removed in librosa version 1.0.\n",
      "  y, sr_native = __audioread_load(path, offset, duration, dtype)\n",
      "[src/libmpg123/parse.c:do_readahead():1083] warning: Cannot read next header, a one-frame stream? Duh...\n"
     ]
    },
    {
     "name": "stdout",
     "output_type": "stream",
     "text": [
      "Error processing 4OqUKw_834.mp3: \n",
      "Error processing w0rHRC_835.mp3: \n",
      "Error processing AvHZc6_836.mp3: \n"
     ]
    },
    {
     "name": "stderr",
     "output_type": "stream",
     "text": [
      "Processing Audio Files:  34%|███▍      | 138936/405874 [3:30:33<5:00:57, 14.78it/s][src/libmpg123/parse.c:do_readahead():1083] warning: Cannot read next header, a one-frame stream? Duh...\n",
      "/var/folders/c2/f9lh6rmd4q1648_pfl1636zw0000gn/T/ipykernel_41137/3522123127.py:10: UserWarning: PySoundFile failed. Trying audioread instead.\n",
      "  signal, rate = librosa.load(audio_path, sr=16000)\n",
      "/Users/maryamsaad/Library/Python/3.9/lib/python/site-packages/librosa/core/audio.py:184: FutureWarning: librosa.core.audio.__audioread_load\n",
      "\tDeprecated as of librosa version 0.10.0.\n",
      "\tIt will be removed in librosa version 1.0.\n",
      "  y, sr_native = __audioread_load(path, offset, duration, dtype)\n",
      "Processing Audio Files:  34%|███▍      | 138936/405874 [3:30:33<5:00:57, 14.78it/s]/var/folders/c2/f9lh6rmd4q1648_pfl1636zw0000gn/T/ipykernel_41137/3522123127.py:10: UserWarning: PySoundFile failed. Trying audioread instead.\n",
      "  signal, rate = librosa.load(audio_path, sr=16000)\n",
      "/Users/maryamsaad/Library/Python/3.9/lib/python/site-packages/librosa/core/audio.py:184: FutureWarning: librosa.core.audio.__audioread_load\n",
      "\tDeprecated as of librosa version 0.10.0.\n",
      "\tIt will be removed in librosa version 1.0.\n",
      "  y, sr_native = __audioread_load(path, offset, duration, dtype)\n",
      "[src/libmpg123/parse.c:do_readahead():1083] warning: Cannot read next header, a one-frame stream? Duh...\n",
      "Processing Audio Files:  34%|███▍      | 138938/405874 [3:30:33<5:03:29, 14.66it/s][src/libmpg123/parse.c:do_readahead():1083] warning: Cannot read next header, a one-frame stream? Duh...\n",
      "/var/folders/c2/f9lh6rmd4q1648_pfl1636zw0000gn/T/ipykernel_41137/3522123127.py:10: UserWarning: PySoundFile failed. Trying audioread instead.\n",
      "  signal, rate = librosa.load(audio_path, sr=16000)\n",
      "/Users/maryamsaad/Library/Python/3.9/lib/python/site-packages/librosa/core/audio.py:184: FutureWarning: librosa.core.audio.__audioread_load\n",
      "\tDeprecated as of librosa version 0.10.0.\n",
      "\tIt will be removed in librosa version 1.0.\n",
      "  y, sr_native = __audioread_load(path, offset, duration, dtype)\n"
     ]
    },
    {
     "name": "stdout",
     "output_type": "stream",
     "text": [
      "Error processing yfudDc_837.mp3: \n",
      "Error processing rku6Qo_838.mp3: \n",
      "Error processing fupaEq_839.mp3: \n"
     ]
    },
    {
     "name": "stderr",
     "output_type": "stream",
     "text": [
      "Processing Audio Files:  34%|███▍      | 138938/405874 [3:30:33<5:03:29, 14.66it/s]/var/folders/c2/f9lh6rmd4q1648_pfl1636zw0000gn/T/ipykernel_41137/3522123127.py:10: UserWarning: PySoundFile failed. Trying audioread instead.\n",
      "  signal, rate = librosa.load(audio_path, sr=16000)\n",
      "/Users/maryamsaad/Library/Python/3.9/lib/python/site-packages/librosa/core/audio.py:184: FutureWarning: librosa.core.audio.__audioread_load\n",
      "\tDeprecated as of librosa version 0.10.0.\n",
      "\tIt will be removed in librosa version 1.0.\n",
      "  y, sr_native = __audioread_load(path, offset, duration, dtype)\n",
      "[src/libmpg123/parse.c:do_readahead():1083] warning: Cannot read next header, a one-frame stream? Duh...\n",
      "Processing Audio Files:  34%|███▍      | 138940/405874 [3:30:34<5:03:50, 14.64it/s]/var/folders/c2/f9lh6rmd4q1648_pfl1636zw0000gn/T/ipykernel_41137/3522123127.py:10: UserWarning: PySoundFile failed. Trying audioread instead.\n",
      "  signal, rate = librosa.load(audio_path, sr=16000)\n",
      "[src/libmpg123/parse.c:do_readahead():1083] warning: Cannot read next header, a one-frame stream? Duh...\n",
      "/Users/maryamsaad/Library/Python/3.9/lib/python/site-packages/librosa/core/audio.py:184: FutureWarning: librosa.core.audio.__audioread_load\n",
      "\tDeprecated as of librosa version 0.10.0.\n",
      "\tIt will be removed in librosa version 1.0.\n",
      "  y, sr_native = __audioread_load(path, offset, duration, dtype)\n",
      "Processing Audio Files:  34%|███▍      | 138940/405874 [3:30:34<5:03:50, 14.64it/s]/var/folders/c2/f9lh6rmd4q1648_pfl1636zw0000gn/T/ipykernel_41137/3522123127.py:10: UserWarning: PySoundFile failed. Trying audioread instead.\n",
      "  signal, rate = librosa.load(audio_path, sr=16000)\n",
      "/Users/maryamsaad/Library/Python/3.9/lib/python/site-packages/librosa/core/audio.py:184: FutureWarning: librosa.core.audio.__audioread_load\n",
      "\tDeprecated as of librosa version 0.10.0.\n",
      "\tIt will be removed in librosa version 1.0.\n",
      "  y, sr_native = __audioread_load(path, offset, duration, dtype)\n",
      "[src/libmpg123/parse.c:do_readahead():1083] warning: Cannot read next header, a one-frame stream? Duh...\n"
     ]
    },
    {
     "name": "stdout",
     "output_type": "stream",
     "text": [
      "Error processing z1WSSd_840.mp3: \n",
      "Error processing S1IpBg_841.mp3: \n",
      "Error processing tKz5cz_842.mp3: \n"
     ]
    },
    {
     "name": "stderr",
     "output_type": "stream",
     "text": [
      "Processing Audio Files:  34%|███▍      | 138942/405874 [3:30:34<5:03:31, 14.66it/s]/var/folders/c2/f9lh6rmd4q1648_pfl1636zw0000gn/T/ipykernel_41137/3522123127.py:10: UserWarning: PySoundFile failed. Trying audioread instead.\n",
      "  signal, rate = librosa.load(audio_path, sr=16000)\n",
      "[src/libmpg123/parse.c:do_readahead():1083] warning: Cannot read next header, a one-frame stream? Duh...\n",
      "/Users/maryamsaad/Library/Python/3.9/lib/python/site-packages/librosa/core/audio.py:184: FutureWarning: librosa.core.audio.__audioread_load\n",
      "\tDeprecated as of librosa version 0.10.0.\n",
      "\tIt will be removed in librosa version 1.0.\n",
      "  y, sr_native = __audioread_load(path, offset, duration, dtype)\n",
      "Processing Audio Files:  34%|███▍      | 138942/405874 [3:30:34<5:03:31, 14.66it/s]/var/folders/c2/f9lh6rmd4q1648_pfl1636zw0000gn/T/ipykernel_41137/3522123127.py:10: UserWarning: PySoundFile failed. Trying audioread instead.\n",
      "  signal, rate = librosa.load(audio_path, sr=16000)\n",
      "/Users/maryamsaad/Library/Python/3.9/lib/python/site-packages/librosa/core/audio.py:184: FutureWarning: librosa.core.audio.__audioread_load\n",
      "\tDeprecated as of librosa version 0.10.0.\n",
      "\tIt will be removed in librosa version 1.0.\n",
      "  y, sr_native = __audioread_load(path, offset, duration, dtype)\n",
      "[src/libmpg123/parse.c:do_readahead():1083] warning: Cannot read next header, a one-frame stream? Duh...\n",
      "Processing Audio Files:  34%|███▍      | 138944/405874 [3:30:34<5:04:02, 14.63it/s]/var/folders/c2/f9lh6rmd4q1648_pfl1636zw0000gn/T/ipykernel_41137/3522123127.py:10: UserWarning: PySoundFile failed. Trying audioread instead.\n",
      "  signal, rate = librosa.load(audio_path, sr=16000)\n",
      "/Users/maryamsaad/Library/Python/3.9/lib/python/site-packages/librosa/core/audio.py:184: FutureWarning: librosa.core.audio.__audioread_load\n",
      "\tDeprecated as of librosa version 0.10.0.\n",
      "\tIt will be removed in librosa version 1.0.\n",
      "  y, sr_native = __audioread_load(path, offset, duration, dtype)\n",
      "[src/libmpg123/parse.c:do_readahead():1083] warning: Cannot read next header, a one-frame stream? Duh...\n"
     ]
    },
    {
     "name": "stdout",
     "output_type": "stream",
     "text": [
      "Error processing 3MNZvw_843.mp3: \n",
      "Error processing Et05jT_844.mp3: \n",
      "Error processing Bxhvc1_845.mp3: \n"
     ]
    },
    {
     "name": "stderr",
     "output_type": "stream",
     "text": [
      "Processing Audio Files:  34%|███▍      | 138944/405874 [3:30:34<5:04:02, 14.63it/s]/var/folders/c2/f9lh6rmd4q1648_pfl1636zw0000gn/T/ipykernel_41137/3522123127.py:10: UserWarning: PySoundFile failed. Trying audioread instead.\n",
      "  signal, rate = librosa.load(audio_path, sr=16000)\n",
      "/Users/maryamsaad/Library/Python/3.9/lib/python/site-packages/librosa/core/audio.py:184: FutureWarning: librosa.core.audio.__audioread_load\n",
      "\tDeprecated as of librosa version 0.10.0.\n",
      "\tIt will be removed in librosa version 1.0.\n",
      "  y, sr_native = __audioread_load(path, offset, duration, dtype)\n",
      "[src/libmpg123/parse.c:do_readahead():1083] warning: Cannot read next header, a one-frame stream? Duh...\n",
      "Processing Audio Files:  34%|███▍      | 138946/405874 [3:30:34<5:03:11, 14.67it/s]/var/folders/c2/f9lh6rmd4q1648_pfl1636zw0000gn/T/ipykernel_41137/3522123127.py:10: UserWarning: PySoundFile failed. Trying audioread instead.\n",
      "  signal, rate = librosa.load(audio_path, sr=16000)\n",
      "[src/libmpg123/parse.c:do_readahead():1083] warning: Cannot read next header, a one-frame stream? Duh...\n",
      "/Users/maryamsaad/Library/Python/3.9/lib/python/site-packages/librosa/core/audio.py:184: FutureWarning: librosa.core.audio.__audioread_load\n",
      "\tDeprecated as of librosa version 0.10.0.\n",
      "\tIt will be removed in librosa version 1.0.\n",
      "  y, sr_native = __audioread_load(path, offset, duration, dtype)\n",
      "Processing Audio Files:  34%|███▍      | 138946/405874 [3:30:34<5:03:11, 14.67it/s][src/libmpg123/parse.c:do_readahead():1083] warning: Cannot read next header, a one-frame stream? Duh...\n",
      "/var/folders/c2/f9lh6rmd4q1648_pfl1636zw0000gn/T/ipykernel_41137/3522123127.py:10: UserWarning: PySoundFile failed. Trying audioread instead.\n",
      "  signal, rate = librosa.load(audio_path, sr=16000)\n",
      "/Users/maryamsaad/Library/Python/3.9/lib/python/site-packages/librosa/core/audio.py:184: FutureWarning: librosa.core.audio.__audioread_load\n",
      "\tDeprecated as of librosa version 0.10.0.\n",
      "\tIt will be removed in librosa version 1.0.\n",
      "  y, sr_native = __audioread_load(path, offset, duration, dtype)\n"
     ]
    },
    {
     "name": "stdout",
     "output_type": "stream",
     "text": [
      "Error processing sr5fHi_846.mp3: \n",
      "Error processing tyQmyB_847.mp3: \n",
      "Error processing 9s829z_848.mp3: \n"
     ]
    },
    {
     "name": "stderr",
     "output_type": "stream",
     "text": [
      "Processing Audio Files:  34%|███▍      | 138948/405874 [3:30:34<5:05:52, 14.54it/s]/var/folders/c2/f9lh6rmd4q1648_pfl1636zw0000gn/T/ipykernel_41137/3522123127.py:10: UserWarning: PySoundFile failed. Trying audioread instead.\n",
      "  signal, rate = librosa.load(audio_path, sr=16000)\n",
      "/Users/maryamsaad/Library/Python/3.9/lib/python/site-packages/librosa/core/audio.py:184: FutureWarning: librosa.core.audio.__audioread_load\n",
      "\tDeprecated as of librosa version 0.10.0.\n",
      "\tIt will be removed in librosa version 1.0.\n",
      "  y, sr_native = __audioread_load(path, offset, duration, dtype)\n",
      "[src/libmpg123/parse.c:do_readahead():1083] warning: Cannot read next header, a one-frame stream? Duh...\n",
      "Processing Audio Files:  34%|███▍      | 138948/405874 [3:30:34<5:05:52, 14.54it/s]/var/folders/c2/f9lh6rmd4q1648_pfl1636zw0000gn/T/ipykernel_41137/3522123127.py:10: UserWarning: PySoundFile failed. Trying audioread instead.\n",
      "  signal, rate = librosa.load(audio_path, sr=16000)\n",
      "/Users/maryamsaad/Library/Python/3.9/lib/python/site-packages/librosa/core/audio.py:184: FutureWarning: librosa.core.audio.__audioread_load\n",
      "\tDeprecated as of librosa version 0.10.0.\n",
      "\tIt will be removed in librosa version 1.0.\n",
      "  y, sr_native = __audioread_load(path, offset, duration, dtype)\n",
      "[src/libmpg123/parse.c:do_readahead():1083] warning: Cannot read next header, a one-frame stream? Duh...\n",
      "Processing Audio Files:  34%|███▍      | 138950/405874 [3:30:34<5:08:39, 14.41it/s]/var/folders/c2/f9lh6rmd4q1648_pfl1636zw0000gn/T/ipykernel_41137/3522123127.py:10: UserWarning: PySoundFile failed. Trying audioread instead.\n",
      "  signal, rate = librosa.load(audio_path, sr=16000)\n",
      "/Users/maryamsaad/Library/Python/3.9/lib/python/site-packages/librosa/core/audio.py:184: FutureWarning: librosa.core.audio.__audioread_load\n",
      "\tDeprecated as of librosa version 0.10.0.\n",
      "\tIt will be removed in librosa version 1.0.\n",
      "  y, sr_native = __audioread_load(path, offset, duration, dtype)\n",
      "[src/libmpg123/parse.c:do_readahead():1083] warning: Cannot read next header, a one-frame stream? Duh...\n"
     ]
    },
    {
     "name": "stdout",
     "output_type": "stream",
     "text": [
      "Error processing oovTm3_849.mp3: \n",
      "Error processing Ra4vr7_850.mp3: \n",
      "Error processing CeeJO4_851.mp3: \n"
     ]
    },
    {
     "name": "stderr",
     "output_type": "stream",
     "text": [
      "Processing Audio Files:  34%|███▍      | 138950/405874 [3:30:34<5:08:39, 14.41it/s]/var/folders/c2/f9lh6rmd4q1648_pfl1636zw0000gn/T/ipykernel_41137/3522123127.py:10: UserWarning: PySoundFile failed. Trying audioread instead.\n",
      "  signal, rate = librosa.load(audio_path, sr=16000)\n",
      "/Users/maryamsaad/Library/Python/3.9/lib/python/site-packages/librosa/core/audio.py:184: FutureWarning: librosa.core.audio.__audioread_load\n",
      "\tDeprecated as of librosa version 0.10.0.\n",
      "\tIt will be removed in librosa version 1.0.\n",
      "  y, sr_native = __audioread_load(path, offset, duration, dtype)\n",
      "[src/libmpg123/parse.c:do_readahead():1083] warning: Cannot read next header, a one-frame stream? Duh...\n",
      "Processing Audio Files:  34%|███▍      | 138952/405874 [3:30:34<5:05:56, 14.54it/s]/var/folders/c2/f9lh6rmd4q1648_pfl1636zw0000gn/T/ipykernel_41137/3522123127.py:10: UserWarning: PySoundFile failed. Trying audioread instead.\n",
      "  signal, rate = librosa.load(audio_path, sr=16000)\n",
      "[src/libmpg123/parse.c:do_readahead():1083] warning: Cannot read next header, a one-frame stream? Duh...\n",
      "/Users/maryamsaad/Library/Python/3.9/lib/python/site-packages/librosa/core/audio.py:184: FutureWarning: librosa.core.audio.__audioread_load\n",
      "\tDeprecated as of librosa version 0.10.0.\n",
      "\tIt will be removed in librosa version 1.0.\n",
      "  y, sr_native = __audioread_load(path, offset, duration, dtype)\n",
      "Processing Audio Files:  34%|███▍      | 138952/405874 [3:30:34<5:05:56, 14.54it/s]/var/folders/c2/f9lh6rmd4q1648_pfl1636zw0000gn/T/ipykernel_41137/3522123127.py:10: UserWarning: PySoundFile failed. Trying audioread instead.\n",
      "  signal, rate = librosa.load(audio_path, sr=16000)\n",
      "/Users/maryamsaad/Library/Python/3.9/lib/python/site-packages/librosa/core/audio.py:184: FutureWarning: librosa.core.audio.__audioread_load\n",
      "\tDeprecated as of librosa version 0.10.0.\n",
      "\tIt will be removed in librosa version 1.0.\n",
      "  y, sr_native = __audioread_load(path, offset, duration, dtype)\n",
      "[src/libmpg123/parse.c:do_readahead():1083] warning: Cannot read next header, a one-frame stream? Duh...\n"
     ]
    },
    {
     "name": "stdout",
     "output_type": "stream",
     "text": [
      "Error processing R4euUC_852.mp3: \n",
      "Error processing K9A5qi_853.mp3: \n",
      "Error processing iGwMBW_854.mp3: \n"
     ]
    },
    {
     "name": "stderr",
     "output_type": "stream",
     "text": [
      "Processing Audio Files:  34%|███▍      | 138954/405874 [3:30:35<5:04:23, 14.61it/s]/var/folders/c2/f9lh6rmd4q1648_pfl1636zw0000gn/T/ipykernel_41137/3522123127.py:10: UserWarning: PySoundFile failed. Trying audioread instead.\n",
      "  signal, rate = librosa.load(audio_path, sr=16000)\n",
      "[src/libmpg123/parse.c:do_readahead():1083] warning: Cannot read next header, a one-frame stream? Duh...\n",
      "/Users/maryamsaad/Library/Python/3.9/lib/python/site-packages/librosa/core/audio.py:184: FutureWarning: librosa.core.audio.__audioread_load\n",
      "\tDeprecated as of librosa version 0.10.0.\n",
      "\tIt will be removed in librosa version 1.0.\n",
      "  y, sr_native = __audioread_load(path, offset, duration, dtype)\n",
      "Processing Audio Files:  34%|███▍      | 138954/405874 [3:30:35<5:04:23, 14.61it/s]/var/folders/c2/f9lh6rmd4q1648_pfl1636zw0000gn/T/ipykernel_41137/3522123127.py:10: UserWarning: PySoundFile failed. Trying audioread instead.\n",
      "  signal, rate = librosa.load(audio_path, sr=16000)\n",
      "/Users/maryamsaad/Library/Python/3.9/lib/python/site-packages/librosa/core/audio.py:184: FutureWarning: librosa.core.audio.__audioread_load\n",
      "\tDeprecated as of librosa version 0.10.0.\n",
      "\tIt will be removed in librosa version 1.0.\n",
      "  y, sr_native = __audioread_load(path, offset, duration, dtype)\n",
      "[src/libmpg123/parse.c:do_readahead():1083] warning: Cannot read next header, a one-frame stream? Duh...\n",
      "Processing Audio Files:  34%|███▍      | 138956/405874 [3:30:35<5:05:00, 14.59it/s]/var/folders/c2/f9lh6rmd4q1648_pfl1636zw0000gn/T/ipykernel_41137/3522123127.py:10: UserWarning: PySoundFile failed. Trying audioread instead.\n",
      "  signal, rate = librosa.load(audio_path, sr=16000)\n",
      "/Users/maryamsaad/Library/Python/3.9/lib/python/site-packages/librosa/core/audio.py:184: FutureWarning: librosa.core.audio.__audioread_load\n",
      "\tDeprecated as of librosa version 0.10.0.\n",
      "\tIt will be removed in librosa version 1.0.\n",
      "  y, sr_native = __audioread_load(path, offset, duration, dtype)\n",
      "[src/libmpg123/parse.c:do_readahead():1083] warning: Cannot read next header, a one-frame stream? Duh...\n"
     ]
    },
    {
     "name": "stdout",
     "output_type": "stream",
     "text": [
      "Error processing 9JNmfr_855.mp3: \n",
      "Error processing 2UkM2j_856.mp3: \n",
      "Error processing LhQmTW_857.mp3: \n"
     ]
    },
    {
     "name": "stderr",
     "output_type": "stream",
     "text": [
      "Processing Audio Files:  34%|███▍      | 138956/405874 [3:30:35<5:05:00, 14.59it/s]/var/folders/c2/f9lh6rmd4q1648_pfl1636zw0000gn/T/ipykernel_41137/3522123127.py:10: UserWarning: PySoundFile failed. Trying audioread instead.\n",
      "  signal, rate = librosa.load(audio_path, sr=16000)\n",
      "/Users/maryamsaad/Library/Python/3.9/lib/python/site-packages/librosa/core/audio.py:184: FutureWarning: librosa.core.audio.__audioread_load\n",
      "\tDeprecated as of librosa version 0.10.0.\n",
      "\tIt will be removed in librosa version 1.0.\n",
      "  y, sr_native = __audioread_load(path, offset, duration, dtype)\n",
      "[src/libmpg123/parse.c:do_readahead():1083] warning: Cannot read next header, a one-frame stream? Duh...\n",
      "Processing Audio Files:  34%|███▍      | 138958/405874 [3:30:35<5:04:43, 14.60it/s]/var/folders/c2/f9lh6rmd4q1648_pfl1636zw0000gn/T/ipykernel_41137/3522123127.py:10: UserWarning: PySoundFile failed. Trying audioread instead.\n",
      "  signal, rate = librosa.load(audio_path, sr=16000)\n",
      "[src/libmpg123/parse.c:do_readahead():1083] warning: Cannot read next header, a one-frame stream? Duh...\n",
      "/Users/maryamsaad/Library/Python/3.9/lib/python/site-packages/librosa/core/audio.py:184: FutureWarning: librosa.core.audio.__audioread_load\n",
      "\tDeprecated as of librosa version 0.10.0.\n",
      "\tIt will be removed in librosa version 1.0.\n",
      "  y, sr_native = __audioread_load(path, offset, duration, dtype)\n",
      "Processing Audio Files:  34%|███▍      | 138958/405874 [3:30:35<5:04:43, 14.60it/s]/var/folders/c2/f9lh6rmd4q1648_pfl1636zw0000gn/T/ipykernel_41137/3522123127.py:10: UserWarning: PySoundFile failed. Trying audioread instead.\n",
      "  signal, rate = librosa.load(audio_path, sr=16000)\n",
      "/Users/maryamsaad/Library/Python/3.9/lib/python/site-packages/librosa/core/audio.py:184: FutureWarning: librosa.core.audio.__audioread_load\n",
      "\tDeprecated as of librosa version 0.10.0.\n",
      "\tIt will be removed in librosa version 1.0.\n",
      "  y, sr_native = __audioread_load(path, offset, duration, dtype)\n",
      "[src/libmpg123/parse.c:do_readahead():1083] warning: Cannot read next header, a one-frame stream? Duh...\n"
     ]
    },
    {
     "name": "stdout",
     "output_type": "stream",
     "text": [
      "Error processing 1Z4ed2_858.mp3: \n",
      "Error processing f6p4Dd_859.mp3: \n",
      "Error processing AZJlcb_860.mp3: \n"
     ]
    },
    {
     "name": "stderr",
     "output_type": "stream",
     "text": [
      "Processing Audio Files:  34%|███▍      | 138960/405874 [3:30:35<5:04:13, 14.62it/s]/var/folders/c2/f9lh6rmd4q1648_pfl1636zw0000gn/T/ipykernel_41137/3522123127.py:10: UserWarning: PySoundFile failed. Trying audioread instead.\n",
      "  signal, rate = librosa.load(audio_path, sr=16000)\n",
      "[src/libmpg123/parse.c:do_readahead():1083] warning: Cannot read next header, a one-frame stream? Duh...\n",
      "/Users/maryamsaad/Library/Python/3.9/lib/python/site-packages/librosa/core/audio.py:184: FutureWarning: librosa.core.audio.__audioread_load\n",
      "\tDeprecated as of librosa version 0.10.0.\n",
      "\tIt will be removed in librosa version 1.0.\n",
      "  y, sr_native = __audioread_load(path, offset, duration, dtype)\n",
      "Processing Audio Files:  34%|███▍      | 138960/405874 [3:30:35<5:04:13, 14.62it/s]/var/folders/c2/f9lh6rmd4q1648_pfl1636zw0000gn/T/ipykernel_41137/3522123127.py:10: UserWarning: PySoundFile failed. Trying audioread instead.\n",
      "  signal, rate = librosa.load(audio_path, sr=16000)\n",
      "[src/libmpg123/parse.c:do_readahead():1083] warning: Cannot read next header, a one-frame stream? Duh...\n",
      "/Users/maryamsaad/Library/Python/3.9/lib/python/site-packages/librosa/core/audio.py:184: FutureWarning: librosa.core.audio.__audioread_load\n",
      "\tDeprecated as of librosa version 0.10.0.\n",
      "\tIt will be removed in librosa version 1.0.\n",
      "  y, sr_native = __audioread_load(path, offset, duration, dtype)\n",
      "Processing Audio Files:  34%|███▍      | 138962/405874 [3:30:35<5:05:38, 14.55it/s]/var/folders/c2/f9lh6rmd4q1648_pfl1636zw0000gn/T/ipykernel_41137/3522123127.py:10: UserWarning: PySoundFile failed. Trying audioread instead.\n",
      "  signal, rate = librosa.load(audio_path, sr=16000)\n",
      "/Users/maryamsaad/Library/Python/3.9/lib/python/site-packages/librosa/core/audio.py:184: FutureWarning: librosa.core.audio.__audioread_load\n",
      "\tDeprecated as of librosa version 0.10.0.\n",
      "\tIt will be removed in librosa version 1.0.\n",
      "  y, sr_native = __audioread_load(path, offset, duration, dtype)\n",
      "[src/libmpg123/parse.c:do_readahead():1083] warning: Cannot read next header, a one-frame stream? Duh...\n"
     ]
    },
    {
     "name": "stdout",
     "output_type": "stream",
     "text": [
      "Error processing 5C74u2_861.mp3: \n",
      "Error processing 8g6oLP_862.mp3: \n",
      "Error processing bz8wSf_863.mp3: \n"
     ]
    },
    {
     "name": "stderr",
     "output_type": "stream",
     "text": [
      "Processing Audio Files:  34%|███▍      | 138962/405874 [3:30:35<5:05:38, 14.55it/s]/var/folders/c2/f9lh6rmd4q1648_pfl1636zw0000gn/T/ipykernel_41137/3522123127.py:10: UserWarning: PySoundFile failed. Trying audioread instead.\n",
      "  signal, rate = librosa.load(audio_path, sr=16000)\n",
      "/Users/maryamsaad/Library/Python/3.9/lib/python/site-packages/librosa/core/audio.py:184: FutureWarning: librosa.core.audio.__audioread_load\n",
      "\tDeprecated as of librosa version 0.10.0.\n",
      "\tIt will be removed in librosa version 1.0.\n",
      "  y, sr_native = __audioread_load(path, offset, duration, dtype)\n",
      "[src/libmpg123/parse.c:do_readahead():1083] warning: Cannot read next header, a one-frame stream? Duh...\n",
      "Processing Audio Files:  34%|███▍      | 138964/405874 [3:30:35<5:03:57, 14.63it/s]/var/folders/c2/f9lh6rmd4q1648_pfl1636zw0000gn/T/ipykernel_41137/3522123127.py:10: UserWarning: PySoundFile failed. Trying audioread instead.\n",
      "  signal, rate = librosa.load(audio_path, sr=16000)\n",
      "/Users/maryamsaad/Library/Python/3.9/lib/python/site-packages/librosa/core/audio.py:184: FutureWarning: librosa.core.audio.__audioread_load\n",
      "\tDeprecated as of librosa version 0.10.0.\n",
      "\tIt will be removed in librosa version 1.0.\n",
      "  y, sr_native = __audioread_load(path, offset, duration, dtype)\n",
      "[src/libmpg123/parse.c:do_readahead():1083] warning: Cannot read next header, a one-frame stream? Duh...\n",
      "Processing Audio Files:  34%|███▍      | 138964/405874 [3:30:35<5:03:57, 14.63it/s]/var/folders/c2/f9lh6rmd4q1648_pfl1636zw0000gn/T/ipykernel_41137/3522123127.py:10: UserWarning: PySoundFile failed. Trying audioread instead.\n",
      "  signal, rate = librosa.load(audio_path, sr=16000)\n",
      "/Users/maryamsaad/Library/Python/3.9/lib/python/site-packages/librosa/core/audio.py:184: FutureWarning: librosa.core.audio.__audioread_load\n",
      "\tDeprecated as of librosa version 0.10.0.\n",
      "\tIt will be removed in librosa version 1.0.\n",
      "  y, sr_native = __audioread_load(path, offset, duration, dtype)\n",
      "[src/libmpg123/parse.c:do_readahead():1083] warning: Cannot read next header, a one-frame stream? Duh...\n"
     ]
    },
    {
     "name": "stdout",
     "output_type": "stream",
     "text": [
      "Error processing OHLvvW_864.mp3: \n",
      "Error processing P8IsDN_865.mp3: \n",
      "Error processing zsfRLt_866.mp3: \n"
     ]
    },
    {
     "name": "stderr",
     "output_type": "stream",
     "text": [
      "Processing Audio Files:  34%|███▍      | 138966/405874 [3:30:35<5:02:19, 14.71it/s]/var/folders/c2/f9lh6rmd4q1648_pfl1636zw0000gn/T/ipykernel_41137/3522123127.py:10: UserWarning: PySoundFile failed. Trying audioread instead.\n",
      "  signal, rate = librosa.load(audio_path, sr=16000)\n",
      "[src/libmpg123/parse.c:do_readahead():1083] warning: Cannot read next header, a one-frame stream? Duh...\n",
      "/Users/maryamsaad/Library/Python/3.9/lib/python/site-packages/librosa/core/audio.py:184: FutureWarning: librosa.core.audio.__audioread_load\n",
      "\tDeprecated as of librosa version 0.10.0.\n",
      "\tIt will be removed in librosa version 1.0.\n",
      "  y, sr_native = __audioread_load(path, offset, duration, dtype)\n",
      "Processing Audio Files:  34%|███▍      | 138966/405874 [3:30:35<5:02:19, 14.71it/s]/var/folders/c2/f9lh6rmd4q1648_pfl1636zw0000gn/T/ipykernel_41137/3522123127.py:10: UserWarning: PySoundFile failed. Trying audioread instead.\n",
      "  signal, rate = librosa.load(audio_path, sr=16000)\n",
      "/Users/maryamsaad/Library/Python/3.9/lib/python/site-packages/librosa/core/audio.py:184: FutureWarning: librosa.core.audio.__audioread_load\n",
      "\tDeprecated as of librosa version 0.10.0.\n",
      "\tIt will be removed in librosa version 1.0.\n",
      "  y, sr_native = __audioread_load(path, offset, duration, dtype)\n",
      "[src/libmpg123/parse.c:do_readahead():1083] warning: Cannot read next header, a one-frame stream? Duh...\n",
      "Processing Audio Files:  34%|███▍      | 138968/405874 [3:30:35<5:04:57, 14.59it/s]/var/folders/c2/f9lh6rmd4q1648_pfl1636zw0000gn/T/ipykernel_41137/3522123127.py:10: UserWarning: PySoundFile failed. Trying audioread instead.\n",
      "  signal, rate = librosa.load(audio_path, sr=16000)\n",
      "/Users/maryamsaad/Library/Python/3.9/lib/python/site-packages/librosa/core/audio.py:184: FutureWarning: librosa.core.audio.__audioread_load\n",
      "\tDeprecated as of librosa version 0.10.0.\n",
      "\tIt will be removed in librosa version 1.0.\n",
      "  y, sr_native = __audioread_load(path, offset, duration, dtype)\n",
      "[src/libmpg123/parse.c:do_readahead():1083] warning: Cannot read next header, a one-frame stream? Duh...\n"
     ]
    },
    {
     "name": "stdout",
     "output_type": "stream",
     "text": [
      "Error processing t3Chpm_867.mp3: \n",
      "Error processing BCOC9O_868.mp3: \n",
      "Error processing g9Ih4h_869.mp3: \n"
     ]
    },
    {
     "name": "stderr",
     "output_type": "stream",
     "text": [
      "Processing Audio Files:  34%|███▍      | 138968/405874 [3:30:36<5:04:57, 14.59it/s]/var/folders/c2/f9lh6rmd4q1648_pfl1636zw0000gn/T/ipykernel_41137/3522123127.py:10: UserWarning: PySoundFile failed. Trying audioread instead.\n",
      "  signal, rate = librosa.load(audio_path, sr=16000)\n",
      "[src/libmpg123/parse.c:do_readahead():1083] warning: Cannot read next header, a one-frame stream? Duh...\n",
      "/Users/maryamsaad/Library/Python/3.9/lib/python/site-packages/librosa/core/audio.py:184: FutureWarning: librosa.core.audio.__audioread_load\n",
      "\tDeprecated as of librosa version 0.10.0.\n",
      "\tIt will be removed in librosa version 1.0.\n",
      "  y, sr_native = __audioread_load(path, offset, duration, dtype)\n",
      "Processing Audio Files:  34%|███▍      | 138970/405874 [3:30:36<5:02:56, 14.68it/s]/var/folders/c2/f9lh6rmd4q1648_pfl1636zw0000gn/T/ipykernel_41137/3522123127.py:10: UserWarning: PySoundFile failed. Trying audioread instead.\n",
      "  signal, rate = librosa.load(audio_path, sr=16000)\n",
      "[src/libmpg123/parse.c:do_readahead():1083] warning: Cannot read next header, a one-frame stream? Duh...\n",
      "/Users/maryamsaad/Library/Python/3.9/lib/python/site-packages/librosa/core/audio.py:184: FutureWarning: librosa.core.audio.__audioread_load\n",
      "\tDeprecated as of librosa version 0.10.0.\n",
      "\tIt will be removed in librosa version 1.0.\n",
      "  y, sr_native = __audioread_load(path, offset, duration, dtype)\n",
      "Processing Audio Files:  34%|███▍      | 138970/405874 [3:30:36<5:02:56, 14.68it/s]/var/folders/c2/f9lh6rmd4q1648_pfl1636zw0000gn/T/ipykernel_41137/3522123127.py:10: UserWarning: PySoundFile failed. Trying audioread instead.\n",
      "  signal, rate = librosa.load(audio_path, sr=16000)\n",
      "[src/libmpg123/parse.c:do_readahead():1083] warning: Cannot read next header, a one-frame stream? Duh...\n",
      "/Users/maryamsaad/Library/Python/3.9/lib/python/site-packages/librosa/core/audio.py:184: FutureWarning: librosa.core.audio.__audioread_load\n",
      "\tDeprecated as of librosa version 0.10.0.\n",
      "\tIt will be removed in librosa version 1.0.\n",
      "  y, sr_native = __audioread_load(path, offset, duration, dtype)\n"
     ]
    },
    {
     "name": "stdout",
     "output_type": "stream",
     "text": [
      "Error processing 26mD8R_870.mp3: \n",
      "Error processing Mj01lZ_871.mp3: \n",
      "Error processing 0ECRFX_872.mp3: \n"
     ]
    },
    {
     "name": "stderr",
     "output_type": "stream",
     "text": [
      "Processing Audio Files:  34%|███▍      | 138972/405874 [3:30:36<5:02:12, 14.72it/s][src/libmpg123/parse.c:do_readahead():1083] warning: Cannot read next header, a one-frame stream? Duh...\n",
      "/var/folders/c2/f9lh6rmd4q1648_pfl1636zw0000gn/T/ipykernel_41137/3522123127.py:10: UserWarning: PySoundFile failed. Trying audioread instead.\n",
      "  signal, rate = librosa.load(audio_path, sr=16000)\n",
      "/Users/maryamsaad/Library/Python/3.9/lib/python/site-packages/librosa/core/audio.py:184: FutureWarning: librosa.core.audio.__audioread_load\n",
      "\tDeprecated as of librosa version 0.10.0.\n",
      "\tIt will be removed in librosa version 1.0.\n",
      "  y, sr_native = __audioread_load(path, offset, duration, dtype)\n",
      "Processing Audio Files:  34%|███▍      | 138972/405874 [3:30:36<5:02:12, 14.72it/s]/var/folders/c2/f9lh6rmd4q1648_pfl1636zw0000gn/T/ipykernel_41137/3522123127.py:10: UserWarning: PySoundFile failed. Trying audioread instead.\n",
      "  signal, rate = librosa.load(audio_path, sr=16000)\n",
      "[src/libmpg123/parse.c:do_readahead():1083] warning: Cannot read next header, a one-frame stream? Duh...\n",
      "/Users/maryamsaad/Library/Python/3.9/lib/python/site-packages/librosa/core/audio.py:184: FutureWarning: librosa.core.audio.__audioread_load\n",
      "\tDeprecated as of librosa version 0.10.0.\n",
      "\tIt will be removed in librosa version 1.0.\n",
      "  y, sr_native = __audioread_load(path, offset, duration, dtype)\n",
      "Processing Audio Files:  34%|███▍      | 138974/405874 [3:30:36<5:06:03, 14.53it/s]/var/folders/c2/f9lh6rmd4q1648_pfl1636zw0000gn/T/ipykernel_41137/3522123127.py:10: UserWarning: PySoundFile failed. Trying audioread instead.\n",
      "  signal, rate = librosa.load(audio_path, sr=16000)\n",
      "/Users/maryamsaad/Library/Python/3.9/lib/python/site-packages/librosa/core/audio.py:184: FutureWarning: librosa.core.audio.__audioread_load\n",
      "\tDeprecated as of librosa version 0.10.0.\n",
      "\tIt will be removed in librosa version 1.0.\n",
      "  y, sr_native = __audioread_load(path, offset, duration, dtype)\n",
      "[src/libmpg123/parse.c:do_readahead():1083] warning: Cannot read next header, a one-frame stream? Duh...\n"
     ]
    },
    {
     "name": "stdout",
     "output_type": "stream",
     "text": [
      "Error processing suVmsf_873.mp3: \n",
      "Error processing PUFgcC_874.mp3: \n",
      "Error processing vqoUU7_875.mp3: \n"
     ]
    },
    {
     "name": "stderr",
     "output_type": "stream",
     "text": [
      "Processing Audio Files:  34%|███▍      | 138974/405874 [3:30:36<5:06:03, 14.53it/s]/var/folders/c2/f9lh6rmd4q1648_pfl1636zw0000gn/T/ipykernel_41137/3522123127.py:10: UserWarning: PySoundFile failed. Trying audioread instead.\n",
      "  signal, rate = librosa.load(audio_path, sr=16000)\n",
      "/Users/maryamsaad/Library/Python/3.9/lib/python/site-packages/librosa/core/audio.py:184: FutureWarning: librosa.core.audio.__audioread_load\n",
      "\tDeprecated as of librosa version 0.10.0.\n",
      "\tIt will be removed in librosa version 1.0.\n",
      "  y, sr_native = __audioread_load(path, offset, duration, dtype)\n",
      "[src/libmpg123/parse.c:do_readahead():1083] warning: Cannot read next header, a one-frame stream? Duh...\n",
      "Processing Audio Files:  34%|███▍      | 138976/405874 [3:30:36<5:03:46, 14.64it/s]/var/folders/c2/f9lh6rmd4q1648_pfl1636zw0000gn/T/ipykernel_41137/3522123127.py:10: UserWarning: PySoundFile failed. Trying audioread instead.\n",
      "  signal, rate = librosa.load(audio_path, sr=16000)\n",
      "[src/libmpg123/parse.c:do_readahead():1083] warning: Cannot read next header, a one-frame stream? Duh...\n",
      "/Users/maryamsaad/Library/Python/3.9/lib/python/site-packages/librosa/core/audio.py:184: FutureWarning: librosa.core.audio.__audioread_load\n",
      "\tDeprecated as of librosa version 0.10.0.\n",
      "\tIt will be removed in librosa version 1.0.\n",
      "  y, sr_native = __audioread_load(path, offset, duration, dtype)\n",
      "Processing Audio Files:  34%|███▍      | 138976/405874 [3:30:36<5:03:46, 14.64it/s]/var/folders/c2/f9lh6rmd4q1648_pfl1636zw0000gn/T/ipykernel_41137/3522123127.py:10: UserWarning: PySoundFile failed. Trying audioread instead.\n",
      "  signal, rate = librosa.load(audio_path, sr=16000)\n",
      "/Users/maryamsaad/Library/Python/3.9/lib/python/site-packages/librosa/core/audio.py:184: FutureWarning: librosa.core.audio.__audioread_load\n",
      "\tDeprecated as of librosa version 0.10.0.\n",
      "\tIt will be removed in librosa version 1.0.\n",
      "  y, sr_native = __audioread_load(path, offset, duration, dtype)\n",
      "[src/libmpg123/parse.c:do_readahead():1083] warning: Cannot read next header, a one-frame stream? Duh...\n"
     ]
    },
    {
     "name": "stdout",
     "output_type": "stream",
     "text": [
      "Error processing eylVsc_876.mp3: \n",
      "Error processing 0HpjZ1_877.mp3: \n",
      "Error processing jGqMgf_878.mp3: \n"
     ]
    },
    {
     "name": "stderr",
     "output_type": "stream",
     "text": [
      "Processing Audio Files:  34%|███▍      | 138978/405874 [3:30:36<5:02:35, 14.70it/s]/var/folders/c2/f9lh6rmd4q1648_pfl1636zw0000gn/T/ipykernel_41137/3522123127.py:10: UserWarning: PySoundFile failed. Trying audioread instead.\n",
      "  signal, rate = librosa.load(audio_path, sr=16000)\n",
      "[src/libmpg123/parse.c:do_readahead():1083] warning: Cannot read next header, a one-frame stream? Duh...\n",
      "/Users/maryamsaad/Library/Python/3.9/lib/python/site-packages/librosa/core/audio.py:184: FutureWarning: librosa.core.audio.__audioread_load\n",
      "\tDeprecated as of librosa version 0.10.0.\n",
      "\tIt will be removed in librosa version 1.0.\n",
      "  y, sr_native = __audioread_load(path, offset, duration, dtype)\n",
      "Processing Audio Files:  34%|███▍      | 138978/405874 [3:30:36<5:02:35, 14.70it/s]/var/folders/c2/f9lh6rmd4q1648_pfl1636zw0000gn/T/ipykernel_41137/3522123127.py:10: UserWarning: PySoundFile failed. Trying audioread instead.\n",
      "  signal, rate = librosa.load(audio_path, sr=16000)\n",
      "[src/libmpg123/parse.c:do_readahead():1083] warning: Cannot read next header, a one-frame stream? Duh...\n",
      "/Users/maryamsaad/Library/Python/3.9/lib/python/site-packages/librosa/core/audio.py:184: FutureWarning: librosa.core.audio.__audioread_load\n",
      "\tDeprecated as of librosa version 0.10.0.\n",
      "\tIt will be removed in librosa version 1.0.\n",
      "  y, sr_native = __audioread_load(path, offset, duration, dtype)\n",
      "Processing Audio Files:  34%|███▍      | 138980/405874 [3:30:36<5:02:06, 14.72it/s][src/libmpg123/parse.c:do_readahead():1083] warning: Cannot read next header, a one-frame stream? Duh...\n",
      "/var/folders/c2/f9lh6rmd4q1648_pfl1636zw0000gn/T/ipykernel_41137/3522123127.py:10: UserWarning: PySoundFile failed. Trying audioread instead.\n",
      "  signal, rate = librosa.load(audio_path, sr=16000)\n",
      "/Users/maryamsaad/Library/Python/3.9/lib/python/site-packages/librosa/core/audio.py:184: FutureWarning: librosa.core.audio.__audioread_load\n",
      "\tDeprecated as of librosa version 0.10.0.\n",
      "\tIt will be removed in librosa version 1.0.\n",
      "  y, sr_native = __audioread_load(path, offset, duration, dtype)\n"
     ]
    },
    {
     "name": "stdout",
     "output_type": "stream",
     "text": [
      "Error processing AEH7CP_879.mp3: \n",
      "Error processing K06NZx_880.mp3: \n",
      "Error processing XqFExv_881.mp3: \n"
     ]
    },
    {
     "name": "stderr",
     "output_type": "stream",
     "text": [
      "Processing Audio Files:  34%|███▍      | 138980/405874 [3:30:36<5:02:06, 14.72it/s]/var/folders/c2/f9lh6rmd4q1648_pfl1636zw0000gn/T/ipykernel_41137/3522123127.py:10: UserWarning: PySoundFile failed. Trying audioread instead.\n",
      "  signal, rate = librosa.load(audio_path, sr=16000)\n",
      "/Users/maryamsaad/Library/Python/3.9/lib/python/site-packages/librosa/core/audio.py:184: FutureWarning: librosa.core.audio.__audioread_load\n",
      "\tDeprecated as of librosa version 0.10.0.\n",
      "\tIt will be removed in librosa version 1.0.\n",
      "  y, sr_native = __audioread_load(path, offset, duration, dtype)\n",
      "[src/libmpg123/parse.c:do_readahead():1083] warning: Cannot read next header, a one-frame stream? Duh...\n",
      "Processing Audio Files:  34%|███▍      | 138982/405874 [3:30:36<5:01:32, 14.75it/s]/var/folders/c2/f9lh6rmd4q1648_pfl1636zw0000gn/T/ipykernel_41137/3522123127.py:10: UserWarning: PySoundFile failed. Trying audioread instead.\n",
      "  signal, rate = librosa.load(audio_path, sr=16000)\n",
      "[src/libmpg123/parse.c:do_readahead():1083] warning: Cannot read next header, a one-frame stream? Duh...\n",
      "/Users/maryamsaad/Library/Python/3.9/lib/python/site-packages/librosa/core/audio.py:184: FutureWarning: librosa.core.audio.__audioread_load\n",
      "\tDeprecated as of librosa version 0.10.0.\n",
      "\tIt will be removed in librosa version 1.0.\n",
      "  y, sr_native = __audioread_load(path, offset, duration, dtype)\n",
      "Processing Audio Files:  34%|███▍      | 138982/405874 [3:30:37<5:01:32, 14.75it/s]/var/folders/c2/f9lh6rmd4q1648_pfl1636zw0000gn/T/ipykernel_41137/3522123127.py:10: UserWarning: PySoundFile failed. Trying audioread instead.\n",
      "  signal, rate = librosa.load(audio_path, sr=16000)\n",
      "/Users/maryamsaad/Library/Python/3.9/lib/python/site-packages/librosa/core/audio.py:184: FutureWarning: librosa.core.audio.__audioread_load\n",
      "\tDeprecated as of librosa version 0.10.0.\n",
      "\tIt will be removed in librosa version 1.0.\n",
      "  y, sr_native = __audioread_load(path, offset, duration, dtype)\n",
      "[src/libmpg123/parse.c:do_readahead():1083] warning: Cannot read next header, a one-frame stream? Duh...\n"
     ]
    },
    {
     "name": "stdout",
     "output_type": "stream",
     "text": [
      "Error processing aBQAhl_882.mp3: \n",
      "Error processing jQwkF0_883.mp3: \n",
      "Error processing K1ZnG8_884.mp3: \n"
     ]
    },
    {
     "name": "stderr",
     "output_type": "stream",
     "text": [
      "Processing Audio Files:  34%|███▍      | 138984/405874 [3:30:37<5:01:17, 14.76it/s]/var/folders/c2/f9lh6rmd4q1648_pfl1636zw0000gn/T/ipykernel_41137/3522123127.py:10: UserWarning: PySoundFile failed. Trying audioread instead.\n",
      "  signal, rate = librosa.load(audio_path, sr=16000)\n",
      "[src/libmpg123/parse.c:do_readahead():1083] warning: Cannot read next header, a one-frame stream? Duh...\n",
      "/Users/maryamsaad/Library/Python/3.9/lib/python/site-packages/librosa/core/audio.py:184: FutureWarning: librosa.core.audio.__audioread_load\n",
      "\tDeprecated as of librosa version 0.10.0.\n",
      "\tIt will be removed in librosa version 1.0.\n",
      "  y, sr_native = __audioread_load(path, offset, duration, dtype)\n",
      "Processing Audio Files:  34%|███▍      | 138984/405874 [3:30:37<5:01:17, 14.76it/s]/var/folders/c2/f9lh6rmd4q1648_pfl1636zw0000gn/T/ipykernel_41137/3522123127.py:10: UserWarning: PySoundFile failed. Trying audioread instead.\n",
      "  signal, rate = librosa.load(audio_path, sr=16000)\n",
      "[src/libmpg123/parse.c:do_readahead():1083] warning: Cannot read next header, a one-frame stream? Duh...\n",
      "/Users/maryamsaad/Library/Python/3.9/lib/python/site-packages/librosa/core/audio.py:184: FutureWarning: librosa.core.audio.__audioread_load\n",
      "\tDeprecated as of librosa version 0.10.0.\n",
      "\tIt will be removed in librosa version 1.0.\n",
      "  y, sr_native = __audioread_load(path, offset, duration, dtype)\n",
      "Processing Audio Files:  34%|███▍      | 138986/405874 [3:30:37<5:06:45, 14.50it/s]/var/folders/c2/f9lh6rmd4q1648_pfl1636zw0000gn/T/ipykernel_41137/3522123127.py:10: UserWarning: PySoundFile failed. Trying audioread instead.\n",
      "  signal, rate = librosa.load(audio_path, sr=16000)\n",
      "/Users/maryamsaad/Library/Python/3.9/lib/python/site-packages/librosa/core/audio.py:184: FutureWarning: librosa.core.audio.__audioread_load\n",
      "\tDeprecated as of librosa version 0.10.0.\n",
      "\tIt will be removed in librosa version 1.0.\n",
      "  y, sr_native = __audioread_load(path, offset, duration, dtype)\n",
      "[src/libmpg123/parse.c:do_readahead():1083] warning: Cannot read next header, a one-frame stream? Duh...\n"
     ]
    },
    {
     "name": "stdout",
     "output_type": "stream",
     "text": [
      "Error processing 4Vd95J_885.mp3: \n",
      "Error processing oXS2R8_886.mp3: \n",
      "Error processing eGXAIg_887.mp3: \n"
     ]
    },
    {
     "name": "stderr",
     "output_type": "stream",
     "text": [
      "Processing Audio Files:  34%|███▍      | 138986/405874 [3:30:37<5:06:45, 14.50it/s]/var/folders/c2/f9lh6rmd4q1648_pfl1636zw0000gn/T/ipykernel_41137/3522123127.py:10: UserWarning: PySoundFile failed. Trying audioread instead.\n",
      "  signal, rate = librosa.load(audio_path, sr=16000)\n",
      "/Users/maryamsaad/Library/Python/3.9/lib/python/site-packages/librosa/core/audio.py:184: FutureWarning: librosa.core.audio.__audioread_load\n",
      "\tDeprecated as of librosa version 0.10.0.\n",
      "\tIt will be removed in librosa version 1.0.\n",
      "  y, sr_native = __audioread_load(path, offset, duration, dtype)\n",
      "[src/libmpg123/parse.c:do_readahead():1083] warning: Cannot read next header, a one-frame stream? Duh...\n",
      "Processing Audio Files:  34%|███▍      | 138988/405874 [3:30:37<5:05:47, 14.55it/s]/var/folders/c2/f9lh6rmd4q1648_pfl1636zw0000gn/T/ipykernel_41137/3522123127.py:10: UserWarning: PySoundFile failed. Trying audioread instead.\n",
      "  signal, rate = librosa.load(audio_path, sr=16000)\n",
      "/Users/maryamsaad/Library/Python/3.9/lib/python/site-packages/librosa/core/audio.py:184: FutureWarning: librosa.core.audio.__audioread_load\n",
      "\tDeprecated as of librosa version 0.10.0.\n",
      "\tIt will be removed in librosa version 1.0.\n",
      "  y, sr_native = __audioread_load(path, offset, duration, dtype)\n",
      "[src/libmpg123/parse.c:do_readahead():1083] warning: Cannot read next header, a one-frame stream? Duh...\n",
      "Processing Audio Files:  34%|███▍      | 138988/405874 [3:30:37<5:05:47, 14.55it/s]/var/folders/c2/f9lh6rmd4q1648_pfl1636zw0000gn/T/ipykernel_41137/3522123127.py:10: UserWarning: PySoundFile failed. Trying audioread instead.\n",
      "  signal, rate = librosa.load(audio_path, sr=16000)\n",
      "/Users/maryamsaad/Library/Python/3.9/lib/python/site-packages/librosa/core/audio.py:184: FutureWarning: librosa.core.audio.__audioread_load\n",
      "\tDeprecated as of librosa version 0.10.0.\n",
      "\tIt will be removed in librosa version 1.0.\n",
      "  y, sr_native = __audioread_load(path, offset, duration, dtype)\n",
      "[src/libmpg123/parse.c:do_readahead():1083] warning: Cannot read next header, a one-frame stream? Duh...\n"
     ]
    },
    {
     "name": "stdout",
     "output_type": "stream",
     "text": [
      "Error processing Ph4LJR_888.mp3: \n",
      "Error processing T8OzD8_889.mp3: \n",
      "Error processing OraGIT_890.mp3: \n"
     ]
    },
    {
     "name": "stderr",
     "output_type": "stream",
     "text": [
      "Processing Audio Files:  34%|███▍      | 138990/405874 [3:30:37<5:03:53, 14.64it/s]/var/folders/c2/f9lh6rmd4q1648_pfl1636zw0000gn/T/ipykernel_41137/3522123127.py:10: UserWarning: PySoundFile failed. Trying audioread instead.\n",
      "  signal, rate = librosa.load(audio_path, sr=16000)\n",
      "[src/libmpg123/parse.c:do_readahead():1083] warning: Cannot read next header, a one-frame stream? Duh...\n",
      "/Users/maryamsaad/Library/Python/3.9/lib/python/site-packages/librosa/core/audio.py:184: FutureWarning: librosa.core.audio.__audioread_load\n",
      "\tDeprecated as of librosa version 0.10.0.\n",
      "\tIt will be removed in librosa version 1.0.\n",
      "  y, sr_native = __audioread_load(path, offset, duration, dtype)\n",
      "Processing Audio Files:  34%|███▍      | 138990/405874 [3:30:37<5:03:53, 14.64it/s]/var/folders/c2/f9lh6rmd4q1648_pfl1636zw0000gn/T/ipykernel_41137/3522123127.py:10: UserWarning: PySoundFile failed. Trying audioread instead.\n",
      "  signal, rate = librosa.load(audio_path, sr=16000)\n",
      "/Users/maryamsaad/Library/Python/3.9/lib/python/site-packages/librosa/core/audio.py:184: FutureWarning: librosa.core.audio.__audioread_load\n",
      "\tDeprecated as of librosa version 0.10.0.\n",
      "\tIt will be removed in librosa version 1.0.\n",
      "  y, sr_native = __audioread_load(path, offset, duration, dtype)\n",
      "[src/libmpg123/parse.c:do_readahead():1083] warning: Cannot read next header, a one-frame stream? Duh...\n",
      "Processing Audio Files:  34%|███▍      | 138992/405874 [3:30:37<5:04:05, 14.63it/s]/var/folders/c2/f9lh6rmd4q1648_pfl1636zw0000gn/T/ipykernel_41137/3522123127.py:10: UserWarning: PySoundFile failed. Trying audioread instead.\n",
      "  signal, rate = librosa.load(audio_path, sr=16000)\n",
      "/Users/maryamsaad/Library/Python/3.9/lib/python/site-packages/librosa/core/audio.py:184: FutureWarning: librosa.core.audio.__audioread_load\n",
      "\tDeprecated as of librosa version 0.10.0.\n",
      "\tIt will be removed in librosa version 1.0.\n",
      "  y, sr_native = __audioread_load(path, offset, duration, dtype)\n",
      "[src/libmpg123/parse.c:do_readahead():1083] warning: Cannot read next header, a one-frame stream? Duh...\n"
     ]
    },
    {
     "name": "stdout",
     "output_type": "stream",
     "text": [
      "Error processing QagUap_891.mp3: \n",
      "Error processing X5wLER_892.mp3: \n",
      "Error processing AqO9Zo_893.mp3: \n"
     ]
    },
    {
     "name": "stderr",
     "output_type": "stream",
     "text": [
      "Processing Audio Files:  34%|███▍      | 138992/405874 [3:30:37<5:04:05, 14.63it/s]/var/folders/c2/f9lh6rmd4q1648_pfl1636zw0000gn/T/ipykernel_41137/3522123127.py:10: UserWarning: PySoundFile failed. Trying audioread instead.\n",
      "  signal, rate = librosa.load(audio_path, sr=16000)\n",
      "/Users/maryamsaad/Library/Python/3.9/lib/python/site-packages/librosa/core/audio.py:184: FutureWarning: librosa.core.audio.__audioread_load\n",
      "\tDeprecated as of librosa version 0.10.0.\n",
      "\tIt will be removed in librosa version 1.0.\n",
      "  y, sr_native = __audioread_load(path, offset, duration, dtype)\n",
      "[src/libmpg123/parse.c:do_readahead():1083] warning: Cannot read next header, a one-frame stream? Duh...\n",
      "Processing Audio Files:  34%|███▍      | 138994/405874 [3:30:37<5:04:22, 14.61it/s]/var/folders/c2/f9lh6rmd4q1648_pfl1636zw0000gn/T/ipykernel_41137/3522123127.py:10: UserWarning: PySoundFile failed. Trying audioread instead.\n",
      "  signal, rate = librosa.load(audio_path, sr=16000)\n",
      "/Users/maryamsaad/Library/Python/3.9/lib/python/site-packages/librosa/core/audio.py:184: FutureWarning: librosa.core.audio.__audioread_load\n",
      "\tDeprecated as of librosa version 0.10.0.\n",
      "\tIt will be removed in librosa version 1.0.\n",
      "  y, sr_native = __audioread_load(path, offset, duration, dtype)\n",
      "[src/libmpg123/parse.c:do_readahead():1083] warning: Cannot read next header, a one-frame stream? Duh...\n",
      "Processing Audio Files:  34%|███▍      | 138994/405874 [3:30:37<5:04:22, 14.61it/s][src/libmpg123/parse.c:do_readahead():1083] warning: Cannot read next header, a one-frame stream? Duh...\n",
      "/var/folders/c2/f9lh6rmd4q1648_pfl1636zw0000gn/T/ipykernel_41137/3522123127.py:10: UserWarning: PySoundFile failed. Trying audioread instead.\n",
      "  signal, rate = librosa.load(audio_path, sr=16000)\n",
      "/Users/maryamsaad/Library/Python/3.9/lib/python/site-packages/librosa/core/audio.py:184: FutureWarning: librosa.core.audio.__audioread_load\n",
      "\tDeprecated as of librosa version 0.10.0.\n",
      "\tIt will be removed in librosa version 1.0.\n",
      "  y, sr_native = __audioread_load(path, offset, duration, dtype)\n"
     ]
    },
    {
     "name": "stdout",
     "output_type": "stream",
     "text": [
      "Error processing oQJuA9_894.mp3: \n",
      "Error processing ZA6kn3_895.mp3: \n",
      "Error processing T9bUFc_896.mp3: \n"
     ]
    },
    {
     "name": "stderr",
     "output_type": "stream",
     "text": [
      "Processing Audio Files:  34%|███▍      | 138996/405874 [3:30:37<5:06:24, 14.52it/s]/var/folders/c2/f9lh6rmd4q1648_pfl1636zw0000gn/T/ipykernel_41137/3522123127.py:10: UserWarning: PySoundFile failed. Trying audioread instead.\n",
      "  signal, rate = librosa.load(audio_path, sr=16000)\n",
      "/Users/maryamsaad/Library/Python/3.9/lib/python/site-packages/librosa/core/audio.py:184: FutureWarning: librosa.core.audio.__audioread_load\n",
      "\tDeprecated as of librosa version 0.10.0.\n",
      "\tIt will be removed in librosa version 1.0.\n",
      "  y, sr_native = __audioread_load(path, offset, duration, dtype)\n",
      "[src/libmpg123/parse.c:do_readahead():1083] warning: Cannot read next header, a one-frame stream? Duh...\n",
      "Processing Audio Files:  34%|███▍      | 138996/405874 [3:30:37<5:06:24, 14.52it/s]/var/folders/c2/f9lh6rmd4q1648_pfl1636zw0000gn/T/ipykernel_41137/3522123127.py:10: UserWarning: PySoundFile failed. Trying audioread instead.\n",
      "  signal, rate = librosa.load(audio_path, sr=16000)\n",
      "/Users/maryamsaad/Library/Python/3.9/lib/python/site-packages/librosa/core/audio.py:184: FutureWarning: librosa.core.audio.__audioread_load\n",
      "\tDeprecated as of librosa version 0.10.0.\n",
      "\tIt will be removed in librosa version 1.0.\n",
      "  y, sr_native = __audioread_load(path, offset, duration, dtype)\n",
      "[src/libmpg123/parse.c:do_readahead():1083] warning: Cannot read next header, a one-frame stream? Duh...\n",
      "Processing Audio Files:  34%|███▍      | 138998/405874 [3:30:38<5:09:02, 14.39it/s]/var/folders/c2/f9lh6rmd4q1648_pfl1636zw0000gn/T/ipykernel_41137/3522123127.py:10: UserWarning: PySoundFile failed. Trying audioread instead.\n",
      "  signal, rate = librosa.load(audio_path, sr=16000)\n",
      "/Users/maryamsaad/Library/Python/3.9/lib/python/site-packages/librosa/core/audio.py:184: FutureWarning: librosa.core.audio.__audioread_load\n",
      "\tDeprecated as of librosa version 0.10.0.\n",
      "\tIt will be removed in librosa version 1.0.\n",
      "  y, sr_native = __audioread_load(path, offset, duration, dtype)\n",
      "[src/libmpg123/parse.c:do_readahead():1083] warning: Cannot read next header, a one-frame stream? Duh...\n"
     ]
    },
    {
     "name": "stdout",
     "output_type": "stream",
     "text": [
      "Error processing Xtf2Em_897.mp3: \n",
      "Error processing 2SNcu7_898.mp3: \n",
      "Error processing NzXPPt_899.mp3: \n"
     ]
    },
    {
     "name": "stderr",
     "output_type": "stream",
     "text": [
      "Processing Audio Files:  34%|███▍      | 138998/405874 [3:30:38<5:09:02, 14.39it/s][src/libmpg123/parse.c:do_readahead():1083] warning: Cannot read next header, a one-frame stream? Duh...\n",
      "/var/folders/c2/f9lh6rmd4q1648_pfl1636zw0000gn/T/ipykernel_41137/3522123127.py:10: UserWarning: PySoundFile failed. Trying audioread instead.\n",
      "  signal, rate = librosa.load(audio_path, sr=16000)\n",
      "/Users/maryamsaad/Library/Python/3.9/lib/python/site-packages/librosa/core/audio.py:184: FutureWarning: librosa.core.audio.__audioread_load\n",
      "\tDeprecated as of librosa version 0.10.0.\n",
      "\tIt will be removed in librosa version 1.0.\n",
      "  y, sr_native = __audioread_load(path, offset, duration, dtype)\n",
      "Processing Audio Files:  34%|███▍      | 139000/405874 [3:30:38<5:06:26, 14.51it/s]/var/folders/c2/f9lh6rmd4q1648_pfl1636zw0000gn/T/ipykernel_41137/3522123127.py:10: UserWarning: PySoundFile failed. Trying audioread instead.\n",
      "  signal, rate = librosa.load(audio_path, sr=16000)\n",
      "/Users/maryamsaad/Library/Python/3.9/lib/python/site-packages/librosa/core/audio.py:184: FutureWarning: librosa.core.audio.__audioread_load\n",
      "\tDeprecated as of librosa version 0.10.0.\n",
      "\tIt will be removed in librosa version 1.0.\n",
      "  y, sr_native = __audioread_load(path, offset, duration, dtype)\n",
      "[src/libmpg123/parse.c:do_readahead():1083] warning: Cannot read next header, a one-frame stream? Duh...\n",
      "Processing Audio Files:  34%|███▍      | 139000/405874 [3:30:38<5:06:26, 14.51it/s]/var/folders/c2/f9lh6rmd4q1648_pfl1636zw0000gn/T/ipykernel_41137/3522123127.py:10: UserWarning: PySoundFile failed. Trying audioread instead.\n",
      "  signal, rate = librosa.load(audio_path, sr=16000)\n",
      "/Users/maryamsaad/Library/Python/3.9/lib/python/site-packages/librosa/core/audio.py:184: FutureWarning: librosa.core.audio.__audioread_load\n",
      "\tDeprecated as of librosa version 0.10.0.\n",
      "\tIt will be removed in librosa version 1.0.\n",
      "  y, sr_native = __audioread_load(path, offset, duration, dtype)\n",
      "[src/libmpg123/parse.c:do_readahead():1083] warning: Cannot read next header, a one-frame stream? Duh...\n"
     ]
    },
    {
     "name": "stdout",
     "output_type": "stream",
     "text": [
      "Error processing WXzzdB_900.mp3: \n",
      "Error processing rF1Ie6_901.mp3: \n",
      "Error processing rzKn76_902.mp3: \n"
     ]
    },
    {
     "name": "stderr",
     "output_type": "stream",
     "text": [
      "Processing Audio Files:  34%|███▍      | 139002/405874 [3:30:38<5:04:42, 14.60it/s]/var/folders/c2/f9lh6rmd4q1648_pfl1636zw0000gn/T/ipykernel_41137/3522123127.py:10: UserWarning: PySoundFile failed. Trying audioread instead.\n",
      "  signal, rate = librosa.load(audio_path, sr=16000)\n",
      "[src/libmpg123/parse.c:do_readahead():1083] warning: Cannot read next header, a one-frame stream? Duh...\n",
      "/Users/maryamsaad/Library/Python/3.9/lib/python/site-packages/librosa/core/audio.py:184: FutureWarning: librosa.core.audio.__audioread_load\n",
      "\tDeprecated as of librosa version 0.10.0.\n",
      "\tIt will be removed in librosa version 1.0.\n",
      "  y, sr_native = __audioread_load(path, offset, duration, dtype)\n",
      "Processing Audio Files:  34%|███▍      | 139002/405874 [3:30:38<5:04:42, 14.60it/s]/var/folders/c2/f9lh6rmd4q1648_pfl1636zw0000gn/T/ipykernel_41137/3522123127.py:10: UserWarning: PySoundFile failed. Trying audioread instead.\n",
      "  signal, rate = librosa.load(audio_path, sr=16000)\n",
      "/Users/maryamsaad/Library/Python/3.9/lib/python/site-packages/librosa/core/audio.py:184: FutureWarning: librosa.core.audio.__audioread_load\n",
      "\tDeprecated as of librosa version 0.10.0.\n",
      "\tIt will be removed in librosa version 1.0.\n",
      "  y, sr_native = __audioread_load(path, offset, duration, dtype)\n",
      "[src/libmpg123/parse.c:do_readahead():1083] warning: Cannot read next header, a one-frame stream? Duh...\n",
      "Processing Audio Files:  34%|███▍      | 139004/405874 [3:30:38<5:04:56, 14.59it/s][src/libmpg123/parse.c:do_readahead():1083] warning: Cannot read next header, a one-frame stream? Duh...\n",
      "/var/folders/c2/f9lh6rmd4q1648_pfl1636zw0000gn/T/ipykernel_41137/3522123127.py:10: UserWarning: PySoundFile failed. Trying audioread instead.\n",
      "  signal, rate = librosa.load(audio_path, sr=16000)\n",
      "/Users/maryamsaad/Library/Python/3.9/lib/python/site-packages/librosa/core/audio.py:184: FutureWarning: librosa.core.audio.__audioread_load\n",
      "\tDeprecated as of librosa version 0.10.0.\n",
      "\tIt will be removed in librosa version 1.0.\n",
      "  y, sr_native = __audioread_load(path, offset, duration, dtype)\n"
     ]
    },
    {
     "name": "stdout",
     "output_type": "stream",
     "text": [
      "Error processing Bq450x_903.mp3: \n",
      "Error processing s3Ja1V_904.mp3: \n",
      "Error processing ORpqk4_905.mp3: \n"
     ]
    },
    {
     "name": "stderr",
     "output_type": "stream",
     "text": [
      "Processing Audio Files:  34%|███▍      | 139004/405874 [3:30:38<5:04:56, 14.59it/s]/var/folders/c2/f9lh6rmd4q1648_pfl1636zw0000gn/T/ipykernel_41137/3522123127.py:10: UserWarning: PySoundFile failed. Trying audioread instead.\n",
      "  signal, rate = librosa.load(audio_path, sr=16000)\n",
      "/Users/maryamsaad/Library/Python/3.9/lib/python/site-packages/librosa/core/audio.py:184: FutureWarning: librosa.core.audio.__audioread_load\n",
      "\tDeprecated as of librosa version 0.10.0.\n",
      "\tIt will be removed in librosa version 1.0.\n",
      "  y, sr_native = __audioread_load(path, offset, duration, dtype)\n",
      "[src/libmpg123/parse.c:do_readahead():1083] warning: Cannot read next header, a one-frame stream? Duh...\n",
      "Processing Audio Files:  34%|███▍      | 139006/405874 [3:30:38<5:03:32, 14.65it/s]/var/folders/c2/f9lh6rmd4q1648_pfl1636zw0000gn/T/ipykernel_41137/3522123127.py:10: UserWarning: PySoundFile failed. Trying audioread instead.\n",
      "  signal, rate = librosa.load(audio_path, sr=16000)\n",
      "/Users/maryamsaad/Library/Python/3.9/lib/python/site-packages/librosa/core/audio.py:184: FutureWarning: librosa.core.audio.__audioread_load\n",
      "\tDeprecated as of librosa version 0.10.0.\n",
      "\tIt will be removed in librosa version 1.0.\n",
      "  y, sr_native = __audioread_load(path, offset, duration, dtype)\n",
      "[src/libmpg123/parse.c:do_readahead():1083] warning: Cannot read next header, a one-frame stream? Duh...\n",
      "Processing Audio Files:  34%|███▍      | 139006/405874 [3:30:38<5:03:32, 14.65it/s]/var/folders/c2/f9lh6rmd4q1648_pfl1636zw0000gn/T/ipykernel_41137/3522123127.py:10: UserWarning: PySoundFile failed. Trying audioread instead.\n",
      "  signal, rate = librosa.load(audio_path, sr=16000)\n",
      "[src/libmpg123/parse.c:do_readahead():1083] warning: Cannot read next header, a one-frame stream? Duh...\n",
      "/Users/maryamsaad/Library/Python/3.9/lib/python/site-packages/librosa/core/audio.py:184: FutureWarning: librosa.core.audio.__audioread_load\n",
      "\tDeprecated as of librosa version 0.10.0.\n",
      "\tIt will be removed in librosa version 1.0.\n",
      "  y, sr_native = __audioread_load(path, offset, duration, dtype)\n"
     ]
    },
    {
     "name": "stdout",
     "output_type": "stream",
     "text": [
      "Error processing ArVGvT_906.mp3: \n",
      "Error processing VBGImZ_907.mp3: \n",
      "Error processing kbVqhu_908.mp3: \n"
     ]
    },
    {
     "name": "stderr",
     "output_type": "stream",
     "text": [
      "Processing Audio Files:  34%|███▍      | 139008/405874 [3:30:38<5:03:05, 14.67it/s][src/libmpg123/parse.c:do_readahead():1083] warning: Cannot read next header, a one-frame stream? Duh...\n",
      "/var/folders/c2/f9lh6rmd4q1648_pfl1636zw0000gn/T/ipykernel_41137/3522123127.py:10: UserWarning: PySoundFile failed. Trying audioread instead.\n",
      "  signal, rate = librosa.load(audio_path, sr=16000)\n",
      "/Users/maryamsaad/Library/Python/3.9/lib/python/site-packages/librosa/core/audio.py:184: FutureWarning: librosa.core.audio.__audioread_load\n",
      "\tDeprecated as of librosa version 0.10.0.\n",
      "\tIt will be removed in librosa version 1.0.\n",
      "  y, sr_native = __audioread_load(path, offset, duration, dtype)\n",
      "Processing Audio Files:  34%|███▍      | 139008/405874 [3:30:38<5:03:05, 14.67it/s]/var/folders/c2/f9lh6rmd4q1648_pfl1636zw0000gn/T/ipykernel_41137/3522123127.py:10: UserWarning: PySoundFile failed. Trying audioread instead.\n",
      "  signal, rate = librosa.load(audio_path, sr=16000)\n",
      "/Users/maryamsaad/Library/Python/3.9/lib/python/site-packages/librosa/core/audio.py:184: FutureWarning: librosa.core.audio.__audioread_load\n",
      "\tDeprecated as of librosa version 0.10.0.\n",
      "\tIt will be removed in librosa version 1.0.\n",
      "  y, sr_native = __audioread_load(path, offset, duration, dtype)\n",
      "[src/libmpg123/parse.c:do_readahead():1083] warning: Cannot read next header, a one-frame stream? Duh...\n",
      "Processing Audio Files:  34%|███▍      | 139010/405874 [3:30:38<5:08:11, 14.43it/s]/var/folders/c2/f9lh6rmd4q1648_pfl1636zw0000gn/T/ipykernel_41137/3522123127.py:10: UserWarning: PySoundFile failed. Trying audioread instead.\n",
      "  signal, rate = librosa.load(audio_path, sr=16000)\n",
      "[src/libmpg123/parse.c:do_readahead():1083] warning: Cannot read next header, a one-frame stream? Duh...\n",
      "/Users/maryamsaad/Library/Python/3.9/lib/python/site-packages/librosa/core/audio.py:184: FutureWarning: librosa.core.audio.__audioread_load\n",
      "\tDeprecated as of librosa version 0.10.0.\n",
      "\tIt will be removed in librosa version 1.0.\n",
      "  y, sr_native = __audioread_load(path, offset, duration, dtype)\n"
     ]
    },
    {
     "name": "stdout",
     "output_type": "stream",
     "text": [
      "Error processing MhQnMk_909.mp3: \n",
      "Error processing 0wcVVd_910.mp3: \n",
      "Error processing zruuaM_911.mp3: \n"
     ]
    },
    {
     "name": "stderr",
     "output_type": "stream",
     "text": [
      "Processing Audio Files:  34%|███▍      | 139010/405874 [3:30:38<5:08:11, 14.43it/s]/var/folders/c2/f9lh6rmd4q1648_pfl1636zw0000gn/T/ipykernel_41137/3522123127.py:10: UserWarning: PySoundFile failed. Trying audioread instead.\n",
      "  signal, rate = librosa.load(audio_path, sr=16000)\n",
      "/Users/maryamsaad/Library/Python/3.9/lib/python/site-packages/librosa/core/audio.py:184: FutureWarning: librosa.core.audio.__audioread_load\n",
      "\tDeprecated as of librosa version 0.10.0.\n",
      "\tIt will be removed in librosa version 1.0.\n",
      "  y, sr_native = __audioread_load(path, offset, duration, dtype)\n",
      "[src/libmpg123/parse.c:do_readahead():1083] warning: Cannot read next header, a one-frame stream? Duh...\n",
      "Processing Audio Files:  34%|███▍      | 139012/405874 [3:30:38<5:06:05, 14.53it/s]/var/folders/c2/f9lh6rmd4q1648_pfl1636zw0000gn/T/ipykernel_41137/3522123127.py:10: UserWarning: PySoundFile failed. Trying audioread instead.\n",
      "  signal, rate = librosa.load(audio_path, sr=16000)\n",
      "/Users/maryamsaad/Library/Python/3.9/lib/python/site-packages/librosa/core/audio.py:184: FutureWarning: librosa.core.audio.__audioread_load\n",
      "\tDeprecated as of librosa version 0.10.0.\n",
      "\tIt will be removed in librosa version 1.0.\n",
      "  y, sr_native = __audioread_load(path, offset, duration, dtype)\n",
      "[src/libmpg123/parse.c:do_readahead():1083] warning: Cannot read next header, a one-frame stream? Duh...\n",
      "Processing Audio Files:  34%|███▍      | 139012/405874 [3:30:39<5:06:05, 14.53it/s]/var/folders/c2/f9lh6rmd4q1648_pfl1636zw0000gn/T/ipykernel_41137/3522123127.py:10: UserWarning: PySoundFile failed. Trying audioread instead.\n",
      "  signal, rate = librosa.load(audio_path, sr=16000)\n",
      "[src/libmpg123/parse.c:do_readahead():1083] warning: Cannot read next header, a one-frame stream? Duh...\n",
      "/Users/maryamsaad/Library/Python/3.9/lib/python/site-packages/librosa/core/audio.py:184: FutureWarning: librosa.core.audio.__audioread_load\n",
      "\tDeprecated as of librosa version 0.10.0.\n",
      "\tIt will be removed in librosa version 1.0.\n",
      "  y, sr_native = __audioread_load(path, offset, duration, dtype)\n"
     ]
    },
    {
     "name": "stdout",
     "output_type": "stream",
     "text": [
      "Error processing lyveHG_912.mp3: \n",
      "Error processing 2PiP7J_913.mp3: \n",
      "Error processing LxaaAR_914.mp3: \n"
     ]
    },
    {
     "name": "stderr",
     "output_type": "stream",
     "text": [
      "Processing Audio Files:  34%|███▍      | 139014/405874 [3:30:39<5:03:33, 14.65it/s]/var/folders/c2/f9lh6rmd4q1648_pfl1636zw0000gn/T/ipykernel_41137/3522123127.py:10: UserWarning: PySoundFile failed. Trying audioread instead.\n",
      "  signal, rate = librosa.load(audio_path, sr=16000)\n",
      "[src/libmpg123/parse.c:do_readahead():1083] warning: Cannot read next header, a one-frame stream? Duh...\n",
      "/Users/maryamsaad/Library/Python/3.9/lib/python/site-packages/librosa/core/audio.py:184: FutureWarning: librosa.core.audio.__audioread_load\n",
      "\tDeprecated as of librosa version 0.10.0.\n",
      "\tIt will be removed in librosa version 1.0.\n",
      "  y, sr_native = __audioread_load(path, offset, duration, dtype)\n",
      "Processing Audio Files:  34%|███▍      | 139014/405874 [3:30:39<5:03:33, 14.65it/s]/var/folders/c2/f9lh6rmd4q1648_pfl1636zw0000gn/T/ipykernel_41137/3522123127.py:10: UserWarning: PySoundFile failed. Trying audioread instead.\n",
      "  signal, rate = librosa.load(audio_path, sr=16000)\n",
      "[src/libmpg123/parse.c:do_readahead():1083] warning: Cannot read next header, a one-frame stream? Duh...\n",
      "/Users/maryamsaad/Library/Python/3.9/lib/python/site-packages/librosa/core/audio.py:184: FutureWarning: librosa.core.audio.__audioread_load\n",
      "\tDeprecated as of librosa version 0.10.0.\n",
      "\tIt will be removed in librosa version 1.0.\n",
      "  y, sr_native = __audioread_load(path, offset, duration, dtype)\n",
      "Processing Audio Files:  34%|███▍      | 139016/405874 [3:30:39<5:02:48, 14.69it/s]/var/folders/c2/f9lh6rmd4q1648_pfl1636zw0000gn/T/ipykernel_41137/3522123127.py:10: UserWarning: PySoundFile failed. Trying audioread instead.\n",
      "  signal, rate = librosa.load(audio_path, sr=16000)\n",
      "/Users/maryamsaad/Library/Python/3.9/lib/python/site-packages/librosa/core/audio.py:184: FutureWarning: librosa.core.audio.__audioread_load\n",
      "\tDeprecated as of librosa version 0.10.0.\n",
      "\tIt will be removed in librosa version 1.0.\n",
      "  y, sr_native = __audioread_load(path, offset, duration, dtype)\n",
      "[src/libmpg123/parse.c:do_readahead():1083] warning: Cannot read next header, a one-frame stream? Duh...\n"
     ]
    },
    {
     "name": "stdout",
     "output_type": "stream",
     "text": [
      "Error processing k9st9V_915.mp3: \n",
      "Error processing RilPiC_916.mp3: \n",
      "Error processing 9qJZhO_917.mp3: \n"
     ]
    },
    {
     "name": "stderr",
     "output_type": "stream",
     "text": [
      "Processing Audio Files:  34%|███▍      | 139016/405874 [3:30:39<5:02:48, 14.69it/s]/var/folders/c2/f9lh6rmd4q1648_pfl1636zw0000gn/T/ipykernel_41137/3522123127.py:10: UserWarning: PySoundFile failed. Trying audioread instead.\n",
      "  signal, rate = librosa.load(audio_path, sr=16000)\n",
      "[src/libmpg123/parse.c:do_readahead():1083] warning: Cannot read next header, a one-frame stream? Duh...\n",
      "/Users/maryamsaad/Library/Python/3.9/lib/python/site-packages/librosa/core/audio.py:184: FutureWarning: librosa.core.audio.__audioread_load\n",
      "\tDeprecated as of librosa version 0.10.0.\n",
      "\tIt will be removed in librosa version 1.0.\n",
      "  y, sr_native = __audioread_load(path, offset, duration, dtype)\n",
      "Processing Audio Files:  34%|███▍      | 139018/405874 [3:30:39<5:02:15, 14.71it/s]/var/folders/c2/f9lh6rmd4q1648_pfl1636zw0000gn/T/ipykernel_41137/3522123127.py:10: UserWarning: PySoundFile failed. Trying audioread instead.\n",
      "  signal, rate = librosa.load(audio_path, sr=16000)\n",
      "[src/libmpg123/parse.c:do_readahead():1083] warning: Cannot read next header, a one-frame stream? Duh...\n",
      "/Users/maryamsaad/Library/Python/3.9/lib/python/site-packages/librosa/core/audio.py:184: FutureWarning: librosa.core.audio.__audioread_load\n",
      "\tDeprecated as of librosa version 0.10.0.\n",
      "\tIt will be removed in librosa version 1.0.\n",
      "  y, sr_native = __audioread_load(path, offset, duration, dtype)\n",
      "Processing Audio Files:  34%|███▍      | 139018/405874 [3:30:39<5:02:15, 14.71it/s]/var/folders/c2/f9lh6rmd4q1648_pfl1636zw0000gn/T/ipykernel_41137/3522123127.py:10: UserWarning: PySoundFile failed. Trying audioread instead.\n",
      "  signal, rate = librosa.load(audio_path, sr=16000)\n",
      "/Users/maryamsaad/Library/Python/3.9/lib/python/site-packages/librosa/core/audio.py:184: FutureWarning: librosa.core.audio.__audioread_load\n",
      "\tDeprecated as of librosa version 0.10.0.\n",
      "\tIt will be removed in librosa version 1.0.\n",
      "  y, sr_native = __audioread_load(path, offset, duration, dtype)\n",
      "[src/libmpg123/parse.c:do_readahead():1083] warning: Cannot read next header, a one-frame stream? Duh...\n"
     ]
    },
    {
     "name": "stdout",
     "output_type": "stream",
     "text": [
      "Error processing r2Nr8h_918.mp3: \n",
      "Error processing uI5F5f_919.mp3: \n",
      "Error processing AWC9i0_920.mp3: \n"
     ]
    },
    {
     "name": "stderr",
     "output_type": "stream",
     "text": [
      "Processing Audio Files:  34%|███▍      | 139020/405874 [3:30:39<5:01:56, 14.73it/s][src/libmpg123/parse.c:do_readahead():1083] warning: Cannot read next header, a one-frame stream? Duh...\n",
      "/var/folders/c2/f9lh6rmd4q1648_pfl1636zw0000gn/T/ipykernel_41137/3522123127.py:10: UserWarning: PySoundFile failed. Trying audioread instead.\n",
      "  signal, rate = librosa.load(audio_path, sr=16000)\n",
      "/Users/maryamsaad/Library/Python/3.9/lib/python/site-packages/librosa/core/audio.py:184: FutureWarning: librosa.core.audio.__audioread_load\n",
      "\tDeprecated as of librosa version 0.10.0.\n",
      "\tIt will be removed in librosa version 1.0.\n",
      "  y, sr_native = __audioread_load(path, offset, duration, dtype)\n",
      "Processing Audio Files:  34%|███▍      | 139020/405874 [3:30:39<5:01:56, 14.73it/s]/var/folders/c2/f9lh6rmd4q1648_pfl1636zw0000gn/T/ipykernel_41137/3522123127.py:10: UserWarning: PySoundFile failed. Trying audioread instead.\n",
      "  signal, rate = librosa.load(audio_path, sr=16000)\n",
      "/Users/maryamsaad/Library/Python/3.9/lib/python/site-packages/librosa/core/audio.py:184: FutureWarning: librosa.core.audio.__audioread_load\n",
      "\tDeprecated as of librosa version 0.10.0.\n",
      "\tIt will be removed in librosa version 1.0.\n",
      "  y, sr_native = __audioread_load(path, offset, duration, dtype)\n",
      "[src/libmpg123/parse.c:do_readahead():1083] warning: Cannot read next header, a one-frame stream? Duh...\n",
      "Processing Audio Files:  34%|███▍      | 139022/405874 [3:30:39<5:04:29, 14.61it/s]/var/folders/c2/f9lh6rmd4q1648_pfl1636zw0000gn/T/ipykernel_41137/3522123127.py:10: UserWarning: PySoundFile failed. Trying audioread instead.\n",
      "  signal, rate = librosa.load(audio_path, sr=16000)\n",
      "/Users/maryamsaad/Library/Python/3.9/lib/python/site-packages/librosa/core/audio.py:184: FutureWarning: librosa.core.audio.__audioread_load\n",
      "\tDeprecated as of librosa version 0.10.0.\n",
      "\tIt will be removed in librosa version 1.0.\n",
      "  y, sr_native = __audioread_load(path, offset, duration, dtype)\n",
      "[src/libmpg123/parse.c:do_readahead():1083] warning: Cannot read next header, a one-frame stream? Duh...\n"
     ]
    },
    {
     "name": "stdout",
     "output_type": "stream",
     "text": [
      "Error processing DBLctT_921.mp3: \n",
      "Error processing yiUnx3_922.mp3: \n",
      "Error processing fXqrXC_923.mp3: \n"
     ]
    },
    {
     "name": "stderr",
     "output_type": "stream",
     "text": [
      "Processing Audio Files:  34%|███▍      | 139022/405874 [3:30:39<5:04:29, 14.61it/s]/var/folders/c2/f9lh6rmd4q1648_pfl1636zw0000gn/T/ipykernel_41137/3522123127.py:10: UserWarning: PySoundFile failed. Trying audioread instead.\n",
      "  signal, rate = librosa.load(audio_path, sr=16000)\n",
      "/Users/maryamsaad/Library/Python/3.9/lib/python/site-packages/librosa/core/audio.py:184: FutureWarning: librosa.core.audio.__audioread_load\n",
      "\tDeprecated as of librosa version 0.10.0.\n",
      "\tIt will be removed in librosa version 1.0.\n",
      "  y, sr_native = __audioread_load(path, offset, duration, dtype)\n",
      "[src/libmpg123/parse.c:do_readahead():1083] warning: Cannot read next header, a one-frame stream? Duh...\n",
      "Processing Audio Files:  34%|███▍      | 139024/405874 [3:30:39<5:01:55, 14.73it/s][src/libmpg123/parse.c:do_readahead():1083] warning: Cannot read next header, a one-frame stream? Duh...\n",
      "/var/folders/c2/f9lh6rmd4q1648_pfl1636zw0000gn/T/ipykernel_41137/3522123127.py:10: UserWarning: PySoundFile failed. Trying audioread instead.\n",
      "  signal, rate = librosa.load(audio_path, sr=16000)\n",
      "/Users/maryamsaad/Library/Python/3.9/lib/python/site-packages/librosa/core/audio.py:184: FutureWarning: librosa.core.audio.__audioread_load\n",
      "\tDeprecated as of librosa version 0.10.0.\n",
      "\tIt will be removed in librosa version 1.0.\n",
      "  y, sr_native = __audioread_load(path, offset, duration, dtype)\n",
      "Processing Audio Files:  34%|███▍      | 139024/405874 [3:30:39<5:01:55, 14.73it/s]/var/folders/c2/f9lh6rmd4q1648_pfl1636zw0000gn/T/ipykernel_41137/3522123127.py:10: UserWarning: PySoundFile failed. Trying audioread instead.\n",
      "  signal, rate = librosa.load(audio_path, sr=16000)\n",
      "[src/libmpg123/parse.c:do_readahead():1083] warning: Cannot read next header, a one-frame stream? Duh...\n",
      "/Users/maryamsaad/Library/Python/3.9/lib/python/site-packages/librosa/core/audio.py:184: FutureWarning: librosa.core.audio.__audioread_load\n",
      "\tDeprecated as of librosa version 0.10.0.\n",
      "\tIt will be removed in librosa version 1.0.\n",
      "  y, sr_native = __audioread_load(path, offset, duration, dtype)\n"
     ]
    },
    {
     "name": "stdout",
     "output_type": "stream",
     "text": [
      "Error processing fSmS2S_924.mp3: \n",
      "Error processing pAJgoE_925.mp3: \n",
      "Error processing mpPpzz_926.mp3: \n"
     ]
    },
    {
     "name": "stderr",
     "output_type": "stream",
     "text": [
      "Processing Audio Files:  34%|███▍      | 139026/405874 [3:30:39<5:02:47, 14.69it/s]/var/folders/c2/f9lh6rmd4q1648_pfl1636zw0000gn/T/ipykernel_41137/3522123127.py:10: UserWarning: PySoundFile failed. Trying audioread instead.\n",
      "  signal, rate = librosa.load(audio_path, sr=16000)\n",
      "/Users/maryamsaad/Library/Python/3.9/lib/python/site-packages/librosa/core/audio.py:184: FutureWarning: librosa.core.audio.__audioread_load\n",
      "\tDeprecated as of librosa version 0.10.0.\n",
      "\tIt will be removed in librosa version 1.0.\n",
      "  y, sr_native = __audioread_load(path, offset, duration, dtype)\n",
      "[src/libmpg123/parse.c:do_readahead():1083] warning: Cannot read next header, a one-frame stream? Duh...\n",
      "Processing Audio Files:  34%|███▍      | 139026/405874 [3:30:40<5:02:47, 14.69it/s]/var/folders/c2/f9lh6rmd4q1648_pfl1636zw0000gn/T/ipykernel_41137/3522123127.py:10: UserWarning: PySoundFile failed. Trying audioread instead.\n",
      "  signal, rate = librosa.load(audio_path, sr=16000)\n",
      "[src/libmpg123/parse.c:do_readahead():1083] warning: Cannot read next header, a one-frame stream? Duh...\n",
      "/Users/maryamsaad/Library/Python/3.9/lib/python/site-packages/librosa/core/audio.py:184: FutureWarning: librosa.core.audio.__audioread_load\n",
      "\tDeprecated as of librosa version 0.10.0.\n",
      "\tIt will be removed in librosa version 1.0.\n",
      "  y, sr_native = __audioread_load(path, offset, duration, dtype)\n",
      "Processing Audio Files:  34%|███▍      | 139028/405874 [3:30:40<5:02:22, 14.71it/s]/var/folders/c2/f9lh6rmd4q1648_pfl1636zw0000gn/T/ipykernel_41137/3522123127.py:10: UserWarning: PySoundFile failed. Trying audioread instead.\n",
      "  signal, rate = librosa.load(audio_path, sr=16000)\n",
      "/Users/maryamsaad/Library/Python/3.9/lib/python/site-packages/librosa/core/audio.py:184: FutureWarning: librosa.core.audio.__audioread_load\n",
      "\tDeprecated as of librosa version 0.10.0.\n",
      "\tIt will be removed in librosa version 1.0.\n",
      "  y, sr_native = __audioread_load(path, offset, duration, dtype)\n",
      "[src/libmpg123/parse.c:do_readahead():1083] warning: Cannot read next header, a one-frame stream? Duh...\n"
     ]
    },
    {
     "name": "stdout",
     "output_type": "stream",
     "text": [
      "Error processing ZRuZee_927.mp3: \n",
      "Error processing P8lfQC_928.mp3: \n",
      "Error processing cX2Wnc_929.mp3: \n"
     ]
    },
    {
     "name": "stderr",
     "output_type": "stream",
     "text": [
      "Processing Audio Files:  34%|███▍      | 139028/405874 [3:30:40<5:02:22, 14.71it/s][src/libmpg123/parse.c:do_readahead():1083] warning: Cannot read next header, a one-frame stream? Duh...\n",
      "/var/folders/c2/f9lh6rmd4q1648_pfl1636zw0000gn/T/ipykernel_41137/3522123127.py:10: UserWarning: PySoundFile failed. Trying audioread instead.\n",
      "  signal, rate = librosa.load(audio_path, sr=16000)\n",
      "/Users/maryamsaad/Library/Python/3.9/lib/python/site-packages/librosa/core/audio.py:184: FutureWarning: librosa.core.audio.__audioread_load\n",
      "\tDeprecated as of librosa version 0.10.0.\n",
      "\tIt will be removed in librosa version 1.0.\n",
      "  y, sr_native = __audioread_load(path, offset, duration, dtype)\n",
      "Processing Audio Files:  34%|███▍      | 139030/405874 [3:30:40<5:02:07, 14.72it/s]/var/folders/c2/f9lh6rmd4q1648_pfl1636zw0000gn/T/ipykernel_41137/3522123127.py:10: UserWarning: PySoundFile failed. Trying audioread instead.\n",
      "  signal, rate = librosa.load(audio_path, sr=16000)\n",
      "/Users/maryamsaad/Library/Python/3.9/lib/python/site-packages/librosa/core/audio.py:184: FutureWarning: librosa.core.audio.__audioread_load\n",
      "\tDeprecated as of librosa version 0.10.0.\n",
      "\tIt will be removed in librosa version 1.0.\n",
      "  y, sr_native = __audioread_load(path, offset, duration, dtype)\n",
      "[src/libmpg123/parse.c:do_readahead():1083] warning: Cannot read next header, a one-frame stream? Duh...\n",
      "Processing Audio Files:  34%|███▍      | 139030/405874 [3:30:40<5:02:07, 14.72it/s][src/libmpg123/parse.c:do_readahead():1083] warning: Cannot read next header, a one-frame stream? Duh...\n",
      "/var/folders/c2/f9lh6rmd4q1648_pfl1636zw0000gn/T/ipykernel_41137/3522123127.py:10: UserWarning: PySoundFile failed. Trying audioread instead.\n",
      "  signal, rate = librosa.load(audio_path, sr=16000)\n",
      "/Users/maryamsaad/Library/Python/3.9/lib/python/site-packages/librosa/core/audio.py:184: FutureWarning: librosa.core.audio.__audioread_load\n",
      "\tDeprecated as of librosa version 0.10.0.\n",
      "\tIt will be removed in librosa version 1.0.\n",
      "  y, sr_native = __audioread_load(path, offset, duration, dtype)\n"
     ]
    },
    {
     "name": "stdout",
     "output_type": "stream",
     "text": [
      "Error processing HA4FQg_930.mp3: \n",
      "Error processing GS1yK9_931.mp3: \n",
      "Error processing WhQ9zY_932.mp3: \n"
     ]
    },
    {
     "name": "stderr",
     "output_type": "stream",
     "text": [
      "Processing Audio Files:  34%|███▍      | 139032/405874 [3:30:40<5:00:52, 14.78it/s]/var/folders/c2/f9lh6rmd4q1648_pfl1636zw0000gn/T/ipykernel_41137/3522123127.py:10: UserWarning: PySoundFile failed. Trying audioread instead.\n",
      "  signal, rate = librosa.load(audio_path, sr=16000)\n",
      "[src/libmpg123/parse.c:do_readahead():1083] warning: Cannot read next header, a one-frame stream? Duh...\n",
      "/Users/maryamsaad/Library/Python/3.9/lib/python/site-packages/librosa/core/audio.py:184: FutureWarning: librosa.core.audio.__audioread_load\n",
      "\tDeprecated as of librosa version 0.10.0.\n",
      "\tIt will be removed in librosa version 1.0.\n",
      "  y, sr_native = __audioread_load(path, offset, duration, dtype)\n",
      "Processing Audio Files:  34%|███▍      | 139032/405874 [3:30:40<5:00:52, 14.78it/s]/var/folders/c2/f9lh6rmd4q1648_pfl1636zw0000gn/T/ipykernel_41137/3522123127.py:10: UserWarning: PySoundFile failed. Trying audioread instead.\n",
      "  signal, rate = librosa.load(audio_path, sr=16000)\n",
      "/Users/maryamsaad/Library/Python/3.9/lib/python/site-packages/librosa/core/audio.py:184: FutureWarning: librosa.core.audio.__audioread_load\n",
      "\tDeprecated as of librosa version 0.10.0.\n",
      "\tIt will be removed in librosa version 1.0.\n",
      "  y, sr_native = __audioread_load(path, offset, duration, dtype)\n",
      "[src/libmpg123/parse.c:do_readahead():1083] warning: Cannot read next header, a one-frame stream? Duh...\n",
      "Processing Audio Files:  34%|███▍      | 139034/405874 [3:30:40<5:03:14, 14.67it/s]/var/folders/c2/f9lh6rmd4q1648_pfl1636zw0000gn/T/ipykernel_41137/3522123127.py:10: UserWarning: PySoundFile failed. Trying audioread instead.\n",
      "  signal, rate = librosa.load(audio_path, sr=16000)\n",
      "/Users/maryamsaad/Library/Python/3.9/lib/python/site-packages/librosa/core/audio.py:184: FutureWarning: librosa.core.audio.__audioread_load\n",
      "\tDeprecated as of librosa version 0.10.0.\n",
      "\tIt will be removed in librosa version 1.0.\n",
      "  y, sr_native = __audioread_load(path, offset, duration, dtype)\n",
      "[src/libmpg123/parse.c:do_readahead():1083] warning: Cannot read next header, a one-frame stream? Duh...\n"
     ]
    },
    {
     "name": "stdout",
     "output_type": "stream",
     "text": [
      "Error processing n3XNf6_933.mp3: \n",
      "Error processing 9Tak6z_934.mp3: \n",
      "Error processing JUbHXf_935.mp3: \n"
     ]
    },
    {
     "name": "stderr",
     "output_type": "stream",
     "text": [
      "Processing Audio Files:  34%|███▍      | 139034/405874 [3:30:40<5:03:14, 14.67it/s]/var/folders/c2/f9lh6rmd4q1648_pfl1636zw0000gn/T/ipykernel_41137/3522123127.py:10: UserWarning: PySoundFile failed. Trying audioread instead.\n",
      "  signal, rate = librosa.load(audio_path, sr=16000)\n",
      "/Users/maryamsaad/Library/Python/3.9/lib/python/site-packages/librosa/core/audio.py:184: FutureWarning: librosa.core.audio.__audioread_load\n",
      "\tDeprecated as of librosa version 0.10.0.\n",
      "\tIt will be removed in librosa version 1.0.\n",
      "  y, sr_native = __audioread_load(path, offset, duration, dtype)\n",
      "[src/libmpg123/parse.c:do_readahead():1083] warning: Cannot read next header, a one-frame stream? Duh...\n",
      "Processing Audio Files:  34%|███▍      | 139036/405874 [3:30:40<5:02:13, 14.72it/s][src/libmpg123/parse.c:do_readahead():1083] warning: Cannot read next header, a one-frame stream? Duh...\n",
      "/var/folders/c2/f9lh6rmd4q1648_pfl1636zw0000gn/T/ipykernel_41137/3522123127.py:10: UserWarning: PySoundFile failed. Trying audioread instead.\n",
      "  signal, rate = librosa.load(audio_path, sr=16000)\n",
      "/Users/maryamsaad/Library/Python/3.9/lib/python/site-packages/librosa/core/audio.py:184: FutureWarning: librosa.core.audio.__audioread_load\n",
      "\tDeprecated as of librosa version 0.10.0.\n",
      "\tIt will be removed in librosa version 1.0.\n",
      "  y, sr_native = __audioread_load(path, offset, duration, dtype)\n",
      "Processing Audio Files:  34%|███▍      | 139036/405874 [3:30:40<5:02:13, 14.72it/s]/var/folders/c2/f9lh6rmd4q1648_pfl1636zw0000gn/T/ipykernel_41137/3522123127.py:10: UserWarning: PySoundFile failed. Trying audioread instead.\n",
      "  signal, rate = librosa.load(audio_path, sr=16000)\n",
      "/Users/maryamsaad/Library/Python/3.9/lib/python/site-packages/librosa/core/audio.py:184: FutureWarning: librosa.core.audio.__audioread_load\n",
      "\tDeprecated as of librosa version 0.10.0.\n",
      "\tIt will be removed in librosa version 1.0.\n",
      "  y, sr_native = __audioread_load(path, offset, duration, dtype)\n",
      "[src/libmpg123/parse.c:do_readahead():1083] warning: Cannot read next header, a one-frame stream? Duh...\n",
      "                                                                                   \r"
     ]
    },
    {
     "name": "stdout",
     "output_type": "stream",
     "text": [
      "Error processing jU1cT7_936.mp3: \n",
      "Error processing EFqPQP_937.mp3: \n",
      "Error processing pbOpxh_938.mp3: \n"
     ]
    },
    {
     "name": "stderr",
     "output_type": "stream",
     "text": [
      "Processing Audio Files:  34%|███▍      | 139038/405874 [3:30:40<5:01:20, 14.76it/s]/var/folders/c2/f9lh6rmd4q1648_pfl1636zw0000gn/T/ipykernel_41137/3522123127.py:10: UserWarning: PySoundFile failed. Trying audioread instead.\n",
      "  signal, rate = librosa.load(audio_path, sr=16000)\n",
      "[src/libmpg123/parse.c:do_readahead():1083] warning: Cannot read next header, a one-frame stream? Duh...\n",
      "/Users/maryamsaad/Library/Python/3.9/lib/python/site-packages/librosa/core/audio.py:184: FutureWarning: librosa.core.audio.__audioread_load\n",
      "\tDeprecated as of librosa version 0.10.0.\n",
      "\tIt will be removed in librosa version 1.0.\n",
      "  y, sr_native = __audioread_load(path, offset, duration, dtype)\n",
      "Processing Audio Files:  34%|███▍      | 139038/405874 [3:30:40<5:01:20, 14.76it/s]/var/folders/c2/f9lh6rmd4q1648_pfl1636zw0000gn/T/ipykernel_41137/3522123127.py:10: UserWarning: PySoundFile failed. Trying audioread instead.\n",
      "  signal, rate = librosa.load(audio_path, sr=16000)\n",
      "/Users/maryamsaad/Library/Python/3.9/lib/python/site-packages/librosa/core/audio.py:184: FutureWarning: librosa.core.audio.__audioread_load\n",
      "\tDeprecated as of librosa version 0.10.0.\n",
      "\tIt will be removed in librosa version 1.0.\n",
      "  y, sr_native = __audioread_load(path, offset, duration, dtype)\n",
      "[src/libmpg123/parse.c:do_readahead():1083] warning: Cannot read next header, a one-frame stream? Duh...\n",
      "Processing Audio Files:  34%|███▍      | 139040/405874 [3:30:40<5:07:37, 14.46it/s][src/libmpg123/parse.c:do_readahead():1083] warning: Cannot read next header, a one-frame stream? Duh...\n",
      "/var/folders/c2/f9lh6rmd4q1648_pfl1636zw0000gn/T/ipykernel_41137/3522123127.py:10: UserWarning: PySoundFile failed. Trying audioread instead.\n",
      "  signal, rate = librosa.load(audio_path, sr=16000)\n",
      "/Users/maryamsaad/Library/Python/3.9/lib/python/site-packages/librosa/core/audio.py:184: FutureWarning: librosa.core.audio.__audioread_load\n",
      "\tDeprecated as of librosa version 0.10.0.\n",
      "\tIt will be removed in librosa version 1.0.\n",
      "  y, sr_native = __audioread_load(path, offset, duration, dtype)\n"
     ]
    },
    {
     "name": "stdout",
     "output_type": "stream",
     "text": [
      "Error processing ai2fBj_939.mp3: \n",
      "Error processing imylu8_940.mp3: \n",
      "Error processing JpF0QK_941.mp3: \n"
     ]
    },
    {
     "name": "stderr",
     "output_type": "stream",
     "text": [
      "Processing Audio Files:  34%|███▍      | 139040/405874 [3:30:40<5:07:37, 14.46it/s]/var/folders/c2/f9lh6rmd4q1648_pfl1636zw0000gn/T/ipykernel_41137/3522123127.py:10: UserWarning: PySoundFile failed. Trying audioread instead.\n",
      "  signal, rate = librosa.load(audio_path, sr=16000)\n",
      "[src/libmpg123/parse.c:do_readahead():1083] warning: Cannot read next header, a one-frame stream? Duh...\n",
      "/Users/maryamsaad/Library/Python/3.9/lib/python/site-packages/librosa/core/audio.py:184: FutureWarning: librosa.core.audio.__audioread_load\n",
      "\tDeprecated as of librosa version 0.10.0.\n",
      "\tIt will be removed in librosa version 1.0.\n",
      "  y, sr_native = __audioread_load(path, offset, duration, dtype)\n",
      "Processing Audio Files:  34%|███▍      | 139042/405874 [3:30:41<5:04:33, 14.60it/s]/var/folders/c2/f9lh6rmd4q1648_pfl1636zw0000gn/T/ipykernel_41137/3522123127.py:10: UserWarning: PySoundFile failed. Trying audioread instead.\n",
      "  signal, rate = librosa.load(audio_path, sr=16000)\n",
      "[src/libmpg123/parse.c:do_readahead():1083] warning: Cannot read next header, a one-frame stream? Duh...\n",
      "/Users/maryamsaad/Library/Python/3.9/lib/python/site-packages/librosa/core/audio.py:184: FutureWarning: librosa.core.audio.__audioread_load\n",
      "\tDeprecated as of librosa version 0.10.0.\n",
      "\tIt will be removed in librosa version 1.0.\n",
      "  y, sr_native = __audioread_load(path, offset, duration, dtype)\n",
      "Processing Audio Files:  34%|███▍      | 139042/405874 [3:30:41<5:04:33, 14.60it/s]/var/folders/c2/f9lh6rmd4q1648_pfl1636zw0000gn/T/ipykernel_41137/3522123127.py:10: UserWarning: PySoundFile failed. Trying audioread instead.\n",
      "  signal, rate = librosa.load(audio_path, sr=16000)\n",
      "/Users/maryamsaad/Library/Python/3.9/lib/python/site-packages/librosa/core/audio.py:184: FutureWarning: librosa.core.audio.__audioread_load\n",
      "\tDeprecated as of librosa version 0.10.0.\n",
      "\tIt will be removed in librosa version 1.0.\n",
      "  y, sr_native = __audioread_load(path, offset, duration, dtype)\n",
      "[src/libmpg123/parse.c:do_readahead():1083] warning: Cannot read next header, a one-frame stream? Duh...\n"
     ]
    },
    {
     "name": "stdout",
     "output_type": "stream",
     "text": [
      "Error processing JFSS31_942.mp3: \n",
      "Error processing TUCsDR_943.mp3: \n",
      "Error processing vziGdD_944.mp3: \n"
     ]
    },
    {
     "name": "stderr",
     "output_type": "stream",
     "text": [
      "Processing Audio Files:  34%|███▍      | 139044/405874 [3:30:41<5:03:05, 14.67it/s]/var/folders/c2/f9lh6rmd4q1648_pfl1636zw0000gn/T/ipykernel_41137/3522123127.py:10: UserWarning: PySoundFile failed. Trying audioread instead.\n",
      "  signal, rate = librosa.load(audio_path, sr=16000)\n",
      "[src/libmpg123/parse.c:do_readahead():1083] warning: Cannot read next header, a one-frame stream? Duh...\n",
      "/Users/maryamsaad/Library/Python/3.9/lib/python/site-packages/librosa/core/audio.py:184: FutureWarning: librosa.core.audio.__audioread_load\n",
      "\tDeprecated as of librosa version 0.10.0.\n",
      "\tIt will be removed in librosa version 1.0.\n",
      "  y, sr_native = __audioread_load(path, offset, duration, dtype)\n",
      "Processing Audio Files:  34%|███▍      | 139044/405874 [3:30:41<5:03:05, 14.67it/s]/var/folders/c2/f9lh6rmd4q1648_pfl1636zw0000gn/T/ipykernel_41137/3522123127.py:10: UserWarning: PySoundFile failed. Trying audioread instead.\n",
      "  signal, rate = librosa.load(audio_path, sr=16000)\n",
      "/Users/maryamsaad/Library/Python/3.9/lib/python/site-packages/librosa/core/audio.py:184: FutureWarning: librosa.core.audio.__audioread_load\n",
      "\tDeprecated as of librosa version 0.10.0.\n",
      "\tIt will be removed in librosa version 1.0.\n",
      "  y, sr_native = __audioread_load(path, offset, duration, dtype)\n",
      "[src/libmpg123/parse.c:do_readahead():1083] warning: Cannot read next header, a one-frame stream? Duh...\n",
      "Processing Audio Files:  34%|███▍      | 139046/405874 [3:30:41<5:06:48, 14.50it/s]/var/folders/c2/f9lh6rmd4q1648_pfl1636zw0000gn/T/ipykernel_41137/3522123127.py:10: UserWarning: PySoundFile failed. Trying audioread instead.\n",
      "  signal, rate = librosa.load(audio_path, sr=16000)\n",
      "/Users/maryamsaad/Library/Python/3.9/lib/python/site-packages/librosa/core/audio.py:184: FutureWarning: librosa.core.audio.__audioread_load\n",
      "\tDeprecated as of librosa version 0.10.0.\n",
      "\tIt will be removed in librosa version 1.0.\n",
      "  y, sr_native = __audioread_load(path, offset, duration, dtype)\n",
      "[src/libmpg123/parse.c:do_readahead():1083] warning: Cannot read next header, a one-frame stream? Duh...\n"
     ]
    },
    {
     "name": "stdout",
     "output_type": "stream",
     "text": [
      "Error processing n5N2u0_945.mp3: \n",
      "Error processing 5vHWKs_946.mp3: \n",
      "Error processing 5WXmPh_947.mp3: \n"
     ]
    },
    {
     "name": "stderr",
     "output_type": "stream",
     "text": [
      "Processing Audio Files:  34%|███▍      | 139046/405874 [3:30:41<5:06:48, 14.50it/s]/var/folders/c2/f9lh6rmd4q1648_pfl1636zw0000gn/T/ipykernel_41137/3522123127.py:10: UserWarning: PySoundFile failed. Trying audioread instead.\n",
      "  signal, rate = librosa.load(audio_path, sr=16000)\n",
      "[src/libmpg123/parse.c:do_readahead():1083] warning: Cannot read next header, a one-frame stream? Duh...\n",
      "/Users/maryamsaad/Library/Python/3.9/lib/python/site-packages/librosa/core/audio.py:184: FutureWarning: librosa.core.audio.__audioread_load\n",
      "\tDeprecated as of librosa version 0.10.0.\n",
      "\tIt will be removed in librosa version 1.0.\n",
      "  y, sr_native = __audioread_load(path, offset, duration, dtype)\n",
      "Processing Audio Files:  34%|███▍      | 139048/405874 [3:30:41<5:05:44, 14.55it/s]/var/folders/c2/f9lh6rmd4q1648_pfl1636zw0000gn/T/ipykernel_41137/3522123127.py:10: UserWarning: PySoundFile failed. Trying audioread instead.\n",
      "  signal, rate = librosa.load(audio_path, sr=16000)\n",
      "/Users/maryamsaad/Library/Python/3.9/lib/python/site-packages/librosa/core/audio.py:184: FutureWarning: librosa.core.audio.__audioread_load\n",
      "\tDeprecated as of librosa version 0.10.0.\n",
      "\tIt will be removed in librosa version 1.0.\n",
      "  y, sr_native = __audioread_load(path, offset, duration, dtype)\n",
      "[src/libmpg123/parse.c:do_readahead():1083] warning: Cannot read next header, a one-frame stream? Duh...\n",
      "Processing Audio Files:  34%|███▍      | 139048/405874 [3:30:41<5:05:44, 14.55it/s]/var/folders/c2/f9lh6rmd4q1648_pfl1636zw0000gn/T/ipykernel_41137/3522123127.py:10: UserWarning: PySoundFile failed. Trying audioread instead.\n",
      "  signal, rate = librosa.load(audio_path, sr=16000)\n",
      "/Users/maryamsaad/Library/Python/3.9/lib/python/site-packages/librosa/core/audio.py:184: FutureWarning: librosa.core.audio.__audioread_load\n",
      "\tDeprecated as of librosa version 0.10.0.\n",
      "\tIt will be removed in librosa version 1.0.\n",
      "  y, sr_native = __audioread_load(path, offset, duration, dtype)\n",
      "[src/libmpg123/parse.c:do_readahead():1083] warning: Cannot read next header, a one-frame stream? Duh...\n"
     ]
    },
    {
     "name": "stdout",
     "output_type": "stream",
     "text": [
      "Error processing tA8yIA_948.mp3: \n",
      "Error processing C7gNzT_949.mp3: \n",
      "Error processing 3wsJib_950.mp3: \n"
     ]
    },
    {
     "name": "stderr",
     "output_type": "stream",
     "text": [
      "Processing Audio Files:  34%|███▍      | 139050/405874 [3:30:41<5:03:35, 14.65it/s]/var/folders/c2/f9lh6rmd4q1648_pfl1636zw0000gn/T/ipykernel_41137/3522123127.py:10: UserWarning: PySoundFile failed. Trying audioread instead.\n",
      "  signal, rate = librosa.load(audio_path, sr=16000)\n",
      "[src/libmpg123/parse.c:do_readahead():1083] warning: Cannot read next header, a one-frame stream? Duh...\n",
      "/Users/maryamsaad/Library/Python/3.9/lib/python/site-packages/librosa/core/audio.py:184: FutureWarning: librosa.core.audio.__audioread_load\n",
      "\tDeprecated as of librosa version 0.10.0.\n",
      "\tIt will be removed in librosa version 1.0.\n",
      "  y, sr_native = __audioread_load(path, offset, duration, dtype)\n",
      "Processing Audio Files:  34%|███▍      | 139050/405874 [3:30:41<5:03:35, 14.65it/s]/var/folders/c2/f9lh6rmd4q1648_pfl1636zw0000gn/T/ipykernel_41137/3522123127.py:10: UserWarning: PySoundFile failed. Trying audioread instead.\n",
      "  signal, rate = librosa.load(audio_path, sr=16000)\n",
      "/Users/maryamsaad/Library/Python/3.9/lib/python/site-packages/librosa/core/audio.py:184: FutureWarning: librosa.core.audio.__audioread_load\n",
      "\tDeprecated as of librosa version 0.10.0.\n",
      "\tIt will be removed in librosa version 1.0.\n",
      "  y, sr_native = __audioread_load(path, offset, duration, dtype)\n",
      "[src/libmpg123/parse.c:do_readahead():1083] warning: Cannot read next header, a one-frame stream? Duh...\n",
      "Processing Audio Files:  34%|███▍      | 139052/405874 [3:30:41<5:04:08, 14.62it/s]/var/folders/c2/f9lh6rmd4q1648_pfl1636zw0000gn/T/ipykernel_41137/3522123127.py:10: UserWarning: PySoundFile failed. Trying audioread instead.\n",
      "  signal, rate = librosa.load(audio_path, sr=16000)\n",
      "/Users/maryamsaad/Library/Python/3.9/lib/python/site-packages/librosa/core/audio.py:184: FutureWarning: librosa.core.audio.__audioread_load\n",
      "\tDeprecated as of librosa version 0.10.0.\n",
      "\tIt will be removed in librosa version 1.0.\n",
      "  y, sr_native = __audioread_load(path, offset, duration, dtype)\n",
      "[src/libmpg123/parse.c:do_readahead():1083] warning: Cannot read next header, a one-frame stream? Duh...\n"
     ]
    },
    {
     "name": "stdout",
     "output_type": "stream",
     "text": [
      "Error processing iv0Cev_951.mp3: \n",
      "Error processing eO1I1J_952.mp3: \n",
      "Error processing SWgUHe_953.mp3: \n"
     ]
    },
    {
     "name": "stderr",
     "output_type": "stream",
     "text": [
      "Processing Audio Files:  34%|███▍      | 139052/405874 [3:30:41<5:04:08, 14.62it/s]/var/folders/c2/f9lh6rmd4q1648_pfl1636zw0000gn/T/ipykernel_41137/3522123127.py:10: UserWarning: PySoundFile failed. Trying audioread instead.\n",
      "  signal, rate = librosa.load(audio_path, sr=16000)\n",
      "/Users/maryamsaad/Library/Python/3.9/lib/python/site-packages/librosa/core/audio.py:184: FutureWarning: librosa.core.audio.__audioread_load\n",
      "\tDeprecated as of librosa version 0.10.0.\n",
      "\tIt will be removed in librosa version 1.0.\n",
      "  y, sr_native = __audioread_load(path, offset, duration, dtype)\n",
      "[src/libmpg123/parse.c:do_readahead():1083] warning: Cannot read next header, a one-frame stream? Duh...\n",
      "Processing Audio Files:  34%|███▍      | 139054/405874 [3:30:41<5:01:56, 14.73it/s]/var/folders/c2/f9lh6rmd4q1648_pfl1636zw0000gn/T/ipykernel_41137/3522123127.py:10: UserWarning: PySoundFile failed. Trying audioread instead.\n",
      "  signal, rate = librosa.load(audio_path, sr=16000)\n",
      "[src/libmpg123/parse.c:do_readahead():1083] warning: Cannot read next header, a one-frame stream? Duh...\n",
      "/Users/maryamsaad/Library/Python/3.9/lib/python/site-packages/librosa/core/audio.py:184: FutureWarning: librosa.core.audio.__audioread_load\n",
      "\tDeprecated as of librosa version 0.10.0.\n",
      "\tIt will be removed in librosa version 1.0.\n",
      "  y, sr_native = __audioread_load(path, offset, duration, dtype)\n",
      "Processing Audio Files:  34%|███▍      | 139054/405874 [3:30:41<5:01:56, 14.73it/s]/var/folders/c2/f9lh6rmd4q1648_pfl1636zw0000gn/T/ipykernel_41137/3522123127.py:10: UserWarning: PySoundFile failed. Trying audioread instead.\n",
      "  signal, rate = librosa.load(audio_path, sr=16000)\n",
      "/Users/maryamsaad/Library/Python/3.9/lib/python/site-packages/librosa/core/audio.py:184: FutureWarning: librosa.core.audio.__audioread_load\n",
      "\tDeprecated as of librosa version 0.10.0.\n",
      "\tIt will be removed in librosa version 1.0.\n",
      "  y, sr_native = __audioread_load(path, offset, duration, dtype)\n",
      "[src/libmpg123/parse.c:do_readahead():1083] warning: Cannot read next header, a one-frame stream? Duh...\n",
      "                                                                                   "
     ]
    },
    {
     "name": "stdout",
     "output_type": "stream",
     "text": [
      "Error processing JL62ou_954.mp3: \n",
      "Error processing mYK0JL_955.mp3: \n",
      "Error processing oweT2O_956.mp3: \n"
     ]
    },
    {
     "name": "stderr",
     "output_type": "stream",
     "text": [
      "Processing Audio Files:  34%|███▍      | 139056/405874 [3:30:41<5:01:40, 14.74it/s]/var/folders/c2/f9lh6rmd4q1648_pfl1636zw0000gn/T/ipykernel_41137/3522123127.py:10: UserWarning: PySoundFile failed. Trying audioread instead.\n",
      "  signal, rate = librosa.load(audio_path, sr=16000)\n",
      "[src/libmpg123/parse.c:do_readahead():1083] warning: Cannot read next header, a one-frame stream? Duh...\n",
      "/Users/maryamsaad/Library/Python/3.9/lib/python/site-packages/librosa/core/audio.py:184: FutureWarning: librosa.core.audio.__audioread_load\n",
      "\tDeprecated as of librosa version 0.10.0.\n",
      "\tIt will be removed in librosa version 1.0.\n",
      "  y, sr_native = __audioread_load(path, offset, duration, dtype)\n",
      "Processing Audio Files:  34%|███▍      | 139056/405874 [3:30:42<5:01:40, 14.74it/s]/var/folders/c2/f9lh6rmd4q1648_pfl1636zw0000gn/T/ipykernel_41137/3522123127.py:10: UserWarning: PySoundFile failed. Trying audioread instead.\n",
      "  signal, rate = librosa.load(audio_path, sr=16000)\n",
      "/Users/maryamsaad/Library/Python/3.9/lib/python/site-packages/librosa/core/audio.py:184: FutureWarning: librosa.core.audio.__audioread_load\n",
      "\tDeprecated as of librosa version 0.10.0.\n",
      "\tIt will be removed in librosa version 1.0.\n",
      "  y, sr_native = __audioread_load(path, offset, duration, dtype)\n",
      "[src/libmpg123/parse.c:do_readahead():1083] warning: Cannot read next header, a one-frame stream? Duh...\n",
      "Processing Audio Files:  34%|███▍      | 139058/405874 [3:30:42<5:06:35, 14.50it/s][src/libmpg123/parse.c:do_readahead():1083] warning: Cannot read next header, a one-frame stream? Duh...\n",
      "/var/folders/c2/f9lh6rmd4q1648_pfl1636zw0000gn/T/ipykernel_41137/3522123127.py:10: UserWarning: PySoundFile failed. Trying audioread instead.\n",
      "  signal, rate = librosa.load(audio_path, sr=16000)\n",
      "/Users/maryamsaad/Library/Python/3.9/lib/python/site-packages/librosa/core/audio.py:184: FutureWarning: librosa.core.audio.__audioread_load\n",
      "\tDeprecated as of librosa version 0.10.0.\n",
      "\tIt will be removed in librosa version 1.0.\n",
      "  y, sr_native = __audioread_load(path, offset, duration, dtype)\n"
     ]
    },
    {
     "name": "stdout",
     "output_type": "stream",
     "text": [
      "Error processing I1Uqrr_957.mp3: \n",
      "Error processing H9UqUJ_958.mp3: \n",
      "Error processing whSgtr_959.mp3: \n"
     ]
    },
    {
     "name": "stderr",
     "output_type": "stream",
     "text": [
      "Processing Audio Files:  34%|███▍      | 139058/405874 [3:30:42<5:06:35, 14.50it/s][src/libmpg123/parse.c:do_readahead():1083] warning: Cannot read next header, a one-frame stream? Duh...\n",
      "/var/folders/c2/f9lh6rmd4q1648_pfl1636zw0000gn/T/ipykernel_41137/3522123127.py:10: UserWarning: PySoundFile failed. Trying audioread instead.\n",
      "  signal, rate = librosa.load(audio_path, sr=16000)\n",
      "/Users/maryamsaad/Library/Python/3.9/lib/python/site-packages/librosa/core/audio.py:184: FutureWarning: librosa.core.audio.__audioread_load\n",
      "\tDeprecated as of librosa version 0.10.0.\n",
      "\tIt will be removed in librosa version 1.0.\n",
      "  y, sr_native = __audioread_load(path, offset, duration, dtype)\n",
      "Processing Audio Files:  34%|███▍      | 139060/405874 [3:30:42<5:03:04, 14.67it/s]/var/folders/c2/f9lh6rmd4q1648_pfl1636zw0000gn/T/ipykernel_41137/3522123127.py:10: UserWarning: PySoundFile failed. Trying audioread instead.\n",
      "  signal, rate = librosa.load(audio_path, sr=16000)\n",
      "[src/libmpg123/parse.c:do_readahead():1083] warning: Cannot read next header, a one-frame stream? Duh...\n",
      "/Users/maryamsaad/Library/Python/3.9/lib/python/site-packages/librosa/core/audio.py:184: FutureWarning: librosa.core.audio.__audioread_load\n",
      "\tDeprecated as of librosa version 0.10.0.\n",
      "\tIt will be removed in librosa version 1.0.\n",
      "  y, sr_native = __audioread_load(path, offset, duration, dtype)\n",
      "Processing Audio Files:  34%|███▍      | 139060/405874 [3:30:42<5:03:04, 14.67it/s]/var/folders/c2/f9lh6rmd4q1648_pfl1636zw0000gn/T/ipykernel_41137/3522123127.py:10: UserWarning: PySoundFile failed. Trying audioread instead.\n",
      "  signal, rate = librosa.load(audio_path, sr=16000)\n",
      "[src/libmpg123/parse.c:do_readahead():1083] warning: Cannot read next header, a one-frame stream? Duh...\n",
      "/Users/maryamsaad/Library/Python/3.9/lib/python/site-packages/librosa/core/audio.py:184: FutureWarning: librosa.core.audio.__audioread_load\n",
      "\tDeprecated as of librosa version 0.10.0.\n",
      "\tIt will be removed in librosa version 1.0.\n",
      "  y, sr_native = __audioread_load(path, offset, duration, dtype)\n"
     ]
    },
    {
     "name": "stdout",
     "output_type": "stream",
     "text": [
      "Error processing ON3vqC_960.mp3: \n",
      "Error processing lWwPG3_961.mp3: \n",
      "Error processing GXSpLn_962.mp3: \n"
     ]
    },
    {
     "name": "stderr",
     "output_type": "stream",
     "text": [
      "Processing Audio Files:  34%|███▍      | 139062/405874 [3:30:42<5:03:18, 14.66it/s]/var/folders/c2/f9lh6rmd4q1648_pfl1636zw0000gn/T/ipykernel_41137/3522123127.py:10: UserWarning: PySoundFile failed. Trying audioread instead.\n",
      "  signal, rate = librosa.load(audio_path, sr=16000)\n",
      "/Users/maryamsaad/Library/Python/3.9/lib/python/site-packages/librosa/core/audio.py:184: FutureWarning: librosa.core.audio.__audioread_load\n",
      "\tDeprecated as of librosa version 0.10.0.\n",
      "\tIt will be removed in librosa version 1.0.\n",
      "  y, sr_native = __audioread_load(path, offset, duration, dtype)\n",
      "[src/libmpg123/parse.c:do_readahead():1083] warning: Cannot read next header, a one-frame stream? Duh...\n",
      "Processing Audio Files:  34%|███▍      | 139062/405874 [3:30:42<5:03:18, 14.66it/s]/var/folders/c2/f9lh6rmd4q1648_pfl1636zw0000gn/T/ipykernel_41137/3522123127.py:10: UserWarning: PySoundFile failed. Trying audioread instead.\n",
      "  signal, rate = librosa.load(audio_path, sr=16000)\n",
      "/Users/maryamsaad/Library/Python/3.9/lib/python/site-packages/librosa/core/audio.py:184: FutureWarning: librosa.core.audio.__audioread_load\n",
      "\tDeprecated as of librosa version 0.10.0.\n",
      "\tIt will be removed in librosa version 1.0.\n",
      "  y, sr_native = __audioread_load(path, offset, duration, dtype)\n",
      "[src/libmpg123/parse.c:do_readahead():1083] warning: Cannot read next header, a one-frame stream? Duh...\n",
      "Processing Audio Files:  34%|███▍      | 139064/405874 [3:30:42<5:02:23, 14.71it/s]/var/folders/c2/f9lh6rmd4q1648_pfl1636zw0000gn/T/ipykernel_41137/3522123127.py:10: UserWarning: PySoundFile failed. Trying audioread instead.\n",
      "  signal, rate = librosa.load(audio_path, sr=16000)\n",
      "[src/libmpg123/parse.c:do_readahead():1083] warning: Cannot read next header, a one-frame stream? Duh...\n",
      "/Users/maryamsaad/Library/Python/3.9/lib/python/site-packages/librosa/core/audio.py:184: FutureWarning: librosa.core.audio.__audioread_load\n",
      "\tDeprecated as of librosa version 0.10.0.\n",
      "\tIt will be removed in librosa version 1.0.\n",
      "  y, sr_native = __audioread_load(path, offset, duration, dtype)\n"
     ]
    },
    {
     "name": "stdout",
     "output_type": "stream",
     "text": [
      "Error processing mlufuc_963.mp3: \n",
      "Error processing LF5InK_964.mp3: \n",
      "Error processing I7jCHk_965.mp3: \n"
     ]
    },
    {
     "name": "stderr",
     "output_type": "stream",
     "text": [
      "Processing Audio Files:  34%|███▍      | 139071/405874 [3:30:42<3:16:28, 22.63it/s]"
     ]
    },
    {
     "name": "stdout",
     "output_type": "stream",
     "text": [
      "Error processing auxLdb_966.mp3: \n"
     ]
    },
    {
     "name": "stderr",
     "output_type": "stream",
     "text": [
      "Processing Audio Files:  35%|███▌      | 143018/405874 [3:32:20<1:54:57, 38.11it/s]/Users/maryamsaad/Library/Python/3.9/lib/python/site-packages/noisereduce/spectralgate/nonstationary.py:70: RuntimeWarning: invalid value encountered in divide\n",
      "  sig_mult_above_thresh = (abs_sig_stft - sig_stft_smooth) / sig_stft_smooth\n",
      "Processing Audio Files:  35%|███▌      | 143028/405874 [3:32:20<1:54:22, 38.30it/s]"
     ]
    },
    {
     "name": "stdout",
     "output_type": "stream",
     "text": [
      "Error processing pnCQLD_2628.mp3: Audio buffer is not finite everywhere\n"
     ]
    },
    {
     "name": "stderr",
     "output_type": "stream",
     "text": [
      "Processing Audio Files:  43%|████▎     | 174121/405874 [3:43:28<42:46, 90.30it/s]   /var/folders/c2/f9lh6rmd4q1648_pfl1636zw0000gn/T/ipykernel_41137/3522123127.py:10: UserWarning: PySoundFile failed. Trying audioread instead.\n",
      "  signal, rate = librosa.load(audio_path, sr=16000)\n",
      "[src/libmpg123/parse.c:do_readahead():1083] warning: Cannot read next header, a one-frame stream? Duh...\n",
      "/Users/maryamsaad/Library/Python/3.9/lib/python/site-packages/librosa/core/audio.py:184: FutureWarning: librosa.core.audio.__audioread_load\n",
      "\tDeprecated as of librosa version 0.10.0.\n",
      "\tIt will be removed in librosa version 1.0.\n",
      "  y, sr_native = __audioread_load(path, offset, duration, dtype)\n",
      "Processing Audio Files:  43%|████▎     | 174121/405874 [3:43:28<42:46, 90.30it/s]/var/folders/c2/f9lh6rmd4q1648_pfl1636zw0000gn/T/ipykernel_41137/3522123127.py:10: UserWarning: PySoundFile failed. Trying audioread instead.\n",
      "  signal, rate = librosa.load(audio_path, sr=16000)\n",
      "/Users/maryamsaad/Library/Python/3.9/lib/python/site-packages/librosa/core/audio.py:184: FutureWarning: librosa.core.audio.__audioread_load\n",
      "\tDeprecated as of librosa version 0.10.0.\n",
      "\tIt will be removed in librosa version 1.0.\n",
      "  y, sr_native = __audioread_load(path, offset, duration, dtype)\n",
      "[src/libmpg123/parse.c:do_readahead():1083] warning: Cannot read next header, a one-frame stream? Duh...\n",
      "Processing Audio Files:  43%|████▎     | 174121/405874 [3:43:28<42:46, 90.30it/s]/var/folders/c2/f9lh6rmd4q1648_pfl1636zw0000gn/T/ipykernel_41137/3522123127.py:10: UserWarning: PySoundFile failed. Trying audioread instead.\n",
      "  signal, rate = librosa.load(audio_path, sr=16000)\n",
      "/Users/maryamsaad/Library/Python/3.9/lib/python/site-packages/librosa/core/audio.py:184: FutureWarning: librosa.core.audio.__audioread_load\n",
      "\tDeprecated as of librosa version 0.10.0.\n",
      "\tIt will be removed in librosa version 1.0.\n",
      "  y, sr_native = __audioread_load(path, offset, duration, dtype)\n",
      "[src/libmpg123/parse.c:do_readahead():1083] warning: Cannot read next header, a one-frame stream? Duh...\n",
      "Processing Audio Files:  43%|████▎     | 174131/405874 [3:43:28<1:12:59, 52.92it/s]/var/folders/c2/f9lh6rmd4q1648_pfl1636zw0000gn/T/ipykernel_41137/3522123127.py:10: UserWarning: PySoundFile failed. Trying audioread instead.\n",
      "  signal, rate = librosa.load(audio_path, sr=16000)\n",
      "/Users/maryamsaad/Library/Python/3.9/lib/python/site-packages/librosa/core/audio.py:184: FutureWarning: librosa.core.audio.__audioread_load\n",
      "\tDeprecated as of librosa version 0.10.0.\n",
      "\tIt will be removed in librosa version 1.0.\n",
      "  y, sr_native = __audioread_load(path, offset, duration, dtype)\n",
      "[src/libmpg123/parse.c:do_readahead():1083] warning: Cannot read next header, a one-frame stream? Duh...\n"
     ]
    },
    {
     "name": "stdout",
     "output_type": "stream",
     "text": [
      "Error processing 1fZ9Fh_410.mp3: \n",
      "Error processing XkEiy9_411.mp3: \n",
      "Error processing gRFruF_412.mp3: \n"
     ]
    },
    {
     "name": "stderr",
     "output_type": "stream",
     "text": [
      "Processing Audio Files:  43%|████▎     | 174131/405874 [3:43:28<1:12:59, 52.92it/s]/var/folders/c2/f9lh6rmd4q1648_pfl1636zw0000gn/T/ipykernel_41137/3522123127.py:10: UserWarning: PySoundFile failed. Trying audioread instead.\n",
      "  signal, rate = librosa.load(audio_path, sr=16000)\n",
      "/Users/maryamsaad/Library/Python/3.9/lib/python/site-packages/librosa/core/audio.py:184: FutureWarning: librosa.core.audio.__audioread_load\n",
      "\tDeprecated as of librosa version 0.10.0.\n",
      "\tIt will be removed in librosa version 1.0.\n",
      "  y, sr_native = __audioread_load(path, offset, duration, dtype)\n",
      "[src/libmpg123/parse.c:do_readahead():1083] warning: Cannot read next header, a one-frame stream? Duh...\n",
      "Processing Audio Files:  43%|████▎     | 174131/405874 [3:43:28<1:12:59, 52.92it/s]/var/folders/c2/f9lh6rmd4q1648_pfl1636zw0000gn/T/ipykernel_41137/3522123127.py:10: UserWarning: PySoundFile failed. Trying audioread instead.\n",
      "  signal, rate = librosa.load(audio_path, sr=16000)\n",
      "/Users/maryamsaad/Library/Python/3.9/lib/python/site-packages/librosa/core/audio.py:184: FutureWarning: librosa.core.audio.__audioread_load\n",
      "\tDeprecated as of librosa version 0.10.0.\n",
      "\tIt will be removed in librosa version 1.0.\n",
      "  y, sr_native = __audioread_load(path, offset, duration, dtype)\n",
      "[src/libmpg123/parse.c:do_readahead():1083] warning: Cannot read next header, a one-frame stream? Duh...\n",
      "Processing Audio Files:  43%|████▎     | 174131/405874 [3:43:28<1:12:59, 52.92it/s]/var/folders/c2/f9lh6rmd4q1648_pfl1636zw0000gn/T/ipykernel_41137/3522123127.py:10: UserWarning: PySoundFile failed. Trying audioread instead.\n",
      "  signal, rate = librosa.load(audio_path, sr=16000)\n",
      "/Users/maryamsaad/Library/Python/3.9/lib/python/site-packages/librosa/core/audio.py:184: FutureWarning: librosa.core.audio.__audioread_load\n",
      "\tDeprecated as of librosa version 0.10.0.\n",
      "\tIt will be removed in librosa version 1.0.\n",
      "  y, sr_native = __audioread_load(path, offset, duration, dtype)\n",
      "[src/libmpg123/parse.c:do_readahead():1083] warning: Cannot read next header, a one-frame stream? Duh...\n"
     ]
    },
    {
     "name": "stdout",
     "output_type": "stream",
     "text": [
      "Error processing bCPkMv_413.mp3: \n",
      "Error processing RBcVEO_414.mp3: \n",
      "Error processing f7Jdwy_415.mp3: \n"
     ]
    },
    {
     "name": "stderr",
     "output_type": "stream",
     "text": [
      "Processing Audio Files:  43%|████▎     | 174131/405874 [3:43:28<1:12:59, 52.92it/s]/var/folders/c2/f9lh6rmd4q1648_pfl1636zw0000gn/T/ipykernel_41137/3522123127.py:10: UserWarning: PySoundFile failed. Trying audioread instead.\n",
      "  signal, rate = librosa.load(audio_path, sr=16000)\n",
      "/Users/maryamsaad/Library/Python/3.9/lib/python/site-packages/librosa/core/audio.py:184: FutureWarning: librosa.core.audio.__audioread_load\n",
      "\tDeprecated as of librosa version 0.10.0.\n",
      "\tIt will be removed in librosa version 1.0.\n",
      "  y, sr_native = __audioread_load(path, offset, duration, dtype)\n",
      "[src/libmpg123/parse.c:do_readahead():1083] warning: Cannot read next header, a one-frame stream? Duh...\n",
      "Processing Audio Files:  43%|████▎     | 174131/405874 [3:43:28<1:12:59, 52.92it/s]/var/folders/c2/f9lh6rmd4q1648_pfl1636zw0000gn/T/ipykernel_41137/3522123127.py:10: UserWarning: PySoundFile failed. Trying audioread instead.\n",
      "  signal, rate = librosa.load(audio_path, sr=16000)\n",
      "/Users/maryamsaad/Library/Python/3.9/lib/python/site-packages/librosa/core/audio.py:184: FutureWarning: librosa.core.audio.__audioread_load\n",
      "\tDeprecated as of librosa version 0.10.0.\n",
      "\tIt will be removed in librosa version 1.0.\n",
      "  y, sr_native = __audioread_load(path, offset, duration, dtype)\n",
      "[src/libmpg123/parse.c:do_readahead():1083] warning: Cannot read next header, a one-frame stream? Duh...\n",
      "Processing Audio Files:  43%|████▎     | 174131/405874 [3:43:28<1:12:59, 52.92it/s]/var/folders/c2/f9lh6rmd4q1648_pfl1636zw0000gn/T/ipykernel_41137/3522123127.py:10: UserWarning: PySoundFile failed. Trying audioread instead.\n",
      "  signal, rate = librosa.load(audio_path, sr=16000)\n",
      "/Users/maryamsaad/Library/Python/3.9/lib/python/site-packages/librosa/core/audio.py:184: FutureWarning: librosa.core.audio.__audioread_load\n",
      "\tDeprecated as of librosa version 0.10.0.\n",
      "\tIt will be removed in librosa version 1.0.\n",
      "  y, sr_native = __audioread_load(path, offset, duration, dtype)\n",
      "[src/libmpg123/parse.c:do_readahead():1083] warning: Cannot read next header, a one-frame stream? Duh...\n"
     ]
    },
    {
     "name": "stdout",
     "output_type": "stream",
     "text": [
      "Error processing 7o8ZO9_416.mp3: \n",
      "Error processing 1HFdrF_417.mp3: \n",
      "Error processing mRDTIt_418.mp3: \n"
     ]
    },
    {
     "name": "stderr",
     "output_type": "stream",
     "text": [
      "Processing Audio Files:  43%|████▎     | 174131/405874 [3:43:28<1:12:59, 52.92it/s]/var/folders/c2/f9lh6rmd4q1648_pfl1636zw0000gn/T/ipykernel_41137/3522123127.py:10: UserWarning: PySoundFile failed. Trying audioread instead.\n",
      "  signal, rate = librosa.load(audio_path, sr=16000)\n",
      "/Users/maryamsaad/Library/Python/3.9/lib/python/site-packages/librosa/core/audio.py:184: FutureWarning: librosa.core.audio.__audioread_load\n",
      "\tDeprecated as of librosa version 0.10.0.\n",
      "\tIt will be removed in librosa version 1.0.\n",
      "  y, sr_native = __audioread_load(path, offset, duration, dtype)\n",
      "[src/libmpg123/parse.c:do_readahead():1083] warning: Cannot read next header, a one-frame stream? Duh...\n",
      "Processing Audio Files:  43%|████▎     | 174139/405874 [3:43:28<2:06:03, 30.64it/s][src/libmpg123/parse.c:do_readahead():1083] warning: Cannot read next header, a one-frame stream? Duh...\n",
      "/var/folders/c2/f9lh6rmd4q1648_pfl1636zw0000gn/T/ipykernel_41137/3522123127.py:10: UserWarning: PySoundFile failed. Trying audioread instead.\n",
      "  signal, rate = librosa.load(audio_path, sr=16000)\n",
      "/Users/maryamsaad/Library/Python/3.9/lib/python/site-packages/librosa/core/audio.py:184: FutureWarning: librosa.core.audio.__audioread_load\n",
      "\tDeprecated as of librosa version 0.10.0.\n",
      "\tIt will be removed in librosa version 1.0.\n",
      "  y, sr_native = __audioread_load(path, offset, duration, dtype)\n",
      "Processing Audio Files:  43%|████▎     | 174139/405874 [3:43:29<2:06:03, 30.64it/s]"
     ]
    },
    {
     "name": "stdout",
     "output_type": "stream",
     "text": [
      "Error processing mM1Az7_419.mp3: \n",
      "Error processing IHtvT4_420.mp3: \n",
      "Error processing 20BvX4_421.mp3: \n"
     ]
    },
    {
     "name": "stderr",
     "output_type": "stream",
     "text": [
      "Processing Audio Files:  45%|████▍     | 182610/405874 [3:46:53<1:14:56, 49.65it/s]/Users/maryamsaad/Library/Python/3.9/lib/python/site-packages/noisereduce/spectralgate/nonstationary.py:70: RuntimeWarning: invalid value encountered in divide\n",
      "  sig_mult_above_thresh = (abs_sig_stft - sig_stft_smooth) / sig_stft_smooth\n",
      "Processing Audio Files:  45%|████▍     | 182616/405874 [3:46:53<1:14:26, 49.98it/s]"
     ]
    },
    {
     "name": "stdout",
     "output_type": "stream",
     "text": [
      "Error processing FJNgY1_347.mp3: Audio buffer is not finite everywhere\n"
     ]
    },
    {
     "name": "stderr",
     "output_type": "stream",
     "text": [
      "Processing Audio Files:  49%|████▊     | 197538/405874 [3:51:34<36:33, 94.99it/s]  /var/folders/c2/f9lh6rmd4q1648_pfl1636zw0000gn/T/ipykernel_41137/3522123127.py:10: UserWarning: PySoundFile failed. Trying audioread instead.\n",
      "  signal, rate = librosa.load(audio_path, sr=16000)\n",
      "[src/libmpg123/parse.c:do_readahead():1083] warning: Cannot read next header, a one-frame stream? Duh...\n",
      "/Users/maryamsaad/Library/Python/3.9/lib/python/site-packages/librosa/core/audio.py:184: FutureWarning: librosa.core.audio.__audioread_load\n",
      "\tDeprecated as of librosa version 0.10.0.\n",
      "\tIt will be removed in librosa version 1.0.\n",
      "  y, sr_native = __audioread_load(path, offset, duration, dtype)\n",
      "Processing Audio Files:  49%|████▊     | 197538/405874 [3:51:35<36:33, 94.99it/s]/var/folders/c2/f9lh6rmd4q1648_pfl1636zw0000gn/T/ipykernel_41137/3522123127.py:10: UserWarning: PySoundFile failed. Trying audioread instead.\n",
      "  signal, rate = librosa.load(audio_path, sr=16000)\n",
      "/Users/maryamsaad/Library/Python/3.9/lib/python/site-packages/librosa/core/audio.py:184: FutureWarning: librosa.core.audio.__audioread_load\n",
      "\tDeprecated as of librosa version 0.10.0.\n",
      "\tIt will be removed in librosa version 1.0.\n",
      "  y, sr_native = __audioread_load(path, offset, duration, dtype)\n",
      "[src/libmpg123/parse.c:do_readahead():1083] warning: Cannot read next header, a one-frame stream? Duh...\n",
      "Processing Audio Files:  49%|████▊     | 197538/405874 [3:51:35<36:33, 94.99it/s]/var/folders/c2/f9lh6rmd4q1648_pfl1636zw0000gn/T/ipykernel_41137/3522123127.py:10: UserWarning: PySoundFile failed. Trying audioread instead.\n",
      "  signal, rate = librosa.load(audio_path, sr=16000)\n",
      "/Users/maryamsaad/Library/Python/3.9/lib/python/site-packages/librosa/core/audio.py:184: FutureWarning: librosa.core.audio.__audioread_load\n",
      "\tDeprecated as of librosa version 0.10.0.\n",
      "\tIt will be removed in librosa version 1.0.\n",
      "  y, sr_native = __audioread_load(path, offset, duration, dtype)\n",
      "[src/libmpg123/parse.c:do_readahead():1083] warning: Cannot read next header, a one-frame stream? Duh...\n",
      "Processing Audio Files:  49%|████▊     | 197538/405874 [3:51:35<36:33, 94.99it/s][src/libmpg123/parse.c:do_readahead():1083] warning: Cannot read next header, a one-frame stream? Duh...\n",
      "/var/folders/c2/f9lh6rmd4q1648_pfl1636zw0000gn/T/ipykernel_41137/3522123127.py:10: UserWarning: PySoundFile failed. Trying audioread instead.\n",
      "  signal, rate = librosa.load(audio_path, sr=16000)\n",
      "/Users/maryamsaad/Library/Python/3.9/lib/python/site-packages/librosa/core/audio.py:184: FutureWarning: librosa.core.audio.__audioread_load\n",
      "\tDeprecated as of librosa version 0.10.0.\n",
      "\tIt will be removed in librosa version 1.0.\n",
      "  y, sr_native = __audioread_load(path, offset, duration, dtype)\n"
     ]
    },
    {
     "name": "stdout",
     "output_type": "stream",
     "text": [
      "Error processing S2PFo9_577.mp3: \n",
      "Error processing 1rUIWQ_578.mp3: \n",
      "Error processing MLuesN_579.mp3: \n"
     ]
    },
    {
     "name": "stderr",
     "output_type": "stream",
     "text": [
      "Processing Audio Files:  49%|████▊     | 197556/405874 [3:51:35<1:07:35, 51.37it/s]"
     ]
    },
    {
     "name": "stdout",
     "output_type": "stream",
     "text": [
      "Error processing LCzvkn_580.mp3: \n"
     ]
    },
    {
     "name": "stderr",
     "output_type": "stream",
     "text": [
      "Processing Audio Files:  50%|████▉     | 200966/405874 [3:52:28<37:18, 91.53it/s]  /var/folders/c2/f9lh6rmd4q1648_pfl1636zw0000gn/T/ipykernel_41137/3522123127.py:10: UserWarning: PySoundFile failed. Trying audioread instead.\n",
      "  signal, rate = librosa.load(audio_path, sr=16000)\n",
      "[src/libmpg123/parse.c:do_readahead():1083] warning: Cannot read next header, a one-frame stream? Duh...\n",
      "/Users/maryamsaad/Library/Python/3.9/lib/python/site-packages/librosa/core/audio.py:184: FutureWarning: librosa.core.audio.__audioread_load\n",
      "\tDeprecated as of librosa version 0.10.0.\n",
      "\tIt will be removed in librosa version 1.0.\n",
      "  y, sr_native = __audioread_load(path, offset, duration, dtype)\n",
      "Processing Audio Files:  50%|████▉     | 200966/405874 [3:52:28<37:18, 91.53it/s]/var/folders/c2/f9lh6rmd4q1648_pfl1636zw0000gn/T/ipykernel_41137/3522123127.py:10: UserWarning: PySoundFile failed. Trying audioread instead.\n",
      "  signal, rate = librosa.load(audio_path, sr=16000)\n",
      "/Users/maryamsaad/Library/Python/3.9/lib/python/site-packages/librosa/core/audio.py:184: FutureWarning: librosa.core.audio.__audioread_load\n",
      "\tDeprecated as of librosa version 0.10.0.\n",
      "\tIt will be removed in librosa version 1.0.\n",
      "  y, sr_native = __audioread_load(path, offset, duration, dtype)\n",
      "[src/libmpg123/parse.c:do_readahead():1083] warning: Cannot read next header, a one-frame stream? Duh...\n",
      "Processing Audio Files:  50%|████▉     | 200966/405874 [3:52:28<37:18, 91.53it/s]/var/folders/c2/f9lh6rmd4q1648_pfl1636zw0000gn/T/ipykernel_41137/3522123127.py:10: UserWarning: PySoundFile failed. Trying audioread instead.\n",
      "  signal, rate = librosa.load(audio_path, sr=16000)\n",
      "[src/libmpg123/parse.c:do_readahead():1083] warning: Cannot read next header, a one-frame stream? Duh...\n",
      "/Users/maryamsaad/Library/Python/3.9/lib/python/site-packages/librosa/core/audio.py:184: FutureWarning: librosa.core.audio.__audioread_load\n",
      "\tDeprecated as of librosa version 0.10.0.\n",
      "\tIt will be removed in librosa version 1.0.\n",
      "  y, sr_native = __audioread_load(path, offset, duration, dtype)\n",
      "Processing Audio Files:  50%|████▉     | 200966/405874 [3:52:28<37:18, 91.53it/s]/var/folders/c2/f9lh6rmd4q1648_pfl1636zw0000gn/T/ipykernel_41137/3522123127.py:10: UserWarning: PySoundFile failed. Trying audioread instead.\n",
      "  signal, rate = librosa.load(audio_path, sr=16000)\n",
      "/Users/maryamsaad/Library/Python/3.9/lib/python/site-packages/librosa/core/audio.py:184: FutureWarning: librosa.core.audio.__audioread_load\n",
      "\tDeprecated as of librosa version 0.10.0.\n",
      "\tIt will be removed in librosa version 1.0.\n",
      "  y, sr_native = __audioread_load(path, offset, duration, dtype)\n",
      "[src/libmpg123/parse.c:do_readahead():1083] warning: Cannot read next header, a one-frame stream? Duh...\n"
     ]
    },
    {
     "name": "stdout",
     "output_type": "stream",
     "text": [
      "Error processing ZFBXvw_474.mp3: \n",
      "Error processing 0KpZDS_475.mp3: \n",
      "Error processing WkLM6H_476.mp3: \n"
     ]
    },
    {
     "name": "stderr",
     "output_type": "stream",
     "text": [
      "Processing Audio Files:  50%|████▉     | 200966/405874 [3:52:28<37:18, 91.53it/s]/var/folders/c2/f9lh6rmd4q1648_pfl1636zw0000gn/T/ipykernel_41137/3522123127.py:10: UserWarning: PySoundFile failed. Trying audioread instead.\n",
      "  signal, rate = librosa.load(audio_path, sr=16000)\n",
      "[src/libmpg123/parse.c:do_readahead():1083] warning: Cannot read next header, a one-frame stream? Duh...\n",
      "/Users/maryamsaad/Library/Python/3.9/lib/python/site-packages/librosa/core/audio.py:184: FutureWarning: librosa.core.audio.__audioread_load\n",
      "\tDeprecated as of librosa version 0.10.0.\n",
      "\tIt will be removed in librosa version 1.0.\n",
      "  y, sr_native = __audioread_load(path, offset, duration, dtype)\n",
      "Processing Audio Files:  50%|████▉     | 200976/405874 [3:52:28<1:14:38, 45.75it/s][src/libmpg123/parse.c:do_readahead():1083] warning: Cannot read next header, a one-frame stream? Duh...\n",
      "/var/folders/c2/f9lh6rmd4q1648_pfl1636zw0000gn/T/ipykernel_41137/3522123127.py:10: UserWarning: PySoundFile failed. Trying audioread instead.\n",
      "  signal, rate = librosa.load(audio_path, sr=16000)\n",
      "/Users/maryamsaad/Library/Python/3.9/lib/python/site-packages/librosa/core/audio.py:184: FutureWarning: librosa.core.audio.__audioread_load\n",
      "\tDeprecated as of librosa version 0.10.0.\n",
      "\tIt will be removed in librosa version 1.0.\n",
      "  y, sr_native = __audioread_load(path, offset, duration, dtype)\n",
      "Processing Audio Files:  50%|████▉     | 200976/405874 [3:52:28<1:14:38, 45.75it/s][src/libmpg123/parse.c:do_readahead():1083] warning: Cannot read next header, a one-frame stream? Duh...\n",
      "/var/folders/c2/f9lh6rmd4q1648_pfl1636zw0000gn/T/ipykernel_41137/3522123127.py:10: UserWarning: PySoundFile failed. Trying audioread instead.\n",
      "  signal, rate = librosa.load(audio_path, sr=16000)\n",
      "/Users/maryamsaad/Library/Python/3.9/lib/python/site-packages/librosa/core/audio.py:184: FutureWarning: librosa.core.audio.__audioread_load\n",
      "\tDeprecated as of librosa version 0.10.0.\n",
      "\tIt will be removed in librosa version 1.0.\n",
      "  y, sr_native = __audioread_load(path, offset, duration, dtype)\n"
     ]
    },
    {
     "name": "stdout",
     "output_type": "stream",
     "text": [
      "Error processing 3J0M99_477.mp3: \n",
      "Error processing yxd8GJ_478.mp3: \n",
      "Error processing 5lpcpH_479.mp3: \n"
     ]
    },
    {
     "name": "stderr",
     "output_type": "stream",
     "text": [
      "Processing Audio Files:  50%|████▉     | 200976/405874 [3:52:28<1:14:38, 45.75it/s]/var/folders/c2/f9lh6rmd4q1648_pfl1636zw0000gn/T/ipykernel_41137/3522123127.py:10: UserWarning: PySoundFile failed. Trying audioread instead.\n",
      "  signal, rate = librosa.load(audio_path, sr=16000)\n",
      "/Users/maryamsaad/Library/Python/3.9/lib/python/site-packages/librosa/core/audio.py:184: FutureWarning: librosa.core.audio.__audioread_load\n",
      "\tDeprecated as of librosa version 0.10.0.\n",
      "\tIt will be removed in librosa version 1.0.\n",
      "  y, sr_native = __audioread_load(path, offset, duration, dtype)\n",
      "[src/libmpg123/parse.c:do_readahead():1083] warning: Cannot read next header, a one-frame stream? Duh...\n",
      "Processing Audio Files:  50%|████▉     | 200984/405874 [3:52:28<1:33:43, 36.44it/s]"
     ]
    },
    {
     "name": "stdout",
     "output_type": "stream",
     "text": [
      "Error processing 3qJkMe_480.mp3: \n",
      "Error processing fO6LqT_481.mp3: \n"
     ]
    },
    {
     "name": "stderr",
     "output_type": "stream",
     "text": [
      "Processing Audio Files:  50%|████▉     | 201602/405874 [3:52:37<34:18, 99.22it/s]  /Users/maryamsaad/Library/Python/3.9/lib/python/site-packages/librosa/core/spectrum.py:266: UserWarning: n_fft=2048 is too large for input signal of length=1920\n",
      "  warnings.warn(\n",
      "/Users/maryamsaad/Library/Python/3.9/lib/python/site-packages/librosa/core/spectrum.py:266: UserWarning: n_fft=2048 is too large for input signal of length=1280\n",
      "  warnings.warn(\n",
      "Processing Audio Files:  63%|██████▎   | 257316/405874 [4:12:11<1:04:12, 38.56it/s] /Users/maryamsaad/Library/Python/3.9/lib/python/site-packages/noisereduce/spectralgate/nonstationary.py:70: RuntimeWarning: invalid value encountered in divide\n",
      "  sig_mult_above_thresh = (abs_sig_stft - sig_stft_smooth) / sig_stft_smooth\n",
      "Processing Audio Files:  63%|██████▎   | 257325/405874 [4:12:12<1:06:03, 37.48it/s]"
     ]
    },
    {
     "name": "stdout",
     "output_type": "stream",
     "text": [
      "Error processing SnHJtd_1781.mp3: Audio buffer is not finite everywhere\n"
     ]
    },
    {
     "name": "stderr",
     "output_type": "stream",
     "text": [
      "Processing Audio Files:  63%|██████▎   | 257718/405874 [4:12:22<1:05:19, 37.80it/s]"
     ]
    },
    {
     "name": "stdout",
     "output_type": "stream",
     "text": [
      "Error processing pNuehK_2176.mp3: Audio buffer is not finite everywhere\n"
     ]
    },
    {
     "name": "stderr",
     "output_type": "stream",
     "text": [
      "Processing Audio Files:  78%|███████▊  | 317545/405874 [4:33:44<17:28, 84.25it/s]   /Users/maryamsaad/Library/Python/3.9/lib/python/site-packages/librosa/core/spectrum.py:266: UserWarning: n_fft=2048 is too large for input signal of length=640\n",
      "  warnings.warn(\n",
      "Processing Audio Files:  83%|████████▎ | 336711/405874 [4:43:55<24:59, 46.12it/s]    "
     ]
    },
    {
     "name": "stdout",
     "output_type": "stream",
     "text": [
      "Error processing ypZjew_595.mp3: Audio buffer is not finite everywhere\n"
     ]
    },
    {
     "name": "stderr",
     "output_type": "stream",
     "text": [
      "Processing Audio Files: 100%|██████████| 405874/405874 [5:26:40<00:00, 20.71it/s]    "
     ]
    },
    {
     "name": "stdout",
     "output_type": "stream",
     "text": [
      "\n",
      "All files processed successfully!\n"
     ]
    },
    {
     "name": "stderr",
     "output_type": "stream",
     "text": [
      "\n"
     ]
    }
   ],
   "source": [
    "df.set_index('audio_file', inplace=True)\n",
    "df['mfccs'] = None\n",
    "df['cleaned_text'] = None\n",
    "df['normalized_text'] = None\n",
    "error_files = [] \n",
    "\n",
    "for audio in tqdm(df.index, desc=\"Processing Audio Files\"):\n",
    "    audio_path = 'Dataset/data/' + audio\n",
    "    try:\n",
    "        signal, rate = librosa.load(audio_path, sr=16000)\n",
    "        df.at[audio, 'length'] = len(signal) / rate\n",
    "        cleaned_audio = nr.reduce_noise(signal, rate)\n",
    "        resampled_audio = librosa.resample(cleaned_audio, orig_sr=rate, target_sr=16000)\n",
    "        normalized_audio = librosa.util.normalize(resampled_audio)\n",
    "        mfccs = librosa.feature.mfcc(y=normalized_audio, sr=16000, n_mfcc=13)\n",
    "        df.at[audio, 'mfccs'] = mfccs.tolist()\n",
    "\n",
    "        raw_text = df.at[audio, 'text']\n",
    "\n",
    "        cleaned_text = preprocess_arabic_text(raw_text)\n",
    "        df.at[audio, 'cleaned_text'] = cleaned_text\n",
    "        error_files.append((audio, \"Missing or invalid text\"))      \n",
    "    except Exception as e:\n",
    "        error_message = str(e)\n",
    "        tqdm.write(f\"Error processing {audio}: {error_message}\")\n",
    "        os.remove(audio_path)\n",
    "        df.drop(audio,axis=0,inplace=True)\n",
    "        error_files.append((audio, error_message))\n",
    "\n",
    "if error_files:\n",
    "    print(\"\\nFiles with errors:\")\n",
    "    for file, error in error_files:\n",
    "        print(f\"- {file}: {error}\")\n",
    "    print(f\"Total files with errors: {len(error_files)}/{len(df.index)}\")\n",
    "else:\n",
    "    print(\"\\nAll files processed successfully!\")\n"
   ]
  },
  {
   "cell_type": "code",
   "execution_count": 40,
   "id": "8d9325eb",
   "metadata": {},
   "outputs": [],
   "source": [
    "df.to_csv(\"Preprocessed_df.csv\")"
   ]
  },
  {
   "cell_type": "code",
   "execution_count": 43,
   "id": "baf16fe7",
   "metadata": {},
   "outputs": [],
   "source": [
    "df['length'].describe()\n",
    "df=df[(df['length']<10) & (df['length']>2)]\n",
    "\n"
   ]
  },
  {
   "cell_type": "code",
   "execution_count": 45,
   "id": "a4baa89b",
   "metadata": {},
   "outputs": [
    {
     "data": {
      "text/html": [
       "<div>\n",
       "<style scoped>\n",
       "    .dataframe tbody tr th:only-of-type {\n",
       "        vertical-align: middle;\n",
       "    }\n",
       "\n",
       "    .dataframe tbody tr th {\n",
       "        vertical-align: top;\n",
       "    }\n",
       "\n",
       "    .dataframe thead th {\n",
       "        text-align: right;\n",
       "    }\n",
       "</style>\n",
       "<table border=\"1\" class=\"dataframe\">\n",
       "  <thead>\n",
       "    <tr style=\"text-align: right;\">\n",
       "      <th></th>\n",
       "      <th>text</th>\n",
       "      <th>gender</th>\n",
       "      <th>mfccs</th>\n",
       "      <th>cleaned_text</th>\n",
       "      <th>normalized_text</th>\n",
       "      <th>length</th>\n",
       "    </tr>\n",
       "    <tr>\n",
       "      <th>audio_file</th>\n",
       "      <th></th>\n",
       "      <th></th>\n",
       "      <th></th>\n",
       "      <th></th>\n",
       "      <th></th>\n",
       "      <th></th>\n",
       "    </tr>\n",
       "  </thead>\n",
       "  <tbody>\n",
       "    <tr>\n",
       "      <th>Onv0cx_252.mp3</th>\n",
       "      <td>القناه ولو استفدت من الحلقه دي شاركها مع</td>\n",
       "      <td>female</td>\n",
       "      <td>[[-332.20611572265625, -315.228271484375, -306...</td>\n",
       "      <td>القناه ولو استفدت من الحلقه دي شاركها مع</td>\n",
       "      <td>None</td>\n",
       "      <td>6.160000</td>\n",
       "    </tr>\n",
       "    <tr>\n",
       "      <th>eDDt24_253.mp3</th>\n",
       "      <td>اهلك واصحابك وخليهم يعرفوا اكتر كل</td>\n",
       "      <td>female</td>\n",
       "      <td>[[-353.6945495605469, -368.27996826171875, -40...</td>\n",
       "      <td>اهلك واصحابك وخليهم يعرفوا اكتر كل</td>\n",
       "      <td>None</td>\n",
       "      <td>5.720000</td>\n",
       "    </tr>\n",
       "    <tr>\n",
       "      <th>GkG8mp_254.mp3</th>\n",
       "      <td>امنياتي بالشفاء والقوه لكل محاربين</td>\n",
       "      <td>female</td>\n",
       "      <td>[[-287.0047912597656, -219.3107147216797, -198...</td>\n",
       "      <td>امنياتي بالشفاء والقوه لكل محاربين</td>\n",
       "      <td>None</td>\n",
       "      <td>4.130000</td>\n",
       "    </tr>\n",
       "    <tr>\n",
       "      <th>0VO9mA_255.mp3</th>\n",
       "      <td>الامراض في كل</td>\n",
       "      <td>female</td>\n",
       "      <td>[[-242.59896850585938, -290.6256408691406, -36...</td>\n",
       "      <td>الامراض في كل</td>\n",
       "      <td>None</td>\n",
       "      <td>5.279000</td>\n",
       "    </tr>\n",
       "    <tr>\n",
       "      <th>OrpHs8_257.mp3</th>\n",
       "      <td>مكان</td>\n",
       "      <td>female</td>\n",
       "      <td>[[-103.92257690429688, -56.92582321166992, -10...</td>\n",
       "      <td>مكان</td>\n",
       "      <td>None</td>\n",
       "      <td>5.281062</td>\n",
       "    </tr>\n",
       "  </tbody>\n",
       "</table>\n",
       "</div>"
      ],
      "text/plain": [
       "                                                    text  gender  \\\n",
       "audio_file                                                         \n",
       "Onv0cx_252.mp3  القناه ولو استفدت من الحلقه دي شاركها مع  female   \n",
       "eDDt24_253.mp3        اهلك واصحابك وخليهم يعرفوا اكتر كل  female   \n",
       "GkG8mp_254.mp3        امنياتي بالشفاء والقوه لكل محاربين  female   \n",
       "0VO9mA_255.mp3                             الامراض في كل  female   \n",
       "OrpHs8_257.mp3                                      مكان  female   \n",
       "\n",
       "                                                            mfccs  \\\n",
       "audio_file                                                          \n",
       "Onv0cx_252.mp3  [[-332.20611572265625, -315.228271484375, -306...   \n",
       "eDDt24_253.mp3  [[-353.6945495605469, -368.27996826171875, -40...   \n",
       "GkG8mp_254.mp3  [[-287.0047912597656, -219.3107147216797, -198...   \n",
       "0VO9mA_255.mp3  [[-242.59896850585938, -290.6256408691406, -36...   \n",
       "OrpHs8_257.mp3  [[-103.92257690429688, -56.92582321166992, -10...   \n",
       "\n",
       "                                            cleaned_text normalized_text  \\\n",
       "audio_file                                                                 \n",
       "Onv0cx_252.mp3  القناه ولو استفدت من الحلقه دي شاركها مع            None   \n",
       "eDDt24_253.mp3        اهلك واصحابك وخليهم يعرفوا اكتر كل            None   \n",
       "GkG8mp_254.mp3        امنياتي بالشفاء والقوه لكل محاربين            None   \n",
       "0VO9mA_255.mp3                             الامراض في كل            None   \n",
       "OrpHs8_257.mp3                                      مكان            None   \n",
       "\n",
       "                  length  \n",
       "audio_file                \n",
       "Onv0cx_252.mp3  6.160000  \n",
       "eDDt24_253.mp3  5.720000  \n",
       "GkG8mp_254.mp3  4.130000  \n",
       "0VO9mA_255.mp3  5.279000  \n",
       "OrpHs8_257.mp3  5.281062  "
      ]
     },
     "execution_count": 45,
     "metadata": {},
     "output_type": "execute_result"
    }
   ],
   "source": [
    "df.tail()"
   ]
  },
  {
   "cell_type": "markdown",
   "id": "1fd6463b",
   "metadata": {},
   "source": [
    "#### Text Preprocessing"
   ]
  },
  {
   "cell_type": "code",
   "execution_count": null,
   "id": "92be10d7",
   "metadata": {},
   "outputs": [
    {
     "name": "stdout",
     "output_type": "stream",
     "text": [
      "Using MPS device\n"
     ]
    }
   ],
   "source": [
    "import torch\n",
    "if torch.backends.mps.is_available():\n",
    "    device = torch.device(\"mps\")\n",
    "    print(\"Using MPS device\")\n",
    "else:\n",
    "    device = torch.device(\"cpu\")\n",
    "    print(\"MPS device not found, using CPU\")"
   ]
  },
  {
   "cell_type": "code",
   "execution_count": 63,
   "id": "4a124213",
   "metadata": {},
   "outputs": [
    {
     "ename": "RuntimeError",
     "evalue": "Failed to import transformers.modeling_utils because of the following error (look up to see its traceback):\nempty_like method already has a different docstring",
     "output_type": "error",
     "traceback": [
      "\u001b[0;31m---------------------------------------------------------------------------\u001b[0m",
      "\u001b[0;31mRuntimeError\u001b[0m                              Traceback (most recent call last)",
      "File \u001b[0;32m~/Library/Python/3.9/lib/python/site-packages/transformers/utils/import_utils.py:1967\u001b[0m, in \u001b[0;36m_LazyModule._get_module\u001b[0;34m(self, module_name)\u001b[0m\n\u001b[1;32m   1966\u001b[0m \u001b[38;5;28;01mtry\u001b[39;00m:\n\u001b[0;32m-> 1967\u001b[0m     \u001b[38;5;28;01mreturn\u001b[39;00m \u001b[43mimportlib\u001b[49m\u001b[38;5;241;43m.\u001b[39;49m\u001b[43mimport_module\u001b[49m\u001b[43m(\u001b[49m\u001b[38;5;124;43m\"\u001b[39;49m\u001b[38;5;124;43m.\u001b[39;49m\u001b[38;5;124;43m\"\u001b[39;49m\u001b[43m \u001b[49m\u001b[38;5;241;43m+\u001b[39;49m\u001b[43m \u001b[49m\u001b[43mmodule_name\u001b[49m\u001b[43m,\u001b[49m\u001b[43m \u001b[49m\u001b[38;5;28;43mself\u001b[39;49m\u001b[38;5;241;43m.\u001b[39;49m\u001b[38;5;18;43m__name__\u001b[39;49m\u001b[43m)\u001b[49m\n\u001b[1;32m   1968\u001b[0m \u001b[38;5;28;01mexcept\u001b[39;00m \u001b[38;5;167;01mException\u001b[39;00m \u001b[38;5;28;01mas\u001b[39;00m e:\n",
      "File \u001b[0;32m/Library/Developer/CommandLineTools/Library/Frameworks/Python3.framework/Versions/3.9/lib/python3.9/importlib/__init__.py:127\u001b[0m, in \u001b[0;36mimport_module\u001b[0;34m(name, package)\u001b[0m\n\u001b[1;32m    126\u001b[0m         level \u001b[38;5;241m+\u001b[39m\u001b[38;5;241m=\u001b[39m \u001b[38;5;241m1\u001b[39m\n\u001b[0;32m--> 127\u001b[0m \u001b[38;5;28;01mreturn\u001b[39;00m \u001b[43m_bootstrap\u001b[49m\u001b[38;5;241;43m.\u001b[39;49m\u001b[43m_gcd_import\u001b[49m\u001b[43m(\u001b[49m\u001b[43mname\u001b[49m\u001b[43m[\u001b[49m\u001b[43mlevel\u001b[49m\u001b[43m:\u001b[49m\u001b[43m]\u001b[49m\u001b[43m,\u001b[49m\u001b[43m \u001b[49m\u001b[43mpackage\u001b[49m\u001b[43m,\u001b[49m\u001b[43m \u001b[49m\u001b[43mlevel\u001b[49m\u001b[43m)\u001b[49m\n",
      "File \u001b[0;32m<frozen importlib._bootstrap>:1030\u001b[0m, in \u001b[0;36m_gcd_import\u001b[0;34m(name, package, level)\u001b[0m\n",
      "File \u001b[0;32m<frozen importlib._bootstrap>:1007\u001b[0m, in \u001b[0;36m_find_and_load\u001b[0;34m(name, import_)\u001b[0m\n",
      "File \u001b[0;32m<frozen importlib._bootstrap>:986\u001b[0m, in \u001b[0;36m_find_and_load_unlocked\u001b[0;34m(name, import_)\u001b[0m\n",
      "File \u001b[0;32m<frozen importlib._bootstrap>:680\u001b[0m, in \u001b[0;36m_load_unlocked\u001b[0;34m(spec)\u001b[0m\n",
      "File \u001b[0;32m<frozen importlib._bootstrap_external>:850\u001b[0m, in \u001b[0;36mexec_module\u001b[0;34m(self, module)\u001b[0m\n",
      "File \u001b[0;32m<frozen importlib._bootstrap>:228\u001b[0m, in \u001b[0;36m_call_with_frames_removed\u001b[0;34m(f, *args, **kwds)\u001b[0m\n",
      "File \u001b[0;32m~/Library/Python/3.9/lib/python/site-packages/transformers/modeling_utils.py:69\u001b[0m\n\u001b[1;32m     65\u001b[0m \u001b[38;5;28;01mfrom\u001b[39;00m\u001b[38;5;250m \u001b[39m\u001b[38;5;21;01m.\u001b[39;00m\u001b[38;5;21;01mintegrations\u001b[39;00m\u001b[38;5;21;01m.\u001b[39;00m\u001b[38;5;21;01mtensor_parallel\u001b[39;00m\u001b[38;5;250m \u001b[39m\u001b[38;5;28;01mimport\u001b[39;00m (\n\u001b[1;32m     66\u001b[0m     SUPPORTED_TP_STYLES,\n\u001b[1;32m     67\u001b[0m     shard_and_distribute_module,\n\u001b[1;32m     68\u001b[0m )\n\u001b[0;32m---> 69\u001b[0m \u001b[38;5;28;01mfrom\u001b[39;00m\u001b[38;5;250m \u001b[39m\u001b[38;5;21;01m.\u001b[39;00m\u001b[38;5;21;01mloss\u001b[39;00m\u001b[38;5;21;01m.\u001b[39;00m\u001b[38;5;21;01mloss_utils\u001b[39;00m\u001b[38;5;250m \u001b[39m\u001b[38;5;28;01mimport\u001b[39;00m LOSS_MAPPING\n\u001b[1;32m     70\u001b[0m \u001b[38;5;28;01mfrom\u001b[39;00m\u001b[38;5;250m \u001b[39m\u001b[38;5;21;01m.\u001b[39;00m\u001b[38;5;21;01mpytorch_utils\u001b[39;00m\u001b[38;5;250m \u001b[39m\u001b[38;5;28;01mimport\u001b[39;00m (  \u001b[38;5;66;03m# noqa: F401\u001b[39;00m\n\u001b[1;32m     71\u001b[0m     Conv1D,\n\u001b[1;32m     72\u001b[0m     apply_chunking_to_forward,\n\u001b[0;32m   (...)\u001b[0m\n\u001b[1;32m     77\u001b[0m     prune_linear_layer,\n\u001b[1;32m     78\u001b[0m )\n",
      "File \u001b[0;32m~/Library/Python/3.9/lib/python/site-packages/transformers/loss/loss_utils.py:21\u001b[0m\n\u001b[1;32m     19\u001b[0m \u001b[38;5;28;01mfrom\u001b[39;00m\u001b[38;5;250m \u001b[39m\u001b[38;5;21;01mtorch\u001b[39;00m\u001b[38;5;21;01m.\u001b[39;00m\u001b[38;5;21;01mnn\u001b[39;00m\u001b[38;5;250m \u001b[39m\u001b[38;5;28;01mimport\u001b[39;00m BCEWithLogitsLoss, MSELoss\n\u001b[0;32m---> 21\u001b[0m \u001b[38;5;28;01mfrom\u001b[39;00m\u001b[38;5;250m \u001b[39m\u001b[38;5;21;01m.\u001b[39;00m\u001b[38;5;21;01mloss_deformable_detr\u001b[39;00m\u001b[38;5;250m \u001b[39m\u001b[38;5;28;01mimport\u001b[39;00m DeformableDetrForObjectDetectionLoss, DeformableDetrForSegmentationLoss\n\u001b[1;32m     22\u001b[0m \u001b[38;5;28;01mfrom\u001b[39;00m\u001b[38;5;250m \u001b[39m\u001b[38;5;21;01m.\u001b[39;00m\u001b[38;5;21;01mloss_for_object_detection\u001b[39;00m\u001b[38;5;250m \u001b[39m\u001b[38;5;28;01mimport\u001b[39;00m ForObjectDetectionLoss, ForSegmentationLoss\n",
      "File \u001b[0;32m~/Library/Python/3.9/lib/python/site-packages/transformers/loss/loss_deformable_detr.py:4\u001b[0m\n\u001b[1;32m      2\u001b[0m \u001b[38;5;28;01mimport\u001b[39;00m\u001b[38;5;250m \u001b[39m\u001b[38;5;21;01mtorch\u001b[39;00m\u001b[38;5;21;01m.\u001b[39;00m\u001b[38;5;21;01mnn\u001b[39;00m\u001b[38;5;250m \u001b[39m\u001b[38;5;28;01mas\u001b[39;00m\u001b[38;5;250m \u001b[39m\u001b[38;5;21;01mnn\u001b[39;00m\n\u001b[0;32m----> 4\u001b[0m \u001b[38;5;28;01mfrom\u001b[39;00m\u001b[38;5;250m \u001b[39m\u001b[38;5;21;01m.\u001b[39;00m\u001b[38;5;21;01m.\u001b[39;00m\u001b[38;5;21;01mimage_transforms\u001b[39;00m\u001b[38;5;250m \u001b[39m\u001b[38;5;28;01mimport\u001b[39;00m center_to_corners_format\n\u001b[1;32m      5\u001b[0m \u001b[38;5;28;01mfrom\u001b[39;00m\u001b[38;5;250m \u001b[39m\u001b[38;5;21;01m.\u001b[39;00m\u001b[38;5;21;01m.\u001b[39;00m\u001b[38;5;21;01mutils\u001b[39;00m\u001b[38;5;250m \u001b[39m\u001b[38;5;28;01mimport\u001b[39;00m is_scipy_available\n",
      "File \u001b[0;32m~/Library/Python/3.9/lib/python/site-packages/transformers/image_transforms.py:47\u001b[0m\n\u001b[1;32m     46\u001b[0m \u001b[38;5;28;01mif\u001b[39;00m is_tf_available():\n\u001b[0;32m---> 47\u001b[0m     \u001b[38;5;28;01mimport\u001b[39;00m\u001b[38;5;250m \u001b[39m\u001b[38;5;21;01mtensorflow\u001b[39;00m\u001b[38;5;250m \u001b[39m\u001b[38;5;28;01mas\u001b[39;00m\u001b[38;5;250m \u001b[39m\u001b[38;5;21;01mtf\u001b[39;00m\n\u001b[1;32m     49\u001b[0m \u001b[38;5;28;01mif\u001b[39;00m is_flax_available():\n",
      "File \u001b[0;32m~/Library/Python/3.9/lib/python/site-packages/tensorflow/__init__.py:468\u001b[0m\n\u001b[1;32m    467\u001b[0m   \u001b[38;5;28;01melse\u001b[39;00m:\n\u001b[0;32m--> 468\u001b[0m     \u001b[43mimportlib\u001b[49m\u001b[38;5;241;43m.\u001b[39;49m\u001b[43mimport_module\u001b[49m\u001b[43m(\u001b[49m\u001b[38;5;124;43m\"\u001b[39;49m\u001b[38;5;124;43mkeras.src.optimizers\u001b[39;49m\u001b[38;5;124;43m\"\u001b[39;49m\u001b[43m)\u001b[49m\n\u001b[1;32m    469\u001b[0m \u001b[38;5;28;01mexcept\u001b[39;00m (\u001b[38;5;167;01mImportError\u001b[39;00m, \u001b[38;5;167;01mAttributeError\u001b[39;00m):\n",
      "File \u001b[0;32m/Library/Developer/CommandLineTools/Library/Frameworks/Python3.framework/Versions/3.9/lib/python3.9/importlib/__init__.py:127\u001b[0m, in \u001b[0;36mimport_module\u001b[0;34m(name, package)\u001b[0m\n\u001b[1;32m    126\u001b[0m         level \u001b[38;5;241m+\u001b[39m\u001b[38;5;241m=\u001b[39m \u001b[38;5;241m1\u001b[39m\n\u001b[0;32m--> 127\u001b[0m \u001b[38;5;28;01mreturn\u001b[39;00m \u001b[43m_bootstrap\u001b[49m\u001b[38;5;241;43m.\u001b[39;49m\u001b[43m_gcd_import\u001b[49m\u001b[43m(\u001b[49m\u001b[43mname\u001b[49m\u001b[43m[\u001b[49m\u001b[43mlevel\u001b[49m\u001b[43m:\u001b[49m\u001b[43m]\u001b[49m\u001b[43m,\u001b[49m\u001b[43m \u001b[49m\u001b[43mpackage\u001b[49m\u001b[43m,\u001b[49m\u001b[43m \u001b[49m\u001b[43mlevel\u001b[49m\u001b[43m)\u001b[49m\n",
      "File \u001b[0;32m~/Library/Python/3.9/lib/python/site-packages/keras/__init__.py:2\u001b[0m\n\u001b[1;32m      1\u001b[0m \u001b[38;5;66;03m# DO NOT EDIT. Generated by api_gen.sh\u001b[39;00m\n\u001b[0;32m----> 2\u001b[0m \u001b[38;5;28;01mfrom\u001b[39;00m\u001b[38;5;250m \u001b[39m\u001b[38;5;21;01mkeras\u001b[39;00m\u001b[38;5;21;01m.\u001b[39;00m\u001b[38;5;21;01mapi\u001b[39;00m\u001b[38;5;250m \u001b[39m\u001b[38;5;28;01mimport\u001b[39;00m DTypePolicy\n\u001b[1;32m      3\u001b[0m \u001b[38;5;28;01mfrom\u001b[39;00m\u001b[38;5;250m \u001b[39m\u001b[38;5;21;01mkeras\u001b[39;00m\u001b[38;5;21;01m.\u001b[39;00m\u001b[38;5;21;01mapi\u001b[39;00m\u001b[38;5;250m \u001b[39m\u001b[38;5;28;01mimport\u001b[39;00m FloatDTypePolicy\n",
      "File \u001b[0;32m~/Library/Python/3.9/lib/python/site-packages/keras/api/__init__.py:8\u001b[0m\n\u001b[1;32m      1\u001b[0m \u001b[38;5;124;03m\"\"\"DO NOT EDIT.\u001b[39;00m\n\u001b[1;32m      2\u001b[0m \n\u001b[1;32m      3\u001b[0m \u001b[38;5;124;03mThis file was autogenerated. Do not edit it by hand,\u001b[39;00m\n\u001b[1;32m      4\u001b[0m \u001b[38;5;124;03msince your modifications would be overwritten.\u001b[39;00m\n\u001b[1;32m      5\u001b[0m \u001b[38;5;124;03m\"\"\"\u001b[39;00m\n\u001b[0;32m----> 8\u001b[0m \u001b[38;5;28;01mfrom\u001b[39;00m\u001b[38;5;250m \u001b[39m\u001b[38;5;21;01mkeras\u001b[39;00m\u001b[38;5;21;01m.\u001b[39;00m\u001b[38;5;21;01mapi\u001b[39;00m\u001b[38;5;250m \u001b[39m\u001b[38;5;28;01mimport\u001b[39;00m activations\n\u001b[1;32m      9\u001b[0m \u001b[38;5;28;01mfrom\u001b[39;00m\u001b[38;5;250m \u001b[39m\u001b[38;5;21;01mkeras\u001b[39;00m\u001b[38;5;21;01m.\u001b[39;00m\u001b[38;5;21;01mapi\u001b[39;00m\u001b[38;5;250m \u001b[39m\u001b[38;5;28;01mimport\u001b[39;00m applications\n",
      "File \u001b[0;32m~/Library/Python/3.9/lib/python/site-packages/keras/api/activations/__init__.py:7\u001b[0m\n\u001b[1;32m      1\u001b[0m \u001b[38;5;124;03m\"\"\"DO NOT EDIT.\u001b[39;00m\n\u001b[1;32m      2\u001b[0m \n\u001b[1;32m      3\u001b[0m \u001b[38;5;124;03mThis file was autogenerated. Do not edit it by hand,\u001b[39;00m\n\u001b[1;32m      4\u001b[0m \u001b[38;5;124;03msince your modifications would be overwritten.\u001b[39;00m\n\u001b[1;32m      5\u001b[0m \u001b[38;5;124;03m\"\"\"\u001b[39;00m\n\u001b[0;32m----> 7\u001b[0m \u001b[38;5;28;01mfrom\u001b[39;00m\u001b[38;5;250m \u001b[39m\u001b[38;5;21;01mkeras\u001b[39;00m\u001b[38;5;21;01m.\u001b[39;00m\u001b[38;5;21;01msrc\u001b[39;00m\u001b[38;5;21;01m.\u001b[39;00m\u001b[38;5;21;01mactivations\u001b[39;00m\u001b[38;5;250m \u001b[39m\u001b[38;5;28;01mimport\u001b[39;00m deserialize\n\u001b[1;32m      8\u001b[0m \u001b[38;5;28;01mfrom\u001b[39;00m\u001b[38;5;250m \u001b[39m\u001b[38;5;21;01mkeras\u001b[39;00m\u001b[38;5;21;01m.\u001b[39;00m\u001b[38;5;21;01msrc\u001b[39;00m\u001b[38;5;21;01m.\u001b[39;00m\u001b[38;5;21;01mactivations\u001b[39;00m\u001b[38;5;250m \u001b[39m\u001b[38;5;28;01mimport\u001b[39;00m get\n",
      "File \u001b[0;32m~/Library/Python/3.9/lib/python/site-packages/keras/src/__init__.py:13\u001b[0m\n\u001b[1;32m     12\u001b[0m \u001b[38;5;28;01mfrom\u001b[39;00m\u001b[38;5;250m \u001b[39m\u001b[38;5;21;01mkeras\u001b[39;00m\u001b[38;5;21;01m.\u001b[39;00m\u001b[38;5;21;01msrc\u001b[39;00m\u001b[38;5;250m \u001b[39m\u001b[38;5;28;01mimport\u001b[39;00m utils\n\u001b[0;32m---> 13\u001b[0m \u001b[38;5;28;01mfrom\u001b[39;00m\u001b[38;5;250m \u001b[39m\u001b[38;5;21;01mkeras\u001b[39;00m\u001b[38;5;21;01m.\u001b[39;00m\u001b[38;5;21;01msrc\u001b[39;00m\u001b[38;5;250m \u001b[39m\u001b[38;5;28;01mimport\u001b[39;00m visualization\n\u001b[1;32m     14\u001b[0m \u001b[38;5;28;01mfrom\u001b[39;00m\u001b[38;5;250m \u001b[39m\u001b[38;5;21;01mkeras\u001b[39;00m\u001b[38;5;21;01m.\u001b[39;00m\u001b[38;5;21;01msrc\u001b[39;00m\u001b[38;5;21;01m.\u001b[39;00m\u001b[38;5;21;01mbackend\u001b[39;00m\u001b[38;5;250m \u001b[39m\u001b[38;5;28;01mimport\u001b[39;00m KerasTensor\n",
      "File \u001b[0;32m~/Library/Python/3.9/lib/python/site-packages/keras/src/visualization/__init__.py:1\u001b[0m\n\u001b[0;32m----> 1\u001b[0m \u001b[38;5;28;01mfrom\u001b[39;00m\u001b[38;5;250m \u001b[39m\u001b[38;5;21;01mkeras\u001b[39;00m\u001b[38;5;21;01m.\u001b[39;00m\u001b[38;5;21;01msrc\u001b[39;00m\u001b[38;5;21;01m.\u001b[39;00m\u001b[38;5;21;01mvisualization\u001b[39;00m\u001b[38;5;250m \u001b[39m\u001b[38;5;28;01mimport\u001b[39;00m draw_bounding_boxes\n\u001b[1;32m      2\u001b[0m \u001b[38;5;28;01mfrom\u001b[39;00m\u001b[38;5;250m \u001b[39m\u001b[38;5;21;01mkeras\u001b[39;00m\u001b[38;5;21;01m.\u001b[39;00m\u001b[38;5;21;01msrc\u001b[39;00m\u001b[38;5;21;01m.\u001b[39;00m\u001b[38;5;21;01mvisualization\u001b[39;00m\u001b[38;5;250m \u001b[39m\u001b[38;5;28;01mimport\u001b[39;00m plot_image_gallery\n",
      "File \u001b[0;32m~/Library/Python/3.9/lib/python/site-packages/keras/src/visualization/draw_bounding_boxes.py:11\u001b[0m\n\u001b[1;32m     10\u001b[0m \u001b[38;5;28;01mtry\u001b[39;00m:\n\u001b[0;32m---> 11\u001b[0m     \u001b[38;5;28;01mimport\u001b[39;00m\u001b[38;5;250m \u001b[39m\u001b[38;5;21;01mcv2\u001b[39;00m\n\u001b[1;32m     12\u001b[0m \u001b[38;5;28;01mexcept\u001b[39;00m \u001b[38;5;167;01mImportError\u001b[39;00m:\n",
      "File \u001b[0;32m~/Library/Python/3.9/lib/python/site-packages/cv2/__init__.py:12\u001b[0m\n\u001b[1;32m     11\u001b[0m     \u001b[38;5;28;01mimport\u001b[39;00m\u001b[38;5;250m \u001b[39m\u001b[38;5;21;01mnumpy\u001b[39;00m\n\u001b[0;32m---> 12\u001b[0m     \u001b[38;5;28;01mimport\u001b[39;00m\u001b[38;5;250m \u001b[39m\u001b[38;5;21;01mnumpy\u001b[39;00m\u001b[38;5;21;01m.\u001b[39;00m\u001b[38;5;21;01mcore\u001b[39;00m\u001b[38;5;21;01m.\u001b[39;00m\u001b[38;5;21;01mmultiarray\u001b[39;00m\n\u001b[1;32m     13\u001b[0m \u001b[38;5;28;01mexcept\u001b[39;00m \u001b[38;5;167;01mImportError\u001b[39;00m:\n",
      "File \u001b[0;32m~/Library/Python/3.9/lib/python/site-packages/numpy/core/multiarray.py:86\u001b[0m\n\u001b[1;32m     80\u001b[0m array_function_from_c_func_and_dispatcher \u001b[38;5;241m=\u001b[39m functools\u001b[38;5;241m.\u001b[39mpartial(\n\u001b[1;32m     81\u001b[0m     overrides\u001b[38;5;241m.\u001b[39marray_function_from_dispatcher,\n\u001b[1;32m     82\u001b[0m     module\u001b[38;5;241m=\u001b[39m\u001b[38;5;124m'\u001b[39m\u001b[38;5;124mnumpy\u001b[39m\u001b[38;5;124m'\u001b[39m, docs_from_dispatcher\u001b[38;5;241m=\u001b[39m\u001b[38;5;28;01mTrue\u001b[39;00m, verify\u001b[38;5;241m=\u001b[39m\u001b[38;5;28;01mFalse\u001b[39;00m)\n\u001b[1;32m     85\u001b[0m \u001b[38;5;129;43m@array_function_from_c_func_and_dispatcher\u001b[39;49m\u001b[43m(\u001b[49m\u001b[43m_multiarray_umath\u001b[49m\u001b[38;5;241;43m.\u001b[39;49m\u001b[43mempty_like\u001b[49m\u001b[43m)\u001b[49m\n\u001b[0;32m---> 86\u001b[0m \u001b[38;5;28;43;01mdef\u001b[39;49;00m\u001b[38;5;250;43m \u001b[39;49m\u001b[38;5;21;43mempty_like\u001b[39;49m\u001b[43m(\u001b[49m\u001b[43mprototype\u001b[49m\u001b[43m,\u001b[49m\u001b[43m \u001b[49m\u001b[43mdtype\u001b[49m\u001b[38;5;241;43m=\u001b[39;49m\u001b[38;5;28;43;01mNone\u001b[39;49;00m\u001b[43m,\u001b[49m\u001b[43m \u001b[49m\u001b[43morder\u001b[49m\u001b[38;5;241;43m=\u001b[39;49m\u001b[38;5;28;43;01mNone\u001b[39;49;00m\u001b[43m,\u001b[49m\u001b[43m \u001b[49m\u001b[43msubok\u001b[49m\u001b[38;5;241;43m=\u001b[39;49m\u001b[38;5;28;43;01mNone\u001b[39;49;00m\u001b[43m,\u001b[49m\u001b[43m \u001b[49m\u001b[43mshape\u001b[49m\u001b[38;5;241;43m=\u001b[39;49m\u001b[38;5;28;43;01mNone\u001b[39;49;00m\u001b[43m)\u001b[49m\u001b[43m:\u001b[49m\n\u001b[1;32m     87\u001b[0m \u001b[38;5;250;43m    \u001b[39;49m\u001b[38;5;124;43;03m\"\"\"\u001b[39;49;00m\n\u001b[1;32m     88\u001b[0m \u001b[38;5;124;43;03m    empty_like(prototype, dtype=None, order='K', subok=True, shape=None)\u001b[39;49;00m\n\u001b[1;32m     89\u001b[0m \n\u001b[0;32m   (...)\u001b[0m\n\u001b[1;32m    148\u001b[0m \n\u001b[1;32m    149\u001b[0m \u001b[38;5;124;43;03m    \"\"\"\u001b[39;49;00m\n",
      "File \u001b[0;32m~/Library/Python/3.9/lib/python/site-packages/numpy/_core/overrides.py:178\u001b[0m, in \u001b[0;36mdecorator\u001b[0;34m(dispatcher)\u001b[0m\n",
      "File \u001b[0;32m~/Library/Python/3.9/lib/python/site-packages/numpy/_core/overrides.py:158\u001b[0m, in \u001b[0;36mdecorator\u001b[0;34m(implementation)\u001b[0m\n",
      "\u001b[0;31mRuntimeError\u001b[0m: empty_like method already has a different docstring",
      "\nThe above exception was the direct cause of the following exception:\n",
      "\u001b[0;31mRuntimeError\u001b[0m                              Traceback (most recent call last)",
      "Cell \u001b[0;32mIn[63], line 1\u001b[0m\n\u001b[0;32m----> 1\u001b[0m \u001b[38;5;28;01mfrom\u001b[39;00m\u001b[38;5;250m \u001b[39m\u001b[38;5;21;01msentence_transformers\u001b[39;00m\u001b[38;5;250m \u001b[39m\u001b[38;5;28;01mimport\u001b[39;00m SentenceTransformer\n\u001b[1;32m      2\u001b[0m \u001b[38;5;28;01mdef\u001b[39;00m\u001b[38;5;250m \u001b[39m\u001b[38;5;21mcosine_similarity\u001b[39m(a, b):\n\u001b[1;32m      3\u001b[0m     \u001b[38;5;28;01mreturn\u001b[39;00m np\u001b[38;5;241m.\u001b[39mdot(a, b) \u001b[38;5;241m/\u001b[39m (np\u001b[38;5;241m.\u001b[39mlinalg\u001b[38;5;241m.\u001b[39mnorm(a) \u001b[38;5;241m*\u001b[39m np\u001b[38;5;241m.\u001b[39mlinalg\u001b[38;5;241m.\u001b[39mnorm(b))\n",
      "File \u001b[0;32m~/Library/Python/3.9/lib/python/site-packages/sentence_transformers/__init__.py:14\u001b[0m\n\u001b[1;32m      7\u001b[0m \u001b[38;5;28;01mimport\u001b[39;00m\u001b[38;5;250m \u001b[39m\u001b[38;5;21;01mos\u001b[39;00m\n\u001b[1;32m      9\u001b[0m \u001b[38;5;28;01mfrom\u001b[39;00m\u001b[38;5;250m \u001b[39m\u001b[38;5;21;01msentence_transformers\u001b[39;00m\u001b[38;5;21;01m.\u001b[39;00m\u001b[38;5;21;01mbackend\u001b[39;00m\u001b[38;5;250m \u001b[39m\u001b[38;5;28;01mimport\u001b[39;00m (\n\u001b[1;32m     10\u001b[0m     export_dynamic_quantized_onnx_model,\n\u001b[1;32m     11\u001b[0m     export_optimized_onnx_model,\n\u001b[1;32m     12\u001b[0m     export_static_quantized_openvino_model,\n\u001b[1;32m     13\u001b[0m )\n\u001b[0;32m---> 14\u001b[0m \u001b[38;5;28;01mfrom\u001b[39;00m\u001b[38;5;250m \u001b[39m\u001b[38;5;21;01msentence_transformers\u001b[39;00m\u001b[38;5;21;01m.\u001b[39;00m\u001b[38;5;21;01mcross_encoder\u001b[39;00m\u001b[38;5;250m \u001b[39m\u001b[38;5;28;01mimport\u001b[39;00m (\n\u001b[1;32m     15\u001b[0m     CrossEncoder,\n\u001b[1;32m     16\u001b[0m     CrossEncoderModelCardData,\n\u001b[1;32m     17\u001b[0m     CrossEncoderTrainer,\n\u001b[1;32m     18\u001b[0m     CrossEncoderTrainingArguments,\n\u001b[1;32m     19\u001b[0m )\n\u001b[1;32m     20\u001b[0m \u001b[38;5;28;01mfrom\u001b[39;00m\u001b[38;5;250m \u001b[39m\u001b[38;5;21;01msentence_transformers\u001b[39;00m\u001b[38;5;21;01m.\u001b[39;00m\u001b[38;5;21;01mdatasets\u001b[39;00m\u001b[38;5;250m \u001b[39m\u001b[38;5;28;01mimport\u001b[39;00m ParallelSentencesDataset, SentencesDataset\n\u001b[1;32m     21\u001b[0m \u001b[38;5;28;01mfrom\u001b[39;00m\u001b[38;5;250m \u001b[39m\u001b[38;5;21;01msentence_transformers\u001b[39;00m\u001b[38;5;21;01m.\u001b[39;00m\u001b[38;5;21;01mLoggingHandler\u001b[39;00m\u001b[38;5;250m \u001b[39m\u001b[38;5;28;01mimport\u001b[39;00m LoggingHandler\n",
      "File \u001b[0;32m~/Library/Python/3.9/lib/python/site-packages/sentence_transformers/cross_encoder/__init__.py:3\u001b[0m\n\u001b[1;32m      1\u001b[0m \u001b[38;5;28;01mfrom\u001b[39;00m\u001b[38;5;250m \u001b[39m\u001b[38;5;21;01m__future__\u001b[39;00m\u001b[38;5;250m \u001b[39m\u001b[38;5;28;01mimport\u001b[39;00m annotations\n\u001b[0;32m----> 3\u001b[0m \u001b[38;5;28;01mfrom\u001b[39;00m\u001b[38;5;250m \u001b[39m\u001b[38;5;21;01m.\u001b[39;00m\u001b[38;5;21;01mCrossEncoder\u001b[39;00m\u001b[38;5;250m \u001b[39m\u001b[38;5;28;01mimport\u001b[39;00m CrossEncoder\n\u001b[1;32m      4\u001b[0m \u001b[38;5;28;01mfrom\u001b[39;00m\u001b[38;5;250m \u001b[39m\u001b[38;5;21;01m.\u001b[39;00m\u001b[38;5;21;01mmodel_card\u001b[39;00m\u001b[38;5;250m \u001b[39m\u001b[38;5;28;01mimport\u001b[39;00m CrossEncoderModelCardData\n\u001b[1;32m      5\u001b[0m \u001b[38;5;28;01mfrom\u001b[39;00m\u001b[38;5;250m \u001b[39m\u001b[38;5;21;01m.\u001b[39;00m\u001b[38;5;21;01mtrainer\u001b[39;00m\u001b[38;5;250m \u001b[39m\u001b[38;5;28;01mimport\u001b[39;00m CrossEncoderTrainer\n",
      "File \u001b[0;32m~/Library/Python/3.9/lib/python/site-packages/sentence_transformers/cross_encoder/CrossEncoder.py:15\u001b[0m\n\u001b[1;32m     13\u001b[0m \u001b[38;5;28;01mfrom\u001b[39;00m\u001b[38;5;250m \u001b[39m\u001b[38;5;21;01mtorch\u001b[39;00m\u001b[38;5;250m \u001b[39m\u001b[38;5;28;01mimport\u001b[39;00m nn\n\u001b[1;32m     14\u001b[0m \u001b[38;5;28;01mfrom\u001b[39;00m\u001b[38;5;250m \u001b[39m\u001b[38;5;21;01mtqdm\u001b[39;00m\u001b[38;5;21;01m.\u001b[39;00m\u001b[38;5;21;01mautonotebook\u001b[39;00m\u001b[38;5;250m \u001b[39m\u001b[38;5;28;01mimport\u001b[39;00m trange\n\u001b[0;32m---> 15\u001b[0m \u001b[38;5;28;01mfrom\u001b[39;00m\u001b[38;5;250m \u001b[39m\u001b[38;5;21;01mtransformers\u001b[39;00m\u001b[38;5;250m \u001b[39m\u001b[38;5;28;01mimport\u001b[39;00m (\n\u001b[1;32m     16\u001b[0m     AutoConfig,\n\u001b[1;32m     17\u001b[0m     AutoModelForSequenceClassification,\n\u001b[1;32m     18\u001b[0m     AutoTokenizer,\n\u001b[1;32m     19\u001b[0m     PretrainedConfig,\n\u001b[1;32m     20\u001b[0m     PreTrainedModel,\n\u001b[1;32m     21\u001b[0m )\n\u001b[1;32m     22\u001b[0m \u001b[38;5;28;01mfrom\u001b[39;00m\u001b[38;5;250m \u001b[39m\u001b[38;5;21;01mtransformers\u001b[39;00m\u001b[38;5;21;01m.\u001b[39;00m\u001b[38;5;21;01mutils\u001b[39;00m\u001b[38;5;250m \u001b[39m\u001b[38;5;28;01mimport\u001b[39;00m PushToHubMixin\n\u001b[1;32m     23\u001b[0m \u001b[38;5;28;01mfrom\u001b[39;00m\u001b[38;5;250m \u001b[39m\u001b[38;5;21;01mtyping_extensions\u001b[39;00m\u001b[38;5;250m \u001b[39m\u001b[38;5;28;01mimport\u001b[39;00m deprecated\n",
      "File \u001b[0;32m<frozen importlib._bootstrap>:1055\u001b[0m, in \u001b[0;36m_handle_fromlist\u001b[0;34m(module, fromlist, import_, recursive)\u001b[0m\n",
      "File \u001b[0;32m~/Library/Python/3.9/lib/python/site-packages/transformers/utils/import_utils.py:1955\u001b[0m, in \u001b[0;36m_LazyModule.__getattr__\u001b[0;34m(self, name)\u001b[0m\n\u001b[1;32m   1953\u001b[0m     value \u001b[38;5;241m=\u001b[39m Placeholder\n\u001b[1;32m   1954\u001b[0m \u001b[38;5;28;01melif\u001b[39;00m name \u001b[38;5;129;01min\u001b[39;00m \u001b[38;5;28mself\u001b[39m\u001b[38;5;241m.\u001b[39m_class_to_module\u001b[38;5;241m.\u001b[39mkeys():\n\u001b[0;32m-> 1955\u001b[0m     module \u001b[38;5;241m=\u001b[39m \u001b[38;5;28;43mself\u001b[39;49m\u001b[38;5;241;43m.\u001b[39;49m\u001b[43m_get_module\u001b[49m\u001b[43m(\u001b[49m\u001b[38;5;28;43mself\u001b[39;49m\u001b[38;5;241;43m.\u001b[39;49m\u001b[43m_class_to_module\u001b[49m\u001b[43m[\u001b[49m\u001b[43mname\u001b[49m\u001b[43m]\u001b[49m\u001b[43m)\u001b[49m\n\u001b[1;32m   1956\u001b[0m     value \u001b[38;5;241m=\u001b[39m \u001b[38;5;28mgetattr\u001b[39m(module, name)\n\u001b[1;32m   1957\u001b[0m \u001b[38;5;28;01melif\u001b[39;00m name \u001b[38;5;129;01min\u001b[39;00m \u001b[38;5;28mself\u001b[39m\u001b[38;5;241m.\u001b[39m_modules:\n",
      "File \u001b[0;32m~/Library/Python/3.9/lib/python/site-packages/transformers/utils/import_utils.py:1969\u001b[0m, in \u001b[0;36m_LazyModule._get_module\u001b[0;34m(self, module_name)\u001b[0m\n\u001b[1;32m   1967\u001b[0m     \u001b[38;5;28;01mreturn\u001b[39;00m importlib\u001b[38;5;241m.\u001b[39mimport_module(\u001b[38;5;124m\"\u001b[39m\u001b[38;5;124m.\u001b[39m\u001b[38;5;124m\"\u001b[39m \u001b[38;5;241m+\u001b[39m module_name, \u001b[38;5;28mself\u001b[39m\u001b[38;5;241m.\u001b[39m\u001b[38;5;18m__name__\u001b[39m)\n\u001b[1;32m   1968\u001b[0m \u001b[38;5;28;01mexcept\u001b[39;00m \u001b[38;5;167;01mException\u001b[39;00m \u001b[38;5;28;01mas\u001b[39;00m e:\n\u001b[0;32m-> 1969\u001b[0m     \u001b[38;5;28;01mraise\u001b[39;00m \u001b[38;5;167;01mRuntimeError\u001b[39;00m(\n\u001b[1;32m   1970\u001b[0m         \u001b[38;5;124mf\u001b[39m\u001b[38;5;124m\"\u001b[39m\u001b[38;5;124mFailed to import \u001b[39m\u001b[38;5;132;01m{\u001b[39;00m\u001b[38;5;28mself\u001b[39m\u001b[38;5;241m.\u001b[39m\u001b[38;5;18m__name__\u001b[39m\u001b[38;5;132;01m}\u001b[39;00m\u001b[38;5;124m.\u001b[39m\u001b[38;5;132;01m{\u001b[39;00mmodule_name\u001b[38;5;132;01m}\u001b[39;00m\u001b[38;5;124m because of the following error (look up to see its\u001b[39m\u001b[38;5;124m\"\u001b[39m\n\u001b[1;32m   1971\u001b[0m         \u001b[38;5;124mf\u001b[39m\u001b[38;5;124m\"\u001b[39m\u001b[38;5;124m traceback):\u001b[39m\u001b[38;5;130;01m\\n\u001b[39;00m\u001b[38;5;132;01m{\u001b[39;00me\u001b[38;5;132;01m}\u001b[39;00m\u001b[38;5;124m\"\u001b[39m\n\u001b[1;32m   1972\u001b[0m     ) \u001b[38;5;28;01mfrom\u001b[39;00m\u001b[38;5;250m \u001b[39m\u001b[38;5;21;01me\u001b[39;00m\n",
      "\u001b[0;31mRuntimeError\u001b[0m: Failed to import transformers.modeling_utils because of the following error (look up to see its traceback):\nempty_like method already has a different docstring"
     ]
    }
   ],
   "source": [
    "from sentence_transformers import SentenceTransformer\n",
    "def cosine_similarity(a, b):\n",
    "    return np.dot(a, b) / (np.linalg.norm(a) * np.linalg.norm(b))\n",
    "\n",
    "model = SentenceTransformer('paraphrase-multilingual-MiniLM-L12-v2')  \n",
    "\n",
    "\n",
    "if torch.backends.mps.is_available():\n",
    "    model = model.to(torch.device(\"mps\"))\n",
    "\n",
    "\n",
    "def get_sentence_embedding(text):\n",
    "    embedding = model.encode(text)\n",
    "    return embedding\n",
    "\n",
    "\n",
    "def semantic_similarity(text1, text2):\n",
    "    emb1 = get_sentence_embedding(text1)\n",
    "    emb2 = get_sentence_embedding(text2)\n",
    "    return cosine_similarity([emb1], [emb2])[0][0]\n"
   ]
  }
 ],
 "metadata": {
  "kernelspec": {
   "display_name": "Python 3",
   "language": "python",
   "name": "python3"
  },
  "language_info": {
   "codemirror_mode": {
    "name": "ipython",
    "version": 3
   },
   "file_extension": ".py",
   "mimetype": "text/x-python",
   "name": "python",
   "nbconvert_exporter": "python",
   "pygments_lexer": "ipython3",
   "version": "3.9.6"
  }
 },
 "nbformat": 4,
 "nbformat_minor": 5
}
